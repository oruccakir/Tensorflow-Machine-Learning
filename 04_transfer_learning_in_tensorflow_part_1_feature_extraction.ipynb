{
  "nbformat": 4,
  "nbformat_minor": 0,
  "metadata": {
    "colab": {
      "provenance": [],
      "gpuType": "T4"
    },
    "kernelspec": {
      "name": "python3",
      "display_name": "Python 3"
    },
    "language_info": {
      "name": "python"
    },
    "accelerator": "GPU"
  },
  "cells": [
    {
      "cell_type": "markdown",
      "source": [
        "# Transfer Learning with TensorFlow Part 1 : Feature Extraction\n",
        "\n",
        "Transfer learning is leveraging a working model's existing architecture and learned patterns for our problem\n",
        "\n",
        "There are two main benefits:\n",
        "1. Can leverage an existing neural network architecture proven to work on problems similar to our own\n",
        "2. Can leverage a working nural network architecture which has already learnt patterns on similar data our own, then we can adapt those patterns on our own data\n",
        "\n"
      ],
      "metadata": {
        "id": "2QBQbpBLd52O"
      }
    },
    {
      "cell_type": "code",
      "source": [
        "# Are we using GPU\n",
        "!nvidia-smi"
      ],
      "metadata": {
        "colab": {
          "base_uri": "https://localhost:8080/"
        },
        "id": "rXU9WnvreyJI",
        "outputId": "ae2455db-53b2-4d0e-f251-fb2b2e52feee"
      },
      "execution_count": 1,
      "outputs": [
        {
          "output_type": "stream",
          "name": "stdout",
          "text": [
            "Mon Sep  4 13:57:25 2023       \n",
            "+-----------------------------------------------------------------------------+\n",
            "| NVIDIA-SMI 525.105.17   Driver Version: 525.105.17   CUDA Version: 12.0     |\n",
            "|-------------------------------+----------------------+----------------------+\n",
            "| GPU  Name        Persistence-M| Bus-Id        Disp.A | Volatile Uncorr. ECC |\n",
            "| Fan  Temp  Perf  Pwr:Usage/Cap|         Memory-Usage | GPU-Util  Compute M. |\n",
            "|                               |                      |               MIG M. |\n",
            "|===============================+======================+======================|\n",
            "|   0  Tesla T4            Off  | 00000000:00:04.0 Off |                    0 |\n",
            "| N/A   52C    P8    10W /  70W |      0MiB / 15360MiB |      0%      Default |\n",
            "|                               |                      |                  N/A |\n",
            "+-------------------------------+----------------------+----------------------+\n",
            "                                                                               \n",
            "+-----------------------------------------------------------------------------+\n",
            "| Processes:                                                                  |\n",
            "|  GPU   GI   CI        PID   Type   Process name                  GPU Memory |\n",
            "|        ID   ID                                                   Usage      |\n",
            "|=============================================================================|\n",
            "|  No running processes found                                                 |\n",
            "+-----------------------------------------------------------------------------+\n"
          ]
        }
      ]
    },
    {
      "cell_type": "markdown",
      "source": [
        "# Downloading and becoming one with the data"
      ],
      "metadata": {
        "id": "BmrUQBxIe9xk"
      }
    },
    {
      "cell_type": "code",
      "source": [
        "# Get data (10% of 10 food classes from food101)\n",
        "import zipfile\n",
        "\n",
        "# Download the data\n",
        "!wget https://storage.googleapis.com/ztm_tf_course/food_vision/10_food_classes_10_percent.zip"
      ],
      "metadata": {
        "colab": {
          "base_uri": "https://localhost:8080/"
        },
        "id": "wDqgEvYqfEdC",
        "outputId": "436c0ee7-35a3-468f-a9df-ccbaae3184f3"
      },
      "execution_count": 1,
      "outputs": [
        {
          "output_type": "stream",
          "name": "stdout",
          "text": [
            "--2023-09-04 14:07:15--  https://storage.googleapis.com/ztm_tf_course/food_vision/10_food_classes_10_percent.zip\n",
            "Resolving storage.googleapis.com (storage.googleapis.com)... 172.217.218.128, 142.251.31.128, 142.251.18.128, ...\n",
            "Connecting to storage.googleapis.com (storage.googleapis.com)|172.217.218.128|:443... connected.\n",
            "HTTP request sent, awaiting response... 200 OK\n",
            "Length: 168546183 (161M) [application/zip]\n",
            "Saving to: ‘10_food_classes_10_percent.zip’\n",
            "\n",
            "10_food_classes_10_ 100%[===================>] 160.74M  39.5MB/s    in 4.7s    \n",
            "\n",
            "2023-09-04 14:07:20 (34.1 MB/s) - ‘10_food_classes_10_percent.zip’ saved [168546183/168546183]\n",
            "\n"
          ]
        }
      ]
    },
    {
      "cell_type": "code",
      "source": [
        "# Unzip the downloaded file\n",
        "zip_ref = zipfile.ZipFile(\"/content/10_food_classes_10_percent.zip\")\n",
        "zip_ref.extractall()\n",
        "zip_ref.close()"
      ],
      "metadata": {
        "id": "n3UfmXoof3y7"
      },
      "execution_count": 2,
      "outputs": []
    },
    {
      "cell_type": "code",
      "source": [
        "# How many images in each folder\n",
        "import os\n",
        "\n",
        "# Walk through 10 percent data directory and list number of item\n",
        "for dirpath,dirnames,filenames in os.walk(\"/content/10_food_classes_10_percent\"):\n",
        "  print(f\"There are {len(dirnames)} directories and {len(filenames)} images in {dirpath}\")\n"
      ],
      "metadata": {
        "colab": {
          "base_uri": "https://localhost:8080/"
        },
        "id": "EI75_CRZf27d",
        "outputId": "a5129138-d8f7-4a1f-b8cd-a34cdb1e2957"
      },
      "execution_count": 3,
      "outputs": [
        {
          "output_type": "stream",
          "name": "stdout",
          "text": [
            "There are 2 directories and 0 images in /content/10_food_classes_10_percent\n",
            "There are 10 directories and 0 images in /content/10_food_classes_10_percent/test\n",
            "There are 0 directories and 250 images in /content/10_food_classes_10_percent/test/grilled_salmon\n",
            "There are 0 directories and 250 images in /content/10_food_classes_10_percent/test/chicken_curry\n",
            "There are 0 directories and 250 images in /content/10_food_classes_10_percent/test/sushi\n",
            "There are 0 directories and 250 images in /content/10_food_classes_10_percent/test/hamburger\n",
            "There are 0 directories and 250 images in /content/10_food_classes_10_percent/test/chicken_wings\n",
            "There are 0 directories and 250 images in /content/10_food_classes_10_percent/test/steak\n",
            "There are 0 directories and 250 images in /content/10_food_classes_10_percent/test/fried_rice\n",
            "There are 0 directories and 250 images in /content/10_food_classes_10_percent/test/ramen\n",
            "There are 0 directories and 250 images in /content/10_food_classes_10_percent/test/pizza\n",
            "There are 0 directories and 250 images in /content/10_food_classes_10_percent/test/ice_cream\n",
            "There are 10 directories and 0 images in /content/10_food_classes_10_percent/train\n",
            "There are 0 directories and 75 images in /content/10_food_classes_10_percent/train/grilled_salmon\n",
            "There are 0 directories and 75 images in /content/10_food_classes_10_percent/train/chicken_curry\n",
            "There are 0 directories and 75 images in /content/10_food_classes_10_percent/train/sushi\n",
            "There are 0 directories and 75 images in /content/10_food_classes_10_percent/train/hamburger\n",
            "There are 0 directories and 75 images in /content/10_food_classes_10_percent/train/chicken_wings\n",
            "There are 0 directories and 75 images in /content/10_food_classes_10_percent/train/steak\n",
            "There are 0 directories and 75 images in /content/10_food_classes_10_percent/train/fried_rice\n",
            "There are 0 directories and 75 images in /content/10_food_classes_10_percent/train/ramen\n",
            "There are 0 directories and 75 images in /content/10_food_classes_10_percent/train/pizza\n",
            "There are 0 directories and 75 images in /content/10_food_classes_10_percent/train/ice_cream\n"
          ]
        }
      ]
    },
    {
      "cell_type": "markdown",
      "source": [
        "## Creating data loaders (preparing the data)\n",
        "\n",
        "We will use the ImageDataGenerator class to load in our images in batches"
      ],
      "metadata": {
        "id": "BUDQzNwGhua0"
      }
    },
    {
      "cell_type": "code",
      "source": [
        "# Setup data inputs\n",
        "from tensorflow.keras.preprocessing.image import ImageDataGenerator\n",
        "\n",
        "IMAGE_SHAPE=(224,224)\n",
        "BATCH_SIZE=32\n",
        "\n",
        "train_dir = \"/content/10_food_classes_10_percent/train/\"\n",
        "test_dir=\"/content/10_food_classes_10_percent/test/\"\n",
        "\n",
        "train_datagen = ImageDataGenerator(rescale=1./255)\n",
        "test_datagen = ImageDataGenerator(rescale=1./255)\n",
        "\n",
        "print(\"Training images :\")\n",
        "\n",
        "train_data = train_datagen.flow_from_directory(train_dir,\n",
        "                                               target_size=IMAGE_SHAPE,\n",
        "                                               batch_size=BATCH_SIZE,\n",
        "                                               class_mode=\"categorical\"\n",
        "                                               )\n",
        "print(\"Testing images :\")\n",
        "\n",
        "test_data = test_datagen.flow_from_directory(test_dir,\n",
        "                                               target_size=IMAGE_SHAPE,\n",
        "                                               batch_size=BATCH_SIZE,\n",
        "                                               class_mode=\"categorical\"\n",
        "                                               )"
      ],
      "metadata": {
        "colab": {
          "base_uri": "https://localhost:8080/"
        },
        "id": "hP51nxmsiMKW",
        "outputId": "2c4aeab6-e672-4ab0-b38a-aaceedd9279a"
      },
      "execution_count": 15,
      "outputs": [
        {
          "output_type": "stream",
          "name": "stdout",
          "text": [
            "Training images :\n",
            "Found 750 images belonging to 10 classes.\n",
            "Testing images :\n",
            "Found 2500 images belonging to 10 classes.\n"
          ]
        }
      ]
    },
    {
      "cell_type": "markdown",
      "source": [
        "## Setting up callbacks (things to run whilst our model trains)\n",
        "\n",
        "**Callbacks** are extra functionality that you can add to your models to be performed during or after training.\n",
        "\n",
        "Some of the most popular callbacks:\n",
        "\n",
        "* Tracking experiments with the TensorBoard callback\n",
        "* Model checkpoint with the ModelCheckPoint callback\n",
        "* Stopping a model from training (before it trains too long and overfits) with the EarlyStopping callback\n",
        "\n"
      ],
      "metadata": {
        "id": "jsAhVpoAjSoW"
      }
    },
    {
      "cell_type": "code",
      "source": [
        "# Create Tensorboard callback (functionized because we need to create a new one for each model)\n",
        "import datetime\n",
        "import tensorflow as tf\n",
        "\n",
        "def create_tensorboard_callback(dirname,experiment_name):\n",
        "  log_dir = dirname+\"/\"+experiment_name + \"/\"+datetime.datetime.now().strftime(\"%Y%m%d-%H%M%S\")\n",
        "  tensorboard_callback = tf.keras.callbacks.TensorBoard(log_dir=log_dir)\n",
        "  print(f\"Saving Tensorboard log files to: {log_dir}\")\n",
        "  return tensorboard_callback"
      ],
      "metadata": {
        "id": "8pbA6jMgkrcc"
      },
      "execution_count": 21,
      "outputs": []
    },
    {
      "cell_type": "markdown",
      "source": [
        "## Creating models using TensorFlow Hub\n",
        "\n",
        "In the past we have used TensorFlow to create our own models layer by layer from scratch\n",
        "\n",
        "Now, we are going to do  a similar process, except majority of our model's layers are going to come from TensorFlow Hub\n",
        "\n",
        "We can access pretrained models on: https://tfhub.dev/\n",
        "\n",
        "If you want to learn which model is best on your problem you can visit https://paperswithcode.com/\n",
        "\n",
        "Browsing the TensorFlow Hub page and sorting for image classification, we found the following feature vector model.\n",
        "link : https://tfhub.dev/tensorflow/efficientnet/b0/feature-vector/1"
      ],
      "metadata": {
        "id": "gbzn5ARGm9T2"
      }
    },
    {
      "cell_type": "code",
      "source": [
        "# Let's compare the following two models\n",
        "resnet_url = \"https://tfhub.dev/google/imagenet/resnet_v2_50/feature_vector/5\"\n",
        "efficientnet_url = \"https://tfhub.dev/tensorflow/efficientnet/b0/feature-vector/1\""
      ],
      "metadata": {
        "id": "PfNJprTunyOp"
      },
      "execution_count": 8,
      "outputs": []
    },
    {
      "cell_type": "code",
      "source": [
        "# Import dependencies\n",
        "import tensorflow as tf\n",
        "import tensorflow_hub as hub\n",
        "from tensorflow.keras import layers"
      ],
      "metadata": {
        "id": "PROkhuVnr149"
      },
      "execution_count": 9,
      "outputs": []
    },
    {
      "cell_type": "code",
      "source": [
        "# Let's make a create_model() function to create a model from a URL\n",
        "def create_model(model_url,num_classes=10):\n",
        "  \"\"\"\n",
        "  Takes a TensorFlow Hub url and creates a Keras Sequential model with it.\n",
        "\n",
        "  Args:\n",
        "    model_url (str) : A tensorflow hub feature extraction URL\n",
        "    num_classes (int) : the number of output neurons in the output layer,\n",
        "    should be equal to number of target classes, default 10.\n",
        "\n",
        "  Returns:\n",
        "    An uncompiled Keras Sequential model with model_url as feature extractor\n",
        "    layer and Dense output layer with num_classes output neurons\n",
        "  \"\"\"\n",
        "  # Download the pretrained model and save it as a Keras Layer\n",
        "  feature_extractor_layer = hub.KerasLayer(model_url,\n",
        "                                           trainable=False, # freeze the already learned patterns\n",
        "                                           name=\"feature_extraction_layer\",\n",
        "                                           input_shape = IMAGE_SHAPE +(3,)\n",
        "                                           )\n",
        "  # Create the model\n",
        "  model = tf.keras.Sequential([\n",
        "      feature_extractor_layer,\n",
        "      layers.Dense(num_classes,activation=\"softmax\",name=\"output_layer\")\n",
        "  ])\n",
        "\n",
        "  return model"
      ],
      "metadata": {
        "id": "3X2SA0H6sQ5b"
      },
      "execution_count": 16,
      "outputs": []
    },
    {
      "cell_type": "markdown",
      "source": [
        "### Creating and testing Resnet TensorFlow Hub Feature Extraction Model\n"
      ],
      "metadata": {
        "id": "_yMaRaBmvJPo"
      }
    },
    {
      "cell_type": "code",
      "source": [
        "# Create Resnet model\n",
        "resnet_model = create_model(resnet_url,num_classes=train_data.num_classes)"
      ],
      "metadata": {
        "id": "RccFN470vXr_"
      },
      "execution_count": 17,
      "outputs": []
    },
    {
      "cell_type": "code",
      "source": [
        "# Compile our resnet model\n",
        "resnet_model.compile(loss=\"categorical_crossentropy\",\n",
        "                     optimizer=tf.keras.optimizers.Adam(),\n",
        "                     metrics=[\"accuracy\"]\n",
        "                     )"
      ],
      "metadata": {
        "id": "0T2uFnaSxRa-"
      },
      "execution_count": 23,
      "outputs": []
    },
    {
      "cell_type": "code",
      "source": [
        "resnet_model.summary()"
      ],
      "metadata": {
        "colab": {
          "base_uri": "https://localhost:8080/"
        },
        "id": "FikGqsagvsQH",
        "outputId": "174bedc8-7738-4740-c66b-6ca671c5a75d"
      },
      "execution_count": 18,
      "outputs": [
        {
          "output_type": "stream",
          "name": "stdout",
          "text": [
            "Model: \"sequential_3\"\n",
            "_________________________________________________________________\n",
            " Layer (type)                Output Shape              Param #   \n",
            "=================================================================\n",
            " feature_extraction_layer (K  (None, 2048)             23564800  \n",
            " erasLayer)                                                      \n",
            "                                                                 \n",
            " output_layer (Dense)        (None, 10)                20490     \n",
            "                                                                 \n",
            "=================================================================\n",
            "Total params: 23,585,290\n",
            "Trainable params: 20,490\n",
            "Non-trainable params: 23,564,800\n",
            "_________________________________________________________________\n"
          ]
        }
      ]
    },
    {
      "cell_type": "code",
      "source": [
        "# Let's fit our ResNet model to the data (10 percent of 10 classes)\n",
        "resnet_history = resnet_model.fit(train_data,\n",
        "                                  epochs=5,\n",
        "                                  steps_per_epoch=len(train_data),\n",
        "                                  validation_data=test_data,\n",
        "                                  validation_steps=len(test_data),\n",
        "                                  callbacks=[create_tensorboard_callback(dirname = \"tensorflow_hub\",\n",
        "                                                                         experiment_name=\"resnet50V2\")]\n",
        "                                  )"
      ],
      "metadata": {
        "colab": {
          "base_uri": "https://localhost:8080/"
        },
        "id": "R0Sz9QnxwOWY",
        "outputId": "4fbefcf3-08d4-4089-a490-06db05987b61"
      },
      "execution_count": 24,
      "outputs": [
        {
          "output_type": "stream",
          "name": "stdout",
          "text": [
            "Saving Tensorboard log files to: tensorflow_hub/resnet50V2/20230904-152629\n",
            "Epoch 1/5\n",
            "24/24 [==============================] - 27s 605ms/step - loss: 1.9928 - accuracy: 0.3253 - val_loss: 1.2168 - val_accuracy: 0.6128\n",
            "Epoch 2/5\n",
            "24/24 [==============================] - 12s 499ms/step - loss: 0.8956 - accuracy: 0.7453 - val_loss: 0.8464 - val_accuracy: 0.7220\n",
            "Epoch 3/5\n",
            "24/24 [==============================] - 12s 501ms/step - loss: 0.6201 - accuracy: 0.8227 - val_loss: 0.7403 - val_accuracy: 0.7568\n",
            "Epoch 4/5\n",
            "24/24 [==============================] - 13s 554ms/step - loss: 0.4710 - accuracy: 0.8933 - val_loss: 0.6977 - val_accuracy: 0.7768\n",
            "Epoch 5/5\n",
            "24/24 [==============================] - 11s 466ms/step - loss: 0.3782 - accuracy: 0.9187 - val_loss: 0.6625 - val_accuracy: 0.7856\n"
          ]
        }
      ]
    },
    {
      "cell_type": "markdown",
      "source": [
        "Wow!\n",
        "\n",
        "That is incredible. Our transfer learning feature extractor model out performed ALL of the previous models we buit by hand...(substantially) and in a quicker training time AND with only 10% of the training examples."
      ],
      "metadata": {
        "id": "TKATVVim0D-4"
      }
    },
    {
      "cell_type": "code",
      "source": [
        "# Let's create a funttion to plot loss curves\n",
        "import matplotlib.pyplot as plt\n",
        "\n",
        "# Plot the validation and training curves\n",
        "\n",
        "def plot_loss_curves(history):\n",
        "  \"\"\"\n",
        "  Returns seperate loss curves for training and validation metrics\n",
        "\n",
        "  Args:\n",
        "    history: TensorFlow history object.\n",
        "\n",
        "  Returns:\n",
        "    Plots of training/validation loss and accuracy metrics.\n",
        "  \"\"\"\n",
        "  loss = history.history[\"loss\"]\n",
        "  val_loss = history.history[\"val_loss\"]\n",
        "\n",
        "  accuracy = history.history[\"accuracy\"]\n",
        "  val_accuracy = history.history[\"val_accuracy\"]\n",
        "\n",
        "  epochs = range(len(history.history[\"loss\"]))\n",
        "\n",
        "  # Plot loss\n",
        "  plt.plot(epochs,loss,label=\"training loss\")\n",
        "  plt.plot(epochs,val_loss,label=\"val_loss\")\n",
        "  plt.title(\"Loss\")\n",
        "  plt.xlabel(\"Epochs\")\n",
        "  plt.legend()\n",
        "\n",
        "  # Plot accuracy\n",
        "  plt.figure()\n",
        "  plt.plot(epochs,accuracy,label=\"training_accuracy\")\n",
        "  plt.plot(epochs,val_accuracy,label=\"val_accuracy\")\n",
        "  plt.title(\"Accuracy\")\n",
        "  plt.xlabel(\"Epochs\")\n",
        "  plt.legend()\n",
        ""
      ],
      "metadata": {
        "id": "RP55Cm0IymAh"
      },
      "execution_count": 29,
      "outputs": []
    },
    {
      "cell_type": "code",
      "source": [
        "plot_loss_curves(resnet_history)"
      ],
      "metadata": {
        "colab": {
          "base_uri": "https://localhost:8080/",
          "height": 927
        },
        "id": "TZ6zoVDA2wJR",
        "outputId": "ecaedf72-47b9-44c7-aa11-d0f74d02d5ec"
      },
      "execution_count": 30,
      "outputs": [
        {
          "output_type": "display_data",
          "data": {
            "text/plain": [
              "<Figure size 640x480 with 1 Axes>"
            ],
            "image/png": "[encoded data removed]"
          },
          "metadata": {}
        },
        {
          "output_type": "display_data",
          "data": {
            "text/plain": [
              "<Figure size 640x480 with 1 Axes>"
            ],
            "image/png": "[encoded data removed]"
          },
          "metadata": {}
        }
      ]
    },
    {
      "cell_type": "markdown",
      "source": [
        "### Creating and testing EfficientNetB0 TensorFlow Hub Feature Extraction Model\n"
      ],
      "metadata": {
        "id": "9pAtCrKk3V3C"
      }
    },
    {
      "cell_type": "code",
      "source": [
        "# Create EfficientNetB0 feature extractor model\n",
        "efficientnet_model = create_model(model_url=efficientnet_url,\n",
        "                                  num_classes=train_data.num_classes)\n",
        "\n",
        "# compile EfficientNet model\n",
        "efficientnet_model.compile(loss=\"categorical_crossentropy\",\n",
        "                     optimizer=tf.keras.optimizers.Adam(),\n",
        "                     metrics=[\"accuracy\"]\n",
        "                     )\n",
        "# Fit the model\n",
        "efficientnet_history = efficientnet_model.fit(train_data,\n",
        "                                  epochs=5,\n",
        "                                  steps_per_epoch=len(train_data),\n",
        "                                  validation_data=test_data,\n",
        "                                  validation_steps=len(test_data),\n",
        "                                  callbacks=[create_tensorboard_callback(dirname = \"tensorflow_hub\",\n",
        "                                                                         experiment_name=\"efficientnetB0\")]\n",
        "                                  )"
      ],
      "metadata": {
        "colab": {
          "base_uri": "https://localhost:8080/"
        },
        "id": "oqZ5Fl9q3qus",
        "outputId": "bbaf14fd-56b4-46da-cb21-3557ea39d9fc"
      },
      "execution_count": 31,
      "outputs": [
        {
          "output_type": "stream",
          "name": "stdout",
          "text": [
            "Saving Tensorboard log files to: tensorflow_hub/efficientnetB0/20230904-155124\n",
            "Epoch 1/5\n",
            "24/24 [==============================] - 27s 578ms/step - loss: 1.8110 - accuracy: 0.4453 - val_loss: 1.2635 - val_accuracy: 0.7380\n",
            "Epoch 2/5\n",
            "24/24 [==============================] - 13s 544ms/step - loss: 1.0385 - accuracy: 0.7827 - val_loss: 0.8462 - val_accuracy: 0.8228\n",
            "Epoch 3/5\n",
            "24/24 [==============================] - 11s 461ms/step - loss: 0.7425 - accuracy: 0.8507 - val_loss: 0.6823 - val_accuracy: 0.8528\n",
            "Epoch 4/5\n",
            "24/24 [==============================] - 11s 481ms/step - loss: 0.5941 - accuracy: 0.8680 - val_loss: 0.5955 - val_accuracy: 0.8640\n",
            "Epoch 5/5\n",
            "24/24 [==============================] - 10s 410ms/step - loss: 0.5055 - accuracy: 0.8933 - val_loss: 0.5470 - val_accuracy: 0.8656\n"
          ]
        }
      ]
    },
    {
      "cell_type": "code",
      "source": [
        "plot_loss_curves(efficientnet_history)"
      ],
      "metadata": {
        "colab": {
          "base_uri": "https://localhost:8080/",
          "height": 927
        },
        "id": "PYgVkaLT5jIE",
        "outputId": "8749d7ca-da4e-4419-a3ab-e8f7d4958091"
      },
      "execution_count": 32,
      "outputs": [
        {
          "output_type": "display_data",
          "data": {
            "text/plain": [
              "<Figure size 640x480 with 1 Axes>"
            ],
            "image/png": "[encoded data removed]"
          },
          "metadata": {}
        },
        {
          "output_type": "display_data",
          "data": {
            "text/plain": [
              "<Figure size 640x480 with 1 Axes>"
            ],
            "image/png": "[encoded data removed]"
          },
          "metadata": {}
        }
      ]
    },
    {
      "cell_type": "code",
      "source": [
        "efficientnet_model.summary()\n"
      ],
      "metadata": {
        "colab": {
          "base_uri": "https://localhost:8080/"
        },
        "id": "Qfa_dT-W5mgT",
        "outputId": "2aebc3ae-ac3a-45f9-8047-3d6d841eff8c"
      },
      "execution_count": 33,
      "outputs": [
        {
          "output_type": "stream",
          "name": "stdout",
          "text": [
            "Model: \"sequential_4\"\n",
            "_________________________________________________________________\n",
            " Layer (type)                Output Shape              Param #   \n",
            "=================================================================\n",
            " feature_extraction_layer (K  (None, 1280)             4049564   \n",
            " erasLayer)                                                      \n",
            "                                                                 \n",
            " output_layer (Dense)        (None, 10)                12810     \n",
            "                                                                 \n",
            "=================================================================\n",
            "Total params: 4,062,374\n",
            "Trainable params: 12,810\n",
            "Non-trainable params: 4,049,564\n",
            "_________________________________________________________________\n"
          ]
        }
      ]
    },
    {
      "cell_type": "code",
      "source": [
        "resnet_model.summary()"
      ],
      "metadata": {
        "colab": {
          "base_uri": "https://localhost:8080/"
        },
        "id": "5M-D95yZ58dG",
        "outputId": "531c9f0b-c508-4aba-f66f-53e18e3e4ff1"
      },
      "execution_count": 34,
      "outputs": [
        {
          "output_type": "stream",
          "name": "stdout",
          "text": [
            "Model: \"sequential_3\"\n",
            "_________________________________________________________________\n",
            " Layer (type)                Output Shape              Param #   \n",
            "=================================================================\n",
            " feature_extraction_layer (K  (None, 2048)             23564800  \n",
            " erasLayer)                                                      \n",
            "                                                                 \n",
            " output_layer (Dense)        (None, 10)                20490     \n",
            "                                                                 \n",
            "=================================================================\n",
            "Total params: 23,585,290\n",
            "Trainable params: 20,490\n",
            "Non-trainable params: 23,564,800\n",
            "_________________________________________________________________\n"
          ]
        }
      ]
    },
    {
      "cell_type": "code",
      "source": [
        "# How many layers does our efficientnetb0 feature extractor have ?\n",
        "len(efficientnet_model.layers[0].weights)"
      ],
      "metadata": {
        "colab": {
          "base_uri": "https://localhost:8080/"
        },
        "id": "0Xe2xzkO7t1N",
        "outputId": "5ac0203a-0659-44c7-bc88-4889d00eeb10"
      },
      "execution_count": 36,
      "outputs": [
        {
          "output_type": "execute_result",
          "data": {
            "text/plain": [
              "309"
            ]
          },
          "metadata": {},
          "execution_count": 36
        }
      ]
    },
    {
      "cell_type": "markdown",
      "source": [
        "## Different types of transfer learning\n",
        "\n",
        "*   **\"As is\"** transfer learning - using an existing model with no changes what so ever (e.g using ImageNet model on 1000 ImageNet classes, none of your own)\n",
        "* **\"Feature extraction\"** transfer learning - use the pretrained patterns of an existing model (e.g efficientNetB0 trained on ImageNet and adjust the output layer  for your own problem)\n",
        "* **\"Fine-tuning\"** transfer learning - use the prelearned patterns of an existing model and \"fine-tune\" many or all of the underlying layers (including new output layers)\n"
      ],
      "metadata": {
        "id": "BXnN_M3_6Ij3"
      }
    },
    {
      "cell_type": "markdown",
      "source": [
        "## Comparing our models results using TensorBoard\n",
        "\n",
        "**Note :** When you upload things to TensorBoard.dev you experiments are public. Therefore, if you are running private experiments (things you do not want to others to see ) do not upload them"
      ],
      "metadata": {
        "id": "YMs12VNo7Dm6"
      }
    },
    {
      "cell_type": "code",
      "source": [
        "# Upload TensorBoard dev records\n",
        "!tensorboard dev upload --logdir ./tensorflow_hub/ \\\n",
        "  --name \"EfficientNetB0 vs. ResNet50V2\" \\\n",
        "  --description \"Comparing two different TF Hub feature extraction models architectures using 10% of training images\" \\\n",
        "  --one_shot"
      ],
      "metadata": {
        "id": "WV0lAlV7-W1i"
      },
      "execution_count": null,
      "outputs": []
    },
    {
      "cell_type": "markdown",
      "source": [
        "Our Tensorboard experiments are uploaded publicly here : https://tensorboard.dev/experiment/fLXv3VeEQKe4cwCKbvg3gA/"
      ],
      "metadata": {
        "id": "Le3WFzZI_qNi"
      }
    },
    {
      "cell_type": "code",
      "source": [
        "# Check out what TensorBoard experiments you have\n",
        "!tensorboard dev list"
      ],
      "metadata": {
        "colab": {
          "base_uri": "https://localhost:8080/"
        },
        "id": "eCE5zQ1qBRNf",
        "outputId": "8ab09d36-75ba-4775-f98c-09447e03e10d"
      },
      "execution_count": 52,
      "outputs": [
        {
          "output_type": "stream",
          "name": "stdout",
          "text": [
            "2023-09-04 16:27:52.984175: W tensorflow/compiler/tf2tensorrt/utils/py_utils.cc:38] TF-TRT Warning: Could not find TensorRT\n",
            "https://tensorboard.dev/experiment/fLXv3VeEQKe4cwCKbvg3gA/\n",
            "\tName                 EfficientNetB0 vs. ResNet50V2\n",
            "\tDescription          Comparing two different TF Hub feature extraction models architectures using 10% of training images\n",
            "\tId                   fLXv3VeEQKe4cwCKbvg3gA\n",
            "\tCreated              2023-09-04 16:23:14 (4 minutes ago)\n",
            "\tUpdated              2023-09-04 16:23:18 (4 minutes ago)\n",
            "\tRuns                 4\n",
            "\tTags                 5\n",
            "\tScalars              60\n",
            "\tTensor bytes         0\n",
            "\tBinary object bytes  5813502\n",
            "Total: 1 experiment(s)\n"
          ]
        }
      ]
    },
    {
      "cell_type": "code",
      "source": [
        "# Delete an experimet\n",
        "# !tensorboard dev delete --experiment_id  (here copy the experiment id)"
      ],
      "metadata": {
        "id": "FmAV81wSBZNL"
      },
      "execution_count": null,
      "outputs": []
    }
  ]
}