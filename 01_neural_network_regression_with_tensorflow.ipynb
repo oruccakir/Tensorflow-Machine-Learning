{
  "nbformat": 4,
  "nbformat_minor": 0,
  "metadata": {
    "colab": {
      "provenance": []
    },
    "kernelspec": {
      "name": "python3",
      "display_name": "Python 3"
    },
    "language_info": {
      "name": "python"
    },
    "accelerator": "TPU"
  },
  "cells": [
    {
      "cell_type": "markdown",
      "source": [
        "# Introduction to regression with neural networks in tensorflow\n",
        "\n",
        "---\n",
        "\n",
        "There are many definitions for a regression problem but in our case, we're going to simplify it : predicting a numerical variable based on some other combination of variables even shorter... predicting a number"
      ],
      "metadata": {
        "id": "A08MHQFCGQhX"
      }
    },
    {
      "cell_type": "code",
      "source": [
        "# Importing tensorflow\n",
        "import tensorflow as tf\n",
        "print(tf.__version__)"
      ],
      "metadata": {
        "colab": {
          "base_uri": "https://localhost:8080/"
        },
        "id": "e0seG6vGGsx3",
        "outputId": "1c122683-843b-442c-9676-44b2c417dfb1"
      },
      "execution_count": null,
      "outputs": [
        {
          "output_type": "stream",
          "name": "stdout",
          "text": [
            "2.12.0\n"
          ]
        }
      ]
    },
    {
      "cell_type": "markdown",
      "source": [
        "Creating data to view and fit"
      ],
      "metadata": {
        "id": "nX7bpWYGG6s9"
      }
    },
    {
      "cell_type": "code",
      "source": [
        "import numpy as np\n",
        "import matplotlib.pyplot as plt\n",
        "\n",
        "# Create features\n",
        "X = np.array([-7.0,-4.0,-1.0,2.0,5.0,8.0,11.0,14.0])  # independent variable\n",
        "\n",
        "# Create labels\n",
        "\n",
        "Y = np.array([3.0,6.0,9.0,12.0,15.0,18.0,21.0,24.0])  # dependent variable\n",
        "\n",
        "# Visulaize it\n",
        "plt.scatter(X,Y)"
      ],
      "metadata": {
        "colab": {
          "base_uri": "https://localhost:8080/",
          "height": 452
        },
        "id": "0K4BrAxrG1yt",
        "outputId": "b0406625-bd8c-4023-fae1-74b8d5769798"
      },
      "execution_count": null,
      "outputs": [
        {
          "output_type": "execute_result",
          "data": {
            "text/plain": [
              "<matplotlib.collections.PathCollection at 0x785226d67c10>"
            ]
          },
          "metadata": {},
          "execution_count": 165
        },
        {
          "output_type": "display_data",
          "data": {
            "text/plain": [
              "<Figure size 640x480 with 1 Axes>"
            ],
            "image/png": "[encoded data removed]"
          },
          "metadata": {}
        }
      ]
    },
    {
      "cell_type": "code",
      "source": [
        "# lets estimate  y = x +10\n",
        "Y == X +10"
      ],
      "metadata": {
        "colab": {
          "base_uri": "https://localhost:8080/"
        },
        "id": "MMvjZPo5Ho6j",
        "outputId": "5ffc1b06-5c38-40a8-c6b7-b1cf32b4afcc"
      },
      "execution_count": null,
      "outputs": [
        {
          "output_type": "execute_result",
          "data": {
            "text/plain": [
              "array([ True,  True,  True,  True,  True,  True,  True,  True])"
            ]
          },
          "metadata": {},
          "execution_count": 166
        }
      ]
    },
    {
      "cell_type": "markdown",
      "source": [
        "## Input and output shapes"
      ],
      "metadata": {
        "id": "66A_5ad7IMzE"
      }
    },
    {
      "cell_type": "code",
      "source": [
        "# Create a demo tensor for our housing price prediction problem\n",
        "house_info = tf.constant([\"bedroom\",\"bathroom\",\"garage\"])\n",
        "house_price = tf.constant([939700])\n",
        "house_info, house_price\n"
      ],
      "metadata": {
        "colab": {
          "base_uri": "https://localhost:8080/"
        },
        "id": "oV7JEsZYH7d0",
        "outputId": "c7d662a5-3243-46fe-9ad8-7bb95d6e6008"
      },
      "execution_count": null,
      "outputs": [
        {
          "output_type": "execute_result",
          "data": {
            "text/plain": [
              "(<tf.Tensor: shape=(3,), dtype=string, numpy=array([b'bedroom', b'bathroom', b'garage'], dtype=object)>,\n",
              " <tf.Tensor: shape=(1,), dtype=int32, numpy=array([939700], dtype=int32)>)"
            ]
          },
          "metadata": {},
          "execution_count": 167
        }
      ]
    },
    {
      "cell_type": "code",
      "source": [
        "X[0],Y[0]"
      ],
      "metadata": {
        "colab": {
          "base_uri": "https://localhost:8080/"
        },
        "id": "ENeql2C5I4ry",
        "outputId": "6aa2da25-3e40-4e35-d303-8c0d316da9bd"
      },
      "execution_count": null,
      "outputs": [
        {
          "output_type": "execute_result",
          "data": {
            "text/plain": [
              "(-7.0, 3.0)"
            ]
          },
          "metadata": {},
          "execution_count": 168
        }
      ]
    },
    {
      "cell_type": "code",
      "source": [
        "X[0].shape, Y[0].shape"
      ],
      "metadata": {
        "colab": {
          "base_uri": "https://localhost:8080/"
        },
        "id": "Eai5b3r7JSPo",
        "outputId": "79b1567b-2db7-4223-b16c-577916d78d23"
      },
      "execution_count": null,
      "outputs": [
        {
          "output_type": "execute_result",
          "data": {
            "text/plain": [
              "((), ())"
            ]
          },
          "metadata": {},
          "execution_count": 169
        }
      ]
    },
    {
      "cell_type": "code",
      "source": [
        "X[0].ndim, Y[0].ndim"
      ],
      "metadata": {
        "colab": {
          "base_uri": "https://localhost:8080/"
        },
        "id": "_W0cG6VBJWcp",
        "outputId": "6ffbc0d1-d5ff-49e1-9b77-f098daf7314d"
      },
      "execution_count": null,
      "outputs": [
        {
          "output_type": "execute_result",
          "data": {
            "text/plain": [
              "(0, 0)"
            ]
          },
          "metadata": {},
          "execution_count": 170
        }
      ]
    },
    {
      "cell_type": "code",
      "source": [
        "input_shape = X.shape\n",
        "output_shape = Y.shape\n",
        "\n",
        "input_shape, output_shape"
      ],
      "metadata": {
        "colab": {
          "base_uri": "https://localhost:8080/"
        },
        "id": "EmM7YwdkIpFL",
        "outputId": "f4db6ea1-7748-455f-fa29-058014f02295"
      },
      "execution_count": null,
      "outputs": [
        {
          "output_type": "execute_result",
          "data": {
            "text/plain": [
              "((8,), (8,))"
            ]
          },
          "metadata": {},
          "execution_count": 171
        }
      ]
    },
    {
      "cell_type": "code",
      "source": [
        "\"\"\"\n",
        "## OLD\n",
        "# Fit the model\n",
        "model.fit(X, y, epochs=5) # this will break with TensorFlow 2.7.0+\n",
        "\n",
        "## New\n",
        "# Fit the model\n",
        "model.fit(tf.expand_dims(X, axis=-1), y, epochs=5) # <- updated line\n",
        "\"\"\""
      ],
      "metadata": {
        "colab": {
          "base_uri": "https://localhost:8080/",
          "height": 35
        },
        "id": "Bug9EHVwJbab",
        "outputId": "39e9629d-dbef-4582-cc12-a718f5958114"
      },
      "execution_count": null,
      "outputs": [
        {
          "output_type": "execute_result",
          "data": {
            "text/plain": [
              "'\\n## OLD\\n# Fit the model\\nmodel.fit(X, y, epochs=5) # this will break with TensorFlow 2.7.0+\\n\\n## New\\n# Fit the model\\nmodel.fit(tf.expand_dims(X, axis=-1), y, epochs=5) # <- updated line\\n'"
            ],
            "application/vnd.google.colaboratory.intrinsic+json": {
              "type": "string"
            }
          },
          "metadata": {},
          "execution_count": 172
        }
      ]
    },
    {
      "cell_type": "code",
      "source": [
        "# Turn our Numpy arrays into tensors\n",
        "X = tf.constant(X)\n",
        "Y = tf.constant(Y)\n",
        "X.shape, Y.shape"
      ],
      "metadata": {
        "colab": {
          "base_uri": "https://localhost:8080/"
        },
        "id": "Ce9QLe14KW-n",
        "outputId": "0c6b38a8-3c7f-44a6-af0b-7ecec0df8bde"
      },
      "execution_count": null,
      "outputs": [
        {
          "output_type": "execute_result",
          "data": {
            "text/plain": [
              "(TensorShape([8]), TensorShape([8]))"
            ]
          },
          "metadata": {},
          "execution_count": 173
        }
      ]
    },
    {
      "cell_type": "code",
      "source": [
        "plt.scatter(X,Y)"
      ],
      "metadata": {
        "colab": {
          "base_uri": "https://localhost:8080/",
          "height": 452
        },
        "id": "jdmJKBReKf-B",
        "outputId": "ca9bac4f-0ccc-4967-ef29-af13ee164201"
      },
      "execution_count": null,
      "outputs": [
        {
          "output_type": "execute_result",
          "data": {
            "text/plain": [
              "<matplotlib.collections.PathCollection at 0x785227035f60>"
            ]
          },
          "metadata": {},
          "execution_count": 174
        },
        {
          "output_type": "display_data",
          "data": {
            "text/plain": [
              "<Figure size 640x480 with 1 Axes>"
            ],
            "image/png": "[encoded data removed]"
          },
          "metadata": {}
        }
      ]
    },
    {
      "cell_type": "markdown",
      "source": [
        "**Steps in modelling with Tensorflow**\n",
        "\n",
        "\n",
        "---\n",
        "\n",
        "\n",
        "1.   Creating a model\n",
        "2.   Compiling a model\n",
        "3.   Fitting a model\n",
        "\n",
        "\n",
        "\n",
        "\n",
        "\n"
      ],
      "metadata": {
        "id": "bKGx6icyK2ZU"
      }
    },
    {
      "cell_type": "code",
      "source": [
        "# Set random seed\n",
        "tf.random.set_seed(42)\n",
        "\n",
        "# 1. Create a model using the Sequential API\n",
        "model = tf.keras.Sequential([\n",
        "    tf.keras.layers.Dense(1)\n",
        "])\n",
        "\n",
        "# 2. Compile the model\n",
        "model.compile(loss = tf.keras.losses.mae, # mae is short for mean absolute error\n",
        "              optimizer = tf.keras.optimizers.SGD(), # sgd is short for stochastic gradient descent\n",
        "              metrics = [\"mae\"]\n",
        "              )\n",
        "# 3. Fit the model\n",
        "model.fit(tf.expand_dims(X,axis=-1),Y,epochs = 5)"
      ],
      "metadata": {
        "colab": {
          "base_uri": "https://localhost:8080/"
        },
        "id": "8hbP1HNnK9Zo",
        "outputId": "2a10a745-a27b-4cea-98fc-8cd3827fdde1"
      },
      "execution_count": null,
      "outputs": [
        {
          "output_type": "stream",
          "name": "stdout",
          "text": [
            "Epoch 1/5\n",
            "1/1 [==============================] - 0s 244ms/step - loss: 14.7824 - mae: 14.7824\n",
            "Epoch 2/5\n",
            "1/1 [==============================] - 0s 7ms/step - loss: 14.6499 - mae: 14.6499\n",
            "Epoch 3/5\n",
            "1/1 [==============================] - 0s 7ms/step - loss: 14.5174 - mae: 14.5174\n",
            "Epoch 4/5\n",
            "1/1 [==============================] - 0s 6ms/step - loss: 14.3849 - mae: 14.3849\n",
            "Epoch 5/5\n",
            "1/1 [==============================] - 0s 7ms/step - loss: 14.2524 - mae: 14.2524\n"
          ]
        },
        {
          "output_type": "execute_result",
          "data": {
            "text/plain": [
              "<keras.callbacks.History at 0x785226ce0700>"
            ]
          },
          "metadata": {},
          "execution_count": 175
        }
      ]
    },
    {
      "cell_type": "markdown",
      "source": [
        "***loss = mean(abs(y_true - y_predicted), axis = -1)***"
      ],
      "metadata": {
        "id": "sciVVi3XMt0q"
      }
    },
    {
      "cell_type": "code",
      "source": [
        "# Check out X an Y\n",
        "X,Y"
      ],
      "metadata": {
        "colab": {
          "base_uri": "https://localhost:8080/"
        },
        "id": "KbcYMdnDLy2q",
        "outputId": "fdda4461-6406-4cb5-e81b-66fc787d1220"
      },
      "execution_count": null,
      "outputs": [
        {
          "output_type": "execute_result",
          "data": {
            "text/plain": [
              "(<tf.Tensor: shape=(8,), dtype=float64, numpy=array([-7., -4., -1.,  2.,  5.,  8., 11., 14.])>,\n",
              " <tf.Tensor: shape=(8,), dtype=float64, numpy=array([ 3.,  6.,  9., 12., 15., 18., 21., 24.])>)"
            ]
          },
          "metadata": {},
          "execution_count": 176
        }
      ]
    },
    {
      "cell_type": "code",
      "source": [
        "# Try and make a prediction using out model\n",
        "y_pred = model.predict([17.0])\n",
        "y_pred"
      ],
      "metadata": {
        "colab": {
          "base_uri": "https://localhost:8080/"
        },
        "id": "8UjHdsBXPoxP",
        "outputId": "50b6eb18-11de-4fa8-e39e-314213bb7368"
      },
      "execution_count": null,
      "outputs": [
        {
          "output_type": "stream",
          "name": "stdout",
          "text": [
            "1/1 [==============================] - 0s 47ms/step\n"
          ]
        },
        {
          "output_type": "execute_result",
          "data": {
            "text/plain": [
              "array([[-3.2036605]], dtype=float32)"
            ]
          },
          "metadata": {},
          "execution_count": 177
        }
      ]
    },
    {
      "cell_type": "code",
      "source": [
        "y_pred + 8"
      ],
      "metadata": {
        "colab": {
          "base_uri": "https://localhost:8080/"
        },
        "id": "3TqlxcMaPzXn",
        "outputId": "4996c5cf-17bb-4813-e1f7-2cc5944a8c32"
      },
      "execution_count": null,
      "outputs": [
        {
          "output_type": "execute_result",
          "data": {
            "text/plain": [
              "array([[4.7963395]], dtype=float32)"
            ]
          },
          "metadata": {},
          "execution_count": 178
        }
      ]
    },
    {
      "cell_type": "markdown",
      "source": [
        "**Improving our model**\n",
        "\n",
        "---\n",
        "We can improve ourt model, by altering the steps we took to create a model\n",
        "1.   **Creating a model** : here we might add more layers, increase the number of hidden layes,(all called neurons) within each of the hidden layers, change the activation function of each layer\n",
        "2.   **Compiling a model** : here we might change the optimization function or perhaps the **learning rate** of the optimization function\n",
        "3.   **Fitting the model** : here we might fit a model for more **epochs** (leave it training for longer) or on more data (give the model more examples to learn from)\n",
        "\n",
        "\n",
        "\n"
      ],
      "metadata": {
        "id": "qHRqg_WmRNuA"
      }
    },
    {
      "cell_type": "code",
      "source": [
        "# let's rebuild the model\n",
        "# We try to improve our model by inreasing the epochs\n",
        "\n",
        "# Set random seed\n",
        "tf.random.set_seed(42)\n",
        "\n",
        "# 1. Create a model using the Sequential API\n",
        "model = tf.keras.Sequential([\n",
        "    tf.keras.layers.Dense(1)\n",
        "])\n",
        "\n",
        "# 2. Compile the model\n",
        "model.compile(loss = tf.keras.losses.mae, # mae is short for mean absolute error\n",
        "              optimizer = tf.keras.optimizers.SGD(), # sgd is short for stochastic gradient descent\n",
        "              metrics = [\"mae\"]\n",
        "              )\n",
        "# 3. Fit the model\n",
        "model.fit(tf.expand_dims(X,axis=-1),Y,epochs = 100)"
      ],
      "metadata": {
        "colab": {
          "base_uri": "https://localhost:8080/"
        },
        "id": "MdhGPib_SlV1",
        "outputId": "5571f345-175f-4be4-dc82-2e65cdc0ff79"
      },
      "execution_count": null,
      "outputs": [
        {
          "output_type": "stream",
          "name": "stdout",
          "text": [
            "Epoch 1/100\n",
            "1/1 [==============================] - 0s 250ms/step - loss: 10.1696 - mae: 10.1696\n",
            "Epoch 2/100\n",
            "1/1 [==============================] - 0s 13ms/step - loss: 10.0371 - mae: 10.0371\n",
            "Epoch 3/100\n",
            "1/1 [==============================] - 0s 8ms/step - loss: 9.9046 - mae: 9.9046\n",
            "Epoch 4/100\n",
            "1/1 [==============================] - 0s 9ms/step - loss: 9.7721 - mae: 9.7721\n",
            "Epoch 5/100\n",
            "1/1 [==============================] - 0s 8ms/step - loss: 9.6396 - mae: 9.6396\n",
            "Epoch 6/100\n",
            "1/1 [==============================] - 0s 10ms/step - loss: 9.5071 - mae: 9.5071\n",
            "Epoch 7/100\n",
            "1/1 [==============================] - 0s 6ms/step - loss: 9.3746 - mae: 9.3746\n",
            "Epoch 8/100\n",
            "1/1 [==============================] - 0s 6ms/step - loss: 9.2421 - mae: 9.2421\n",
            "Epoch 9/100\n",
            "1/1 [==============================] - 0s 7ms/step - loss: 9.1096 - mae: 9.1096\n",
            "Epoch 10/100\n",
            "1/1 [==============================] - 0s 8ms/step - loss: 8.9771 - mae: 8.9771\n",
            "Epoch 11/100\n",
            "1/1 [==============================] - 0s 8ms/step - loss: 8.8446 - mae: 8.8446\n",
            "Epoch 12/100\n",
            "1/1 [==============================] - 0s 7ms/step - loss: 8.7121 - mae: 8.7121\n",
            "Epoch 13/100\n",
            "1/1 [==============================] - 0s 7ms/step - loss: 8.5796 - mae: 8.5796\n",
            "Epoch 14/100\n",
            "1/1 [==============================] - 0s 9ms/step - loss: 8.4471 - mae: 8.4471\n",
            "Epoch 15/100\n",
            "1/1 [==============================] - 0s 7ms/step - loss: 8.3146 - mae: 8.3146\n",
            "Epoch 16/100\n",
            "1/1 [==============================] - 0s 7ms/step - loss: 8.1821 - mae: 8.1821\n",
            "Epoch 17/100\n",
            "1/1 [==============================] - 0s 7ms/step - loss: 8.0496 - mae: 8.0496\n",
            "Epoch 18/100\n",
            "1/1 [==============================] - 0s 6ms/step - loss: 7.9171 - mae: 7.9171\n",
            "Epoch 19/100\n",
            "1/1 [==============================] - 0s 6ms/step - loss: 7.7846 - mae: 7.7846\n",
            "Epoch 20/100\n",
            "1/1 [==============================] - 0s 7ms/step - loss: 7.6521 - mae: 7.6521\n",
            "Epoch 21/100\n",
            "1/1 [==============================] - 0s 7ms/step - loss: 7.5196 - mae: 7.5196\n",
            "Epoch 22/100\n",
            "1/1 [==============================] - 0s 7ms/step - loss: 7.3871 - mae: 7.3871\n",
            "Epoch 23/100\n",
            "1/1 [==============================] - 0s 9ms/step - loss: 7.3350 - mae: 7.3350\n",
            "Epoch 24/100\n",
            "1/1 [==============================] - 0s 7ms/step - loss: 7.3294 - mae: 7.3294\n",
            "Epoch 25/100\n",
            "1/1 [==============================] - 0s 7ms/step - loss: 7.3238 - mae: 7.3238\n",
            "Epoch 26/100\n",
            "1/1 [==============================] - 0s 7ms/step - loss: 7.3181 - mae: 7.3181\n",
            "Epoch 27/100\n",
            "1/1 [==============================] - 0s 8ms/step - loss: 7.3125 - mae: 7.3125\n",
            "Epoch 28/100\n",
            "1/1 [==============================] - 0s 7ms/step - loss: 7.3069 - mae: 7.3069\n",
            "Epoch 29/100\n",
            "1/1 [==============================] - 0s 7ms/step - loss: 7.3012 - mae: 7.3012\n",
            "Epoch 30/100\n",
            "1/1 [==============================] - 0s 7ms/step - loss: 7.2956 - mae: 7.2956\n",
            "Epoch 31/100\n",
            "1/1 [==============================] - 0s 8ms/step - loss: 7.2900 - mae: 7.2900\n",
            "Epoch 32/100\n",
            "1/1 [==============================] - 0s 7ms/step - loss: 7.2844 - mae: 7.2844\n",
            "Epoch 33/100\n",
            "1/1 [==============================] - 0s 7ms/step - loss: 7.2787 - mae: 7.2787\n",
            "Epoch 34/100\n",
            "1/1 [==============================] - 0s 10ms/step - loss: 7.2731 - mae: 7.2731\n",
            "Epoch 35/100\n",
            "1/1 [==============================] - 0s 12ms/step - loss: 7.2675 - mae: 7.2675\n",
            "Epoch 36/100\n",
            "1/1 [==============================] - 0s 6ms/step - loss: 7.2619 - mae: 7.2619\n",
            "Epoch 37/100\n",
            "1/1 [==============================] - 0s 6ms/step - loss: 7.2562 - mae: 7.2562\n",
            "Epoch 38/100\n",
            "1/1 [==============================] - 0s 6ms/step - loss: 7.2506 - mae: 7.2506\n",
            "Epoch 39/100\n",
            "1/1 [==============================] - 0s 9ms/step - loss: 7.2450 - mae: 7.2450\n",
            "Epoch 40/100\n",
            "1/1 [==============================] - 0s 9ms/step - loss: 7.2394 - mae: 7.2394\n",
            "Epoch 41/100\n",
            "1/1 [==============================] - 0s 6ms/step - loss: 7.2338 - mae: 7.2338\n",
            "Epoch 42/100\n",
            "1/1 [==============================] - 0s 6ms/step - loss: 7.2281 - mae: 7.2281\n",
            "Epoch 43/100\n",
            "1/1 [==============================] - 0s 8ms/step - loss: 7.2225 - mae: 7.2225\n",
            "Epoch 44/100\n",
            "1/1 [==============================] - 0s 8ms/step - loss: 7.2169 - mae: 7.2169\n",
            "Epoch 45/100\n",
            "1/1 [==============================] - 0s 9ms/step - loss: 7.2112 - mae: 7.2112\n",
            "Epoch 46/100\n",
            "1/1 [==============================] - 0s 8ms/step - loss: 7.2056 - mae: 7.2056\n",
            "Epoch 47/100\n",
            "1/1 [==============================] - 0s 6ms/step - loss: 7.2000 - mae: 7.2000\n",
            "Epoch 48/100\n",
            "1/1 [==============================] - 0s 6ms/step - loss: 7.1944 - mae: 7.1944\n",
            "Epoch 49/100\n",
            "1/1 [==============================] - 0s 7ms/step - loss: 7.1888 - mae: 7.1888\n",
            "Epoch 50/100\n",
            "1/1 [==============================] - 0s 9ms/step - loss: 7.1831 - mae: 7.1831\n",
            "Epoch 51/100\n",
            "1/1 [==============================] - 0s 6ms/step - loss: 7.1775 - mae: 7.1775\n",
            "Epoch 52/100\n",
            "1/1 [==============================] - 0s 7ms/step - loss: 7.1719 - mae: 7.1719\n",
            "Epoch 53/100\n",
            "1/1 [==============================] - 0s 7ms/step - loss: 7.1663 - mae: 7.1663\n",
            "Epoch 54/100\n",
            "1/1 [==============================] - 0s 7ms/step - loss: 7.1606 - mae: 7.1606\n",
            "Epoch 55/100\n",
            "1/1 [==============================] - 0s 8ms/step - loss: 7.1550 - mae: 7.1550\n",
            "Epoch 56/100\n",
            "1/1 [==============================] - 0s 6ms/step - loss: 7.1494 - mae: 7.1494\n",
            "Epoch 57/100\n",
            "1/1 [==============================] - 0s 7ms/step - loss: 7.1438 - mae: 7.1438\n",
            "Epoch 58/100\n",
            "1/1 [==============================] - 0s 6ms/step - loss: 7.1381 - mae: 7.1381\n",
            "Epoch 59/100\n",
            "1/1 [==============================] - 0s 6ms/step - loss: 7.1325 - mae: 7.1325\n",
            "Epoch 60/100\n",
            "1/1 [==============================] - 0s 7ms/step - loss: 7.1269 - mae: 7.1269\n",
            "Epoch 61/100\n",
            "1/1 [==============================] - 0s 7ms/step - loss: 7.1213 - mae: 7.1213\n",
            "Epoch 62/100\n",
            "1/1 [==============================] - 0s 7ms/step - loss: 7.1156 - mae: 7.1156\n",
            "Epoch 63/100\n",
            "1/1 [==============================] - 0s 6ms/step - loss: 7.1100 - mae: 7.1100\n",
            "Epoch 64/100\n",
            "1/1 [==============================] - 0s 7ms/step - loss: 7.1044 - mae: 7.1044\n",
            "Epoch 65/100\n",
            "1/1 [==============================] - 0s 8ms/step - loss: 7.0988 - mae: 7.0988\n",
            "Epoch 66/100\n",
            "1/1 [==============================] - 0s 6ms/step - loss: 7.0931 - mae: 7.0931\n",
            "Epoch 67/100\n",
            "1/1 [==============================] - 0s 10ms/step - loss: 7.0875 - mae: 7.0875\n",
            "Epoch 68/100\n",
            "1/1 [==============================] - 0s 7ms/step - loss: 7.0819 - mae: 7.0819\n",
            "Epoch 69/100\n",
            "1/1 [==============================] - 0s 7ms/step - loss: 7.0763 - mae: 7.0763\n",
            "Epoch 70/100\n",
            "1/1 [==============================] - 0s 10ms/step - loss: 7.0706 - mae: 7.0706\n",
            "Epoch 71/100\n",
            "1/1 [==============================] - 0s 9ms/step - loss: 7.0650 - mae: 7.0650\n",
            "Epoch 72/100\n",
            "1/1 [==============================] - 0s 8ms/step - loss: 7.0594 - mae: 7.0594\n",
            "Epoch 73/100\n",
            "1/1 [==============================] - 0s 7ms/step - loss: 7.0538 - mae: 7.0538\n",
            "Epoch 74/100\n",
            "1/1 [==============================] - 0s 7ms/step - loss: 7.0481 - mae: 7.0481\n",
            "Epoch 75/100\n",
            "1/1 [==============================] - 0s 7ms/step - loss: 7.0425 - mae: 7.0425\n",
            "Epoch 76/100\n",
            "1/1 [==============================] - 0s 7ms/step - loss: 7.0369 - mae: 7.0369\n",
            "Epoch 77/100\n",
            "1/1 [==============================] - 0s 7ms/step - loss: 7.0312 - mae: 7.0312\n",
            "Epoch 78/100\n",
            "1/1 [==============================] - 0s 12ms/step - loss: 7.0256 - mae: 7.0256\n",
            "Epoch 79/100\n",
            "1/1 [==============================] - 0s 6ms/step - loss: 7.0200 - mae: 7.0200\n",
            "Epoch 80/100\n",
            "1/1 [==============================] - 0s 6ms/step - loss: 7.0144 - mae: 7.0144\n",
            "Epoch 81/100\n",
            "1/1 [==============================] - 0s 6ms/step - loss: 7.0088 - mae: 7.0088\n",
            "Epoch 82/100\n",
            "1/1 [==============================] - 0s 7ms/step - loss: 7.0031 - mae: 7.0031\n",
            "Epoch 83/100\n",
            "1/1 [==============================] - 0s 7ms/step - loss: 6.9975 - mae: 6.9975\n",
            "Epoch 84/100\n",
            "1/1 [==============================] - 0s 7ms/step - loss: 6.9919 - mae: 6.9919\n",
            "Epoch 85/100\n",
            "1/1 [==============================] - 0s 7ms/step - loss: 6.9863 - mae: 6.9863\n",
            "Epoch 86/100\n",
            "1/1 [==============================] - 0s 7ms/step - loss: 6.9806 - mae: 6.9806\n",
            "Epoch 87/100\n",
            "1/1 [==============================] - 0s 7ms/step - loss: 6.9750 - mae: 6.9750\n",
            "Epoch 88/100\n",
            "1/1 [==============================] - 0s 7ms/step - loss: 6.9694 - mae: 6.9694\n",
            "Epoch 89/100\n",
            "1/1 [==============================] - 0s 9ms/step - loss: 6.9638 - mae: 6.9638\n",
            "Epoch 90/100\n",
            "1/1 [==============================] - 0s 6ms/step - loss: 6.9581 - mae: 6.9581\n",
            "Epoch 91/100\n",
            "1/1 [==============================] - 0s 6ms/step - loss: 6.9525 - mae: 6.9525\n",
            "Epoch 92/100\n",
            "1/1 [==============================] - 0s 7ms/step - loss: 6.9469 - mae: 6.9469\n",
            "Epoch 93/100\n",
            "1/1 [==============================] - 0s 6ms/step - loss: 6.9413 - mae: 6.9413\n",
            "Epoch 94/100\n",
            "1/1 [==============================] - 0s 6ms/step - loss: 6.9356 - mae: 6.9356\n",
            "Epoch 95/100\n",
            "1/1 [==============================] - 0s 7ms/step - loss: 6.9300 - mae: 6.9300\n",
            "Epoch 96/100\n",
            "1/1 [==============================] - 0s 5ms/step - loss: 6.9244 - mae: 6.9244\n",
            "Epoch 97/100\n",
            "1/1 [==============================] - 0s 7ms/step - loss: 6.9188 - mae: 6.9188\n",
            "Epoch 98/100\n",
            "1/1 [==============================] - 0s 6ms/step - loss: 6.9131 - mae: 6.9131\n",
            "Epoch 99/100\n",
            "1/1 [==============================] - 0s 6ms/step - loss: 6.9075 - mae: 6.9075\n",
            "Epoch 100/100\n",
            "1/1 [==============================] - 0s 6ms/step - loss: 6.9019 - mae: 6.9019\n"
          ]
        },
        {
          "output_type": "execute_result",
          "data": {
            "text/plain": [
              "<keras.callbacks.History at 0x785226eb8130>"
            ]
          },
          "metadata": {},
          "execution_count": 179
        }
      ]
    },
    {
      "cell_type": "code",
      "source": [
        "# remind ourselves of the data\n",
        "X,Y"
      ],
      "metadata": {
        "colab": {
          "base_uri": "https://localhost:8080/"
        },
        "id": "uS3V07-yTogb",
        "outputId": "11a29be2-0de5-44ae-f58e-f0c4e4eb9846"
      },
      "execution_count": null,
      "outputs": [
        {
          "output_type": "execute_result",
          "data": {
            "text/plain": [
              "(<tf.Tensor: shape=(8,), dtype=float64, numpy=array([-7., -4., -1.,  2.,  5.,  8., 11., 14.])>,\n",
              " <tf.Tensor: shape=(8,), dtype=float64, numpy=array([ 3.,  6.,  9., 12., 15., 18., 21., 24.])>)"
            ]
          },
          "metadata": {},
          "execution_count": 180
        }
      ]
    },
    {
      "cell_type": "code",
      "source": [
        "# let's see whether our model prediction has improved or not ....\n",
        "y_pred = model.predict([17.0])\n",
        "y_pred"
      ],
      "metadata": {
        "colab": {
          "base_uri": "https://localhost:8080/"
        },
        "id": "UFtWWmZaT7MD",
        "outputId": "7dcf616d-c30e-41a8-d1d9-35dbd75ae963"
      },
      "execution_count": null,
      "outputs": [
        {
          "output_type": "stream",
          "name": "stdout",
          "text": [
            "1/1 [==============================] - 0s 56ms/step\n"
          ]
        },
        {
          "output_type": "execute_result",
          "data": {
            "text/plain": [
              "array([[30.071318]], dtype=float32)"
            ]
          },
          "metadata": {},
          "execution_count": 181
        }
      ]
    },
    {
      "cell_type": "code",
      "source": [
        "# let's rebuild the model to again improve the our model\n",
        "# We try to improve our model by adding ean extra hidden layer with 100 neurons (hidden units)\n",
        "\n",
        "# Set random seed\n",
        "tf.random.set_seed(42)\n",
        "\n",
        "# 1. Create a model using the Sequential API\n",
        "model = tf.keras.Sequential([\n",
        "    tf.keras.layers.Dense(100,activation='relu'),\n",
        "    tf.keras.layers.Dense(1)\n",
        "])\n",
        "\n",
        "\n",
        "# 2. Compile the model\n",
        "model.compile(loss = tf.keras.losses.mae, # mae is short for mean absolute error\n",
        "              optimizer = tf.keras.optimizers.SGD(), # sgd is short for stochastic gradient descent\n",
        "              metrics = [\"mae\"]\n",
        "              )\n",
        "# 3. Fit the model\n",
        "model.fit(tf.expand_dims(X,axis=-1),Y,epochs = 100)"
      ],
      "metadata": {
        "colab": {
          "base_uri": "https://localhost:8080/"
        },
        "id": "_7wmf6u7UN-r",
        "outputId": "cbac6215-fad1-4a2a-c5f2-9bab28257440"
      },
      "execution_count": null,
      "outputs": [
        {
          "output_type": "stream",
          "name": "stdout",
          "text": [
            "Epoch 1/100\n",
            "1/1 [==============================] - 0s 325ms/step - loss: 12.3078 - mae: 12.3078\n",
            "Epoch 2/100\n",
            "1/1 [==============================] - 0s 5ms/step - loss: 11.6375 - mae: 11.6375\n",
            "Epoch 3/100\n",
            "1/1 [==============================] - 0s 5ms/step - loss: 10.9628 - mae: 10.9628\n",
            "Epoch 4/100\n",
            "1/1 [==============================] - 0s 8ms/step - loss: 10.2684 - mae: 10.2684\n",
            "Epoch 5/100\n",
            "1/1 [==============================] - 0s 12ms/step - loss: 9.5493 - mae: 9.5493\n",
            "Epoch 6/100\n",
            "1/1 [==============================] - 0s 8ms/step - loss: 8.7992 - mae: 8.7992\n",
            "Epoch 7/100\n",
            "1/1 [==============================] - 0s 9ms/step - loss: 8.0099 - mae: 8.0099\n",
            "Epoch 8/100\n",
            "1/1 [==============================] - 0s 6ms/step - loss: 7.1724 - mae: 7.1724\n",
            "Epoch 9/100\n",
            "1/1 [==============================] - 0s 9ms/step - loss: 6.2880 - mae: 6.2880\n",
            "Epoch 10/100\n",
            "1/1 [==============================] - 0s 9ms/step - loss: 5.3428 - mae: 5.3428\n",
            "Epoch 11/100\n",
            "1/1 [==============================] - 0s 6ms/step - loss: 4.3651 - mae: 4.3651\n",
            "Epoch 12/100\n",
            "1/1 [==============================] - 0s 7ms/step - loss: 3.9402 - mae: 3.9402\n",
            "Epoch 13/100\n",
            "1/1 [==============================] - 0s 6ms/step - loss: 3.9863 - mae: 3.9863\n",
            "Epoch 14/100\n",
            "1/1 [==============================] - 0s 7ms/step - loss: 3.9144 - mae: 3.9144\n",
            "Epoch 15/100\n",
            "1/1 [==============================] - 0s 7ms/step - loss: 3.9923 - mae: 3.9923\n",
            "Epoch 16/100\n",
            "1/1 [==============================] - 0s 8ms/step - loss: 3.9219 - mae: 3.9219\n",
            "Epoch 17/100\n",
            "1/1 [==============================] - 0s 10ms/step - loss: 3.9726 - mae: 3.9726\n",
            "Epoch 18/100\n",
            "1/1 [==============================] - 0s 6ms/step - loss: 3.9373 - mae: 3.9373\n",
            "Epoch 19/100\n",
            "1/1 [==============================] - 0s 6ms/step - loss: 3.9463 - mae: 3.9463\n",
            "Epoch 20/100\n",
            "1/1 [==============================] - 0s 6ms/step - loss: 3.9449 - mae: 3.9449\n",
            "Epoch 21/100\n",
            "1/1 [==============================] - 0s 6ms/step - loss: 3.9196 - mae: 3.9196\n",
            "Epoch 22/100\n",
            "1/1 [==============================] - 0s 6ms/step - loss: 3.9528 - mae: 3.9528\n",
            "Epoch 23/100\n",
            "1/1 [==============================] - 0s 8ms/step - loss: 3.8927 - mae: 3.8927\n",
            "Epoch 24/100\n",
            "1/1 [==============================] - 0s 10ms/step - loss: 3.9608 - mae: 3.9608\n",
            "Epoch 25/100\n",
            "1/1 [==============================] - 0s 7ms/step - loss: 3.8942 - mae: 3.8942\n",
            "Epoch 26/100\n",
            "1/1 [==============================] - 0s 7ms/step - loss: 3.9516 - mae: 3.9516\n",
            "Epoch 27/100\n",
            "1/1 [==============================] - 0s 7ms/step - loss: 3.9046 - mae: 3.9046\n",
            "Epoch 28/100\n",
            "1/1 [==============================] - 0s 7ms/step - loss: 3.9247 - mae: 3.9247\n",
            "Epoch 29/100\n",
            "1/1 [==============================] - 0s 6ms/step - loss: 3.9124 - mae: 3.9124\n",
            "Epoch 30/100\n",
            "1/1 [==============================] - 0s 6ms/step - loss: 3.8977 - mae: 3.8977\n",
            "Epoch 31/100\n",
            "1/1 [==============================] - 0s 6ms/step - loss: 3.9205 - mae: 3.9205\n",
            "Epoch 32/100\n",
            "1/1 [==============================] - 0s 5ms/step - loss: 3.8706 - mae: 3.8706\n",
            "Epoch 33/100\n",
            "1/1 [==============================] - 0s 5ms/step - loss: 3.9321 - mae: 3.9321\n",
            "Epoch 34/100\n",
            "1/1 [==============================] - 0s 6ms/step - loss: 3.8652 - mae: 3.8652\n",
            "Epoch 35/100\n",
            "1/1 [==============================] - 0s 12ms/step - loss: 3.9289 - mae: 3.9289\n",
            "Epoch 36/100\n",
            "1/1 [==============================] - 0s 5ms/step - loss: 3.8731 - mae: 3.8731\n",
            "Epoch 37/100\n",
            "1/1 [==============================] - 0s 7ms/step - loss: 3.9018 - mae: 3.9018\n",
            "Epoch 38/100\n",
            "1/1 [==============================] - 0s 4ms/step - loss: 3.8811 - mae: 3.8811\n",
            "Epoch 39/100\n",
            "1/1 [==============================] - 0s 5ms/step - loss: 3.8745 - mae: 3.8745\n",
            "Epoch 40/100\n",
            "1/1 [==============================] - 0s 9ms/step - loss: 3.8894 - mae: 3.8894\n",
            "Epoch 41/100\n",
            "1/1 [==============================] - 0s 7ms/step - loss: 3.8496 - mae: 3.8496\n",
            "Epoch 42/100\n",
            "1/1 [==============================] - 0s 5ms/step - loss: 3.9055 - mae: 3.9055\n",
            "Epoch 43/100\n",
            "1/1 [==============================] - 0s 6ms/step - loss: 3.8346 - mae: 3.8346\n",
            "Epoch 44/100\n",
            "1/1 [==============================] - 0s 6ms/step - loss: 3.9050 - mae: 3.9050\n",
            "Epoch 45/100\n",
            "1/1 [==============================] - 0s 6ms/step - loss: 3.8427 - mae: 3.8427\n",
            "Epoch 46/100\n",
            "1/1 [==============================] - 0s 6ms/step - loss: 3.8776 - mae: 3.8776\n",
            "Epoch 47/100\n",
            "1/1 [==============================] - 0s 6ms/step - loss: 3.8510 - mae: 3.8510\n",
            "Epoch 48/100\n",
            "1/1 [==============================] - 0s 6ms/step - loss: 3.8501 - mae: 3.8501\n",
            "Epoch 49/100\n",
            "1/1 [==============================] - 0s 8ms/step - loss: 3.8604 - mae: 3.8604\n",
            "Epoch 50/100\n",
            "1/1 [==============================] - 0s 6ms/step - loss: 3.8295 - mae: 3.8295\n",
            "Epoch 51/100\n",
            "1/1 [==============================] - 0s 7ms/step - loss: 3.8757 - mae: 3.8757\n",
            "Epoch 52/100\n",
            "1/1 [==============================] - 0s 5ms/step - loss: 3.8050 - mae: 3.8050\n",
            "Epoch 53/100\n",
            "1/1 [==============================] - 0s 8ms/step - loss: 3.8798 - mae: 3.8798\n",
            "Epoch 54/100\n",
            "1/1 [==============================] - 0s 6ms/step - loss: 3.8134 - mae: 3.8134\n",
            "Epoch 55/100\n",
            "1/1 [==============================] - 0s 7ms/step - loss: 3.8521 - mae: 3.8521\n",
            "Epoch 56/100\n",
            "1/1 [==============================] - 0s 8ms/step - loss: 3.8220 - mae: 3.8220\n",
            "Epoch 57/100\n",
            "1/1 [==============================] - 0s 7ms/step - loss: 3.8244 - mae: 3.8244\n",
            "Epoch 58/100\n",
            "1/1 [==============================] - 0s 7ms/step - loss: 3.8372 - mae: 3.8372\n",
            "Epoch 59/100\n",
            "1/1 [==============================] - 0s 7ms/step - loss: 3.8035 - mae: 3.8035\n",
            "Epoch 60/100\n",
            "1/1 [==============================] - 0s 5ms/step - loss: 3.8470 - mae: 3.8470\n",
            "Epoch 61/100\n",
            "1/1 [==============================] - 0s 8ms/step - loss: 3.7767 - mae: 3.7767\n",
            "Epoch 62/100\n",
            "1/1 [==============================] - 0s 7ms/step - loss: 3.8533 - mae: 3.8533\n",
            "Epoch 63/100\n",
            "1/1 [==============================] - 0s 6ms/step - loss: 3.7852 - mae: 3.7852\n",
            "Epoch 64/100\n",
            "1/1 [==============================] - 0s 6ms/step - loss: 3.8254 - mae: 3.8254\n",
            "Epoch 65/100\n",
            "1/1 [==============================] - 0s 6ms/step - loss: 3.7940 - mae: 3.7940\n",
            "Epoch 66/100\n",
            "1/1 [==============================] - 0s 5ms/step - loss: 3.8028 - mae: 3.8028\n",
            "Epoch 67/100\n",
            "1/1 [==============================] - 0s 6ms/step - loss: 3.8105 - mae: 3.8105\n",
            "Epoch 68/100\n",
            "1/1 [==============================] - 0s 6ms/step - loss: 3.7761 - mae: 3.7761\n",
            "Epoch 69/100\n",
            "1/1 [==============================] - 0s 6ms/step - loss: 3.8193 - mae: 3.8193\n",
            "Epoch 70/100\n",
            "1/1 [==============================] - 0s 6ms/step - loss: 3.7493 - mae: 3.7493\n",
            "Epoch 71/100\n",
            "1/1 [==============================] - 0s 6ms/step - loss: 3.8255 - mae: 3.8255\n",
            "Epoch 72/100\n",
            "1/1 [==============================] - 0s 6ms/step - loss: 3.7581 - mae: 3.7581\n",
            "Epoch 73/100\n",
            "1/1 [==============================] - 0s 6ms/step - loss: 3.7974 - mae: 3.7974\n",
            "Epoch 74/100\n",
            "1/1 [==============================] - 0s 6ms/step - loss: 3.7706 - mae: 3.7706\n",
            "Epoch 75/100\n",
            "1/1 [==============================] - 0s 6ms/step - loss: 3.7760 - mae: 3.7760\n",
            "Epoch 76/100\n",
            "1/1 [==============================] - 0s 6ms/step - loss: 3.7837 - mae: 3.7837\n",
            "Epoch 77/100\n",
            "1/1 [==============================] - 0s 6ms/step - loss: 3.7473 - mae: 3.7473\n",
            "Epoch 78/100\n",
            "1/1 [==============================] - 0s 5ms/step - loss: 3.7927 - mae: 3.7927\n",
            "Epoch 79/100\n",
            "1/1 [==============================] - 0s 6ms/step - loss: 3.7229 - mae: 3.7229\n",
            "Epoch 80/100\n",
            "1/1 [==============================] - 0s 6ms/step - loss: 3.7965 - mae: 3.7965\n",
            "Epoch 81/100\n",
            "1/1 [==============================] - 0s 6ms/step - loss: 3.7320 - mae: 3.7320\n",
            "Epoch 82/100\n",
            "1/1 [==============================] - 0s 6ms/step - loss: 3.7703 - mae: 3.7703\n",
            "Epoch 83/100\n",
            "1/1 [==============================] - 0s 7ms/step - loss: 3.7488 - mae: 3.7488\n",
            "Epoch 84/100\n",
            "1/1 [==============================] - 0s 6ms/step - loss: 3.7462 - mae: 3.7462\n",
            "Epoch 85/100\n",
            "1/1 [==============================] - 0s 7ms/step - loss: 3.7578 - mae: 3.7578\n",
            "Epoch 86/100\n",
            "1/1 [==============================] - 0s 7ms/step - loss: 3.7171 - mae: 3.7171\n",
            "Epoch 87/100\n",
            "1/1 [==============================] - 0s 8ms/step - loss: 3.7671 - mae: 3.7671\n",
            "Epoch 88/100\n",
            "1/1 [==============================] - 0s 6ms/step - loss: 3.6976 - mae: 3.6976\n",
            "Epoch 89/100\n",
            "1/1 [==============================] - 0s 6ms/step - loss: 3.7661 - mae: 3.7661\n",
            "Epoch 90/100\n",
            "1/1 [==============================] - 0s 7ms/step - loss: 3.7071 - mae: 3.7071\n",
            "Epoch 91/100\n",
            "1/1 [==============================] - 0s 7ms/step - loss: 3.7443 - mae: 3.7443\n",
            "Epoch 92/100\n",
            "1/1 [==============================] - 0s 7ms/step - loss: 3.7237 - mae: 3.7237\n",
            "Epoch 93/100\n",
            "1/1 [==============================] - 0s 7ms/step - loss: 3.7150 - mae: 3.7150\n",
            "Epoch 94/100\n",
            "1/1 [==============================] - 0s 7ms/step - loss: 3.7330 - mae: 3.7330\n",
            "Epoch 95/100\n",
            "1/1 [==============================] - 0s 7ms/step - loss: 3.6857 - mae: 3.6857\n",
            "Epoch 96/100\n",
            "1/1 [==============================] - 0s 7ms/step - loss: 3.7426 - mae: 3.7426\n",
            "Epoch 97/100\n",
            "1/1 [==============================] - 0s 7ms/step - loss: 3.6733 - mae: 3.6733\n",
            "Epoch 98/100\n",
            "1/1 [==============================] - 0s 7ms/step - loss: 3.7344 - mae: 3.7344\n",
            "Epoch 99/100\n",
            "1/1 [==============================] - 0s 6ms/step - loss: 3.6881 - mae: 3.6881\n",
            "Epoch 100/100\n",
            "1/1 [==============================] - 0s 6ms/step - loss: 3.7122 - mae: 3.7122\n"
          ]
        },
        {
          "output_type": "execute_result",
          "data": {
            "text/plain": [
              "<keras.callbacks.History at 0x785226c11720>"
            ]
          },
          "metadata": {},
          "execution_count": 182
        }
      ]
    },
    {
      "cell_type": "code",
      "source": [
        "# Let's remind ourselves our data\n",
        "X,Y"
      ],
      "metadata": {
        "colab": {
          "base_uri": "https://localhost:8080/"
        },
        "id": "7r9DAxk7VMYs",
        "outputId": "f689ba17-71a2-473b-8976-31ef4483718d"
      },
      "execution_count": null,
      "outputs": [
        {
          "output_type": "execute_result",
          "data": {
            "text/plain": [
              "(<tf.Tensor: shape=(8,), dtype=float64, numpy=array([-7., -4., -1.,  2.,  5.,  8., 11., 14.])>,\n",
              " <tf.Tensor: shape=(8,), dtype=float64, numpy=array([ 3.,  6.,  9., 12., 15., 18., 21., 24.])>)"
            ]
          },
          "metadata": {},
          "execution_count": 183
        }
      ]
    },
    {
      "cell_type": "code",
      "source": [
        "# let's make a prediction\n",
        "y_pred = model.predict([17.0])\n",
        "y_pred"
      ],
      "metadata": {
        "colab": {
          "base_uri": "https://localhost:8080/"
        },
        "id": "MuldEsVTV9gc",
        "outputId": "3688b742-06bb-4f7c-a878-d486c862ab88"
      },
      "execution_count": null,
      "outputs": [
        {
          "output_type": "stream",
          "name": "stdout",
          "text": [
            "1/1 [==============================] - 0s 50ms/step\n"
          ]
        },
        {
          "output_type": "execute_result",
          "data": {
            "text/plain": [
              "array([[32.487034]], dtype=float32)"
            ]
          },
          "metadata": {},
          "execution_count": 184
        }
      ]
    },
    {
      "cell_type": "code",
      "source": [
        "# according to above result, we have overfitting because our real predicted value error is not compatible with fit error message"
      ],
      "metadata": {
        "id": "_-Ps84bWWZcc"
      },
      "execution_count": null,
      "outputs": []
    },
    {
      "cell_type": "markdown",
      "source": [
        "**Evaluating a model**\n",
        "\n",
        "*   When it comes to evaluation... there are 3 words you should memorize \" Visualize\",\"Visualize\", \"Visualize\".\n",
        "\n",
        "*   ıt is a good idea to visualize the data, model, training, predictions,\n",
        "\n"
      ],
      "metadata": {
        "id": "qnd_kMQaYV7U"
      }
    },
    {
      "cell_type": "code",
      "source": [
        "# make a bigger dataset\n",
        "X = tf.range(-100,100,4)\n",
        "X"
      ],
      "metadata": {
        "colab": {
          "base_uri": "https://localhost:8080/"
        },
        "id": "9YvwvuI6YZ19",
        "outputId": "b44bf743-13f0-4034-ab69-cd218fb3db26"
      },
      "execution_count": null,
      "outputs": [
        {
          "output_type": "execute_result",
          "data": {
            "text/plain": [
              "<tf.Tensor: shape=(50,), dtype=int32, numpy=\n",
              "array([-100,  -96,  -92,  -88,  -84,  -80,  -76,  -72,  -68,  -64,  -60,\n",
              "        -56,  -52,  -48,  -44,  -40,  -36,  -32,  -28,  -24,  -20,  -16,\n",
              "        -12,   -8,   -4,    0,    4,    8,   12,   16,   20,   24,   28,\n",
              "         32,   36,   40,   44,   48,   52,   56,   60,   64,   68,   72,\n",
              "         76,   80,   84,   88,   92,   96], dtype=int32)>"
            ]
          },
          "metadata": {},
          "execution_count": 186
        }
      ]
    },
    {
      "cell_type": "code",
      "source": [
        "# make labels for the data set\n",
        "Y = X +10\n",
        "Y"
      ],
      "metadata": {
        "colab": {
          "base_uri": "https://localhost:8080/"
        },
        "id": "Vf3WjI7duRxK",
        "outputId": "6ed179c5-d709-4503-df4a-6e5010a9b486"
      },
      "execution_count": null,
      "outputs": [
        {
          "output_type": "execute_result",
          "data": {
            "text/plain": [
              "<tf.Tensor: shape=(50,), dtype=int32, numpy=\n",
              "array([-90, -86, -82, -78, -74, -70, -66, -62, -58, -54, -50, -46, -42,\n",
              "       -38, -34, -30, -26, -22, -18, -14, -10,  -6,  -2,   2,   6,  10,\n",
              "        14,  18,  22,  26,  30,  34,  38,  42,  46,  50,  54,  58,  62,\n",
              "        66,  70,  74,  78,  82,  86,  90,  94,  98, 102, 106], dtype=int32)>"
            ]
          },
          "metadata": {},
          "execution_count": 187
        }
      ]
    },
    {
      "cell_type": "code",
      "source": [
        "# Let's visualize the data\n",
        "plt.scatter(X,Y)"
      ],
      "metadata": {
        "colab": {
          "base_uri": "https://localhost:8080/",
          "height": 447
        },
        "id": "xYgxuPsquYAf",
        "outputId": "150d1889-c4a3-4dde-d06c-c6ff6942196a"
      },
      "execution_count": null,
      "outputs": [
        {
          "output_type": "execute_result",
          "data": {
            "text/plain": [
              "<matplotlib.collections.PathCollection at 0x78522631a890>"
            ]
          },
          "metadata": {},
          "execution_count": 188
        },
        {
          "output_type": "display_data",
          "data": {
            "text/plain": [
              "<Figure size 640x480 with 1 Axes>"
            ],
            "image/png": "[encoded data removed]"
          },
          "metadata": {}
        }
      ]
    },
    {
      "cell_type": "markdown",
      "source": [
        "**The 3 sets split the data**\n",
        "\n",
        "1.   **Training set** : model learns from this data, which is typically 70 - 80 % of the total data you have available\n",
        "2.   **Validation set** : the model gets tuned on this data, which is 10 - 15 % of the data\n",
        "3.   **Test set** : the model gets evaluated on this data to test what is has learned, this set is typically 10 - 15 % of the total data available.\n",
        "\n"
      ],
      "metadata": {
        "id": "IpSggw7EusqA"
      }
    },
    {
      "cell_type": "code",
      "source": [
        "# Check the length of the data\n",
        "len(X)"
      ],
      "metadata": {
        "colab": {
          "base_uri": "https://localhost:8080/"
        },
        "id": "VCcQdNWyur7s",
        "outputId": "87d03dcf-0d11-476f-d7df-dac6e1ebb5d9"
      },
      "execution_count": null,
      "outputs": [
        {
          "output_type": "execute_result",
          "data": {
            "text/plain": [
              "50"
            ]
          },
          "metadata": {},
          "execution_count": 189
        }
      ]
    },
    {
      "cell_type": "code",
      "source": [
        "# split the data into train and test\n",
        "X_train = X[:40] #first  40 are training samples (80 % of the data)\n",
        "Y_train = Y[:40]\n",
        "X_test = X[40:] # last 20 are testing samples ( 20 % of the data)\n",
        "Y_test = Y[40:]\n",
        "\n",
        "len(X_train), len(Y_train), len(X_test), len(Y_test)"
      ],
      "metadata": {
        "colab": {
          "base_uri": "https://localhost:8080/"
        },
        "id": "Hon_AmgxvyFy",
        "outputId": "c80b3963-c573-4aef-cbaa-4603e50b238c"
      },
      "execution_count": null,
      "outputs": [
        {
          "output_type": "execute_result",
          "data": {
            "text/plain": [
              "(40, 40, 10, 10)"
            ]
          },
          "metadata": {},
          "execution_count": 190
        }
      ]
    },
    {
      "cell_type": "code",
      "source": [
        "# let's visualize the data\n",
        "plt.figure(figsize = (10,7))\n",
        "# Plot training data in blue\n",
        "plt.scatter(X_train,Y_train, c = \"b\", label =\"training data\")\n",
        "# Plot testing data in green\n",
        "plt.scatter(X_test, Y_test, c=\"g\", label = \"testing data\")\n",
        "# show a legend\n",
        "plt.legend()"
      ],
      "metadata": {
        "colab": {
          "base_uri": "https://localhost:8080/",
          "height": 616
        },
        "id": "MSJFxl2VweBr",
        "outputId": "86b38378-ce79-48c6-f339-e22aac49c8f2"
      },
      "execution_count": null,
      "outputs": [
        {
          "output_type": "execute_result",
          "data": {
            "text/plain": [
              "<matplotlib.legend.Legend at 0x785226371e10>"
            ]
          },
          "metadata": {},
          "execution_count": 191
        },
        {
          "output_type": "display_data",
          "data": {
            "text/plain": [
              "<Figure size 1000x700 with 1 Axes>"
            ],
            "image/png": "[encoded data removed]"
          },
          "metadata": {}
        }
      ]
    },
    {
      "cell_type": "code",
      "source": [
        "# Let's have a look at how to build a neural network for our data\n",
        "\n",
        "# Create a model\n",
        "model = tf.keras.Sequential([\n",
        "\n",
        "    tf.keras.layers.Dense(1),\n",
        "\n",
        "\n",
        "])\n",
        "\n",
        "# Compile the model\n",
        "model.compile(loss = tf.keras.losses.mae,\n",
        "              optimizer = tf.keras.optimizers.SGD(),\n",
        "              metrics=[\"mae\"]\n",
        "              )\n",
        "\n",
        "# fit the model\n",
        "# model.fit(tf.expand_dims(X_train,axis = 1),Y_train,epochs=100)\n"
      ],
      "metadata": {
        "id": "rdeAXPqtxGiw"
      },
      "execution_count": null,
      "outputs": []
    },
    {
      "cell_type": "code",
      "source": [
        "#model.summary()  # we get error because we did not specify the input shape or we didnot build or fit the model"
      ],
      "metadata": {
        "id": "gYTNRXwhy8fp"
      },
      "execution_count": null,
      "outputs": []
    },
    {
      "cell_type": "code",
      "source": [
        "# Let's create a model which builds automatically by defining the input_shape\n",
        "tf.random.set_seed(42)\n",
        "\n",
        "# Create a model (same as above)\n",
        "model = tf.keras.Sequential([\n",
        "    tf.keras.layers.Dense(10, input_shape = [1],name = \"input_layer\"),\n",
        "    tf.keras.layers.Dense(1,name=\"output_layer\")\n",
        "],\n",
        "name = \"model_1\"\n",
        ")\n",
        "\n",
        "# Compile the model\n",
        "model.compile(loss = tf.keras.losses.mae,\n",
        "              optimizer = tf.keras.optimizers.SGD(),\n",
        "              metrics = [\"mae\"]\n",
        "             )\n"
      ],
      "metadata": {
        "id": "vRDCOsgMzEBc"
      },
      "execution_count": null,
      "outputs": []
    },
    {
      "cell_type": "code",
      "source": [
        "model.summary()"
      ],
      "metadata": {
        "colab": {
          "base_uri": "https://localhost:8080/"
        },
        "id": "h9tW1GnR0Yhd",
        "outputId": "e3f0a4ea-6f51-4e92-e85e-39a553b3c20f"
      },
      "execution_count": null,
      "outputs": [
        {
          "output_type": "stream",
          "name": "stdout",
          "text": [
            "Model: \"model_1\"\n",
            "_________________________________________________________________\n",
            " Layer (type)                Output Shape              Param #   \n",
            "=================================================================\n",
            " input_layer (Dense)         (None, 10)                20        \n",
            "                                                                 \n",
            " output_layer (Dense)        (None, 1)                 11        \n",
            "                                                                 \n",
            "=================================================================\n",
            "Total params: 31\n",
            "Trainable params: 31\n",
            "Non-trainable params: 0\n",
            "_________________________________________________________________\n"
          ]
        }
      ]
    },
    {
      "cell_type": "code",
      "source": [
        "# Dense means all fully connected layer"
      ],
      "metadata": {
        "id": "a_Rb4Yco0gwI"
      },
      "execution_count": null,
      "outputs": []
    },
    {
      "cell_type": "markdown",
      "source": [
        "\n",
        "*   **Total params :** total number of parameters in the model\n",
        "*   **Trainable parameters :** these are the parameters (patterns) the model can update as it trains\n",
        "*   **Non-trainable params :** these parameters are not updated during the training (this is typical when you have parameters from other models during **transfer learning**)\n",
        "\n"
      ],
      "metadata": {
        "id": "9cbDYapC0wQo"
      }
    },
    {
      "cell_type": "code",
      "source": [
        "# Let's fit our model to the training data\n",
        "model.fit(tf.expand_dims(X_train, axis = -1), Y_train, epochs = 100, verbose=0)"
      ],
      "metadata": {
        "colab": {
          "base_uri": "https://localhost:8080/"
        },
        "id": "wM08bnxQ1oSj",
        "outputId": "ae3a17fa-b727-4a18-a2e6-15fa998bfc9d"
      },
      "execution_count": null,
      "outputs": [
        {
          "output_type": "execute_result",
          "data": {
            "text/plain": [
              "<keras.callbacks.History at 0x785226b25db0>"
            ]
          },
          "metadata": {},
          "execution_count": 197
        }
      ]
    },
    {
      "cell_type": "code",
      "source": [
        "# Call a summary of our model\n",
        "model.summary()"
      ],
      "metadata": {
        "colab": {
          "base_uri": "https://localhost:8080/"
        },
        "id": "hb5zICqe3OBn",
        "outputId": "c40401eb-e977-4c5b-ca24-843a4af719e3"
      },
      "execution_count": null,
      "outputs": [
        {
          "output_type": "stream",
          "name": "stdout",
          "text": [
            "Model: \"model_1\"\n",
            "_________________________________________________________________\n",
            " Layer (type)                Output Shape              Param #   \n",
            "=================================================================\n",
            " input_layer (Dense)         (None, 10)                20        \n",
            "                                                                 \n",
            " output_layer (Dense)        (None, 1)                 11        \n",
            "                                                                 \n",
            "=================================================================\n",
            "Total params: 31\n",
            "Trainable params: 31\n",
            "Non-trainable params: 0\n",
            "_________________________________________________________________\n"
          ]
        }
      ]
    },
    {
      "cell_type": "code",
      "source": [
        "# visualize the model\n",
        "\n",
        "from tensorflow.keras.utils import plot_model\n",
        "\n",
        "plot_model(model = model, show_shapes= True)"
      ],
      "metadata": {
        "colab": {
          "base_uri": "https://localhost:8080/",
          "height": 312
        },
        "id": "7Z8EOQC73lwO",
        "outputId": "f2d1521f-6bec-49bc-d8a4-43eb464031dd"
      },
      "execution_count": null,
      "outputs": [
        {
          "output_type": "execute_result",
          "data": {
            "image/png": "[encoded data removed]",
            "text/plain": [
              "<IPython.core.display.Image object>"
            ]
          },
          "metadata": {},
          "execution_count": 199
        }
      ]
    },
    {
      "cell_type": "markdown",
      "source": [
        "**Visualizng our predictions**\n",
        "\n",
        "--- To visualize predictions, it is a good idea to plot them against the ground truth tables\n",
        "\n"
      ],
      "metadata": {
        "id": "PQGP-6Y65ePG"
      }
    },
    {
      "cell_type": "code",
      "source": [
        "# make some predictions\n",
        "y_preds = model.predict(X_test)\n",
        "y_preds"
      ],
      "metadata": {
        "colab": {
          "base_uri": "https://localhost:8080/"
        },
        "id": "jQ7j7Ehb5iKi",
        "outputId": "fb59450d-3997-4bed-f2d6-4fcee486daca"
      },
      "execution_count": null,
      "outputs": [
        {
          "output_type": "stream",
          "name": "stdout",
          "text": [
            "1/1 [==============================] - 0s 42ms/step\n"
          ]
        },
        {
          "output_type": "execute_result",
          "data": {
            "text/plain": [
              "array([[34.898613],\n",
              "       [37.128532],\n",
              "       [39.358456],\n",
              "       [41.58838 ],\n",
              "       [43.8183  ],\n",
              "       [46.04822 ],\n",
              "       [48.278145],\n",
              "       [50.508068],\n",
              "       [52.73799 ],\n",
              "       [54.967915]], dtype=float32)"
            ]
          },
          "metadata": {},
          "execution_count": 200
        }
      ]
    },
    {
      "cell_type": "code",
      "source": [
        "Y_test"
      ],
      "metadata": {
        "colab": {
          "base_uri": "https://localhost:8080/"
        },
        "id": "prfCtxi5UdjE",
        "outputId": "5e626ef1-513c-4fdf-876a-d82219fe11a5"
      },
      "execution_count": null,
      "outputs": [
        {
          "output_type": "execute_result",
          "data": {
            "text/plain": [
              "<tf.Tensor: shape=(10,), dtype=int32, numpy=array([ 70,  74,  78,  82,  86,  90,  94,  98, 102, 106], dtype=int32)>"
            ]
          },
          "metadata": {},
          "execution_count": 201
        }
      ]
    },
    {
      "cell_type": "code",
      "source": [
        "# let's create a plotting function\n",
        "def plot_predictions (train_data = X_train,\n",
        "                      train_label = Y_train,\n",
        "                      test_data = X_test,\n",
        "                      test_label = Y_test,\n",
        "                      predictions = y_preds):\n",
        "  \"\"\"\n",
        "  plots training data, test data and compares predictions to ground truth labels\n",
        "  \"\"\"\n",
        "  plt.figure(figsize = (10,7))\n",
        "\n",
        "  # plot training data in blue\n",
        "  plt.scatter(train_data, train_label, c= \"b\", label = \"Training data\")\n",
        "\n",
        "  # Plot testing data in green\n",
        "  plt.scatter(test_data, test_label, c=\"g\", label = \"Testing data\")\n",
        "\n",
        "  # Plot model's predictions in red\n",
        "  plt.scatter(test_data, predictions, c=\"r\", label = \"Predictions\")\n",
        "\n",
        "  # show the legend\n",
        "  plt.legend();\n"
      ],
      "metadata": {
        "id": "jeUAKakeUuIN"
      },
      "execution_count": null,
      "outputs": []
    },
    {
      "cell_type": "code",
      "source": [
        "plot_predictions()"
      ],
      "metadata": {
        "colab": {
          "base_uri": "https://localhost:8080/",
          "height": 599
        },
        "id": "EAbdFfX0WHOI",
        "outputId": "59f7a342-f7d0-45d7-f121-cb3be09e443c"
      },
      "execution_count": null,
      "outputs": [
        {
          "output_type": "display_data",
          "data": {
            "text/plain": [
              "<Figure size 1000x700 with 1 Axes>"
            ],
            "image/png": "[encoded data removed]"
          },
          "metadata": {}
        }
      ]
    },
    {
      "cell_type": "code",
      "source": [
        "plot_predictions(train_data = X_train,\n",
        "                 train_label = Y_train,\n",
        "                 test_data = X_test,\n",
        "                 test_label = Y_test,\n",
        "                 predictions = y_preds)"
      ],
      "metadata": {
        "colab": {
          "base_uri": "https://localhost:8080/",
          "height": 599
        },
        "id": "VuNJ38maWLf5",
        "outputId": "d2d3cd0b-6ec0-4057-e2ff-777c8a4ca011"
      },
      "execution_count": null,
      "outputs": [
        {
          "output_type": "display_data",
          "data": {
            "text/plain": [
              "<Figure size 1000x700 with 1 Axes>"
            ],
            "image/png": "[encoded data removed]"
          },
          "metadata": {}
        }
      ]
    },
    {
      "cell_type": "markdown",
      "source": [
        "**Evaluating our models predictions with regression evaluation metrics**\n",
        "\n",
        "---\n",
        "\n",
        "Depending on the problem you are working on, there will be different evaluation metrics to evaluate your modles performance.\n",
        "\n",
        "*  Since we are working on a regression, two of the main metric:\n",
        "1.  **MAE :** mean absolute error, \"on average, how wrong is each of my models predictions\".\n",
        "2.  **MSE :** mean squared error, \"sqaure the average errors\""
      ],
      "metadata": {
        "id": "Yk52dhNIXFlr"
      }
    },
    {
      "cell_type": "code",
      "source": [
        "# Evaluate the model on the test data\n",
        "model.evaluate(X_test,Y_test)"
      ],
      "metadata": {
        "colab": {
          "base_uri": "https://localhost:8080/"
        },
        "id": "mXSO6iQQXOa6",
        "outputId": "59fbac11-52eb-4ea5-ae97-844e81551e28"
      },
      "execution_count": null,
      "outputs": [
        {
          "output_type": "stream",
          "name": "stdout",
          "text": [
            "1/1 [==============================] - 0s 89ms/step - loss: 43.0667 - mae: 43.0667\n"
          ]
        },
        {
          "output_type": "execute_result",
          "data": {
            "text/plain": [
              "[43.066734313964844, 43.066734313964844]"
            ]
          },
          "metadata": {},
          "execution_count": 205
        }
      ]
    },
    {
      "cell_type": "code",
      "source": [
        "y_preds"
      ],
      "metadata": {
        "colab": {
          "base_uri": "https://localhost:8080/"
        },
        "id": "eDL4kpSSY_4x",
        "outputId": "d6d08c30-1fdc-464a-c6e8-b6118015ea86"
      },
      "execution_count": null,
      "outputs": [
        {
          "output_type": "execute_result",
          "data": {
            "text/plain": [
              "array([[34.898613],\n",
              "       [37.128532],\n",
              "       [39.358456],\n",
              "       [41.58838 ],\n",
              "       [43.8183  ],\n",
              "       [46.04822 ],\n",
              "       [48.278145],\n",
              "       [50.508068],\n",
              "       [52.73799 ],\n",
              "       [54.967915]], dtype=float32)"
            ]
          },
          "metadata": {},
          "execution_count": 206
        }
      ]
    },
    {
      "cell_type": "code",
      "source": [
        "# Calculate the mean absolute errror\n",
        "mae = tf.metrics.mean_absolute_error(Y_test,y_preds)\n",
        "mae\n",
        "# the result is not as we want because Y_test and y_preds have different shapes, y_preds has extra dimension Therefore we need to squueze the y_preds"
      ],
      "metadata": {
        "colab": {
          "base_uri": "https://localhost:8080/"
        },
        "id": "04x__2ANZYnB",
        "outputId": "a29fd868-3cdd-4804-c72d-e988c38ef5e9"
      },
      "execution_count": null,
      "outputs": [
        {
          "output_type": "execute_result",
          "data": {
            "text/plain": [
              "<tf.Tensor: shape=(10,), dtype=float32, numpy=\n",
              "array([53.101387, 50.871468, 48.641544, 46.41162 , 44.1817  , 41.95178 ,\n",
              "       39.721855, 37.491932, 35.26201 , 33.032085], dtype=float32)>"
            ]
          },
          "metadata": {},
          "execution_count": 207
        }
      ]
    },
    {
      "cell_type": "code",
      "source": [
        "mae = tf.metrics.mean_absolute_error(Y_test,tf.squeeze(y_preds))\n",
        "mae"
      ],
      "metadata": {
        "colab": {
          "base_uri": "https://localhost:8080/"
        },
        "id": "x11ImLXRZ5fh",
        "outputId": "a82a455f-7754-4fb0-b8c2-5547eb48d4bd"
      },
      "execution_count": null,
      "outputs": [
        {
          "output_type": "execute_result",
          "data": {
            "text/plain": [
              "<tf.Tensor: shape=(), dtype=float32, numpy=43.06674>"
            ]
          },
          "metadata": {},
          "execution_count": 208
        }
      ]
    },
    {
      "cell_type": "code",
      "source": [
        "# Calculate the mean squared error\n",
        "mse = tf.metrics.mean_squared_error(Y_test, y_preds)\n",
        "mse\n",
        "# the result is not as we want because Y_test and y_preds have different shapes, y_preds has extra dimension Therefore we need to squueze the y_preds"
      ],
      "metadata": {
        "colab": {
          "base_uri": "https://localhost:8080/"
        },
        "id": "z9icUG_Za7rM",
        "outputId": "d4f80651-7b12-47ec-90e0-288944c3e453"
      },
      "execution_count": null,
      "outputs": [
        {
          "output_type": "execute_result",
          "data": {
            "text/plain": [
              "<tf.Tensor: shape=(10,), dtype=float32, numpy=\n",
              "array([2951.7573, 2719.9062, 2497.9995, 2286.0386, 2084.0227, 1891.9515,\n",
              "       1709.8258, 1537.6449, 1375.4093, 1223.1187], dtype=float32)>"
            ]
          },
          "metadata": {},
          "execution_count": 209
        }
      ]
    },
    {
      "cell_type": "code",
      "source": [
        "# Calculate the mean squared error\n",
        "mse = tf.metrics.mean_squared_error(Y_test, tf.squeeze(y_preds))\n",
        "mse"
      ],
      "metadata": {
        "colab": {
          "base_uri": "https://localhost:8080/"
        },
        "id": "dteD2r13bT4w",
        "outputId": "1eb1079d-a873-410a-eb10-905bb5181482"
      },
      "execution_count": null,
      "outputs": [
        {
          "output_type": "execute_result",
          "data": {
            "text/plain": [
              "<tf.Tensor: shape=(), dtype=float32, numpy=1880.5925>"
            ]
          },
          "metadata": {},
          "execution_count": 210
        }
      ]
    },
    {
      "cell_type": "code",
      "source": [
        "# Make some functions to reuse MAE and MSE\n",
        "def mae(y_true, y_preds):\n",
        "  return tf.metrics.mean_absolute_error(y_true = y_true,\n",
        "                                        y_pred= tf.squeeze(y_preds))\n",
        "\n",
        "def mse(y_true, y_preds):\n",
        "  return tf.metrics.mean_squared_error(y_true = y_true,\n",
        "                                       y_pred = tf.squeeze(y_preds))\n"
      ],
      "metadata": {
        "id": "iM2ZaqLubemN"
      },
      "execution_count": null,
      "outputs": []
    },
    {
      "cell_type": "markdown",
      "source": [
        "**Running experiments to improve our model**\n",
        "\n",
        "1. Get more data : get more example for your model to train on (more opportunities to learn patterns or relationships betweenfeatures and labels).\n",
        "2. Make your model larger (using a more complex model) : this might come in the form of more layers or more hiden units in each layer.\n",
        "3. Train for longer : give your model more of a chance to find patterns in the data.\n",
        "\n",
        "* Lets do 3 modelling experiments\n",
        "1. same as the original model_1 1 layer trained for 100 epochs\n",
        "2. model_2 2 layers trained for 100 epochs\n",
        "3. model_3 2 layers trained for 500 epochs"
      ],
      "metadata": {
        "id": "U8L_S58Yccrj"
      }
    },
    {
      "cell_type": "code",
      "source": [
        "X_train,\n",
        "Y_train\n"
      ],
      "metadata": {
        "colab": {
          "base_uri": "https://localhost:8080/"
        },
        "id": "0TMvW3ZgdhNu",
        "outputId": "bb8af175-c662-4749-c71e-402a05466307"
      },
      "execution_count": null,
      "outputs": [
        {
          "output_type": "execute_result",
          "data": {
            "text/plain": [
              "<tf.Tensor: shape=(40,), dtype=int32, numpy=\n",
              "array([-90, -86, -82, -78, -74, -70, -66, -62, -58, -54, -50, -46, -42,\n",
              "       -38, -34, -30, -26, -22, -18, -14, -10,  -6,  -2,   2,   6,  10,\n",
              "        14,  18,  22,  26,  30,  34,  38,  42,  46,  50,  54,  58,  62,\n",
              "        66], dtype=int32)>"
            ]
          },
          "metadata": {},
          "execution_count": 212
        }
      ]
    },
    {
      "cell_type": "markdown",
      "source": [
        "**BUILD MODEL_1**"
      ],
      "metadata": {
        "id": "02ytTc4ueKBA"
      }
    },
    {
      "cell_type": "code",
      "source": [
        "# set the random seed\n",
        "tf.random.set_seed(42)\n",
        "\n",
        "# create the model_1\n",
        "model_1 = tf.keras.Sequential([\n",
        "    tf.keras.layers.Dense(1)\n",
        "])\n",
        "\n",
        "# compile the model\n",
        "model_1.compile(loss = tf.keras.losses.mae,\n",
        "              optimizer = tf.keras.optimizers.SGD(),\n",
        "              metrics = [\"mae\"])\n",
        "\n",
        "# fit the model\n",
        "model_1.fit(tf.expand_dims(X_train,axis = -1), Y_train, epochs = 100)"
      ],
      "metadata": {
        "colab": {
          "base_uri": "https://localhost:8080/"
        },
        "id": "_E3814FJeMl2",
        "outputId": "87d78926-4e3a-4851-98e5-dbd86f8f1bd1"
      },
      "execution_count": null,
      "outputs": [
        {
          "output_type": "stream",
          "name": "stdout",
          "text": [
            "Epoch 1/100\n",
            "2/2 [==============================] - 0s 9ms/step - loss: 108.8313 - mae: 108.8313\n",
            "Epoch 2/100\n",
            "2/2 [==============================] - 0s 6ms/step - loss: 73.3758 - mae: 73.3758\n",
            "Epoch 3/100\n",
            "2/2 [==============================] - 0s 9ms/step - loss: 35.8259 - mae: 35.8259\n",
            "Epoch 4/100\n",
            "2/2 [==============================] - 0s 6ms/step - loss: 7.5967 - mae: 7.5967\n",
            "Epoch 5/100\n",
            "2/2 [==============================] - 0s 6ms/step - loss: 12.0709 - mae: 12.0709\n",
            "Epoch 6/100\n",
            "2/2 [==============================] - 0s 8ms/step - loss: 9.3455 - mae: 9.3455\n",
            "Epoch 7/100\n",
            "2/2 [==============================] - 0s 4ms/step - loss: 8.5039 - mae: 8.5039\n",
            "Epoch 8/100\n",
            "2/2 [==============================] - 0s 4ms/step - loss: 9.0693 - mae: 9.0693\n",
            "Epoch 9/100\n",
            "2/2 [==============================] - 0s 5ms/step - loss: 18.5251 - mae: 18.5251\n",
            "Epoch 10/100\n",
            "2/2 [==============================] - 0s 5ms/step - loss: 10.0111 - mae: 10.0111\n",
            "Epoch 11/100\n",
            "2/2 [==============================] - 0s 3ms/step - loss: 8.3774 - mae: 8.3774\n",
            "Epoch 12/100\n",
            "2/2 [==============================] - 0s 5ms/step - loss: 10.5877 - mae: 10.5877\n",
            "Epoch 13/100\n",
            "2/2 [==============================] - 0s 5ms/step - loss: 9.7874 - mae: 9.7874\n",
            "Epoch 14/100\n",
            "2/2 [==============================] - 0s 5ms/step - loss: 15.7643 - mae: 15.7643\n",
            "Epoch 15/100\n",
            "2/2 [==============================] - 0s 5ms/step - loss: 11.6401 - mae: 11.6401\n",
            "Epoch 16/100\n",
            "2/2 [==============================] - 0s 4ms/step - loss: 8.5079 - mae: 8.5079\n",
            "Epoch 17/100\n",
            "2/2 [==============================] - 0s 4ms/step - loss: 13.5265 - mae: 13.5265\n",
            "Epoch 18/100\n",
            "2/2 [==============================] - 0s 5ms/step - loss: 11.3191 - mae: 11.3191\n",
            "Epoch 19/100\n",
            "2/2 [==============================] - 0s 5ms/step - loss: 18.1521 - mae: 18.1521\n",
            "Epoch 20/100\n",
            "2/2 [==============================] - 0s 4ms/step - loss: 15.2850 - mae: 15.2850\n",
            "Epoch 21/100\n",
            "2/2 [==============================] - 0s 5ms/step - loss: 11.2261 - mae: 11.2261\n",
            "Epoch 22/100\n",
            "2/2 [==============================] - 0s 4ms/step - loss: 8.3722 - mae: 8.3722\n",
            "Epoch 23/100\n",
            "2/2 [==============================] - 0s 5ms/step - loss: 9.9648 - mae: 9.9648\n",
            "Epoch 24/100\n",
            "2/2 [==============================] - 0s 5ms/step - loss: 15.8068 - mae: 15.8068\n",
            "Epoch 25/100\n",
            "2/2 [==============================] - 0s 4ms/step - loss: 12.2356 - mae: 12.2356\n",
            "Epoch 26/100\n",
            "2/2 [==============================] - 0s 4ms/step - loss: 13.3764 - mae: 13.3764\n",
            "Epoch 27/100\n",
            "2/2 [==============================] - 0s 4ms/step - loss: 10.8016 - mae: 10.8016\n",
            "Epoch 28/100\n",
            "2/2 [==============================] - 0s 4ms/step - loss: 13.0800 - mae: 13.0800\n",
            "Epoch 29/100\n",
            "2/2 [==============================] - 0s 4ms/step - loss: 9.5751 - mae: 9.5751\n",
            "Epoch 30/100\n",
            "2/2 [==============================] - 0s 4ms/step - loss: 16.6907 - mae: 16.6907\n",
            "Epoch 31/100\n",
            "2/2 [==============================] - 0s 5ms/step - loss: 23.3506 - mae: 23.3506\n",
            "Epoch 32/100\n",
            "2/2 [==============================] - 0s 7ms/step - loss: 7.3511 - mae: 7.3511\n",
            "Epoch 33/100\n",
            "2/2 [==============================] - 0s 4ms/step - loss: 10.4317 - mae: 10.4317\n",
            "Epoch 34/100\n",
            "2/2 [==============================] - 0s 5ms/step - loss: 9.7017 - mae: 9.7017\n",
            "Epoch 35/100\n",
            "2/2 [==============================] - 0s 5ms/step - loss: 8.4502 - mae: 8.4502\n",
            "Epoch 36/100\n",
            "2/2 [==============================] - 0s 4ms/step - loss: 8.6108 - mae: 8.6108\n",
            "Epoch 37/100\n",
            "2/2 [==============================] - 0s 3ms/step - loss: 8.6557 - mae: 8.6557\n",
            "Epoch 38/100\n",
            "2/2 [==============================] - 0s 4ms/step - loss: 9.2927 - mae: 9.2927\n",
            "Epoch 39/100\n",
            "2/2 [==============================] - 0s 4ms/step - loss: 10.2255 - mae: 10.2255\n",
            "Epoch 40/100\n",
            "2/2 [==============================] - 0s 3ms/step - loss: 9.6880 - mae: 9.6880\n",
            "Epoch 41/100\n",
            "2/2 [==============================] - 0s 4ms/step - loss: 8.0343 - mae: 8.0343\n",
            "Epoch 42/100\n",
            "2/2 [==============================] - 0s 5ms/step - loss: 10.5456 - mae: 10.5456\n",
            "Epoch 43/100\n",
            "2/2 [==============================] - 0s 5ms/step - loss: 7.5670 - mae: 7.5670\n",
            "Epoch 44/100\n",
            "2/2 [==============================] - 0s 4ms/step - loss: 18.7533 - mae: 18.7533\n",
            "Epoch 45/100\n",
            "2/2 [==============================] - 0s 4ms/step - loss: 14.5895 - mae: 14.5895\n",
            "Epoch 46/100\n",
            "2/2 [==============================] - 0s 4ms/step - loss: 9.2856 - mae: 9.2856\n",
            "Epoch 47/100\n",
            "2/2 [==============================] - 0s 4ms/step - loss: 9.6485 - mae: 9.6485\n",
            "Epoch 48/100\n",
            "2/2 [==============================] - 0s 4ms/step - loss: 11.3796 - mae: 11.3796\n",
            "Epoch 49/100\n",
            "2/2 [==============================] - 0s 5ms/step - loss: 8.2016 - mae: 8.2016\n",
            "Epoch 50/100\n",
            "2/2 [==============================] - 0s 5ms/step - loss: 10.2372 - mae: 10.2372\n",
            "Epoch 51/100\n",
            "2/2 [==============================] - 0s 5ms/step - loss: 9.3547 - mae: 9.3547\n",
            "Epoch 52/100\n",
            "2/2 [==============================] - 0s 4ms/step - loss: 13.9070 - mae: 13.9070\n",
            "Epoch 53/100\n",
            "2/2 [==============================] - 0s 4ms/step - loss: 15.1530 - mae: 15.1530\n",
            "Epoch 54/100\n",
            "2/2 [==============================] - 0s 4ms/step - loss: 14.7339 - mae: 14.7339\n",
            "Epoch 55/100\n",
            "2/2 [==============================] - 0s 4ms/step - loss: 19.6297 - mae: 19.6297\n",
            "Epoch 56/100\n",
            "2/2 [==============================] - 0s 4ms/step - loss: 10.9111 - mae: 10.9111\n",
            "Epoch 57/100\n",
            "2/2 [==============================] - 0s 4ms/step - loss: 12.6243 - mae: 12.6243\n",
            "Epoch 58/100\n",
            "2/2 [==============================] - 0s 4ms/step - loss: 9.8589 - mae: 9.8589\n",
            "Epoch 59/100\n",
            "2/2 [==============================] - 0s 4ms/step - loss: 9.0830 - mae: 9.0830\n",
            "Epoch 60/100\n",
            "2/2 [==============================] - 0s 4ms/step - loss: 9.0641 - mae: 9.0641\n",
            "Epoch 61/100\n",
            "2/2 [==============================] - 0s 6ms/step - loss: 10.5417 - mae: 10.5417\n",
            "Epoch 62/100\n",
            "2/2 [==============================] - 0s 5ms/step - loss: 7.6937 - mae: 7.6937\n",
            "Epoch 63/100\n",
            "2/2 [==============================] - 0s 5ms/step - loss: 9.7915 - mae: 9.7915\n",
            "Epoch 64/100\n",
            "2/2 [==============================] - 0s 5ms/step - loss: 11.9201 - mae: 11.9201\n",
            "Epoch 65/100\n",
            "2/2 [==============================] - 0s 6ms/step - loss: 9.3404 - mae: 9.3404\n",
            "Epoch 66/100\n",
            "2/2 [==============================] - 0s 5ms/step - loss: 11.2349 - mae: 11.2349\n",
            "Epoch 67/100\n",
            "2/2 [==============================] - 0s 5ms/step - loss: 7.2853 - mae: 7.2853\n",
            "Epoch 68/100\n",
            "2/2 [==============================] - 0s 7ms/step - loss: 10.0994 - mae: 10.0994\n",
            "Epoch 69/100\n",
            "2/2 [==============================] - 0s 4ms/step - loss: 17.2826 - mae: 17.2826\n",
            "Epoch 70/100\n",
            "2/2 [==============================] - 0s 4ms/step - loss: 8.5303 - mae: 8.5303\n",
            "Epoch 71/100\n",
            "2/2 [==============================] - 0s 4ms/step - loss: 9.1908 - mae: 9.1908\n",
            "Epoch 72/100\n",
            "2/2 [==============================] - 0s 4ms/step - loss: 10.3881 - mae: 10.3881\n",
            "Epoch 73/100\n",
            "2/2 [==============================] - 0s 6ms/step - loss: 10.5392 - mae: 10.5392\n",
            "Epoch 74/100\n",
            "2/2 [==============================] - 0s 5ms/step - loss: 15.7986 - mae: 15.7986\n",
            "Epoch 75/100\n",
            "2/2 [==============================] - 0s 5ms/step - loss: 8.2344 - mae: 8.2344\n",
            "Epoch 76/100\n",
            "2/2 [==============================] - 0s 5ms/step - loss: 9.2268 - mae: 9.2268\n",
            "Epoch 77/100\n",
            "2/2 [==============================] - 0s 5ms/step - loss: 11.1987 - mae: 11.1987\n",
            "Epoch 78/100\n",
            "2/2 [==============================] - 0s 4ms/step - loss: 11.5330 - mae: 11.5330\n",
            "Epoch 79/100\n",
            "2/2 [==============================] - 0s 4ms/step - loss: 15.4917 - mae: 15.4917\n",
            "Epoch 80/100\n",
            "2/2 [==============================] - 0s 5ms/step - loss: 11.6966 - mae: 11.6966\n",
            "Epoch 81/100\n",
            "2/2 [==============================] - 0s 5ms/step - loss: 9.3625 - mae: 9.3625\n",
            "Epoch 82/100\n",
            "2/2 [==============================] - 0s 5ms/step - loss: 12.6873 - mae: 12.6873\n",
            "Epoch 83/100\n",
            "2/2 [==============================] - 0s 6ms/step - loss: 8.2629 - mae: 8.2629\n",
            "Epoch 84/100\n",
            "2/2 [==============================] - 0s 7ms/step - loss: 7.3492 - mae: 7.3492\n",
            "Epoch 85/100\n",
            "2/2 [==============================] - 0s 5ms/step - loss: 10.5503 - mae: 10.5503\n",
            "Epoch 86/100\n",
            "2/2 [==============================] - 0s 5ms/step - loss: 9.2009 - mae: 9.2009\n",
            "Epoch 87/100\n",
            "2/2 [==============================] - 0s 5ms/step - loss: 11.9358 - mae: 11.9358\n",
            "Epoch 88/100\n",
            "2/2 [==============================] - 0s 6ms/step - loss: 10.5499 - mae: 10.5499\n",
            "Epoch 89/100\n",
            "2/2 [==============================] - 0s 7ms/step - loss: 7.2683 - mae: 7.2683\n",
            "Epoch 90/100\n",
            "2/2 [==============================] - 0s 5ms/step - loss: 12.6779 - mae: 12.6779\n",
            "Epoch 91/100\n",
            "2/2 [==============================] - 0s 5ms/step - loss: 7.3183 - mae: 7.3183\n",
            "Epoch 92/100\n",
            "2/2 [==============================] - 0s 5ms/step - loss: 7.6799 - mae: 7.6799\n",
            "Epoch 93/100\n",
            "2/2 [==============================] - 0s 5ms/step - loss: 7.1374 - mae: 7.1374\n",
            "Epoch 94/100\n",
            "2/2 [==============================] - 0s 5ms/step - loss: 12.5293 - mae: 12.5293\n",
            "Epoch 95/100\n",
            "2/2 [==============================] - 0s 5ms/step - loss: 9.9083 - mae: 9.9083\n",
            "Epoch 96/100\n",
            "2/2 [==============================] - 0s 8ms/step - loss: 9.1714 - mae: 9.1714\n",
            "Epoch 97/100\n",
            "2/2 [==============================] - 0s 8ms/step - loss: 12.1340 - mae: 12.1340\n",
            "Epoch 98/100\n",
            "2/2 [==============================] - 0s 6ms/step - loss: 9.0532 - mae: 9.0532\n",
            "Epoch 99/100\n",
            "2/2 [==============================] - 0s 8ms/step - loss: 8.5227 - mae: 8.5227\n",
            "Epoch 100/100\n",
            "2/2 [==============================] - 0s 7ms/step - loss: 14.5119 - mae: 14.5119\n"
          ]
        },
        {
          "output_type": "execute_result",
          "data": {
            "text/plain": [
              "<keras.callbacks.History at 0x785226a91f30>"
            ]
          },
          "metadata": {},
          "execution_count": 213
        }
      ]
    },
    {
      "cell_type": "code",
      "source": [
        "# make and plot some predictions\n",
        "y_preds_1 = model_1.predict(X_test)\n",
        "plot_predictions(predictions=y_preds_1)"
      ],
      "metadata": {
        "colab": {
          "base_uri": "https://localhost:8080/",
          "height": 616
        },
        "id": "ioiYIAXyfE1w",
        "outputId": "fe1f0240-6f7b-4cc6-f3e5-ce16a10b1ecb"
      },
      "execution_count": null,
      "outputs": [
        {
          "output_type": "stream",
          "name": "stdout",
          "text": [
            "1/1 [==============================] - 0s 31ms/step\n"
          ]
        },
        {
          "output_type": "display_data",
          "data": {
            "text/plain": [
              "<Figure size 1000x700 with 1 Axes>"
            ],
            "image/png": "[encoded data removed]"
          },
          "metadata": {}
        }
      ]
    },
    {
      "cell_type": "code",
      "source": [
        "# Calculate model_1 evaluation metrics\n",
        "mae_1 = mae(Y_test,y_preds_1)\n",
        "mse_1 = mse(Y_test,y_preds_1)\n",
        "mae_1,mse_1"
      ],
      "metadata": {
        "colab": {
          "base_uri": "https://localhost:8080/"
        },
        "id": "wrwGnrFegGJy",
        "outputId": "6432c859-d745-41e8-ee62-f6b30298ad5b"
      },
      "execution_count": null,
      "outputs": [
        {
          "output_type": "execute_result",
          "data": {
            "text/plain": [
              "(<tf.Tensor: shape=(), dtype=float32, numpy=30.54918>,\n",
              " <tf.Tensor: shape=(), dtype=float32, numpy=943.58435>)"
            ]
          },
          "metadata": {},
          "execution_count": 215
        }
      ]
    },
    {
      "cell_type": "markdown",
      "source": [
        "**BUILD MODEL_2**\n",
        "* 2 dense layers, trained for 100 epochs"
      ],
      "metadata": {
        "id": "Oj_G7kvKh1c5"
      }
    },
    {
      "cell_type": "code",
      "source": [
        "# set the random seed\n",
        "tf.random.set_seed(42)\n",
        "\n",
        "# create the model\n",
        "model_2 = tf.keras.Sequential([\n",
        "    tf.keras.layers.Dense(10),\n",
        "    tf.keras.layers.Dense(1),\n",
        "])\n",
        "\n",
        "# compile the model\n",
        "model_2.compile(loss = tf.keras.losses.mae,\n",
        "                optimizer = tf.keras.optimizers.SGD(),\n",
        "                metrics = [\"mse\"]\n",
        "                )\n",
        "\n",
        "# fit the model\n",
        "model_2.fit(tf.expand_dims(X_train,axis = -1),Y_train, epochs = 100)"
      ],
      "metadata": {
        "colab": {
          "base_uri": "https://localhost:8080/"
        },
        "id": "C3jkrYAMgn8-",
        "outputId": "0345e1bb-705c-4cce-d838-6bbbfa6d6565"
      },
      "execution_count": null,
      "outputs": [
        {
          "output_type": "stream",
          "name": "stdout",
          "text": [
            "Epoch 1/100\n",
            "2/2 [==============================] - 0s 8ms/step - loss: 35.1263 - mse: 1709.7930\n",
            "Epoch 2/100\n",
            "2/2 [==============================] - 0s 7ms/step - loss: 28.2728 - mse: 1042.2858\n",
            "Epoch 3/100\n",
            "2/2 [==============================] - 0s 4ms/step - loss: 33.3403 - mse: 1668.5573\n",
            "Epoch 4/100\n",
            "2/2 [==============================] - 0s 6ms/step - loss: 27.7184 - mse: 1128.5546\n",
            "Epoch 5/100\n",
            "2/2 [==============================] - 0s 4ms/step - loss: 15.1049 - mse: 288.4368\n",
            "Epoch 6/100\n",
            "2/2 [==============================] - 0s 5ms/step - loss: 12.0086 - mse: 174.3810\n",
            "Epoch 7/100\n",
            "2/2 [==============================] - 0s 5ms/step - loss: 11.3247 - mse: 155.2456\n",
            "Epoch 8/100\n",
            "2/2 [==============================] - 0s 5ms/step - loss: 11.1567 - mse: 166.6083\n",
            "Epoch 9/100\n",
            "2/2 [==============================] - 0s 7ms/step - loss: 41.1049 - mse: 2678.7021\n",
            "Epoch 10/100\n",
            "2/2 [==============================] - 0s 5ms/step - loss: 28.4149 - mse: 1139.2998\n",
            "Epoch 11/100\n",
            "2/2 [==============================] - 0s 8ms/step - loss: 9.3980 - mse: 118.3326\n",
            "Epoch 12/100\n",
            "2/2 [==============================] - 0s 5ms/step - loss: 26.3412 - mse: 959.5246\n",
            "Epoch 13/100\n",
            "2/2 [==============================] - 0s 5ms/step - loss: 14.4108 - mse: 276.5477\n",
            "Epoch 14/100\n",
            "2/2 [==============================] - 0s 5ms/step - loss: 29.7161 - mse: 1408.8250\n",
            "Epoch 15/100\n",
            "2/2 [==============================] - 0s 5ms/step - loss: 19.6091 - mse: 537.4937\n",
            "Epoch 16/100\n",
            "2/2 [==============================] - 0s 5ms/step - loss: 9.8174 - mse: 127.0412\n",
            "Epoch 17/100\n",
            "2/2 [==============================] - 0s 5ms/step - loss: 17.5755 - mse: 406.7597\n",
            "Epoch 18/100\n",
            "2/2 [==============================] - 0s 6ms/step - loss: 14.0424 - mse: 309.9458\n",
            "Epoch 19/100\n",
            "2/2 [==============================] - 0s 4ms/step - loss: 13.8791 - mse: 299.3210\n",
            "Epoch 20/100\n",
            "2/2 [==============================] - 0s 5ms/step - loss: 11.1800 - mse: 146.3373\n",
            "Epoch 21/100\n",
            "2/2 [==============================] - 0s 4ms/step - loss: 17.1853 - mse: 417.2571\n",
            "Epoch 22/100\n",
            "2/2 [==============================] - 0s 5ms/step - loss: 15.4230 - mse: 327.1120\n",
            "Epoch 23/100\n",
            "2/2 [==============================] - 0s 5ms/step - loss: 9.2581 - mse: 118.8505\n",
            "Epoch 24/100\n",
            "2/2 [==============================] - 0s 5ms/step - loss: 17.3133 - mse: 411.3466\n",
            "Epoch 25/100\n",
            "2/2 [==============================] - 0s 5ms/step - loss: 15.9773 - mse: 335.7388\n",
            "Epoch 26/100\n",
            "2/2 [==============================] - 0s 5ms/step - loss: 21.0132 - mse: 653.3466\n",
            "Epoch 27/100\n",
            "2/2 [==============================] - 0s 5ms/step - loss: 25.7828 - mse: 1035.4977\n",
            "Epoch 28/100\n",
            "2/2 [==============================] - 0s 8ms/step - loss: 18.3053 - mse: 530.0581\n",
            "Epoch 29/100\n",
            "2/2 [==============================] - 0s 8ms/step - loss: 9.2493 - mse: 98.7612\n",
            "Epoch 30/100\n",
            "2/2 [==============================] - 0s 5ms/step - loss: 28.8992 - mse: 1487.1638\n",
            "Epoch 31/100\n",
            "2/2 [==============================] - 0s 5ms/step - loss: 52.3225 - mse: 4892.2192\n",
            "Epoch 32/100\n",
            "2/2 [==============================] - 0s 5ms/step - loss: 11.8636 - mse: 202.3817\n",
            "Epoch 33/100\n",
            "2/2 [==============================] - 0s 4ms/step - loss: 15.4000 - mse: 326.2993\n",
            "Epoch 34/100\n",
            "2/2 [==============================] - 0s 6ms/step - loss: 12.5333 - mse: 205.2878\n",
            "Epoch 35/100\n",
            "2/2 [==============================] - 0s 4ms/step - loss: 9.1724 - mse: 90.7702\n",
            "Epoch 36/100\n",
            "2/2 [==============================] - 0s 4ms/step - loss: 16.3432 - mse: 387.5021\n",
            "Epoch 37/100\n",
            "2/2 [==============================] - 0s 4ms/step - loss: 11.1300 - mse: 192.3193\n",
            "Epoch 38/100\n",
            "2/2 [==============================] - 0s 4ms/step - loss: 18.2632 - mse: 440.4138\n",
            "Epoch 39/100\n",
            "2/2 [==============================] - 0s 5ms/step - loss: 19.1913 - mse: 537.9305\n",
            "Epoch 40/100\n",
            "2/2 [==============================] - 0s 5ms/step - loss: 20.5946 - mse: 619.1859\n",
            "Epoch 41/100\n",
            "2/2 [==============================] - 0s 6ms/step - loss: 14.7188 - mse: 269.5831\n",
            "Epoch 42/100\n",
            "2/2 [==============================] - 0s 6ms/step - loss: 12.1361 - mse: 177.9883\n",
            "Epoch 43/100\n",
            "2/2 [==============================] - 0s 4ms/step - loss: 10.6725 - mse: 159.3224\n",
            "Epoch 44/100\n",
            "2/2 [==============================] - 0s 5ms/step - loss: 31.9887 - mse: 1680.3066\n",
            "Epoch 45/100\n",
            "2/2 [==============================] - 0s 5ms/step - loss: 12.4018 - mse: 197.2622\n",
            "Epoch 46/100\n",
            "2/2 [==============================] - 0s 4ms/step - loss: 17.2966 - mse: 447.9092\n",
            "Epoch 47/100\n",
            "2/2 [==============================] - 0s 4ms/step - loss: 15.8433 - mse: 342.5872\n",
            "Epoch 48/100\n",
            "2/2 [==============================] - 0s 8ms/step - loss: 8.8150 - mse: 128.2958\n",
            "Epoch 49/100\n",
            "2/2 [==============================] - 0s 5ms/step - loss: 13.0312 - mse: 244.8447\n",
            "Epoch 50/100\n",
            "2/2 [==============================] - 0s 6ms/step - loss: 12.6222 - mse: 209.2775\n",
            "Epoch 51/100\n",
            "2/2 [==============================] - 0s 5ms/step - loss: 14.6861 - mse: 300.4128\n",
            "Epoch 52/100\n",
            "2/2 [==============================] - 0s 4ms/step - loss: 18.6043 - mse: 515.3886\n",
            "Epoch 53/100\n",
            "2/2 [==============================] - 0s 5ms/step - loss: 23.8952 - mse: 812.4249\n",
            "Epoch 54/100\n",
            "2/2 [==============================] - 0s 5ms/step - loss: 24.0583 - mse: 866.5436\n",
            "Epoch 55/100\n",
            "2/2 [==============================] - 0s 5ms/step - loss: 23.2923 - mse: 812.8690\n",
            "Epoch 56/100\n",
            "2/2 [==============================] - 0s 5ms/step - loss: 10.9322 - mse: 171.3423\n",
            "Epoch 57/100\n",
            "2/2 [==============================] - 0s 5ms/step - loss: 12.7992 - mse: 200.5065\n",
            "Epoch 58/100\n",
            "2/2 [==============================] - 0s 4ms/step - loss: 9.6350 - mse: 103.1711\n",
            "Epoch 59/100\n",
            "2/2 [==============================] - 0s 7ms/step - loss: 12.5591 - mse: 218.1804\n",
            "Epoch 60/100\n",
            "2/2 [==============================] - 0s 5ms/step - loss: 12.3575 - mse: 210.0194\n",
            "Epoch 61/100\n",
            "2/2 [==============================] - 0s 4ms/step - loss: 12.7217 - mse: 213.0136\n",
            "Epoch 62/100\n",
            "2/2 [==============================] - 0s 4ms/step - loss: 21.1731 - mse: 683.7459\n",
            "Epoch 63/100\n",
            "2/2 [==============================] - 0s 4ms/step - loss: 8.9415 - mse: 88.6495\n",
            "Epoch 64/100\n",
            "2/2 [==============================] - 0s 4ms/step - loss: 17.1847 - mse: 427.1048\n",
            "Epoch 65/100\n",
            "2/2 [==============================] - 0s 5ms/step - loss: 10.3833 - mse: 125.6325\n",
            "Epoch 66/100\n",
            "2/2 [==============================] - 0s 5ms/step - loss: 20.5478 - mse: 618.4597\n",
            "Epoch 67/100\n",
            "2/2 [==============================] - 0s 4ms/step - loss: 10.3321 - mse: 122.8815\n",
            "Epoch 68/100\n",
            "2/2 [==============================] - 0s 4ms/step - loss: 13.8992 - mse: 290.4614\n",
            "Epoch 69/100\n",
            "2/2 [==============================] - 0s 5ms/step - loss: 10.3718 - mse: 121.8061\n",
            "Epoch 70/100\n",
            "2/2 [==============================] - 0s 4ms/step - loss: 12.4266 - mse: 195.3540\n",
            "Epoch 71/100\n",
            "2/2 [==============================] - 0s 6ms/step - loss: 16.1290 - mse: 370.8391\n",
            "Epoch 72/100\n",
            "2/2 [==============================] - 0s 6ms/step - loss: 12.1229 - mse: 180.6516\n",
            "Epoch 73/100\n",
            "2/2 [==============================] - 0s 5ms/step - loss: 17.0449 - mse: 393.2949\n",
            "Epoch 74/100\n",
            "2/2 [==============================] - 0s 5ms/step - loss: 24.9525 - mse: 984.7951\n",
            "Epoch 75/100\n",
            "2/2 [==============================] - 0s 5ms/step - loss: 9.8632 - mse: 146.9727\n",
            "Epoch 76/100\n",
            "2/2 [==============================] - 0s 7ms/step - loss: 12.7539 - mse: 200.4074\n",
            "Epoch 77/100\n",
            "2/2 [==============================] - 0s 5ms/step - loss: 17.5252 - mse: 476.6794\n",
            "Epoch 78/100\n",
            "2/2 [==============================] - 0s 5ms/step - loss: 8.9173 - mse: 85.6393\n",
            "Epoch 79/100\n",
            "2/2 [==============================] - 0s 4ms/step - loss: 28.2594 - mse: 1254.4879\n",
            "Epoch 80/100\n",
            "2/2 [==============================] - 0s 5ms/step - loss: 30.5175 - mse: 1473.5387\n",
            "Epoch 81/100\n",
            "2/2 [==============================] - 0s 5ms/step - loss: 13.0956 - mse: 237.3560\n",
            "Epoch 82/100\n",
            "2/2 [==============================] - 0s 5ms/step - loss: 14.6398 - mse: 295.8111\n",
            "Epoch 83/100\n",
            "2/2 [==============================] - 0s 9ms/step - loss: 18.6902 - mse: 462.2084\n",
            "Epoch 84/100\n",
            "2/2 [==============================] - 0s 8ms/step - loss: 9.4251 - mse: 151.6519\n",
            "Epoch 85/100\n",
            "2/2 [==============================] - 0s 8ms/step - loss: 25.0885 - mse: 882.3424\n",
            "Epoch 86/100\n",
            "2/2 [==============================] - 0s 6ms/step - loss: 16.7668 - mse: 412.0439\n",
            "Epoch 87/100\n",
            "2/2 [==============================] - 0s 4ms/step - loss: 11.5690 - mse: 159.4184\n",
            "Epoch 88/100\n",
            "2/2 [==============================] - 0s 5ms/step - loss: 27.5526 - mse: 1087.8776\n",
            "Epoch 89/100\n",
            "2/2 [==============================] - 0s 8ms/step - loss: 9.8266 - mse: 126.7203\n",
            "Epoch 90/100\n",
            "2/2 [==============================] - 0s 4ms/step - loss: 19.6769 - mse: 554.7407\n",
            "Epoch 91/100\n",
            "2/2 [==============================] - 0s 6ms/step - loss: 10.1137 - mse: 172.2516\n",
            "Epoch 92/100\n",
            "2/2 [==============================] - 0s 5ms/step - loss: 16.7498 - mse: 383.3796\n",
            "Epoch 93/100\n",
            "2/2 [==============================] - 0s 7ms/step - loss: 8.3786 - mse: 109.5886\n",
            "Epoch 94/100\n",
            "2/2 [==============================] - 0s 6ms/step - loss: 14.9816 - mse: 309.2149\n",
            "Epoch 95/100\n",
            "2/2 [==============================] - 0s 6ms/step - loss: 14.4832 - mse: 275.0015\n",
            "Epoch 96/100\n",
            "2/2 [==============================] - 0s 4ms/step - loss: 14.2719 - mse: 289.7418\n",
            "Epoch 97/100\n",
            "2/2 [==============================] - 0s 5ms/step - loss: 10.1081 - mse: 170.2113\n",
            "Epoch 98/100\n",
            "2/2 [==============================] - 0s 4ms/step - loss: 14.4602 - mse: 289.9239\n",
            "Epoch 99/100\n",
            "2/2 [==============================] - 0s 4ms/step - loss: 13.4516 - mse: 253.7227\n",
            "Epoch 100/100\n",
            "2/2 [==============================] - 0s 4ms/step - loss: 20.1371 - mse: 591.4416\n"
          ]
        },
        {
          "output_type": "execute_result",
          "data": {
            "text/plain": [
              "<keras.callbacks.History at 0x785226852c20>"
            ]
          },
          "metadata": {},
          "execution_count": 216
        }
      ]
    },
    {
      "cell_type": "code",
      "source": [
        "# Make and plot predictions\n",
        "y_preds_2 = model_2.predict(X_test)\n",
        "plot_predictions(predictions = y_preds_2)"
      ],
      "metadata": {
        "colab": {
          "base_uri": "https://localhost:8080/",
          "height": 616
        },
        "id": "ojoQ8XvfiyZb",
        "outputId": "b80af9b5-64b7-4ca8-85df-b0b2b75139cb"
      },
      "execution_count": null,
      "outputs": [
        {
          "output_type": "stream",
          "name": "stdout",
          "text": [
            "1/1 [==============================] - 0s 66ms/step\n"
          ]
        },
        {
          "output_type": "display_data",
          "data": {
            "text/plain": [
              "<Figure size 1000x700 with 1 Axes>"
            ],
            "image/png": "[encoded data removed]"
          },
          "metadata": {}
        }
      ]
    },
    {
      "cell_type": "code",
      "source": [
        "# Calculate model_2 evaluation mmetrics\n",
        "mae_2 = mae(Y_test,y_preds_2)\n",
        "mse_2 = mse(Y_test, y_preds_2)\n",
        "mae_2, mse_2"
      ],
      "metadata": {
        "colab": {
          "base_uri": "https://localhost:8080/"
        },
        "id": "3QuJPdmjjOc6",
        "outputId": "3c9078e2-1315-410e-b5b5-24bd664ce652"
      },
      "execution_count": null,
      "outputs": [
        {
          "output_type": "execute_result",
          "data": {
            "text/plain": [
              "(<tf.Tensor: shape=(), dtype=float32, numpy=28.753742>,\n",
              " <tf.Tensor: shape=(), dtype=float32, numpy=856.4215>)"
            ]
          },
          "metadata": {},
          "execution_count": 218
        }
      ]
    },
    {
      "cell_type": "markdown",
      "source": [
        "**BUILD MODEL_3**\n",
        "* 2 layers trained for 500 epochs\n"
      ],
      "metadata": {
        "id": "kbYosXDYlGj_"
      }
    },
    {
      "cell_type": "code",
      "source": [
        "# set the random seed\n",
        "tf.random.set_seed(42)\n",
        "\n",
        "# create a model\n",
        "model_3 = tf.keras.Sequential([\n",
        "    tf.keras.layers.Dense(10),\n",
        "    tf.keras.layers.Dense(1)\n",
        "])\n",
        "\n",
        "# compile the model\n",
        "model_3.compile(loss = tf.keras.losses.mae,\n",
        "                optimizer = tf.keras.optimizers.SGD(),\n",
        "                metrics = [\"mae\"]\n",
        "                )\n",
        "# fit the model\n",
        "model_3.fit(tf.expand_dims(X_train,axis = -1),Y_train, epochs = 500)"
      ],
      "metadata": {
        "colab": {
          "base_uri": "https://localhost:8080/"
        },
        "id": "V6AI6OUvk1aP",
        "outputId": "c45b3322-71a1-4f25-e488-e04689b3d6aa"
      },
      "execution_count": null,
      "outputs": [
        {
          "output_type": "stream",
          "name": "stdout",
          "text": [
            "Epoch 1/500\n",
            "2/2 [==============================] - 0s 9ms/step - loss: 41.8659 - mae: 41.8659\n",
            "Epoch 2/500\n",
            "2/2 [==============================] - 0s 5ms/step - loss: 31.7297 - mae: 31.7297\n",
            "Epoch 3/500\n",
            "2/2 [==============================] - 0s 5ms/step - loss: 35.5168 - mae: 35.5168\n",
            "Epoch 4/500\n",
            "2/2 [==============================] - 0s 5ms/step - loss: 22.8153 - mae: 22.8153\n",
            "Epoch 5/500\n",
            "2/2 [==============================] - 0s 6ms/step - loss: 13.7232 - mae: 13.7232\n",
            "Epoch 6/500\n",
            "2/2 [==============================] - 0s 6ms/step - loss: 11.0975 - mae: 11.0975\n",
            "Epoch 7/500\n",
            "2/2 [==============================] - 0s 5ms/step - loss: 12.1484 - mae: 12.1484\n",
            "Epoch 8/500\n",
            "2/2 [==============================] - 0s 6ms/step - loss: 10.9674 - mae: 10.9674\n",
            "Epoch 9/500\n",
            "2/2 [==============================] - 0s 5ms/step - loss: 38.3274 - mae: 38.3274\n",
            "Epoch 10/500\n",
            "2/2 [==============================] - 0s 4ms/step - loss: 25.8633 - mae: 25.8633\n",
            "Epoch 11/500\n",
            "2/2 [==============================] - 0s 4ms/step - loss: 10.2638 - mae: 10.2638\n",
            "Epoch 12/500\n",
            "2/2 [==============================] - 0s 4ms/step - loss: 25.2605 - mae: 25.2605\n",
            "Epoch 13/500\n",
            "2/2 [==============================] - 0s 4ms/step - loss: 17.1680 - mae: 17.1680\n",
            "Epoch 14/500\n",
            "2/2 [==============================] - 0s 4ms/step - loss: 26.4178 - mae: 26.4178\n",
            "Epoch 15/500\n",
            "2/2 [==============================] - 0s 6ms/step - loss: 16.8952 - mae: 16.8952\n",
            "Epoch 16/500\n",
            "2/2 [==============================] - 0s 4ms/step - loss: 9.8389 - mae: 9.8389\n",
            "Epoch 17/500\n",
            "2/2 [==============================] - 0s 5ms/step - loss: 17.6280 - mae: 17.6280\n",
            "Epoch 18/500\n",
            "2/2 [==============================] - 0s 5ms/step - loss: 14.0934 - mae: 14.0934\n",
            "Epoch 19/500\n",
            "2/2 [==============================] - 0s 5ms/step - loss: 13.9316 - mae: 13.9316\n",
            "Epoch 20/500\n",
            "2/2 [==============================] - 0s 6ms/step - loss: 11.2034 - mae: 11.2034\n",
            "Epoch 21/500\n",
            "2/2 [==============================] - 0s 5ms/step - loss: 17.2404 - mae: 17.2404\n",
            "Epoch 22/500\n",
            "2/2 [==============================] - 0s 5ms/step - loss: 15.4765 - mae: 15.4765\n",
            "Epoch 23/500\n",
            "2/2 [==============================] - 0s 6ms/step - loss: 9.2541 - mae: 9.2541\n",
            "Epoch 24/500\n",
            "2/2 [==============================] - 0s 5ms/step - loss: 17.2934 - mae: 17.2934\n",
            "Epoch 25/500\n",
            "2/2 [==============================] - 0s 5ms/step - loss: 15.9634 - mae: 15.9634\n",
            "Epoch 26/500\n",
            "2/2 [==============================] - 0s 5ms/step - loss: 20.9817 - mae: 20.9817\n",
            "Epoch 27/500\n",
            "2/2 [==============================] - 0s 5ms/step - loss: 25.8536 - mae: 25.8536\n",
            "Epoch 28/500\n",
            "2/2 [==============================] - 0s 7ms/step - loss: 18.3663 - mae: 18.3663\n",
            "Epoch 29/500\n",
            "2/2 [==============================] - 0s 7ms/step - loss: 9.2515 - mae: 9.2515\n",
            "Epoch 30/500\n",
            "2/2 [==============================] - 0s 6ms/step - loss: 28.9632 - mae: 28.9632\n",
            "Epoch 31/500\n",
            "2/2 [==============================] - 0s 7ms/step - loss: 52.4454 - mae: 52.4454\n",
            "Epoch 32/500\n",
            "2/2 [==============================] - 0s 6ms/step - loss: 11.8890 - mae: 11.8890\n",
            "Epoch 33/500\n",
            "2/2 [==============================] - 0s 6ms/step - loss: 15.4411 - mae: 15.4411\n",
            "Epoch 34/500\n",
            "2/2 [==============================] - 0s 6ms/step - loss: 12.5616 - mae: 12.5616\n",
            "Epoch 35/500\n",
            "2/2 [==============================] - 0s 5ms/step - loss: 9.1852 - mae: 9.1852\n",
            "Epoch 36/500\n",
            "2/2 [==============================] - 0s 5ms/step - loss: 16.3904 - mae: 16.3904\n",
            "Epoch 37/500\n",
            "2/2 [==============================] - 0s 5ms/step - loss: 11.1181 - mae: 11.1181\n",
            "Epoch 38/500\n",
            "2/2 [==============================] - 0s 5ms/step - loss: 18.2504 - mae: 18.2504\n",
            "Epoch 39/500\n",
            "2/2 [==============================] - 0s 5ms/step - loss: 19.1804 - mae: 19.1804\n",
            "Epoch 40/500\n",
            "2/2 [==============================] - 0s 5ms/step - loss: 20.5754 - mae: 20.5754\n",
            "Epoch 41/500\n",
            "2/2 [==============================] - 0s 7ms/step - loss: 14.7441 - mae: 14.7441\n",
            "Epoch 42/500\n",
            "2/2 [==============================] - 0s 6ms/step - loss: 12.1545 - mae: 12.1545\n",
            "Epoch 43/500\n",
            "2/2 [==============================] - 0s 7ms/step - loss: 10.6806 - mae: 10.6806\n",
            "Epoch 44/500\n",
            "2/2 [==============================] - 0s 5ms/step - loss: 32.0449 - mae: 32.0449\n",
            "Epoch 45/500\n",
            "2/2 [==============================] - 0s 5ms/step - loss: 12.4181 - mae: 12.4181\n",
            "Epoch 46/500\n",
            "2/2 [==============================] - 0s 7ms/step - loss: 17.3383 - mae: 17.3383\n",
            "Epoch 47/500\n",
            "2/2 [==============================] - 0s 4ms/step - loss: 15.8291 - mae: 15.8291\n",
            "Epoch 48/500\n",
            "2/2 [==============================] - 0s 6ms/step - loss: 8.8053 - mae: 8.8053\n",
            "Epoch 49/500\n",
            "2/2 [==============================] - 0s 6ms/step - loss: 13.0202 - mae: 13.0202\n",
            "Epoch 50/500\n",
            "2/2 [==============================] - 0s 4ms/step - loss: 12.6125 - mae: 12.6125\n",
            "Epoch 51/500\n",
            "2/2 [==============================] - 0s 4ms/step - loss: 14.6791 - mae: 14.6791\n",
            "Epoch 52/500\n",
            "2/2 [==============================] - 0s 4ms/step - loss: 18.5990 - mae: 18.5990\n",
            "Epoch 53/500\n",
            "2/2 [==============================] - 0s 6ms/step - loss: 23.8839 - mae: 23.8839\n",
            "Epoch 54/500\n",
            "2/2 [==============================] - 0s 4ms/step - loss: 24.0868 - mae: 24.0868\n",
            "Epoch 55/500\n",
            "2/2 [==============================] - 0s 5ms/step - loss: 23.3234 - mae: 23.3234\n",
            "Epoch 56/500\n",
            "2/2 [==============================] - 0s 4ms/step - loss: 10.9425 - mae: 10.9425\n",
            "Epoch 57/500\n",
            "2/2 [==============================] - 0s 4ms/step - loss: 12.8118 - mae: 12.8118\n",
            "Epoch 58/500\n",
            "2/2 [==============================] - 0s 4ms/step - loss: 9.6418 - mae: 9.6418\n",
            "Epoch 59/500\n",
            "2/2 [==============================] - 0s 5ms/step - loss: 12.5691 - mae: 12.5691\n",
            "Epoch 60/500\n",
            "2/2 [==============================] - 0s 6ms/step - loss: 12.3666 - mae: 12.3666\n",
            "Epoch 61/500\n",
            "2/2 [==============================] - 0s 8ms/step - loss: 13.2603 - mae: 13.2603\n",
            "Epoch 62/500\n",
            "2/2 [==============================] - 0s 8ms/step - loss: 17.0752 - mae: 17.0752\n",
            "Epoch 63/500\n",
            "2/2 [==============================] - 0s 6ms/step - loss: 9.0729 - mae: 9.0729\n",
            "Epoch 64/500\n",
            "2/2 [==============================] - 0s 6ms/step - loss: 17.7134 - mae: 17.7134\n",
            "Epoch 65/500\n",
            "2/2 [==============================] - 0s 5ms/step - loss: 10.5431 - mae: 10.5431\n",
            "Epoch 66/500\n",
            "2/2 [==============================] - 0s 5ms/step - loss: 21.1760 - mae: 21.1760\n",
            "Epoch 67/500\n",
            "2/2 [==============================] - 0s 6ms/step - loss: 10.5317 - mae: 10.5317\n",
            "Epoch 68/500\n",
            "2/2 [==============================] - 0s 5ms/step - loss: 14.3433 - mae: 14.3433\n",
            "Epoch 69/500\n",
            "2/2 [==============================] - 0s 6ms/step - loss: 10.6119 - mae: 10.6119\n",
            "Epoch 70/500\n",
            "2/2 [==============================] - 0s 5ms/step - loss: 12.6917 - mae: 12.6917\n",
            "Epoch 71/500\n",
            "2/2 [==============================] - 0s 8ms/step - loss: 13.1138 - mae: 13.1138\n",
            "Epoch 72/500\n",
            "2/2 [==============================] - 0s 5ms/step - loss: 19.5473 - mae: 19.5473\n",
            "Epoch 73/500\n",
            "2/2 [==============================] - 0s 4ms/step - loss: 11.1907 - mae: 11.1907\n",
            "Epoch 74/500\n",
            "2/2 [==============================] - 0s 4ms/step - loss: 21.7888 - mae: 21.7888\n",
            "Epoch 75/500\n",
            "2/2 [==============================] - 0s 4ms/step - loss: 7.2264 - mae: 7.2264\n",
            "Epoch 76/500\n",
            "2/2 [==============================] - 0s 6ms/step - loss: 9.4448 - mae: 9.4448\n",
            "Epoch 77/500\n",
            "2/2 [==============================] - 0s 4ms/step - loss: 22.1115 - mae: 22.1115\n",
            "Epoch 78/500\n",
            "2/2 [==============================] - 0s 4ms/step - loss: 17.5845 - mae: 17.5845\n",
            "Epoch 79/500\n",
            "2/2 [==============================] - 0s 6ms/step - loss: 14.7932 - mae: 14.7932\n",
            "Epoch 80/500\n",
            "2/2 [==============================] - 0s 6ms/step - loss: 25.0252 - mae: 25.0252\n",
            "Epoch 81/500\n",
            "2/2 [==============================] - 0s 5ms/step - loss: 10.8714 - mae: 10.8714\n",
            "Epoch 82/500\n",
            "2/2 [==============================] - 0s 5ms/step - loss: 12.7973 - mae: 12.7973\n",
            "Epoch 83/500\n",
            "2/2 [==============================] - 0s 6ms/step - loss: 17.5896 - mae: 17.5896\n",
            "Epoch 84/500\n",
            "2/2 [==============================] - 0s 5ms/step - loss: 7.3118 - mae: 7.3118\n",
            "Epoch 85/500\n",
            "2/2 [==============================] - 0s 5ms/step - loss: 15.1001 - mae: 15.1001\n",
            "Epoch 86/500\n",
            "2/2 [==============================] - 0s 5ms/step - loss: 15.3972 - mae: 15.3972\n",
            "Epoch 87/500\n",
            "2/2 [==============================] - 0s 5ms/step - loss: 19.3259 - mae: 19.3259\n",
            "Epoch 88/500\n",
            "2/2 [==============================] - 0s 4ms/step - loss: 29.2617 - mae: 29.2617\n",
            "Epoch 89/500\n",
            "2/2 [==============================] - 0s 5ms/step - loss: 10.1106 - mae: 10.1106\n",
            "Epoch 90/500\n",
            "2/2 [==============================] - 0s 6ms/step - loss: 21.0513 - mae: 21.0513\n",
            "Epoch 91/500\n",
            "2/2 [==============================] - 0s 5ms/step - loss: 10.4744 - mae: 10.4744\n",
            "Epoch 92/500\n",
            "2/2 [==============================] - 0s 6ms/step - loss: 17.9644 - mae: 17.9644\n",
            "Epoch 93/500\n",
            "2/2 [==============================] - 0s 5ms/step - loss: 6.5695 - mae: 6.5695\n",
            "Epoch 94/500\n",
            "2/2 [==============================] - 0s 6ms/step - loss: 11.1249 - mae: 11.1249\n",
            "Epoch 95/500\n",
            "2/2 [==============================] - 0s 6ms/step - loss: 24.3195 - mae: 24.3195\n",
            "Epoch 96/500\n",
            "2/2 [==============================] - 0s 5ms/step - loss: 10.7282 - mae: 10.7282\n",
            "Epoch 97/500\n",
            "2/2 [==============================] - 0s 5ms/step - loss: 15.3226 - mae: 15.3226\n",
            "Epoch 98/500\n",
            "2/2 [==============================] - 0s 4ms/step - loss: 8.2468 - mae: 8.2468\n",
            "Epoch 99/500\n",
            "2/2 [==============================] - 0s 5ms/step - loss: 16.4871 - mae: 16.4871\n",
            "Epoch 100/500\n",
            "2/2 [==============================] - 0s 5ms/step - loss: 14.2764 - mae: 14.2764\n",
            "Epoch 101/500\n",
            "2/2 [==============================] - 0s 6ms/step - loss: 15.2550 - mae: 15.2550\n",
            "Epoch 102/500\n",
            "2/2 [==============================] - 0s 4ms/step - loss: 10.7530 - mae: 10.7530\n",
            "Epoch 103/500\n",
            "2/2 [==============================] - 0s 5ms/step - loss: 9.1784 - mae: 9.1784\n",
            "Epoch 104/500\n",
            "2/2 [==============================] - 0s 5ms/step - loss: 23.7580 - mae: 23.7580\n",
            "Epoch 105/500\n",
            "2/2 [==============================] - 0s 5ms/step - loss: 10.8312 - mae: 10.8312\n",
            "Epoch 106/500\n",
            "2/2 [==============================] - 0s 5ms/step - loss: 11.2843 - mae: 11.2843\n",
            "Epoch 107/500\n",
            "2/2 [==============================] - 0s 6ms/step - loss: 21.2973 - mae: 21.2973\n",
            "Epoch 108/500\n",
            "2/2 [==============================] - 0s 5ms/step - loss: 6.3294 - mae: 6.3294\n",
            "Epoch 109/500\n",
            "2/2 [==============================] - 0s 4ms/step - loss: 10.6110 - mae: 10.6110\n",
            "Epoch 110/500\n",
            "2/2 [==============================] - 0s 6ms/step - loss: 10.5489 - mae: 10.5489\n",
            "Epoch 111/500\n",
            "2/2 [==============================] - 0s 6ms/step - loss: 16.7143 - mae: 16.7143\n",
            "Epoch 112/500\n",
            "2/2 [==============================] - 0s 6ms/step - loss: 9.5266 - mae: 9.5266\n",
            "Epoch 113/500\n",
            "2/2 [==============================] - 0s 6ms/step - loss: 17.5842 - mae: 17.5842\n",
            "Epoch 114/500\n",
            "2/2 [==============================] - 0s 5ms/step - loss: 16.9549 - mae: 16.9549\n",
            "Epoch 115/500\n",
            "2/2 [==============================] - 0s 9ms/step - loss: 11.0597 - mae: 11.0597\n",
            "Epoch 116/500\n",
            "2/2 [==============================] - 0s 5ms/step - loss: 22.9900 - mae: 22.9900\n",
            "Epoch 117/500\n",
            "2/2 [==============================] - 0s 5ms/step - loss: 9.5325 - mae: 9.5325\n",
            "Epoch 118/500\n",
            "2/2 [==============================] - 0s 5ms/step - loss: 10.5855 - mae: 10.5855\n",
            "Epoch 119/500\n",
            "2/2 [==============================] - 0s 6ms/step - loss: 8.0395 - mae: 8.0395\n",
            "Epoch 120/500\n",
            "2/2 [==============================] - 0s 6ms/step - loss: 29.2364 - mae: 29.2364\n",
            "Epoch 121/500\n",
            "2/2 [==============================] - 0s 6ms/step - loss: 8.0773 - mae: 8.0773\n",
            "Epoch 122/500\n",
            "2/2 [==============================] - 0s 6ms/step - loss: 27.9272 - mae: 27.9272\n",
            "Epoch 123/500\n",
            "2/2 [==============================] - 0s 5ms/step - loss: 32.4277 - mae: 32.4277\n",
            "Epoch 124/500\n",
            "2/2 [==============================] - 0s 5ms/step - loss: 19.2786 - mae: 19.2786\n",
            "Epoch 125/500\n",
            "2/2 [==============================] - 0s 5ms/step - loss: 9.4977 - mae: 9.4977\n",
            "Epoch 126/500\n",
            "2/2 [==============================] - 0s 4ms/step - loss: 9.5746 - mae: 9.5746\n",
            "Epoch 127/500\n",
            "2/2 [==============================] - 0s 4ms/step - loss: 12.6540 - mae: 12.6540\n",
            "Epoch 128/500\n",
            "2/2 [==============================] - 0s 4ms/step - loss: 12.7686 - mae: 12.7686\n",
            "Epoch 129/500\n",
            "2/2 [==============================] - 0s 6ms/step - loss: 13.8707 - mae: 13.8707\n",
            "Epoch 130/500\n",
            "2/2 [==============================] - 0s 4ms/step - loss: 10.2178 - mae: 10.2178\n",
            "Epoch 131/500\n",
            "2/2 [==============================] - 0s 6ms/step - loss: 21.5880 - mae: 21.5880\n",
            "Epoch 132/500\n",
            "2/2 [==============================] - 0s 4ms/step - loss: 8.2576 - mae: 8.2576\n",
            "Epoch 133/500\n",
            "2/2 [==============================] - 0s 5ms/step - loss: 9.0393 - mae: 9.0393\n",
            "Epoch 134/500\n",
            "2/2 [==============================] - 0s 4ms/step - loss: 16.8103 - mae: 16.8103\n",
            "Epoch 135/500\n",
            "2/2 [==============================] - 0s 4ms/step - loss: 10.6232 - mae: 10.6232\n",
            "Epoch 136/500\n",
            "2/2 [==============================] - 0s 4ms/step - loss: 18.4195 - mae: 18.4195\n",
            "Epoch 137/500\n",
            "2/2 [==============================] - 0s 4ms/step - loss: 23.3666 - mae: 23.3666\n",
            "Epoch 138/500\n",
            "2/2 [==============================] - 0s 6ms/step - loss: 9.2292 - mae: 9.2292\n",
            "Epoch 139/500\n",
            "2/2 [==============================] - 0s 5ms/step - loss: 8.9809 - mae: 8.9809\n",
            "Epoch 140/500\n",
            "2/2 [==============================] - 0s 6ms/step - loss: 16.5885 - mae: 16.5885\n",
            "Epoch 141/500\n",
            "2/2 [==============================] - 0s 6ms/step - loss: 8.4558 - mae: 8.4558\n",
            "Epoch 142/500\n",
            "2/2 [==============================] - 0s 5ms/step - loss: 37.1076 - mae: 37.1076\n",
            "Epoch 143/500\n",
            "2/2 [==============================] - 0s 6ms/step - loss: 25.7264 - mae: 25.7264\n",
            "Epoch 144/500\n",
            "2/2 [==============================] - 0s 4ms/step - loss: 9.5558 - mae: 9.5558\n",
            "Epoch 145/500\n",
            "2/2 [==============================] - 0s 4ms/step - loss: 26.5814 - mae: 26.5814\n",
            "Epoch 146/500\n",
            "2/2 [==============================] - 0s 7ms/step - loss: 8.7927 - mae: 8.7927\n",
            "Epoch 147/500\n",
            "2/2 [==============================] - 0s 7ms/step - loss: 15.6153 - mae: 15.6153\n",
            "Epoch 148/500\n",
            "2/2 [==============================] - 0s 6ms/step - loss: 18.2976 - mae: 18.2976\n",
            "Epoch 149/500\n",
            "2/2 [==============================] - 0s 6ms/step - loss: 8.2358 - mae: 8.2358\n",
            "Epoch 150/500\n",
            "2/2 [==============================] - 0s 6ms/step - loss: 7.5255 - mae: 7.5255\n",
            "Epoch 151/500\n",
            "2/2 [==============================] - 0s 7ms/step - loss: 18.3528 - mae: 18.3528\n",
            "Epoch 152/500\n",
            "2/2 [==============================] - 0s 5ms/step - loss: 10.3167 - mae: 10.3167\n",
            "Epoch 153/500\n",
            "2/2 [==============================] - 0s 5ms/step - loss: 29.6348 - mae: 29.6348\n",
            "Epoch 154/500\n",
            "2/2 [==============================] - 0s 7ms/step - loss: 10.5735 - mae: 10.5735\n",
            "Epoch 155/500\n",
            "2/2 [==============================] - 0s 6ms/step - loss: 15.4700 - mae: 15.4700\n",
            "Epoch 156/500\n",
            "2/2 [==============================] - 0s 4ms/step - loss: 17.0461 - mae: 17.0461\n",
            "Epoch 157/500\n",
            "2/2 [==============================] - 0s 5ms/step - loss: 32.7556 - mae: 32.7556\n",
            "Epoch 158/500\n",
            "2/2 [==============================] - 0s 6ms/step - loss: 10.7111 - mae: 10.7111\n",
            "Epoch 159/500\n",
            "2/2 [==============================] - 0s 7ms/step - loss: 8.9185 - mae: 8.9185\n",
            "Epoch 160/500\n",
            "2/2 [==============================] - 0s 5ms/step - loss: 22.0606 - mae: 22.0606\n",
            "Epoch 161/500\n",
            "2/2 [==============================] - 0s 6ms/step - loss: 11.7006 - mae: 11.7006\n",
            "Epoch 162/500\n",
            "2/2 [==============================] - 0s 7ms/step - loss: 21.4943 - mae: 21.4943\n",
            "Epoch 163/500\n",
            "2/2 [==============================] - 0s 9ms/step - loss: 19.1754 - mae: 19.1754\n",
            "Epoch 164/500\n",
            "2/2 [==============================] - 0s 10ms/step - loss: 10.9839 - mae: 10.9839\n",
            "Epoch 165/500\n",
            "2/2 [==============================] - 0s 10ms/step - loss: 9.6462 - mae: 9.6462\n",
            "Epoch 166/500\n",
            "2/2 [==============================] - 0s 5ms/step - loss: 21.6493 - mae: 21.6493\n",
            "Epoch 167/500\n",
            "2/2 [==============================] - 0s 6ms/step - loss: 26.1451 - mae: 26.1451\n",
            "Epoch 168/500\n",
            "2/2 [==============================] - 0s 7ms/step - loss: 9.8501 - mae: 9.8501\n",
            "Epoch 169/500\n",
            "2/2 [==============================] - 0s 4ms/step - loss: 22.3995 - mae: 22.3995\n",
            "Epoch 170/500\n",
            "2/2 [==============================] - 0s 4ms/step - loss: 10.1890 - mae: 10.1890\n",
            "Epoch 171/500\n",
            "2/2 [==============================] - 0s 4ms/step - loss: 18.1257 - mae: 18.1257\n",
            "Epoch 172/500\n",
            "2/2 [==============================] - 0s 6ms/step - loss: 28.6501 - mae: 28.6501\n",
            "Epoch 173/500\n",
            "2/2 [==============================] - 0s 4ms/step - loss: 16.3874 - mae: 16.3874\n",
            "Epoch 174/500\n",
            "2/2 [==============================] - 0s 5ms/step - loss: 11.7450 - mae: 11.7450\n",
            "Epoch 175/500\n",
            "2/2 [==============================] - 0s 4ms/step - loss: 27.1892 - mae: 27.1892\n",
            "Epoch 176/500\n",
            "2/2 [==============================] - 0s 6ms/step - loss: 8.7487 - mae: 8.7487\n",
            "Epoch 177/500\n",
            "2/2 [==============================] - 0s 4ms/step - loss: 8.7701 - mae: 8.7701\n",
            "Epoch 178/500\n",
            "2/2 [==============================] - 0s 6ms/step - loss: 16.1472 - mae: 16.1472\n",
            "Epoch 179/500\n",
            "2/2 [==============================] - 0s 4ms/step - loss: 10.4344 - mae: 10.4344\n",
            "Epoch 180/500\n",
            "2/2 [==============================] - 0s 4ms/step - loss: 7.9904 - mae: 7.9904\n",
            "Epoch 181/500\n",
            "2/2 [==============================] - 0s 4ms/step - loss: 17.7125 - mae: 17.7125\n",
            "Epoch 182/500\n",
            "2/2 [==============================] - 0s 5ms/step - loss: 11.1740 - mae: 11.1740\n",
            "Epoch 183/500\n",
            "2/2 [==============================] - 0s 6ms/step - loss: 12.3643 - mae: 12.3643\n",
            "Epoch 184/500\n",
            "2/2 [==============================] - 0s 6ms/step - loss: 27.2724 - mae: 27.2724\n",
            "Epoch 185/500\n",
            "2/2 [==============================] - 0s 6ms/step - loss: 7.5773 - mae: 7.5773\n",
            "Epoch 186/500\n",
            "2/2 [==============================] - 0s 6ms/step - loss: 15.9875 - mae: 15.9875\n",
            "Epoch 187/500\n",
            "2/2 [==============================] - 0s 9ms/step - loss: 8.5890 - mae: 8.5890\n",
            "Epoch 188/500\n",
            "2/2 [==============================] - 0s 6ms/step - loss: 28.7403 - mae: 28.7403\n",
            "Epoch 189/500\n",
            "2/2 [==============================] - 0s 6ms/step - loss: 13.1788 - mae: 13.1788\n",
            "Epoch 190/500\n",
            "2/2 [==============================] - 0s 4ms/step - loss: 18.3230 - mae: 18.3230\n",
            "Epoch 191/500\n",
            "2/2 [==============================] - 0s 5ms/step - loss: 13.7549 - mae: 13.7549\n",
            "Epoch 192/500\n",
            "2/2 [==============================] - 0s 5ms/step - loss: 13.7271 - mae: 13.7271\n",
            "Epoch 193/500\n",
            "2/2 [==============================] - 0s 4ms/step - loss: 28.5986 - mae: 28.5986\n",
            "Epoch 194/500\n",
            "2/2 [==============================] - 0s 4ms/step - loss: 7.0774 - mae: 7.0774\n",
            "Epoch 195/500\n",
            "2/2 [==============================] - 0s 4ms/step - loss: 7.0779 - mae: 7.0779\n",
            "Epoch 196/500\n",
            "2/2 [==============================] - 0s 4ms/step - loss: 22.0463 - mae: 22.0463\n",
            "Epoch 197/500\n",
            "2/2 [==============================] - 0s 4ms/step - loss: 20.7667 - mae: 20.7667\n",
            "Epoch 198/500\n",
            "2/2 [==============================] - 0s 4ms/step - loss: 12.4332 - mae: 12.4332\n",
            "Epoch 199/500\n",
            "2/2 [==============================] - 0s 4ms/step - loss: 17.8388 - mae: 17.8388\n",
            "Epoch 200/500\n",
            "2/2 [==============================] - 0s 4ms/step - loss: 13.6834 - mae: 13.6834\n",
            "Epoch 201/500\n",
            "2/2 [==============================] - 0s 4ms/step - loss: 5.4993 - mae: 5.4993\n",
            "Epoch 202/500\n",
            "2/2 [==============================] - 0s 6ms/step - loss: 13.6309 - mae: 13.6309\n",
            "Epoch 203/500\n",
            "2/2 [==============================] - 0s 4ms/step - loss: 9.4112 - mae: 9.4112\n",
            "Epoch 204/500\n",
            "2/2 [==============================] - 0s 4ms/step - loss: 20.8362 - mae: 20.8362\n",
            "Epoch 205/500\n",
            "2/2 [==============================] - 0s 4ms/step - loss: 9.5205 - mae: 9.5205\n",
            "Epoch 206/500\n",
            "2/2 [==============================] - 0s 5ms/step - loss: 11.1606 - mae: 11.1606\n",
            "Epoch 207/500\n",
            "2/2 [==============================] - 0s 4ms/step - loss: 17.7179 - mae: 17.7179\n",
            "Epoch 208/500\n",
            "2/2 [==============================] - 0s 4ms/step - loss: 14.4088 - mae: 14.4088\n",
            "Epoch 209/500\n",
            "2/2 [==============================] - 0s 4ms/step - loss: 16.7409 - mae: 16.7409\n",
            "Epoch 210/500\n",
            "2/2 [==============================] - 0s 7ms/step - loss: 18.2612 - mae: 18.2612\n",
            "Epoch 211/500\n",
            "2/2 [==============================] - 0s 4ms/step - loss: 9.9654 - mae: 9.9654\n",
            "Epoch 212/500\n",
            "2/2 [==============================] - 0s 4ms/step - loss: 18.7410 - mae: 18.7410\n",
            "Epoch 213/500\n",
            "2/2 [==============================] - 0s 4ms/step - loss: 14.9401 - mae: 14.9401\n",
            "Epoch 214/500\n",
            "2/2 [==============================] - 0s 5ms/step - loss: 14.5272 - mae: 14.5272\n",
            "Epoch 215/500\n",
            "2/2 [==============================] - 0s 4ms/step - loss: 23.1731 - mae: 23.1731\n",
            "Epoch 216/500\n",
            "2/2 [==============================] - 0s 5ms/step - loss: 13.5931 - mae: 13.5931\n",
            "Epoch 217/500\n",
            "2/2 [==============================] - 0s 4ms/step - loss: 10.0535 - mae: 10.0535\n",
            "Epoch 218/500\n",
            "2/2 [==============================] - 0s 4ms/step - loss: 12.4209 - mae: 12.4209\n",
            "Epoch 219/500\n",
            "2/2 [==============================] - 0s 4ms/step - loss: 5.8585 - mae: 5.8585\n",
            "Epoch 220/500\n",
            "2/2 [==============================] - 0s 4ms/step - loss: 10.1957 - mae: 10.1957\n",
            "Epoch 221/500\n",
            "2/2 [==============================] - 0s 4ms/step - loss: 28.8701 - mae: 28.8701\n",
            "Epoch 222/500\n",
            "2/2 [==============================] - 0s 4ms/step - loss: 28.0559 - mae: 28.0559\n",
            "Epoch 223/500\n",
            "2/2 [==============================] - 0s 4ms/step - loss: 10.0804 - mae: 10.0804\n",
            "Epoch 224/500\n",
            "2/2 [==============================] - 0s 4ms/step - loss: 14.6270 - mae: 14.6270\n",
            "Epoch 225/500\n",
            "2/2 [==============================] - 0s 4ms/step - loss: 16.6434 - mae: 16.6434\n",
            "Epoch 226/500\n",
            "2/2 [==============================] - 0s 5ms/step - loss: 15.8659 - mae: 15.8659\n",
            "Epoch 227/500\n",
            "2/2 [==============================] - 0s 5ms/step - loss: 16.0872 - mae: 16.0872\n",
            "Epoch 228/500\n",
            "2/2 [==============================] - 0s 6ms/step - loss: 13.8667 - mae: 13.8667\n",
            "Epoch 229/500\n",
            "2/2 [==============================] - 0s 4ms/step - loss: 17.9843 - mae: 17.9843\n",
            "Epoch 230/500\n",
            "2/2 [==============================] - 0s 5ms/step - loss: 15.5756 - mae: 15.5756\n",
            "Epoch 231/500\n",
            "2/2 [==============================] - 0s 4ms/step - loss: 21.1070 - mae: 21.1070\n",
            "Epoch 232/500\n",
            "2/2 [==============================] - 0s 5ms/step - loss: 25.4940 - mae: 25.4940\n",
            "Epoch 233/500\n",
            "2/2 [==============================] - 0s 6ms/step - loss: 16.4943 - mae: 16.4943\n",
            "Epoch 234/500\n",
            "2/2 [==============================] - 0s 4ms/step - loss: 7.3484 - mae: 7.3484\n",
            "Epoch 235/500\n",
            "2/2 [==============================] - 0s 6ms/step - loss: 17.1316 - mae: 17.1316\n",
            "Epoch 236/500\n",
            "2/2 [==============================] - 0s 7ms/step - loss: 7.2064 - mae: 7.2064\n",
            "Epoch 237/500\n",
            "2/2 [==============================] - 0s 5ms/step - loss: 9.3024 - mae: 9.3024\n",
            "Epoch 238/500\n",
            "2/2 [==============================] - 0s 5ms/step - loss: 8.1625 - mae: 8.1625\n",
            "Epoch 239/500\n",
            "2/2 [==============================] - 0s 5ms/step - loss: 17.1495 - mae: 17.1495\n",
            "Epoch 240/500\n",
            "2/2 [==============================] - 0s 5ms/step - loss: 8.9322 - mae: 8.9322\n",
            "Epoch 241/500\n",
            "2/2 [==============================] - 0s 4ms/step - loss: 13.2433 - mae: 13.2433\n",
            "Epoch 242/500\n",
            "2/2 [==============================] - 0s 6ms/step - loss: 8.8434 - mae: 8.8434\n",
            "Epoch 243/500\n",
            "2/2 [==============================] - 0s 4ms/step - loss: 18.8726 - mae: 18.8726\n",
            "Epoch 244/500\n",
            "2/2 [==============================] - 0s 4ms/step - loss: 14.0558 - mae: 14.0558\n",
            "Epoch 245/500\n",
            "2/2 [==============================] - 0s 4ms/step - loss: 14.6849 - mae: 14.6849\n",
            "Epoch 246/500\n",
            "2/2 [==============================] - 0s 4ms/step - loss: 15.8153 - mae: 15.8153\n",
            "Epoch 247/500\n",
            "2/2 [==============================] - 0s 4ms/step - loss: 17.6964 - mae: 17.6964\n",
            "Epoch 248/500\n",
            "2/2 [==============================] - 0s 5ms/step - loss: 13.2538 - mae: 13.2538\n",
            "Epoch 249/500\n",
            "2/2 [==============================] - 0s 5ms/step - loss: 14.5253 - mae: 14.5253\n",
            "Epoch 250/500\n",
            "2/2 [==============================] - 0s 6ms/step - loss: 23.2549 - mae: 23.2549\n",
            "Epoch 251/500\n",
            "2/2 [==============================] - 0s 5ms/step - loss: 9.3224 - mae: 9.3224\n",
            "Epoch 252/500\n",
            "2/2 [==============================] - 0s 5ms/step - loss: 36.5744 - mae: 36.5744\n",
            "Epoch 253/500\n",
            "2/2 [==============================] - 0s 6ms/step - loss: 21.7669 - mae: 21.7669\n",
            "Epoch 254/500\n",
            "2/2 [==============================] - 0s 5ms/step - loss: 7.3044 - mae: 7.3044\n",
            "Epoch 255/500\n",
            "2/2 [==============================] - 0s 5ms/step - loss: 24.6317 - mae: 24.6317\n",
            "Epoch 256/500\n",
            "2/2 [==============================] - 0s 6ms/step - loss: 12.4021 - mae: 12.4021\n",
            "Epoch 257/500\n",
            "2/2 [==============================] - 0s 5ms/step - loss: 10.5695 - mae: 10.5695\n",
            "Epoch 258/500\n",
            "2/2 [==============================] - 0s 4ms/step - loss: 14.1744 - mae: 14.1744\n",
            "Epoch 259/500\n",
            "2/2 [==============================] - 0s 4ms/step - loss: 11.2500 - mae: 11.2500\n",
            "Epoch 260/500\n",
            "2/2 [==============================] - 0s 4ms/step - loss: 31.5476 - mae: 31.5476\n",
            "Epoch 261/500\n",
            "2/2 [==============================] - 0s 7ms/step - loss: 11.1635 - mae: 11.1635\n",
            "Epoch 262/500\n",
            "2/2 [==============================] - 0s 4ms/step - loss: 10.0187 - mae: 10.0187\n",
            "Epoch 263/500\n",
            "2/2 [==============================] - 0s 6ms/step - loss: 8.9390 - mae: 8.9390\n",
            "Epoch 264/500\n",
            "2/2 [==============================] - 0s 4ms/step - loss: 21.4335 - mae: 21.4335\n",
            "Epoch 265/500\n",
            "2/2 [==============================] - 0s 4ms/step - loss: 11.4716 - mae: 11.4716\n",
            "Epoch 266/500\n",
            "2/2 [==============================] - 0s 4ms/step - loss: 13.3123 - mae: 13.3123\n",
            "Epoch 267/500\n",
            "2/2 [==============================] - 0s 4ms/step - loss: 11.0930 - mae: 11.0930\n",
            "Epoch 268/500\n",
            "2/2 [==============================] - 0s 7ms/step - loss: 19.1873 - mae: 19.1873\n",
            "Epoch 269/500\n",
            "2/2 [==============================] - 0s 7ms/step - loss: 40.6193 - mae: 40.6193\n",
            "Epoch 270/500\n",
            "2/2 [==============================] - 0s 7ms/step - loss: 12.8782 - mae: 12.8782\n",
            "Epoch 271/500\n",
            "2/2 [==============================] - 0s 8ms/step - loss: 14.7718 - mae: 14.7718\n",
            "Epoch 272/500\n",
            "2/2 [==============================] - 0s 7ms/step - loss: 28.5272 - mae: 28.5272\n",
            "Epoch 273/500\n",
            "2/2 [==============================] - 0s 4ms/step - loss: 7.3488 - mae: 7.3488\n",
            "Epoch 274/500\n",
            "2/2 [==============================] - 0s 7ms/step - loss: 6.3536 - mae: 6.3536\n",
            "Epoch 275/500\n",
            "2/2 [==============================] - 0s 7ms/step - loss: 36.8228 - mae: 36.8228\n",
            "Epoch 276/500\n",
            "2/2 [==============================] - 0s 9ms/step - loss: 8.2781 - mae: 8.2781\n",
            "Epoch 277/500\n",
            "2/2 [==============================] - 0s 8ms/step - loss: 27.6515 - mae: 27.6515\n",
            "Epoch 278/500\n",
            "2/2 [==============================] - 0s 6ms/step - loss: 10.6888 - mae: 10.6888\n",
            "Epoch 279/500\n",
            "2/2 [==============================] - 0s 6ms/step - loss: 16.1187 - mae: 16.1187\n",
            "Epoch 280/500\n",
            "2/2 [==============================] - 0s 5ms/step - loss: 21.2599 - mae: 21.2599\n",
            "Epoch 281/500\n",
            "2/2 [==============================] - 0s 7ms/step - loss: 23.7378 - mae: 23.7378\n",
            "Epoch 282/500\n",
            "2/2 [==============================] - 0s 4ms/step - loss: 8.2419 - mae: 8.2419\n",
            "Epoch 283/500\n",
            "2/2 [==============================] - 0s 4ms/step - loss: 8.4307 - mae: 8.4307\n",
            "Epoch 284/500\n",
            "2/2 [==============================] - 0s 5ms/step - loss: 26.5741 - mae: 26.5741\n",
            "Epoch 285/500\n",
            "2/2 [==============================] - 0s 7ms/step - loss: 14.1905 - mae: 14.1905\n",
            "Epoch 286/500\n",
            "2/2 [==============================] - 0s 8ms/step - loss: 6.0016 - mae: 6.0016\n",
            "Epoch 287/500\n",
            "2/2 [==============================] - 0s 5ms/step - loss: 18.9738 - mae: 18.9738\n",
            "Epoch 288/500\n",
            "2/2 [==============================] - 0s 7ms/step - loss: 32.9468 - mae: 32.9468\n",
            "Epoch 289/500\n",
            "2/2 [==============================] - 0s 5ms/step - loss: 8.3648 - mae: 8.3648\n",
            "Epoch 290/500\n",
            "2/2 [==============================] - 0s 6ms/step - loss: 16.8588 - mae: 16.8588\n",
            "Epoch 291/500\n",
            "2/2 [==============================] - 0s 7ms/step - loss: 17.2253 - mae: 17.2253\n",
            "Epoch 292/500\n",
            "2/2 [==============================] - 0s 5ms/step - loss: 10.8586 - mae: 10.8586\n",
            "Epoch 293/500\n",
            "2/2 [==============================] - 0s 5ms/step - loss: 14.5571 - mae: 14.5571\n",
            "Epoch 294/500\n",
            "2/2 [==============================] - 0s 5ms/step - loss: 21.7839 - mae: 21.7839\n",
            "Epoch 295/500\n",
            "2/2 [==============================] - 0s 5ms/step - loss: 20.0212 - mae: 20.0212\n",
            "Epoch 296/500\n",
            "2/2 [==============================] - 0s 5ms/step - loss: 7.0143 - mae: 7.0143\n",
            "Epoch 297/500\n",
            "2/2 [==============================] - 0s 5ms/step - loss: 8.9988 - mae: 8.9988\n",
            "Epoch 298/500\n",
            "2/2 [==============================] - 0s 5ms/step - loss: 24.2402 - mae: 24.2402\n",
            "Epoch 299/500\n",
            "2/2 [==============================] - 0s 5ms/step - loss: 17.9185 - mae: 17.9185\n",
            "Epoch 300/500\n",
            "2/2 [==============================] - 0s 6ms/step - loss: 7.0181 - mae: 7.0181\n",
            "Epoch 301/500\n",
            "2/2 [==============================] - 0s 5ms/step - loss: 25.4035 - mae: 25.4035\n",
            "Epoch 302/500\n",
            "2/2 [==============================] - 0s 4ms/step - loss: 9.4757 - mae: 9.4757\n",
            "Epoch 303/500\n",
            "2/2 [==============================] - 0s 4ms/step - loss: 14.4673 - mae: 14.4673\n",
            "Epoch 304/500\n",
            "2/2 [==============================] - 0s 6ms/step - loss: 10.8517 - mae: 10.8517\n",
            "Epoch 305/500\n",
            "2/2 [==============================] - 0s 5ms/step - loss: 12.6957 - mae: 12.6957\n",
            "Epoch 306/500\n",
            "2/2 [==============================] - 0s 4ms/step - loss: 8.2900 - mae: 8.2900\n",
            "Epoch 307/500\n",
            "2/2 [==============================] - 0s 5ms/step - loss: 13.1336 - mae: 13.1336\n",
            "Epoch 308/500\n",
            "2/2 [==============================] - 0s 5ms/step - loss: 8.1536 - mae: 8.1536\n",
            "Epoch 309/500\n",
            "2/2 [==============================] - 0s 4ms/step - loss: 11.7860 - mae: 11.7860\n",
            "Epoch 310/500\n",
            "2/2 [==============================] - 0s 4ms/step - loss: 6.3607 - mae: 6.3607\n",
            "Epoch 311/500\n",
            "2/2 [==============================] - 0s 5ms/step - loss: 4.9811 - mae: 4.9811\n",
            "Epoch 312/500\n",
            "2/2 [==============================] - 0s 4ms/step - loss: 29.2665 - mae: 29.2665\n",
            "Epoch 313/500\n",
            "2/2 [==============================] - 0s 6ms/step - loss: 8.9817 - mae: 8.9817\n",
            "Epoch 314/500\n",
            "2/2 [==============================] - 0s 5ms/step - loss: 5.7806 - mae: 5.7806\n",
            "Epoch 315/500\n",
            "2/2 [==============================] - 0s 5ms/step - loss: 24.9341 - mae: 24.9341\n",
            "Epoch 316/500\n",
            "2/2 [==============================] - 0s 4ms/step - loss: 14.1721 - mae: 14.1721\n",
            "Epoch 317/500\n",
            "2/2 [==============================] - 0s 5ms/step - loss: 19.6146 - mae: 19.6146\n",
            "Epoch 318/500\n",
            "2/2 [==============================] - 0s 5ms/step - loss: 7.8526 - mae: 7.8526\n",
            "Epoch 319/500\n",
            "2/2 [==============================] - 0s 6ms/step - loss: 17.8032 - mae: 17.8032\n",
            "Epoch 320/500\n",
            "2/2 [==============================] - 0s 5ms/step - loss: 10.1147 - mae: 10.1147\n",
            "Epoch 321/500\n",
            "2/2 [==============================] - 0s 5ms/step - loss: 8.2246 - mae: 8.2246\n",
            "Epoch 322/500\n",
            "2/2 [==============================] - 0s 5ms/step - loss: 4.2423 - mae: 4.2423\n",
            "Epoch 323/500\n",
            "2/2 [==============================] - 0s 5ms/step - loss: 14.6657 - mae: 14.6657\n",
            "Epoch 324/500\n",
            "2/2 [==============================] - 0s 8ms/step - loss: 18.8514 - mae: 18.8514\n",
            "Epoch 325/500\n",
            "2/2 [==============================] - 0s 7ms/step - loss: 17.6135 - mae: 17.6135\n",
            "Epoch 326/500\n",
            "2/2 [==============================] - 0s 6ms/step - loss: 24.0878 - mae: 24.0878\n",
            "Epoch 327/500\n",
            "2/2 [==============================] - 0s 5ms/step - loss: 9.3166 - mae: 9.3166\n",
            "Epoch 328/500\n",
            "2/2 [==============================] - 0s 4ms/step - loss: 10.3489 - mae: 10.3489\n",
            "Epoch 329/500\n",
            "2/2 [==============================] - 0s 4ms/step - loss: 16.0379 - mae: 16.0379\n",
            "Epoch 330/500\n",
            "2/2 [==============================] - 0s 4ms/step - loss: 14.3529 - mae: 14.3529\n",
            "Epoch 331/500\n",
            "2/2 [==============================] - 0s 4ms/step - loss: 25.8245 - mae: 25.8245\n",
            "Epoch 332/500\n",
            "2/2 [==============================] - 0s 4ms/step - loss: 16.8546 - mae: 16.8546\n",
            "Epoch 333/500\n",
            "2/2 [==============================] - 0s 4ms/step - loss: 10.4873 - mae: 10.4873\n",
            "Epoch 334/500\n",
            "2/2 [==============================] - 0s 4ms/step - loss: 7.4778 - mae: 7.4778\n",
            "Epoch 335/500\n",
            "2/2 [==============================] - 0s 4ms/step - loss: 13.0722 - mae: 13.0722\n",
            "Epoch 336/500\n",
            "2/2 [==============================] - 0s 4ms/step - loss: 32.5754 - mae: 32.5754\n",
            "Epoch 337/500\n",
            "2/2 [==============================] - 0s 7ms/step - loss: 11.1245 - mae: 11.1245\n",
            "Epoch 338/500\n",
            "2/2 [==============================] - 0s 4ms/step - loss: 20.1408 - mae: 20.1408\n",
            "Epoch 339/500\n",
            "2/2 [==============================] - 0s 6ms/step - loss: 33.7880 - mae: 33.7880\n",
            "Epoch 340/500\n",
            "2/2 [==============================] - 0s 5ms/step - loss: 8.5729 - mae: 8.5729\n",
            "Epoch 341/500\n",
            "2/2 [==============================] - 0s 5ms/step - loss: 21.5287 - mae: 21.5287\n",
            "Epoch 342/500\n",
            "2/2 [==============================] - 0s 4ms/step - loss: 14.0683 - mae: 14.0683\n",
            "Epoch 343/500\n",
            "2/2 [==============================] - 0s 6ms/step - loss: 11.6017 - mae: 11.6017\n",
            "Epoch 344/500\n",
            "2/2 [==============================] - 0s 4ms/step - loss: 10.6527 - mae: 10.6527\n",
            "Epoch 345/500\n",
            "2/2 [==============================] - 0s 4ms/step - loss: 30.8555 - mae: 30.8555\n",
            "Epoch 346/500\n",
            "2/2 [==============================] - 0s 4ms/step - loss: 10.5974 - mae: 10.5974\n",
            "Epoch 347/500\n",
            "2/2 [==============================] - 0s 5ms/step - loss: 25.4870 - mae: 25.4870\n",
            "Epoch 348/500\n",
            "2/2 [==============================] - 0s 4ms/step - loss: 13.4546 - mae: 13.4546\n",
            "Epoch 349/500\n",
            "2/2 [==============================] - 0s 4ms/step - loss: 12.9562 - mae: 12.9562\n",
            "Epoch 350/500\n",
            "2/2 [==============================] - 0s 4ms/step - loss: 15.3635 - mae: 15.3635\n",
            "Epoch 351/500\n",
            "2/2 [==============================] - 0s 5ms/step - loss: 32.8347 - mae: 32.8347\n",
            "Epoch 352/500\n",
            "2/2 [==============================] - 0s 4ms/step - loss: 14.0177 - mae: 14.0177\n",
            "Epoch 353/500\n",
            "2/2 [==============================] - 0s 4ms/step - loss: 17.6921 - mae: 17.6921\n",
            "Epoch 354/500\n",
            "2/2 [==============================] - 0s 4ms/step - loss: 11.3034 - mae: 11.3034\n",
            "Epoch 355/500\n",
            "2/2 [==============================] - 0s 4ms/step - loss: 26.6911 - mae: 26.6911\n",
            "Epoch 356/500\n",
            "2/2 [==============================] - 0s 4ms/step - loss: 10.2546 - mae: 10.2546\n",
            "Epoch 357/500\n",
            "2/2 [==============================] - 0s 4ms/step - loss: 14.8845 - mae: 14.8845\n",
            "Epoch 358/500\n",
            "2/2 [==============================] - 0s 4ms/step - loss: 14.7876 - mae: 14.7876\n",
            "Epoch 359/500\n",
            "2/2 [==============================] - 0s 5ms/step - loss: 12.2737 - mae: 12.2737\n",
            "Epoch 360/500\n",
            "2/2 [==============================] - 0s 4ms/step - loss: 20.2547 - mae: 20.2547\n",
            "Epoch 361/500\n",
            "2/2 [==============================] - 0s 4ms/step - loss: 11.0282 - mae: 11.0282\n",
            "Epoch 362/500\n",
            "2/2 [==============================] - 0s 6ms/step - loss: 6.8059 - mae: 6.8059\n",
            "Epoch 363/500\n",
            "2/2 [==============================] - 0s 5ms/step - loss: 24.0313 - mae: 24.0313\n",
            "Epoch 364/500\n",
            "2/2 [==============================] - 0s 5ms/step - loss: 29.8038 - mae: 29.8038\n",
            "Epoch 365/500\n",
            "2/2 [==============================] - 0s 4ms/step - loss: 8.3483 - mae: 8.3483\n",
            "Epoch 366/500\n",
            "2/2 [==============================] - 0s 5ms/step - loss: 6.0765 - mae: 6.0765\n",
            "Epoch 367/500\n",
            "2/2 [==============================] - 0s 5ms/step - loss: 34.9747 - mae: 34.9747\n",
            "Epoch 368/500\n",
            "2/2 [==============================] - 0s 4ms/step - loss: 7.4021 - mae: 7.4021\n",
            "Epoch 369/500\n",
            "2/2 [==============================] - 0s 5ms/step - loss: 9.2324 - mae: 9.2324\n",
            "Epoch 370/500\n",
            "2/2 [==============================] - 0s 5ms/step - loss: 10.9482 - mae: 10.9482\n",
            "Epoch 371/500\n",
            "2/2 [==============================] - 0s 8ms/step - loss: 9.0089 - mae: 9.0089\n",
            "Epoch 372/500\n",
            "2/2 [==============================] - 0s 6ms/step - loss: 7.6794 - mae: 7.6794\n",
            "Epoch 373/500\n",
            "2/2 [==============================] - 0s 5ms/step - loss: 25.0317 - mae: 25.0317\n",
            "Epoch 374/500\n",
            "2/2 [==============================] - 0s 4ms/step - loss: 13.2787 - mae: 13.2787\n",
            "Epoch 375/500\n",
            "2/2 [==============================] - 0s 5ms/step - loss: 11.8262 - mae: 11.8262\n",
            "Epoch 376/500\n",
            "2/2 [==============================] - 0s 4ms/step - loss: 14.1085 - mae: 14.1085\n",
            "Epoch 377/500\n",
            "2/2 [==============================] - 0s 4ms/step - loss: 15.6901 - mae: 15.6901\n",
            "Epoch 378/500\n",
            "2/2 [==============================] - 0s 4ms/step - loss: 17.0014 - mae: 17.0014\n",
            "Epoch 379/500\n",
            "2/2 [==============================] - 0s 4ms/step - loss: 19.4674 - mae: 19.4674\n",
            "Epoch 380/500\n",
            "2/2 [==============================] - 0s 4ms/step - loss: 15.8276 - mae: 15.8276\n",
            "Epoch 381/500\n",
            "2/2 [==============================] - 0s 4ms/step - loss: 11.4308 - mae: 11.4308\n",
            "Epoch 382/500\n",
            "2/2 [==============================] - 0s 4ms/step - loss: 16.3131 - mae: 16.3131\n",
            "Epoch 383/500\n",
            "2/2 [==============================] - 0s 4ms/step - loss: 22.0600 - mae: 22.0600\n",
            "Epoch 384/500\n",
            "2/2 [==============================] - 0s 4ms/step - loss: 7.7736 - mae: 7.7736\n",
            "Epoch 385/500\n",
            "2/2 [==============================] - 0s 4ms/step - loss: 10.5839 - mae: 10.5839\n",
            "Epoch 386/500\n",
            "2/2 [==============================] - 0s 5ms/step - loss: 19.0450 - mae: 19.0450\n",
            "Epoch 387/500\n",
            "2/2 [==============================] - 0s 4ms/step - loss: 26.6073 - mae: 26.6073\n",
            "Epoch 388/500\n",
            "2/2 [==============================] - 0s 4ms/step - loss: 10.1542 - mae: 10.1542\n",
            "Epoch 389/500\n",
            "2/2 [==============================] - 0s 4ms/step - loss: 5.1690 - mae: 5.1690\n",
            "Epoch 390/500\n",
            "2/2 [==============================] - 0s 4ms/step - loss: 18.9252 - mae: 18.9252\n",
            "Epoch 391/500\n",
            "2/2 [==============================] - 0s 4ms/step - loss: 9.2963 - mae: 9.2963\n",
            "Epoch 392/500\n",
            "2/2 [==============================] - 0s 4ms/step - loss: 14.3729 - mae: 14.3729\n",
            "Epoch 393/500\n",
            "2/2 [==============================] - 0s 4ms/step - loss: 15.3757 - mae: 15.3757\n",
            "Epoch 394/500\n",
            "2/2 [==============================] - 0s 4ms/step - loss: 14.7235 - mae: 14.7235\n",
            "Epoch 395/500\n",
            "2/2 [==============================] - 0s 4ms/step - loss: 24.9385 - mae: 24.9385\n",
            "Epoch 396/500\n",
            "2/2 [==============================] - 0s 4ms/step - loss: 19.2468 - mae: 19.2468\n",
            "Epoch 397/500\n",
            "2/2 [==============================] - 0s 4ms/step - loss: 11.5481 - mae: 11.5481\n",
            "Epoch 398/500\n",
            "2/2 [==============================] - 0s 5ms/step - loss: 19.1762 - mae: 19.1762\n",
            "Epoch 399/500\n",
            "2/2 [==============================] - 0s 7ms/step - loss: 26.0433 - mae: 26.0433\n",
            "Epoch 400/500\n",
            "2/2 [==============================] - 0s 8ms/step - loss: 15.6921 - mae: 15.6921\n",
            "Epoch 401/500\n",
            "2/2 [==============================] - 0s 7ms/step - loss: 14.6342 - mae: 14.6342\n",
            "Epoch 402/500\n",
            "2/2 [==============================] - 0s 6ms/step - loss: 24.2422 - mae: 24.2422\n",
            "Epoch 403/500\n",
            "2/2 [==============================] - 0s 5ms/step - loss: 16.4930 - mae: 16.4930\n",
            "Epoch 404/500\n",
            "2/2 [==============================] - 0s 5ms/step - loss: 9.1479 - mae: 9.1479\n",
            "Epoch 405/500\n",
            "2/2 [==============================] - 0s 5ms/step - loss: 10.4210 - mae: 10.4210\n",
            "Epoch 406/500\n",
            "2/2 [==============================] - 0s 7ms/step - loss: 7.3445 - mae: 7.3445\n",
            "Epoch 407/500\n",
            "2/2 [==============================] - 0s 5ms/step - loss: 13.4455 - mae: 13.4455\n",
            "Epoch 408/500\n",
            "2/2 [==============================] - 0s 5ms/step - loss: 5.5856 - mae: 5.5856\n",
            "Epoch 409/500\n",
            "2/2 [==============================] - 0s 5ms/step - loss: 29.7877 - mae: 29.7877\n",
            "Epoch 410/500\n",
            "2/2 [==============================] - 0s 4ms/step - loss: 9.9414 - mae: 9.9414\n",
            "Epoch 411/500\n",
            "2/2 [==============================] - 0s 5ms/step - loss: 14.7930 - mae: 14.7930\n",
            "Epoch 412/500\n",
            "2/2 [==============================] - 0s 5ms/step - loss: 21.6102 - mae: 21.6102\n",
            "Epoch 413/500\n",
            "2/2 [==============================] - 0s 4ms/step - loss: 13.0214 - mae: 13.0214\n",
            "Epoch 414/500\n",
            "2/2 [==============================] - 0s 5ms/step - loss: 8.3202 - mae: 8.3202\n",
            "Epoch 415/500\n",
            "2/2 [==============================] - 0s 4ms/step - loss: 11.7162 - mae: 11.7162\n",
            "Epoch 416/500\n",
            "2/2 [==============================] - 0s 4ms/step - loss: 25.6667 - mae: 25.6667\n",
            "Epoch 417/500\n",
            "2/2 [==============================] - 0s 4ms/step - loss: 15.6201 - mae: 15.6201\n",
            "Epoch 418/500\n",
            "2/2 [==============================] - 0s 4ms/step - loss: 12.6152 - mae: 12.6152\n",
            "Epoch 419/500\n",
            "2/2 [==============================] - 0s 4ms/step - loss: 15.7482 - mae: 15.7482\n",
            "Epoch 420/500\n",
            "2/2 [==============================] - 0s 4ms/step - loss: 24.4792 - mae: 24.4792\n",
            "Epoch 421/500\n",
            "2/2 [==============================] - 0s 4ms/step - loss: 18.1492 - mae: 18.1492\n",
            "Epoch 422/500\n",
            "2/2 [==============================] - 0s 4ms/step - loss: 8.6574 - mae: 8.6574\n",
            "Epoch 423/500\n",
            "2/2 [==============================] - 0s 4ms/step - loss: 24.6866 - mae: 24.6866\n",
            "Epoch 424/500\n",
            "2/2 [==============================] - 0s 4ms/step - loss: 16.7661 - mae: 16.7661\n",
            "Epoch 425/500\n",
            "2/2 [==============================] - 0s 4ms/step - loss: 7.3036 - mae: 7.3036\n",
            "Epoch 426/500\n",
            "2/2 [==============================] - 0s 4ms/step - loss: 20.9371 - mae: 20.9371\n",
            "Epoch 427/500\n",
            "2/2 [==============================] - 0s 7ms/step - loss: 6.4793 - mae: 6.4793\n",
            "Epoch 428/500\n",
            "2/2 [==============================] - 0s 9ms/step - loss: 13.4070 - mae: 13.4070\n",
            "Epoch 429/500\n",
            "2/2 [==============================] - 0s 4ms/step - loss: 11.1408 - mae: 11.1408\n",
            "Epoch 430/500\n",
            "2/2 [==============================] - 0s 4ms/step - loss: 12.0354 - mae: 12.0354\n",
            "Epoch 431/500\n",
            "2/2 [==============================] - 0s 6ms/step - loss: 8.5962 - mae: 8.5962\n",
            "Epoch 432/500\n",
            "2/2 [==============================] - 0s 4ms/step - loss: 18.8216 - mae: 18.8216\n",
            "Epoch 433/500\n",
            "2/2 [==============================] - 0s 4ms/step - loss: 9.4613 - mae: 9.4613\n",
            "Epoch 434/500\n",
            "2/2 [==============================] - 0s 4ms/step - loss: 31.0091 - mae: 31.0091\n",
            "Epoch 435/500\n",
            "2/2 [==============================] - 0s 6ms/step - loss: 11.8494 - mae: 11.8494\n",
            "Epoch 436/500\n",
            "2/2 [==============================] - 0s 4ms/step - loss: 28.8050 - mae: 28.8050\n",
            "Epoch 437/500\n",
            "2/2 [==============================] - 0s 5ms/step - loss: 8.0768 - mae: 8.0768\n",
            "Epoch 438/500\n",
            "2/2 [==============================] - 0s 5ms/step - loss: 12.8183 - mae: 12.8183\n",
            "Epoch 439/500\n",
            "2/2 [==============================] - 0s 5ms/step - loss: 33.9291 - mae: 33.9291\n",
            "Epoch 440/500\n",
            "2/2 [==============================] - 0s 4ms/step - loss: 15.4597 - mae: 15.4597\n",
            "Epoch 441/500\n",
            "2/2 [==============================] - 0s 5ms/step - loss: 17.8228 - mae: 17.8228\n",
            "Epoch 442/500\n",
            "2/2 [==============================] - 0s 4ms/step - loss: 17.5751 - mae: 17.5751\n",
            "Epoch 443/500\n",
            "2/2 [==============================] - 0s 4ms/step - loss: 7.6508 - mae: 7.6508\n",
            "Epoch 444/500\n",
            "2/2 [==============================] - 0s 4ms/step - loss: 22.8319 - mae: 22.8319\n",
            "Epoch 445/500\n",
            "2/2 [==============================] - 0s 4ms/step - loss: 12.1492 - mae: 12.1492\n",
            "Epoch 446/500\n",
            "2/2 [==============================] - 0s 4ms/step - loss: 10.4717 - mae: 10.4717\n",
            "Epoch 447/500\n",
            "2/2 [==============================] - 0s 4ms/step - loss: 16.9286 - mae: 16.9286\n",
            "Epoch 448/500\n",
            "2/2 [==============================] - 0s 5ms/step - loss: 11.6326 - mae: 11.6326\n",
            "Epoch 449/500\n",
            "2/2 [==============================] - 0s 4ms/step - loss: 14.8273 - mae: 14.8273\n",
            "Epoch 450/500\n",
            "2/2 [==============================] - 0s 4ms/step - loss: 17.5770 - mae: 17.5770\n",
            "Epoch 451/500\n",
            "2/2 [==============================] - 0s 4ms/step - loss: 14.6240 - mae: 14.6240\n",
            "Epoch 452/500\n",
            "2/2 [==============================] - 0s 4ms/step - loss: 31.2986 - mae: 31.2986\n",
            "Epoch 453/500\n",
            "2/2 [==============================] - 0s 4ms/step - loss: 10.5693 - mae: 10.5693\n",
            "Epoch 454/500\n",
            "2/2 [==============================] - 0s 5ms/step - loss: 26.8871 - mae: 26.8871\n",
            "Epoch 455/500\n",
            "2/2 [==============================] - 0s 4ms/step - loss: 12.2295 - mae: 12.2295\n",
            "Epoch 456/500\n",
            "2/2 [==============================] - 0s 4ms/step - loss: 15.3526 - mae: 15.3526\n",
            "Epoch 457/500\n",
            "2/2 [==============================] - 0s 5ms/step - loss: 19.0761 - mae: 19.0761\n",
            "Epoch 458/500\n",
            "2/2 [==============================] - 0s 4ms/step - loss: 23.4474 - mae: 23.4474\n",
            "Epoch 459/500\n",
            "2/2 [==============================] - 0s 4ms/step - loss: 16.8829 - mae: 16.8829\n",
            "Epoch 460/500\n",
            "2/2 [==============================] - 0s 4ms/step - loss: 6.7531 - mae: 6.7531\n",
            "Epoch 461/500\n",
            "2/2 [==============================] - 0s 4ms/step - loss: 16.2192 - mae: 16.2192\n",
            "Epoch 462/500\n",
            "2/2 [==============================] - 0s 4ms/step - loss: 15.6410 - mae: 15.6410\n",
            "Epoch 463/500\n",
            "2/2 [==============================] - 0s 7ms/step - loss: 17.4561 - mae: 17.4561\n",
            "Epoch 464/500\n",
            "2/2 [==============================] - 0s 5ms/step - loss: 11.6214 - mae: 11.6214\n",
            "Epoch 465/500\n",
            "2/2 [==============================] - 0s 5ms/step - loss: 22.3922 - mae: 22.3922\n",
            "Epoch 466/500\n",
            "2/2 [==============================] - 0s 4ms/step - loss: 23.0285 - mae: 23.0285\n",
            "Epoch 467/500\n",
            "2/2 [==============================] - 0s 4ms/step - loss: 13.0823 - mae: 13.0823\n",
            "Epoch 468/500\n",
            "2/2 [==============================] - 0s 4ms/step - loss: 10.4164 - mae: 10.4164\n",
            "Epoch 469/500\n",
            "2/2 [==============================] - 0s 4ms/step - loss: 27.4549 - mae: 27.4549\n",
            "Epoch 470/500\n",
            "2/2 [==============================] - 0s 4ms/step - loss: 12.2784 - mae: 12.2784\n",
            "Epoch 471/500\n",
            "2/2 [==============================] - 0s 4ms/step - loss: 11.8022 - mae: 11.8022\n",
            "Epoch 472/500\n",
            "2/2 [==============================] - 0s 4ms/step - loss: 15.5950 - mae: 15.5950\n",
            "Epoch 473/500\n",
            "2/2 [==============================] - 0s 4ms/step - loss: 15.6660 - mae: 15.6660\n",
            "Epoch 474/500\n",
            "2/2 [==============================] - 0s 4ms/step - loss: 19.9140 - mae: 19.9140\n",
            "Epoch 475/500\n",
            "2/2 [==============================] - 0s 4ms/step - loss: 5.6352 - mae: 5.6352\n",
            "Epoch 476/500\n",
            "2/2 [==============================] - 0s 4ms/step - loss: 13.0775 - mae: 13.0775\n",
            "Epoch 477/500\n",
            "2/2 [==============================] - 0s 4ms/step - loss: 29.0028 - mae: 29.0028\n",
            "Epoch 478/500\n",
            "2/2 [==============================] - 0s 5ms/step - loss: 6.2021 - mae: 6.2021\n",
            "Epoch 479/500\n",
            "2/2 [==============================] - 0s 4ms/step - loss: 4.2992 - mae: 4.2992\n",
            "Epoch 480/500\n",
            "2/2 [==============================] - 0s 4ms/step - loss: 21.4831 - mae: 21.4831\n",
            "Epoch 481/500\n",
            "2/2 [==============================] - 0s 4ms/step - loss: 21.9064 - mae: 21.9064\n",
            "Epoch 482/500\n",
            "2/2 [==============================] - 0s 4ms/step - loss: 10.8690 - mae: 10.8690\n",
            "Epoch 483/500\n",
            "2/2 [==============================] - 0s 4ms/step - loss: 5.8397 - mae: 5.8397\n",
            "Epoch 484/500\n",
            "2/2 [==============================] - 0s 8ms/step - loss: 31.5773 - mae: 31.5773\n",
            "Epoch 485/500\n",
            "2/2 [==============================] - 0s 11ms/step - loss: 11.5013 - mae: 11.5013\n",
            "Epoch 486/500\n",
            "2/2 [==============================] - 0s 4ms/step - loss: 7.6158 - mae: 7.6158\n",
            "Epoch 487/500\n",
            "2/2 [==============================] - 0s 5ms/step - loss: 6.3823 - mae: 6.3823\n",
            "Epoch 488/500\n",
            "2/2 [==============================] - 0s 4ms/step - loss: 30.4666 - mae: 30.4666\n",
            "Epoch 489/500\n",
            "2/2 [==============================] - 0s 4ms/step - loss: 12.5000 - mae: 12.5000\n",
            "Epoch 490/500\n",
            "2/2 [==============================] - 0s 7ms/step - loss: 13.0256 - mae: 13.0256\n",
            "Epoch 491/500\n",
            "2/2 [==============================] - 0s 5ms/step - loss: 24.1965 - mae: 24.1965\n",
            "Epoch 492/500\n",
            "2/2 [==============================] - 0s 4ms/step - loss: 19.0293 - mae: 19.0293\n",
            "Epoch 493/500\n",
            "2/2 [==============================] - 0s 4ms/step - loss: 4.9007 - mae: 4.9007\n",
            "Epoch 494/500\n",
            "2/2 [==============================] - 0s 6ms/step - loss: 12.3314 - mae: 12.3314\n",
            "Epoch 495/500\n",
            "2/2 [==============================] - 0s 4ms/step - loss: 13.5866 - mae: 13.5866\n",
            "Epoch 496/500\n",
            "2/2 [==============================] - 0s 8ms/step - loss: 12.8204 - mae: 12.8204\n",
            "Epoch 497/500\n",
            "2/2 [==============================] - 0s 4ms/step - loss: 17.8870 - mae: 17.8870\n",
            "Epoch 498/500\n",
            "2/2 [==============================] - 0s 4ms/step - loss: 22.9735 - mae: 22.9735\n",
            "Epoch 499/500\n",
            "2/2 [==============================] - 0s 5ms/step - loss: 8.8046 - mae: 8.8046\n",
            "Epoch 500/500\n",
            "2/2 [==============================] - 0s 4ms/step - loss: 14.4342 - mae: 14.4342\n"
          ]
        },
        {
          "output_type": "execute_result",
          "data": {
            "text/plain": [
              "<keras.callbacks.History at 0x7852265dde40>"
            ]
          },
          "metadata": {},
          "execution_count": 219
        }
      ]
    },
    {
      "cell_type": "code",
      "source": [
        "# make and plot predictions\n",
        "y_preds_3 = model_3.predict(X_test)\n",
        "plot_predictions(predictions = y_preds_3)"
      ],
      "metadata": {
        "colab": {
          "base_uri": "https://localhost:8080/",
          "height": 616
        },
        "id": "8P36H6F-l47N",
        "outputId": "2ab855b5-a12a-49a7-b7d9-d2f18d46db6d"
      },
      "execution_count": null,
      "outputs": [
        {
          "output_type": "stream",
          "name": "stdout",
          "text": [
            "1/1 [==============================] - 0s 58ms/step\n"
          ]
        },
        {
          "output_type": "display_data",
          "data": {
            "text/plain": [
              "<Figure size 1000x700 with 1 Axes>"
            ],
            "image/png": "[encoded data removed]"
          },
          "metadata": {}
        }
      ]
    },
    {
      "cell_type": "markdown",
      "source": [
        "**AS IT CAN BE SEEN ABOVE WITH MORE EPOCHS OUR MODEL IS OVERFITTED**"
      ],
      "metadata": {
        "id": "7EFz-FuSmkVy"
      }
    },
    {
      "cell_type": "code",
      "source": [
        "# calculate model_3 evaluation metrics\n",
        "mae_3 = mae(Y_test,y_preds_3)\n",
        "mse_3 = mse(Y_test, y_preds_3)\n",
        "mae_3, mse_3"
      ],
      "metadata": {
        "colab": {
          "base_uri": "https://localhost:8080/"
        },
        "id": "obIx1nJRmZ1P",
        "outputId": "11a6aafb-40b5-4cc6-88f6-fa9f7fcc41ca"
      },
      "execution_count": null,
      "outputs": [
        {
          "output_type": "execute_result",
          "data": {
            "text/plain": [
              "(<tf.Tensor: shape=(), dtype=float32, numpy=68.0827>,\n",
              " <tf.Tensor: shape=(), dtype=float32, numpy=4720.0283>)"
            ]
          },
          "metadata": {},
          "execution_count": 221
        }
      ]
    },
    {
      "cell_type": "markdown",
      "source": [
        "**Comparing the results of our experiments**\n",
        "* We have run o few experiments, let's compare the results"
      ],
      "metadata": {
        "id": "ho0TAUbVnILz"
      }
    },
    {
      "cell_type": "code",
      "source": [
        "# Let's compare our model's results using a pandas DataFrame\n",
        "import pandas as pd\n",
        "\n",
        "model_results = [[\"Model_1\",mae_1.numpy(),mse_1.numpy()],\n",
        "                [\"Model_2\",mae_2.numpy(),mse_2.numpy()],\n",
        "                [\"Model_3\",mae_3.numpy(),mse_3.numpy()]\n",
        "               ]\n",
        "\n",
        "all_results = pd.DataFrame(model_results, columns = [\"model\",\"mae\",\"mse\"])\n",
        "all_results\n",
        "# looks like model_2 is better"
      ],
      "metadata": {
        "colab": {
          "base_uri": "https://localhost:8080/",
          "height": 143
        },
        "id": "Xo3bHBBHm7k-",
        "outputId": "a0f05d9f-79cf-4ae1-ee8e-5ae62bca91ca"
      },
      "execution_count": null,
      "outputs": [
        {
          "output_type": "execute_result",
          "data": {
            "text/plain": [
              "     model        mae          mse\n",
              "0  Model_1  30.549179   943.584351\n",
              "1  Model_2  28.753742   856.421509\n",
              "2  Model_3  68.082703  4720.028320"
            ],
            "text/html": [
              "\n",
              "  <div id=\"df-3b0ffb0b-296d-45ca-888e-8a30791d3f8c\" class=\"colab-df-container\">\n",
              "    <div>\n",
              "<style scoped>\n",
              "    .dataframe tbody tr th:only-of-type {\n",
              "        vertical-align: middle;\n",
              "    }\n",
              "\n",
              "    .dataframe tbody tr th {\n",
              "        vertical-align: top;\n",
              "    }\n",
              "\n",
              "    .dataframe thead th {\n",
              "        text-align: right;\n",
              "    }\n",
              "</style>\n",
              "<table border=\"1\" class=\"dataframe\">\n",
              "  <thead>\n",
              "    <tr style=\"text-align: right;\">\n",
              "      <th></th>\n",
              "      <th>model</th>\n",
              "      <th>mae</th>\n",
              "      <th>mse</th>\n",
              "    </tr>\n",
              "  </thead>\n",
              "  <tbody>\n",
              "    <tr>\n",
              "      <th>0</th>\n",
              "      <td>Model_1</td>\n",
              "      <td>30.549179</td>\n",
              "      <td>943.584351</td>\n",
              "    </tr>\n",
              "    <tr>\n",
              "      <th>1</th>\n",
              "      <td>Model_2</td>\n",
              "      <td>28.753742</td>\n",
              "      <td>856.421509</td>\n",
              "    </tr>\n",
              "    <tr>\n",
              "      <th>2</th>\n",
              "      <td>Model_3</td>\n",
              "      <td>68.082703</td>\n",
              "      <td>4720.028320</td>\n",
              "    </tr>\n",
              "  </tbody>\n",
              "</table>\n",
              "</div>\n",
              "    <div class=\"colab-df-buttons\">\n",
              "\n",
              "  <div class=\"colab-df-container\">\n",
              "    <button class=\"colab-df-convert\" onclick=\"convertToInteractive('df-3b0ffb0b-296d-45ca-888e-8a30791d3f8c')\"\n",
              "            title=\"Convert this dataframe to an interactive table.\"\n",
              "            style=\"display:none;\">\n",
              "\n",
              "  <svg xmlns=\"http://www.w3.org/2000/svg\" height=\"24px\" viewBox=\"0 -960 960 960\">\n",
              "    <path d=\"M120-120v-720h720v720H120Zm60-500h600v-160H180v160Zm220 220h160v-160H400v160Zm0 220h160v-160H400v160ZM180-400h160v-160H180v160Zm440 0h160v-160H620v160ZM180-180h160v-160H180v160Zm440 0h160v-160H620v160Z\"/>\n",
              "  </svg>\n",
              "    </button>\n",
              "\n",
              "  <style>\n",
              "    .colab-df-container {\n",
              "      display:flex;\n",
              "      gap: 12px;\n",
              "    }\n",
              "\n",
              "    .colab-df-convert {\n",
              "      background-color: #E8F0FE;\n",
              "      border: none;\n",
              "      border-radius: 50%;\n",
              "      cursor: pointer;\n",
              "      display: none;\n",
              "      fill: #1967D2;\n",
              "      height: 32px;\n",
              "      padding: 0 0 0 0;\n",
              "      width: 32px;\n",
              "    }\n",
              "\n",
              "    .colab-df-convert:hover {\n",
              "      background-color: #E2EBFA;\n",
              "      box-shadow: 0px 1px 2px rgba(60, 64, 67, 0.3), 0px 1px 3px 1px rgba(60, 64, 67, 0.15);\n",
              "      fill: #174EA6;\n",
              "    }\n",
              "\n",
              "    .colab-df-buttons div {\n",
              "      margin-bottom: 4px;\n",
              "    }\n",
              "\n",
              "    [theme=dark] .colab-df-convert {\n",
              "      background-color: #3B4455;\n",
              "      fill: #D2E3FC;\n",
              "    }\n",
              "\n",
              "    [theme=dark] .colab-df-convert:hover {\n",
              "      background-color: #434B5C;\n",
              "      box-shadow: 0px 1px 3px 1px rgba(0, 0, 0, 0.15);\n",
              "      filter: drop-shadow(0px 1px 2px rgba(0, 0, 0, 0.3));\n",
              "      fill: #FFFFFF;\n",
              "    }\n",
              "  </style>\n",
              "\n",
              "    <script>\n",
              "      const buttonEl =\n",
              "        document.querySelector('#df-3b0ffb0b-296d-45ca-888e-8a30791d3f8c button.colab-df-convert');\n",
              "      buttonEl.style.display =\n",
              "        google.colab.kernel.accessAllowed ? 'block' : 'none';\n",
              "\n",
              "      async function convertToInteractive(key) {\n",
              "        const element = document.querySelector('#df-3b0ffb0b-296d-45ca-888e-8a30791d3f8c');\n",
              "        const dataTable =\n",
              "          await google.colab.kernel.invokeFunction('convertToInteractive',\n",
              "                                                    [key], {});\n",
              "        if (!dataTable) return;\n",
              "\n",
              "        const docLinkHtml = 'Like what you see? Visit the ' +\n",
              "          '<a target=\"_blank\" href=https://colab.research.google.com/notebooks/data_table.ipynb>data table notebook</a>'\n",
              "          + ' to learn more about interactive tables.';\n",
              "        element.innerHTML = '';\n",
              "        dataTable['output_type'] = 'display_data';\n",
              "        await google.colab.output.renderOutput(dataTable, element);\n",
              "        const docLink = document.createElement('div');\n",
              "        docLink.innerHTML = docLinkHtml;\n",
              "        element.appendChild(docLink);\n",
              "      }\n",
              "    </script>\n",
              "  </div>\n",
              "\n",
              "    </div>\n",
              "  </div>\n"
            ]
          },
          "metadata": {},
          "execution_count": 222
        }
      ]
    },
    {
      "cell_type": "code",
      "source": [
        "model_2.summary()"
      ],
      "metadata": {
        "colab": {
          "base_uri": "https://localhost:8080/"
        },
        "id": "pnNhuGrWPm-m",
        "outputId": "8058d477-a941-4ff9-e0bd-f8d7a9b15029"
      },
      "execution_count": null,
      "outputs": [
        {
          "output_type": "stream",
          "name": "stdout",
          "text": [
            "Model: \"sequential_18\"\n",
            "_________________________________________________________________\n",
            " Layer (type)                Output Shape              Param #   \n",
            "=================================================================\n",
            " dense_33 (Dense)            (None, 10)                20        \n",
            "                                                                 \n",
            " dense_34 (Dense)            (None, 1)                 11        \n",
            "                                                                 \n",
            "=================================================================\n",
            "Total params: 31\n",
            "Trainable params: 31\n",
            "Non-trainable params: 0\n",
            "_________________________________________________________________\n"
          ]
        }
      ]
    },
    {
      "cell_type": "markdown",
      "source": [
        "**Tracking your experience**\n",
        "* One really good habit in machine learning is to track the results of your experience\n",
        "and when doing do, it can be tedious, if you are running lots of experiments\n",
        "* However, there are tools to help us\n",
        "1. Tensorboard a component of the Tensorflow library to help track modelling experiments\n",
        "2. Weights and Biases a tool for tracking all of kinds of machine learning experiments"
      ],
      "metadata": {
        "id": "aQnHfE1eQkbR"
      }
    },
    {
      "cell_type": "markdown",
      "source": [
        "**Saving our trained models**\n",
        "* Saving our models allow us to use them outside of the Google Colab (or wherever they were trained) such as in a web application or mobile app.\n",
        "* There are two main forms we can save our model's too :\n",
        "1. The SavedModel format\n",
        "2. The HDF5 format"
      ],
      "metadata": {
        "id": "HljwvckvRqlV"
      }
    },
    {
      "cell_type": "code",
      "source": [
        "# save a model using the SavedModel format\n",
        "model_2.save(\"best_model_SavedModel_format\")"
      ],
      "metadata": {
        "colab": {
          "base_uri": "https://localhost:8080/"
        },
        "id": "6HtgUuwtRuNl",
        "outputId": "64ed00c1-4235-4939-ce52-0d4c7240e8dc"
      },
      "execution_count": null,
      "outputs": [
        {
          "output_type": "stream",
          "name": "stderr",
          "text": [
            "WARNING:absl:Found untraced functions such as _update_step_xla while saving (showing 1 of 1). These functions will not be directly callable after loading.\n"
          ]
        }
      ]
    },
    {
      "cell_type": "code",
      "source": [
        "# Save model using the HDF5 format\n",
        "model_2.save(\"best_model_HDF5_format.h5\")"
      ],
      "metadata": {
        "id": "xWd_uAvFS02t"
      },
      "execution_count": null,
      "outputs": []
    },
    {
      "cell_type": "markdown",
      "source": [
        "**Loading Saved Model**"
      ],
      "metadata": {
        "id": "tkM3G-n3Th7E"
      }
    },
    {
      "cell_type": "code",
      "source": [
        "# Load in the SavedModel format model\n",
        "loaded_SavedModel_format = tf.keras.models.load_model(\"best_model_SavedModel_format\")\n",
        "loaded_SavedModel_format.summary()"
      ],
      "metadata": {
        "colab": {
          "base_uri": "https://localhost:8080/"
        },
        "id": "LJpPAf7PTqrG",
        "outputId": "26b15040-92ef-4886-8348-1292f500f414"
      },
      "execution_count": null,
      "outputs": [
        {
          "output_type": "stream",
          "name": "stdout",
          "text": [
            "Model: \"sequential_18\"\n",
            "_________________________________________________________________\n",
            " Layer (type)                Output Shape              Param #   \n",
            "=================================================================\n",
            " dense_33 (Dense)            (None, 10)                20        \n",
            "                                                                 \n",
            " dense_34 (Dense)            (None, 1)                 11        \n",
            "                                                                 \n",
            "=================================================================\n",
            "Total params: 31\n",
            "Trainable params: 31\n",
            "Non-trainable params: 0\n",
            "_________________________________________________________________\n"
          ]
        }
      ]
    },
    {
      "cell_type": "code",
      "source": [
        "# let's check whether model_2 saved correctly or not\n",
        "model_2.summary()"
      ],
      "metadata": {
        "colab": {
          "base_uri": "https://localhost:8080/"
        },
        "id": "39eyQ_x8UGNe",
        "outputId": "dc3003bd-537c-4a99-e81f-d0b455ea65a0"
      },
      "execution_count": null,
      "outputs": [
        {
          "output_type": "stream",
          "name": "stdout",
          "text": [
            "Model: \"sequential_18\"\n",
            "_________________________________________________________________\n",
            " Layer (type)                Output Shape              Param #   \n",
            "=================================================================\n",
            " dense_33 (Dense)            (None, 10)                20        \n",
            "                                                                 \n",
            " dense_34 (Dense)            (None, 1)                 11        \n",
            "                                                                 \n",
            "=================================================================\n",
            "Total params: 31\n",
            "Trainable params: 31\n",
            "Non-trainable params: 0\n",
            "_________________________________________________________________\n"
          ]
        }
      ]
    },
    {
      "cell_type": "code",
      "source": [
        "# Compare model_2 predictions with SavedModel format predicitions\n",
        "model_2_preds = model_2.predict(X_test)\n",
        "loaded_SavedModel_format_preds = loaded_SavedModel_format.predict(X_test)\n",
        "model_2_preds == loaded_SavedModel_format_preds"
      ],
      "metadata": {
        "colab": {
          "base_uri": "https://localhost:8080/"
        },
        "id": "qQ-sp4j4UQFi",
        "outputId": "305cca36-dabc-4b43-9493-25004fff5ff2"
      },
      "execution_count": null,
      "outputs": [
        {
          "output_type": "stream",
          "name": "stdout",
          "text": [
            "1/1 [==============================] - 0s 38ms/step\n",
            "1/1 [==============================] - 0s 56ms/step\n"
          ]
        },
        {
          "output_type": "execute_result",
          "data": {
            "text/plain": [
              "array([[ True],\n",
              "       [ True],\n",
              "       [ True],\n",
              "       [ True],\n",
              "       [ True],\n",
              "       [ True],\n",
              "       [ True],\n",
              "       [ True],\n",
              "       [ True],\n",
              "       [ True]])"
            ]
          },
          "metadata": {},
          "execution_count": 228
        }
      ]
    },
    {
      "cell_type": "code",
      "source": [
        "# Load in a model using the .h2 format\n",
        "loaded_h5_format = tf.keras.models.load_model(\"best_model_HDF5_format.h5\")"
      ],
      "metadata": {
        "id": "phZ_56Q9U5Nk"
      },
      "execution_count": null,
      "outputs": []
    },
    {
      "cell_type": "code",
      "source": [
        "loaded_h5_format.summary()"
      ],
      "metadata": {
        "colab": {
          "base_uri": "https://localhost:8080/"
        },
        "id": "PGSD_v-xVouC",
        "outputId": "bd8b4674-4177-441c-8234-8f571c1a495c"
      },
      "execution_count": null,
      "outputs": [
        {
          "output_type": "stream",
          "name": "stdout",
          "text": [
            "Model: \"sequential_18\"\n",
            "_________________________________________________________________\n",
            " Layer (type)                Output Shape              Param #   \n",
            "=================================================================\n",
            " dense_33 (Dense)            (None, 10)                20        \n",
            "                                                                 \n",
            " dense_34 (Dense)            (None, 1)                 11        \n",
            "                                                                 \n",
            "=================================================================\n",
            "Total params: 31\n",
            "Trainable params: 31\n",
            "Non-trainable params: 0\n",
            "_________________________________________________________________\n"
          ]
        }
      ]
    },
    {
      "cell_type": "code",
      "source": [
        "model_2.summary()"
      ],
      "metadata": {
        "colab": {
          "base_uri": "https://localhost:8080/"
        },
        "id": "-enFPLUmVwrv",
        "outputId": "26115305-e176-4d72-cfbc-2b086cbd371f"
      },
      "execution_count": null,
      "outputs": [
        {
          "output_type": "stream",
          "name": "stdout",
          "text": [
            "Model: \"sequential_18\"\n",
            "_________________________________________________________________\n",
            " Layer (type)                Output Shape              Param #   \n",
            "=================================================================\n",
            " dense_33 (Dense)            (None, 10)                20        \n",
            "                                                                 \n",
            " dense_34 (Dense)            (None, 1)                 11        \n",
            "                                                                 \n",
            "=================================================================\n",
            "Total params: 31\n",
            "Trainable params: 31\n",
            "Non-trainable params: 0\n",
            "_________________________________________________________________\n"
          ]
        }
      ]
    },
    {
      "cell_type": "code",
      "source": [
        "# Compare model_2 predictions with h5 format predicitions\n",
        "loaded_h5_format_preds = loaded_h5_format.predict(X_test)"
      ],
      "metadata": {
        "colab": {
          "base_uri": "https://localhost:8080/"
        },
        "id": "lPdQ1Dz0V2EZ",
        "outputId": "6c83fc17-0c90-44d3-9a7f-c42358126a17"
      },
      "execution_count": null,
      "outputs": [
        {
          "output_type": "stream",
          "name": "stdout",
          "text": [
            "1/1 [==============================] - 0s 52ms/step\n"
          ]
        }
      ]
    },
    {
      "cell_type": "code",
      "source": [
        "loaded_h5_format_preds == model_2_preds"
      ],
      "metadata": {
        "colab": {
          "base_uri": "https://localhost:8080/"
        },
        "id": "jQTwqICaWFJP",
        "outputId": "e6bcfcaf-d84f-4e22-b8f6-fdde48b2cf41"
      },
      "execution_count": null,
      "outputs": [
        {
          "output_type": "execute_result",
          "data": {
            "text/plain": [
              "array([[ True],\n",
              "       [ True],\n",
              "       [ True],\n",
              "       [ True],\n",
              "       [ True],\n",
              "       [ True],\n",
              "       [ True],\n",
              "       [ True],\n",
              "       [ True],\n",
              "       [ True]])"
            ]
          },
          "metadata": {},
          "execution_count": 233
        }
      ]
    },
    {
      "cell_type": "markdown",
      "source": [
        "**Download a model (or any other file f) from Google Colab\n",
        "* If you want to download your files from Google Colab:\n",
        "1. You can go to the \"files\" tab and right click on the file tou are after and click \"download\".\n",
        "2. We can use code\n",
        "3. You can save it to google drive and then download from drive"
      ],
      "metadata": {
        "id": "urwNqtmIWgtC"
      }
    },
    {
      "cell_type": "code",
      "source": [
        "# Download a file from Google Colab\n",
        "from google.colab import files\n",
        "#files.download(\"/content/best_model_HDF5_format.h5\")"
      ],
      "metadata": {
        "id": "8xdbPa1wXNhr"
      },
      "execution_count": null,
      "outputs": []
    },
    {
      "cell_type": "code",
      "source": [
        "# Save a file from google colab to google drive (requires mounting google drive)\n",
        "!cp /content/best_model_HDF5_format.h5 /content/drive/MyDrive/Data"
      ],
      "metadata": {
        "id": "Qlez5_8jXzo0"
      },
      "execution_count": null,
      "outputs": []
    },
    {
      "cell_type": "code",
      "source": [
        "!ls /content/drive/MyDrive/Data"
      ],
      "metadata": {
        "colab": {
          "base_uri": "https://localhost:8080/"
        },
        "id": "hhlvGNqYZA0Q",
        "outputId": "1de5e93d-0669-4eec-cb7f-19c691fdb0af"
      },
      "execution_count": null,
      "outputs": [
        {
          "output_type": "stream",
          "name": "stdout",
          "text": [
            " best_model_HDF5_format.h5  'CAR DETAILS FROM CAR DEKHO.csv'\n"
          ]
        }
      ]
    },
    {
      "cell_type": "markdown",
      "source": [
        "**A larger Example**"
      ],
      "metadata": {
        "id": "a_3HDztWZZDC"
      }
    },
    {
      "cell_type": "code",
      "source": [
        "# Import required libraries\n",
        "import tensorflow as tf\n",
        "import pandas as pd\n",
        "import matplotlib.pyplot as plt\n"
      ],
      "metadata": {
        "id": "mc20y-rkZjHt"
      },
      "execution_count": null,
      "outputs": []
    },
    {
      "cell_type": "code",
      "source": [
        "# Read in the insurance dataset\n",
        "insurance = pd.read_csv(\"https://raw.githubusercontent.com/stedy/Machine-Learning-with-R-datasets/master/insurance.csv\")"
      ],
      "metadata": {
        "id": "jbjBGLhFapPm"
      },
      "execution_count": null,
      "outputs": []
    },
    {
      "cell_type": "code",
      "source": [
        "insurance"
      ],
      "metadata": {
        "colab": {
          "base_uri": "https://localhost:8080/",
          "height": 424
        },
        "id": "07Ue61wWay--",
        "outputId": "94e080d0-454b-4408-ca08-ea666e81dbdc"
      },
      "execution_count": null,
      "outputs": [
        {
          "output_type": "execute_result",
          "data": {
            "text/plain": [
              "      age     sex     bmi  children smoker     region      charges\n",
              "0      19  female  27.900         0    yes  southwest  16884.92400\n",
              "1      18    male  33.770         1     no  southeast   1725.55230\n",
              "2      28    male  33.000         3     no  southeast   4449.46200\n",
              "3      33    male  22.705         0     no  northwest  21984.47061\n",
              "4      32    male  28.880         0     no  northwest   3866.85520\n",
              "...   ...     ...     ...       ...    ...        ...          ...\n",
              "1333   50    male  30.970         3     no  northwest  10600.54830\n",
              "1334   18  female  31.920         0     no  northeast   2205.98080\n",
              "1335   18  female  36.850         0     no  southeast   1629.83350\n",
              "1336   21  female  25.800         0     no  southwest   2007.94500\n",
              "1337   61  female  29.070         0    yes  northwest  29141.36030\n",
              "\n",
              "[1338 rows x 7 columns]"
            ],
            "text/html": [
              "\n",
              "  <div id=\"df-94a1f808-28d0-4dcb-8cac-b71ebf643f7e\" class=\"colab-df-container\">\n",
              "    <div>\n",
              "<style scoped>\n",
              "    .dataframe tbody tr th:only-of-type {\n",
              "        vertical-align: middle;\n",
              "    }\n",
              "\n",
              "    .dataframe tbody tr th {\n",
              "        vertical-align: top;\n",
              "    }\n",
              "\n",
              "    .dataframe thead th {\n",
              "        text-align: right;\n",
              "    }\n",
              "</style>\n",
              "<table border=\"1\" class=\"dataframe\">\n",
              "  <thead>\n",
              "    <tr style=\"text-align: right;\">\n",
              "      <th></th>\n",
              "      <th>age</th>\n",
              "      <th>sex</th>\n",
              "      <th>bmi</th>\n",
              "      <th>children</th>\n",
              "      <th>smoker</th>\n",
              "      <th>region</th>\n",
              "      <th>charges</th>\n",
              "    </tr>\n",
              "  </thead>\n",
              "  <tbody>\n",
              "    <tr>\n",
              "      <th>0</th>\n",
              "      <td>19</td>\n",
              "      <td>female</td>\n",
              "      <td>27.900</td>\n",
              "      <td>0</td>\n",
              "      <td>yes</td>\n",
              "      <td>southwest</td>\n",
              "      <td>16884.92400</td>\n",
              "    </tr>\n",
              "    <tr>\n",
              "      <th>1</th>\n",
              "      <td>18</td>\n",
              "      <td>male</td>\n",
              "      <td>33.770</td>\n",
              "      <td>1</td>\n",
              "      <td>no</td>\n",
              "      <td>southeast</td>\n",
              "      <td>1725.55230</td>\n",
              "    </tr>\n",
              "    <tr>\n",
              "      <th>2</th>\n",
              "      <td>28</td>\n",
              "      <td>male</td>\n",
              "      <td>33.000</td>\n",
              "      <td>3</td>\n",
              "      <td>no</td>\n",
              "      <td>southeast</td>\n",
              "      <td>4449.46200</td>\n",
              "    </tr>\n",
              "    <tr>\n",
              "      <th>3</th>\n",
              "      <td>33</td>\n",
              "      <td>male</td>\n",
              "      <td>22.705</td>\n",
              "      <td>0</td>\n",
              "      <td>no</td>\n",
              "      <td>northwest</td>\n",
              "      <td>21984.47061</td>\n",
              "    </tr>\n",
              "    <tr>\n",
              "      <th>4</th>\n",
              "      <td>32</td>\n",
              "      <td>male</td>\n",
              "      <td>28.880</td>\n",
              "      <td>0</td>\n",
              "      <td>no</td>\n",
              "      <td>northwest</td>\n",
              "      <td>3866.85520</td>\n",
              "    </tr>\n",
              "    <tr>\n",
              "      <th>...</th>\n",
              "      <td>...</td>\n",
              "      <td>...</td>\n",
              "      <td>...</td>\n",
              "      <td>...</td>\n",
              "      <td>...</td>\n",
              "      <td>...</td>\n",
              "      <td>...</td>\n",
              "    </tr>\n",
              "    <tr>\n",
              "      <th>1333</th>\n",
              "      <td>50</td>\n",
              "      <td>male</td>\n",
              "      <td>30.970</td>\n",
              "      <td>3</td>\n",
              "      <td>no</td>\n",
              "      <td>northwest</td>\n",
              "      <td>10600.54830</td>\n",
              "    </tr>\n",
              "    <tr>\n",
              "      <th>1334</th>\n",
              "      <td>18</td>\n",
              "      <td>female</td>\n",
              "      <td>31.920</td>\n",
              "      <td>0</td>\n",
              "      <td>no</td>\n",
              "      <td>northeast</td>\n",
              "      <td>2205.98080</td>\n",
              "    </tr>\n",
              "    <tr>\n",
              "      <th>1335</th>\n",
              "      <td>18</td>\n",
              "      <td>female</td>\n",
              "      <td>36.850</td>\n",
              "      <td>0</td>\n",
              "      <td>no</td>\n",
              "      <td>southeast</td>\n",
              "      <td>1629.83350</td>\n",
              "    </tr>\n",
              "    <tr>\n",
              "      <th>1336</th>\n",
              "      <td>21</td>\n",
              "      <td>female</td>\n",
              "      <td>25.800</td>\n",
              "      <td>0</td>\n",
              "      <td>no</td>\n",
              "      <td>southwest</td>\n",
              "      <td>2007.94500</td>\n",
              "    </tr>\n",
              "    <tr>\n",
              "      <th>1337</th>\n",
              "      <td>61</td>\n",
              "      <td>female</td>\n",
              "      <td>29.070</td>\n",
              "      <td>0</td>\n",
              "      <td>yes</td>\n",
              "      <td>northwest</td>\n",
              "      <td>29141.36030</td>\n",
              "    </tr>\n",
              "  </tbody>\n",
              "</table>\n",
              "<p>1338 rows × 7 columns</p>\n",
              "</div>\n",
              "    <div class=\"colab-df-buttons\">\n",
              "\n",
              "  <div class=\"colab-df-container\">\n",
              "    <button class=\"colab-df-convert\" onclick=\"convertToInteractive('df-94a1f808-28d0-4dcb-8cac-b71ebf643f7e')\"\n",
              "            title=\"Convert this dataframe to an interactive table.\"\n",
              "            style=\"display:none;\">\n",
              "\n",
              "  <svg xmlns=\"http://www.w3.org/2000/svg\" height=\"24px\" viewBox=\"0 -960 960 960\">\n",
              "    <path d=\"M120-120v-720h720v720H120Zm60-500h600v-160H180v160Zm220 220h160v-160H400v160Zm0 220h160v-160H400v160ZM180-400h160v-160H180v160Zm440 0h160v-160H620v160ZM180-180h160v-160H180v160Zm440 0h160v-160H620v160Z\"/>\n",
              "  </svg>\n",
              "    </button>\n",
              "\n",
              "  <style>\n",
              "    .colab-df-container {\n",
              "      display:flex;\n",
              "      gap: 12px;\n",
              "    }\n",
              "\n",
              "    .colab-df-convert {\n",
              "      background-color: #E8F0FE;\n",
              "      border: none;\n",
              "      border-radius: 50%;\n",
              "      cursor: pointer;\n",
              "      display: none;\n",
              "      fill: #1967D2;\n",
              "      height: 32px;\n",
              "      padding: 0 0 0 0;\n",
              "      width: 32px;\n",
              "    }\n",
              "\n",
              "    .colab-df-convert:hover {\n",
              "      background-color: #E2EBFA;\n",
              "      box-shadow: 0px 1px 2px rgba(60, 64, 67, 0.3), 0px 1px 3px 1px rgba(60, 64, 67, 0.15);\n",
              "      fill: #174EA6;\n",
              "    }\n",
              "\n",
              "    .colab-df-buttons div {\n",
              "      margin-bottom: 4px;\n",
              "    }\n",
              "\n",
              "    [theme=dark] .colab-df-convert {\n",
              "      background-color: #3B4455;\n",
              "      fill: #D2E3FC;\n",
              "    }\n",
              "\n",
              "    [theme=dark] .colab-df-convert:hover {\n",
              "      background-color: #434B5C;\n",
              "      box-shadow: 0px 1px 3px 1px rgba(0, 0, 0, 0.15);\n",
              "      filter: drop-shadow(0px 1px 2px rgba(0, 0, 0, 0.3));\n",
              "      fill: #FFFFFF;\n",
              "    }\n",
              "  </style>\n",
              "\n",
              "    <script>\n",
              "      const buttonEl =\n",
              "        document.querySelector('#df-94a1f808-28d0-4dcb-8cac-b71ebf643f7e button.colab-df-convert');\n",
              "      buttonEl.style.display =\n",
              "        google.colab.kernel.accessAllowed ? 'block' : 'none';\n",
              "\n",
              "      async function convertToInteractive(key) {\n",
              "        const element = document.querySelector('#df-94a1f808-28d0-4dcb-8cac-b71ebf643f7e');\n",
              "        const dataTable =\n",
              "          await google.colab.kernel.invokeFunction('convertToInteractive',\n",
              "                                                    [key], {});\n",
              "        if (!dataTable) return;\n",
              "\n",
              "        const docLinkHtml = 'Like what you see? Visit the ' +\n",
              "          '<a target=\"_blank\" href=https://colab.research.google.com/notebooks/data_table.ipynb>data table notebook</a>'\n",
              "          + ' to learn more about interactive tables.';\n",
              "        element.innerHTML = '';\n",
              "        dataTable['output_type'] = 'display_data';\n",
              "        await google.colab.output.renderOutput(dataTable, element);\n",
              "        const docLink = document.createElement('div');\n",
              "        docLink.innerHTML = docLinkHtml;\n",
              "        element.appendChild(docLink);\n",
              "      }\n",
              "    </script>\n",
              "  </div>\n",
              "\n",
              "\n",
              "<div id=\"df-e9db8dbe-2025-40c8-982f-f1a3591720c2\">\n",
              "  <button class=\"colab-df-quickchart\" onclick=\"quickchart('df-e9db8dbe-2025-40c8-982f-f1a3591720c2')\"\n",
              "            title=\"Suggest charts.\"\n",
              "            style=\"display:none;\">\n",
              "\n",
              "<svg xmlns=\"http://www.w3.org/2000/svg\" height=\"24px\"viewBox=\"0 0 24 24\"\n",
              "     width=\"24px\">\n",
              "    <g>\n",
              "        <path d=\"M19 3H5c-1.1 0-2 .9-2 2v14c0 1.1.9 2 2 2h14c1.1 0 2-.9 2-2V5c0-1.1-.9-2-2-2zM9 17H7v-7h2v7zm4 0h-2V7h2v10zm4 0h-2v-4h2v4z\"/>\n",
              "    </g>\n",
              "</svg>\n",
              "  </button>\n",
              "\n",
              "<style>\n",
              "  .colab-df-quickchart {\n",
              "    background-color: #E8F0FE;\n",
              "    border: none;\n",
              "    border-radius: 50%;\n",
              "    cursor: pointer;\n",
              "    display: none;\n",
              "    fill: #1967D2;\n",
              "    height: 32px;\n",
              "    padding: 0 0 0 0;\n",
              "    width: 32px;\n",
              "  }\n",
              "\n",
              "  .colab-df-quickchart:hover {\n",
              "    background-color: #E2EBFA;\n",
              "    box-shadow: 0px 1px 2px rgba(60, 64, 67, 0.3), 0px 1px 3px 1px rgba(60, 64, 67, 0.15);\n",
              "    fill: #174EA6;\n",
              "  }\n",
              "\n",
              "  [theme=dark] .colab-df-quickchart {\n",
              "    background-color: #3B4455;\n",
              "    fill: #D2E3FC;\n",
              "  }\n",
              "\n",
              "  [theme=dark] .colab-df-quickchart:hover {\n",
              "    background-color: #434B5C;\n",
              "    box-shadow: 0px 1px 3px 1px rgba(0, 0, 0, 0.15);\n",
              "    filter: drop-shadow(0px 1px 2px rgba(0, 0, 0, 0.3));\n",
              "    fill: #FFFFFF;\n",
              "  }\n",
              "</style>\n",
              "\n",
              "  <script>\n",
              "    async function quickchart(key) {\n",
              "      const charts = await google.colab.kernel.invokeFunction(\n",
              "          'suggestCharts', [key], {});\n",
              "    }\n",
              "    (() => {\n",
              "      let quickchartButtonEl =\n",
              "        document.querySelector('#df-e9db8dbe-2025-40c8-982f-f1a3591720c2 button');\n",
              "      quickchartButtonEl.style.display =\n",
              "        google.colab.kernel.accessAllowed ? 'block' : 'none';\n",
              "    })();\n",
              "  </script>\n",
              "</div>\n",
              "    </div>\n",
              "  </div>\n"
            ]
          },
          "metadata": {},
          "execution_count": 239
        }
      ]
    },
    {
      "cell_type": "code",
      "source": [
        "# let's try one-hot encode our DataFrame so it is all numbers\n",
        "insurance_one_hot = pd.get_dummies(insurance)\n",
        "insurance_one_hot.head()"
      ],
      "metadata": {
        "colab": {
          "base_uri": "https://localhost:8080/",
          "height": 206
        },
        "id": "LQk3_myKa0tM",
        "outputId": "c5be146a-f069-412f-d774-d1e6c79d5695"
      },
      "execution_count": null,
      "outputs": [
        {
          "output_type": "execute_result",
          "data": {
            "text/plain": [
              "   age     bmi  children      charges  sex_female  sex_male  smoker_no  \\\n",
              "0   19  27.900         0  16884.92400           1         0          0   \n",
              "1   18  33.770         1   1725.55230           0         1          1   \n",
              "2   28  33.000         3   4449.46200           0         1          1   \n",
              "3   33  22.705         0  21984.47061           0         1          1   \n",
              "4   32  28.880         0   3866.85520           0         1          1   \n",
              "\n",
              "   smoker_yes  region_northeast  region_northwest  region_southeast  \\\n",
              "0           1                 0                 0                 0   \n",
              "1           0                 0                 0                 1   \n",
              "2           0                 0                 0                 1   \n",
              "3           0                 0                 1                 0   \n",
              "4           0                 0                 1                 0   \n",
              "\n",
              "   region_southwest  \n",
              "0                 1  \n",
              "1                 0  \n",
              "2                 0  \n",
              "3                 0  \n",
              "4                 0  "
            ],
            "text/html": [
              "\n",
              "  <div id=\"df-57f7c19e-2f07-480f-91a4-83448917f3a8\" class=\"colab-df-container\">\n",
              "    <div>\n",
              "<style scoped>\n",
              "    .dataframe tbody tr th:only-of-type {\n",
              "        vertical-align: middle;\n",
              "    }\n",
              "\n",
              "    .dataframe tbody tr th {\n",
              "        vertical-align: top;\n",
              "    }\n",
              "\n",
              "    .dataframe thead th {\n",
              "        text-align: right;\n",
              "    }\n",
              "</style>\n",
              "<table border=\"1\" class=\"dataframe\">\n",
              "  <thead>\n",
              "    <tr style=\"text-align: right;\">\n",
              "      <th></th>\n",
              "      <th>age</th>\n",
              "      <th>bmi</th>\n",
              "      <th>children</th>\n",
              "      <th>charges</th>\n",
              "      <th>sex_female</th>\n",
              "      <th>sex_male</th>\n",
              "      <th>smoker_no</th>\n",
              "      <th>smoker_yes</th>\n",
              "      <th>region_northeast</th>\n",
              "      <th>region_northwest</th>\n",
              "      <th>region_southeast</th>\n",
              "      <th>region_southwest</th>\n",
              "    </tr>\n",
              "  </thead>\n",
              "  <tbody>\n",
              "    <tr>\n",
              "      <th>0</th>\n",
              "      <td>19</td>\n",
              "      <td>27.900</td>\n",
              "      <td>0</td>\n",
              "      <td>16884.92400</td>\n",
              "      <td>1</td>\n",
              "      <td>0</td>\n",
              "      <td>0</td>\n",
              "      <td>1</td>\n",
              "      <td>0</td>\n",
              "      <td>0</td>\n",
              "      <td>0</td>\n",
              "      <td>1</td>\n",
              "    </tr>\n",
              "    <tr>\n",
              "      <th>1</th>\n",
              "      <td>18</td>\n",
              "      <td>33.770</td>\n",
              "      <td>1</td>\n",
              "      <td>1725.55230</td>\n",
              "      <td>0</td>\n",
              "      <td>1</td>\n",
              "      <td>1</td>\n",
              "      <td>0</td>\n",
              "      <td>0</td>\n",
              "      <td>0</td>\n",
              "      <td>1</td>\n",
              "      <td>0</td>\n",
              "    </tr>\n",
              "    <tr>\n",
              "      <th>2</th>\n",
              "      <td>28</td>\n",
              "      <td>33.000</td>\n",
              "      <td>3</td>\n",
              "      <td>4449.46200</td>\n",
              "      <td>0</td>\n",
              "      <td>1</td>\n",
              "      <td>1</td>\n",
              "      <td>0</td>\n",
              "      <td>0</td>\n",
              "      <td>0</td>\n",
              "      <td>1</td>\n",
              "      <td>0</td>\n",
              "    </tr>\n",
              "    <tr>\n",
              "      <th>3</th>\n",
              "      <td>33</td>\n",
              "      <td>22.705</td>\n",
              "      <td>0</td>\n",
              "      <td>21984.47061</td>\n",
              "      <td>0</td>\n",
              "      <td>1</td>\n",
              "      <td>1</td>\n",
              "      <td>0</td>\n",
              "      <td>0</td>\n",
              "      <td>1</td>\n",
              "      <td>0</td>\n",
              "      <td>0</td>\n",
              "    </tr>\n",
              "    <tr>\n",
              "      <th>4</th>\n",
              "      <td>32</td>\n",
              "      <td>28.880</td>\n",
              "      <td>0</td>\n",
              "      <td>3866.85520</td>\n",
              "      <td>0</td>\n",
              "      <td>1</td>\n",
              "      <td>1</td>\n",
              "      <td>0</td>\n",
              "      <td>0</td>\n",
              "      <td>1</td>\n",
              "      <td>0</td>\n",
              "      <td>0</td>\n",
              "    </tr>\n",
              "  </tbody>\n",
              "</table>\n",
              "</div>\n",
              "    <div class=\"colab-df-buttons\">\n",
              "\n",
              "  <div class=\"colab-df-container\">\n",
              "    <button class=\"colab-df-convert\" onclick=\"convertToInteractive('df-57f7c19e-2f07-480f-91a4-83448917f3a8')\"\n",
              "            title=\"Convert this dataframe to an interactive table.\"\n",
              "            style=\"display:none;\">\n",
              "\n",
              "  <svg xmlns=\"http://www.w3.org/2000/svg\" height=\"24px\" viewBox=\"0 -960 960 960\">\n",
              "    <path d=\"M120-120v-720h720v720H120Zm60-500h600v-160H180v160Zm220 220h160v-160H400v160Zm0 220h160v-160H400v160ZM180-400h160v-160H180v160Zm440 0h160v-160H620v160ZM180-180h160v-160H180v160Zm440 0h160v-160H620v160Z\"/>\n",
              "  </svg>\n",
              "    </button>\n",
              "\n",
              "  <style>\n",
              "    .colab-df-container {\n",
              "      display:flex;\n",
              "      gap: 12px;\n",
              "    }\n",
              "\n",
              "    .colab-df-convert {\n",
              "      background-color: #E8F0FE;\n",
              "      border: none;\n",
              "      border-radius: 50%;\n",
              "      cursor: pointer;\n",
              "      display: none;\n",
              "      fill: #1967D2;\n",
              "      height: 32px;\n",
              "      padding: 0 0 0 0;\n",
              "      width: 32px;\n",
              "    }\n",
              "\n",
              "    .colab-df-convert:hover {\n",
              "      background-color: #E2EBFA;\n",
              "      box-shadow: 0px 1px 2px rgba(60, 64, 67, 0.3), 0px 1px 3px 1px rgba(60, 64, 67, 0.15);\n",
              "      fill: #174EA6;\n",
              "    }\n",
              "\n",
              "    .colab-df-buttons div {\n",
              "      margin-bottom: 4px;\n",
              "    }\n",
              "\n",
              "    [theme=dark] .colab-df-convert {\n",
              "      background-color: #3B4455;\n",
              "      fill: #D2E3FC;\n",
              "    }\n",
              "\n",
              "    [theme=dark] .colab-df-convert:hover {\n",
              "      background-color: #434B5C;\n",
              "      box-shadow: 0px 1px 3px 1px rgba(0, 0, 0, 0.15);\n",
              "      filter: drop-shadow(0px 1px 2px rgba(0, 0, 0, 0.3));\n",
              "      fill: #FFFFFF;\n",
              "    }\n",
              "  </style>\n",
              "\n",
              "    <script>\n",
              "      const buttonEl =\n",
              "        document.querySelector('#df-57f7c19e-2f07-480f-91a4-83448917f3a8 button.colab-df-convert');\n",
              "      buttonEl.style.display =\n",
              "        google.colab.kernel.accessAllowed ? 'block' : 'none';\n",
              "\n",
              "      async function convertToInteractive(key) {\n",
              "        const element = document.querySelector('#df-57f7c19e-2f07-480f-91a4-83448917f3a8');\n",
              "        const dataTable =\n",
              "          await google.colab.kernel.invokeFunction('convertToInteractive',\n",
              "                                                    [key], {});\n",
              "        if (!dataTable) return;\n",
              "\n",
              "        const docLinkHtml = 'Like what you see? Visit the ' +\n",
              "          '<a target=\"_blank\" href=https://colab.research.google.com/notebooks/data_table.ipynb>data table notebook</a>'\n",
              "          + ' to learn more about interactive tables.';\n",
              "        element.innerHTML = '';\n",
              "        dataTable['output_type'] = 'display_data';\n",
              "        await google.colab.output.renderOutput(dataTable, element);\n",
              "        const docLink = document.createElement('div');\n",
              "        docLink.innerHTML = docLinkHtml;\n",
              "        element.appendChild(docLink);\n",
              "      }\n",
              "    </script>\n",
              "  </div>\n",
              "\n",
              "\n",
              "<div id=\"df-d6131459-683a-4a57-9a17-debfc27fcb00\">\n",
              "  <button class=\"colab-df-quickchart\" onclick=\"quickchart('df-d6131459-683a-4a57-9a17-debfc27fcb00')\"\n",
              "            title=\"Suggest charts.\"\n",
              "            style=\"display:none;\">\n",
              "\n",
              "<svg xmlns=\"http://www.w3.org/2000/svg\" height=\"24px\"viewBox=\"0 0 24 24\"\n",
              "     width=\"24px\">\n",
              "    <g>\n",
              "        <path d=\"M19 3H5c-1.1 0-2 .9-2 2v14c0 1.1.9 2 2 2h14c1.1 0 2-.9 2-2V5c0-1.1-.9-2-2-2zM9 17H7v-7h2v7zm4 0h-2V7h2v10zm4 0h-2v-4h2v4z\"/>\n",
              "    </g>\n",
              "</svg>\n",
              "  </button>\n",
              "\n",
              "<style>\n",
              "  .colab-df-quickchart {\n",
              "    background-color: #E8F0FE;\n",
              "    border: none;\n",
              "    border-radius: 50%;\n",
              "    cursor: pointer;\n",
              "    display: none;\n",
              "    fill: #1967D2;\n",
              "    height: 32px;\n",
              "    padding: 0 0 0 0;\n",
              "    width: 32px;\n",
              "  }\n",
              "\n",
              "  .colab-df-quickchart:hover {\n",
              "    background-color: #E2EBFA;\n",
              "    box-shadow: 0px 1px 2px rgba(60, 64, 67, 0.3), 0px 1px 3px 1px rgba(60, 64, 67, 0.15);\n",
              "    fill: #174EA6;\n",
              "  }\n",
              "\n",
              "  [theme=dark] .colab-df-quickchart {\n",
              "    background-color: #3B4455;\n",
              "    fill: #D2E3FC;\n",
              "  }\n",
              "\n",
              "  [theme=dark] .colab-df-quickchart:hover {\n",
              "    background-color: #434B5C;\n",
              "    box-shadow: 0px 1px 3px 1px rgba(0, 0, 0, 0.15);\n",
              "    filter: drop-shadow(0px 1px 2px rgba(0, 0, 0, 0.3));\n",
              "    fill: #FFFFFF;\n",
              "  }\n",
              "</style>\n",
              "\n",
              "  <script>\n",
              "    async function quickchart(key) {\n",
              "      const charts = await google.colab.kernel.invokeFunction(\n",
              "          'suggestCharts', [key], {});\n",
              "    }\n",
              "    (() => {\n",
              "      let quickchartButtonEl =\n",
              "        document.querySelector('#df-d6131459-683a-4a57-9a17-debfc27fcb00 button');\n",
              "      quickchartButtonEl.style.display =\n",
              "        google.colab.kernel.accessAllowed ? 'block' : 'none';\n",
              "    })();\n",
              "  </script>\n",
              "</div>\n",
              "    </div>\n",
              "  </div>\n"
            ]
          },
          "metadata": {},
          "execution_count": 240
        }
      ]
    },
    {
      "cell_type": "code",
      "source": [
        "# Create X and Y values (features and labels)\n",
        "X = insurance_one_hot.drop(\"charges\",axis = 1)\n",
        "Y = insurance_one_hot[\"charges\"]"
      ],
      "metadata": {
        "id": "6iuJHfQSb0zk"
      },
      "execution_count": null,
      "outputs": []
    },
    {
      "cell_type": "code",
      "source": [
        "# view X  and Y\n",
        "X.head(), Y.head()"
      ],
      "metadata": {
        "colab": {
          "base_uri": "https://localhost:8080/"
        },
        "id": "ME-YQp8LcxFa",
        "outputId": "ab83fea2-4a47-442b-83d5-a3979b02698c"
      },
      "execution_count": null,
      "outputs": [
        {
          "output_type": "execute_result",
          "data": {
            "text/plain": [
              "(   age     bmi  children  sex_female  sex_male  smoker_no  smoker_yes  \\\n",
              " 0   19  27.900         0           1         0          0           1   \n",
              " 1   18  33.770         1           0         1          1           0   \n",
              " 2   28  33.000         3           0         1          1           0   \n",
              " 3   33  22.705         0           0         1          1           0   \n",
              " 4   32  28.880         0           0         1          1           0   \n",
              " \n",
              "    region_northeast  region_northwest  region_southeast  region_southwest  \n",
              " 0                 0                 0                 0                 1  \n",
              " 1                 0                 0                 1                 0  \n",
              " 2                 0                 0                 1                 0  \n",
              " 3                 0                 1                 0                 0  \n",
              " 4                 0                 1                 0                 0  ,\n",
              " 0    16884.92400\n",
              " 1     1725.55230\n",
              " 2     4449.46200\n",
              " 3    21984.47061\n",
              " 4     3866.85520\n",
              " Name: charges, dtype: float64)"
            ]
          },
          "metadata": {},
          "execution_count": 242
        }
      ]
    },
    {
      "cell_type": "code",
      "source": [
        "# create training and test sets for us to done this we can use scikit_learn python library\n",
        "from sklearn.model_selection import train_test_split\n",
        "X_train, X_test, Y_train, Y_test = train_test_split(X,Y,test_size = 0.2, random_state = 42)\n",
        "len(X), len(X_train), len(X_test)\n",
        "# random_satate help rows to be exchnged (shuffled)"
      ],
      "metadata": {
        "colab": {
          "base_uri": "https://localhost:8080/"
        },
        "id": "fAIi7TQkczOw",
        "outputId": "fde1dfa1-cdcc-4600-bd43-8faffc1cbc5c"
      },
      "execution_count": null,
      "outputs": [
        {
          "output_type": "execute_result",
          "data": {
            "text/plain": [
              "(1338, 1070, 268)"
            ]
          },
          "metadata": {},
          "execution_count": 243
        }
      ]
    },
    {
      "cell_type": "code",
      "source": [
        "# build a neural network (sort of like model_2 above)\n",
        "model_2.summary()"
      ],
      "metadata": {
        "colab": {
          "base_uri": "https://localhost:8080/"
        },
        "id": "UJxZ4RnSdyUJ",
        "outputId": "bd2e081a-802d-43dc-ef2c-8c1c99c1d717"
      },
      "execution_count": null,
      "outputs": [
        {
          "output_type": "stream",
          "name": "stdout",
          "text": [
            "Model: \"sequential_18\"\n",
            "_________________________________________________________________\n",
            " Layer (type)                Output Shape              Param #   \n",
            "=================================================================\n",
            " dense_33 (Dense)            (None, 10)                20        \n",
            "                                                                 \n",
            " dense_34 (Dense)            (None, 1)                 11        \n",
            "                                                                 \n",
            "=================================================================\n",
            "Total params: 31\n",
            "Trainable params: 31\n",
            "Non-trainable params: 0\n",
            "_________________________________________________________________\n"
          ]
        }
      ]
    },
    {
      "cell_type": "code",
      "source": [
        "# set the random seed\n",
        "tf.random.set_seed(42)\n",
        "\n",
        "# create the model\n",
        "insurance_model = tf.keras.Sequential([\n",
        "    tf.keras.layers.Dense(10),\n",
        "    tf.keras.layers.Dense(1)\n",
        "])\n",
        "\n",
        "# compile the model\n",
        "insurance_model.compile(loss = tf.keras.losses.mae,\n",
        "                        optimizer = tf.keras.optimizers.SGD(),\n",
        "                        metrics = [\"mae\"])\n",
        "\n",
        "# fit the model\n",
        "insurance_model.fit(tf.expand_dims(X_train,axis = -1),Y_train, epochs = 100)"
      ],
      "metadata": {
        "colab": {
          "base_uri": "https://localhost:8080/"
        },
        "id": "iUEvj0rAeN21",
        "outputId": "397c3512-da21-485d-9c7e-bf0b816e500a"
      },
      "execution_count": null,
      "outputs": [
        {
          "output_type": "stream",
          "name": "stdout",
          "text": [
            "Epoch 1/100\n",
            "34/34 [==============================] - 1s 1ms/step - loss: 13183.9326 - mae: 13183.9326\n",
            "Epoch 2/100\n",
            "34/34 [==============================] - 0s 1ms/step - loss: 12263.8369 - mae: 12263.8369\n",
            "Epoch 3/100\n",
            "34/34 [==============================] - 0s 1ms/step - loss: 12168.5107 - mae: 12168.5107\n",
            "Epoch 4/100\n",
            "34/34 [==============================] - 0s 1ms/step - loss: 12091.7695 - mae: 12091.7695\n",
            "Epoch 5/100\n",
            "34/34 [==============================] - 0s 1ms/step - loss: 11973.3076 - mae: 11973.3076\n",
            "Epoch 6/100\n",
            "34/34 [==============================] - 0s 1ms/step - loss: 11779.7207 - mae: 11779.7207\n",
            "Epoch 7/100\n",
            "34/34 [==============================] - 0s 1ms/step - loss: 11442.0430 - mae: 11442.0430\n",
            "Epoch 8/100\n",
            "34/34 [==============================] - 0s 1ms/step - loss: 10918.1328 - mae: 10918.1328\n",
            "Epoch 9/100\n",
            "34/34 [==============================] - 0s 1ms/step - loss: 10299.8809 - mae: 10299.8809\n",
            "Epoch 10/100\n",
            "34/34 [==============================] - 0s 1ms/step - loss: 9656.7266 - mae: 9656.7266\n",
            "Epoch 11/100\n",
            "34/34 [==============================] - 0s 1ms/step - loss: 9157.3496 - mae: 9157.3496\n",
            "Epoch 12/100\n",
            "34/34 [==============================] - 0s 1ms/step - loss: 8800.8164 - mae: 8800.8164\n",
            "Epoch 13/100\n",
            "34/34 [==============================] - 0s 1ms/step - loss: 8649.0693 - mae: 8649.0693\n",
            "Epoch 14/100\n",
            "34/34 [==============================] - 0s 1ms/step - loss: 8588.0762 - mae: 8588.0762\n",
            "Epoch 15/100\n",
            "34/34 [==============================] - 0s 1ms/step - loss: 8484.4424 - mae: 8484.4424\n",
            "Epoch 16/100\n",
            "34/34 [==============================] - 0s 1ms/step - loss: 8525.4150 - mae: 8525.4150\n",
            "Epoch 17/100\n",
            "34/34 [==============================] - 0s 1ms/step - loss: 8571.4785 - mae: 8571.4785\n",
            "Epoch 18/100\n",
            "34/34 [==============================] - 0s 1ms/step - loss: 8527.0332 - mae: 8527.0332\n",
            "Epoch 19/100\n",
            "34/34 [==============================] - 0s 1ms/step - loss: 8463.8887 - mae: 8463.8887\n",
            "Epoch 20/100\n",
            "34/34 [==============================] - 0s 1ms/step - loss: 8588.0723 - mae: 8588.0723\n",
            "Epoch 21/100\n",
            "34/34 [==============================] - 0s 1ms/step - loss: 8497.2070 - mae: 8497.2070\n",
            "Epoch 22/100\n",
            "34/34 [==============================] - 0s 1ms/step - loss: 8527.6992 - mae: 8527.6992\n",
            "Epoch 23/100\n",
            "34/34 [==============================] - 0s 1ms/step - loss: 8552.1797 - mae: 8552.1797\n",
            "Epoch 24/100\n",
            "34/34 [==============================] - 0s 1ms/step - loss: 8503.1797 - mae: 8503.1797\n",
            "Epoch 25/100\n",
            "34/34 [==============================] - 0s 1ms/step - loss: 8473.8447 - mae: 8473.8447\n",
            "Epoch 26/100\n",
            "34/34 [==============================] - 0s 1ms/step - loss: 8428.9277 - mae: 8428.9277\n",
            "Epoch 27/100\n",
            "34/34 [==============================] - 0s 1ms/step - loss: 8532.7139 - mae: 8532.7139\n",
            "Epoch 28/100\n",
            "34/34 [==============================] - 0s 1ms/step - loss: 8428.6133 - mae: 8428.6133\n",
            "Epoch 29/100\n",
            "34/34 [==============================] - 0s 1ms/step - loss: 8406.2236 - mae: 8406.2236\n",
            "Epoch 30/100\n",
            "34/34 [==============================] - 0s 1ms/step - loss: 8493.8721 - mae: 8493.8721\n",
            "Epoch 31/100\n",
            "34/34 [==============================] - 0s 1ms/step - loss: 8431.0332 - mae: 8431.0332\n",
            "Epoch 32/100\n",
            "34/34 [==============================] - 0s 1ms/step - loss: 8468.3398 - mae: 8468.3398\n",
            "Epoch 33/100\n",
            "34/34 [==============================] - 0s 1ms/step - loss: 8393.5352 - mae: 8393.5352\n",
            "Epoch 34/100\n",
            "34/34 [==============================] - 0s 1ms/step - loss: 8417.6533 - mae: 8417.6533\n",
            "Epoch 35/100\n",
            "34/34 [==============================] - 0s 1ms/step - loss: 8433.4990 - mae: 8433.4990\n",
            "Epoch 36/100\n",
            "34/34 [==============================] - 0s 1ms/step - loss: 8428.5400 - mae: 8428.5400\n",
            "Epoch 37/100\n",
            "34/34 [==============================] - 0s 1ms/step - loss: 8431.0127 - mae: 8431.0127\n",
            "Epoch 38/100\n",
            "34/34 [==============================] - 0s 1ms/step - loss: 8394.1650 - mae: 8394.1650\n",
            "Epoch 39/100\n",
            "34/34 [==============================] - 0s 1ms/step - loss: 8434.8232 - mae: 8434.8232\n",
            "Epoch 40/100\n",
            "34/34 [==============================] - 0s 1ms/step - loss: 8356.9863 - mae: 8356.9863\n",
            "Epoch 41/100\n",
            "34/34 [==============================] - 0s 1ms/step - loss: 8399.5186 - mae: 8399.5186\n",
            "Epoch 42/100\n",
            "34/34 [==============================] - 0s 1ms/step - loss: 8414.1924 - mae: 8414.1924\n",
            "Epoch 43/100\n",
            "34/34 [==============================] - 0s 1ms/step - loss: 8460.9971 - mae: 8460.9971\n",
            "Epoch 44/100\n",
            "34/34 [==============================] - 0s 1ms/step - loss: 8372.8633 - mae: 8372.8633\n",
            "Epoch 45/100\n",
            "34/34 [==============================] - 0s 1ms/step - loss: 8417.9707 - mae: 8417.9707\n",
            "Epoch 46/100\n",
            "34/34 [==============================] - 0s 1ms/step - loss: 8398.6514 - mae: 8398.6514\n",
            "Epoch 47/100\n",
            "34/34 [==============================] - 0s 1ms/step - loss: 8396.7588 - mae: 8396.7588\n",
            "Epoch 48/100\n",
            "34/34 [==============================] - 0s 1ms/step - loss: 8368.2881 - mae: 8368.2881\n",
            "Epoch 49/100\n",
            "34/34 [==============================] - 0s 1ms/step - loss: 8414.7041 - mae: 8414.7041\n",
            "Epoch 50/100\n",
            "34/34 [==============================] - 0s 1ms/step - loss: 8390.9951 - mae: 8390.9951\n",
            "Epoch 51/100\n",
            "34/34 [==============================] - 0s 1ms/step - loss: 8356.6396 - mae: 8356.6396\n",
            "Epoch 52/100\n",
            "34/34 [==============================] - 0s 1ms/step - loss: 8371.9570 - mae: 8371.9570\n",
            "Epoch 53/100\n",
            "34/34 [==============================] - 0s 1ms/step - loss: 8439.9844 - mae: 8439.9844\n",
            "Epoch 54/100\n",
            "34/34 [==============================] - 0s 1ms/step - loss: 8395.6416 - mae: 8395.6416\n",
            "Epoch 55/100\n",
            "34/34 [==============================] - 0s 1ms/step - loss: 8358.0000 - mae: 8358.0000\n",
            "Epoch 56/100\n",
            "34/34 [==============================] - 0s 1ms/step - loss: 8378.8926 - mae: 8378.8926\n",
            "Epoch 57/100\n",
            "34/34 [==============================] - 0s 1ms/step - loss: 8392.7080 - mae: 8392.7080\n",
            "Epoch 58/100\n",
            "34/34 [==============================] - 0s 1ms/step - loss: 8345.1191 - mae: 8345.1191\n",
            "Epoch 59/100\n",
            "34/34 [==============================] - 0s 1ms/step - loss: 8420.0264 - mae: 8420.0264\n",
            "Epoch 60/100\n",
            "34/34 [==============================] - 0s 1ms/step - loss: 8435.6484 - mae: 8435.6484\n",
            "Epoch 61/100\n",
            "34/34 [==============================] - 0s 1ms/step - loss: 8411.9863 - mae: 8411.9863\n",
            "Epoch 62/100\n",
            "34/34 [==============================] - 0s 1ms/step - loss: 8347.7471 - mae: 8347.7471\n",
            "Epoch 63/100\n",
            "34/34 [==============================] - 0s 1ms/step - loss: 8379.2451 - mae: 8379.2451\n",
            "Epoch 64/100\n",
            "34/34 [==============================] - 0s 1ms/step - loss: 8394.4541 - mae: 8394.4541\n",
            "Epoch 65/100\n",
            "34/34 [==============================] - 0s 1ms/step - loss: 8394.5361 - mae: 8394.5361\n",
            "Epoch 66/100\n",
            "34/34 [==============================] - 0s 1ms/step - loss: 8379.8301 - mae: 8379.8301\n",
            "Epoch 67/100\n",
            "34/34 [==============================] - 0s 1ms/step - loss: 8327.7734 - mae: 8327.7734\n",
            "Epoch 68/100\n",
            "34/34 [==============================] - 0s 1ms/step - loss: 8328.0049 - mae: 8328.0049\n",
            "Epoch 69/100\n",
            "34/34 [==============================] - 0s 1ms/step - loss: 8343.2119 - mae: 8343.2119\n",
            "Epoch 70/100\n",
            "34/34 [==============================] - 0s 1ms/step - loss: 8410.2197 - mae: 8410.2197\n",
            "Epoch 71/100\n",
            "34/34 [==============================] - 0s 1ms/step - loss: 8352.5508 - mae: 8352.5508\n",
            "Epoch 72/100\n",
            "34/34 [==============================] - 0s 1ms/step - loss: 8374.0068 - mae: 8374.0068\n",
            "Epoch 73/100\n",
            "34/34 [==============================] - 0s 1ms/step - loss: 8354.3389 - mae: 8354.3389\n",
            "Epoch 74/100\n",
            "34/34 [==============================] - 0s 1ms/step - loss: 8360.8232 - mae: 8360.8232\n",
            "Epoch 75/100\n",
            "34/34 [==============================] - 0s 1ms/step - loss: 8329.4980 - mae: 8329.4980\n",
            "Epoch 76/100\n",
            "34/34 [==============================] - 0s 1ms/step - loss: 8336.7510 - mae: 8336.7510\n",
            "Epoch 77/100\n",
            "34/34 [==============================] - 0s 1ms/step - loss: 8377.6523 - mae: 8377.6523\n",
            "Epoch 78/100\n",
            "34/34 [==============================] - 0s 1ms/step - loss: 8361.6240 - mae: 8361.6240\n",
            "Epoch 79/100\n",
            "34/34 [==============================] - 0s 1ms/step - loss: 8400.0693 - mae: 8400.0693\n",
            "Epoch 80/100\n",
            "34/34 [==============================] - 0s 1ms/step - loss: 8323.2236 - mae: 8323.2236\n",
            "Epoch 81/100\n",
            "34/34 [==============================] - 0s 1ms/step - loss: 8361.4209 - mae: 8361.4209\n",
            "Epoch 82/100\n",
            "34/34 [==============================] - 0s 1ms/step - loss: 8344.0459 - mae: 8344.0459\n",
            "Epoch 83/100\n",
            "34/34 [==============================] - 0s 1ms/step - loss: 8413.6387 - mae: 8413.6387\n",
            "Epoch 84/100\n",
            "34/34 [==============================] - 0s 1ms/step - loss: 8348.2051 - mae: 8348.2051\n",
            "Epoch 85/100\n",
            "34/34 [==============================] - 0s 1ms/step - loss: 8370.0303 - mae: 8370.0303\n",
            "Epoch 86/100\n",
            "34/34 [==============================] - 0s 1ms/step - loss: 8367.5820 - mae: 8367.5820\n",
            "Epoch 87/100\n",
            "34/34 [==============================] - 0s 1ms/step - loss: 8352.1426 - mae: 8352.1426\n",
            "Epoch 88/100\n",
            "34/34 [==============================] - 0s 1ms/step - loss: 8356.1846 - mae: 8356.1846\n",
            "Epoch 89/100\n",
            "34/34 [==============================] - 0s 1ms/step - loss: 8390.2451 - mae: 8390.2451\n",
            "Epoch 90/100\n",
            "34/34 [==============================] - 0s 1ms/step - loss: 8308.7129 - mae: 8308.7129\n",
            "Epoch 91/100\n",
            "34/34 [==============================] - 0s 1ms/step - loss: 8362.4863 - mae: 8362.4863\n",
            "Epoch 92/100\n",
            "34/34 [==============================] - 0s 1ms/step - loss: 8383.4658 - mae: 8383.4658\n",
            "Epoch 93/100\n",
            "34/34 [==============================] - 0s 1ms/step - loss: 8327.2783 - mae: 8327.2783\n",
            "Epoch 94/100\n",
            "34/34 [==============================] - 0s 1ms/step - loss: 8322.4062 - mae: 8322.4062\n",
            "Epoch 95/100\n",
            "34/34 [==============================] - 0s 1ms/step - loss: 8334.4287 - mae: 8334.4287\n",
            "Epoch 96/100\n",
            "34/34 [==============================] - 0s 1ms/step - loss: 8348.1221 - mae: 8348.1221\n",
            "Epoch 97/100\n",
            "34/34 [==============================] - 0s 2ms/step - loss: 8348.2930 - mae: 8348.2930\n",
            "Epoch 98/100\n",
            "34/34 [==============================] - 0s 2ms/step - loss: 8347.9473 - mae: 8347.9473\n",
            "Epoch 99/100\n",
            "34/34 [==============================] - 0s 1ms/step - loss: 8328.7520 - mae: 8328.7520\n",
            "Epoch 100/100\n",
            "34/34 [==============================] - 0s 1ms/step - loss: 8323.6436 - mae: 8323.6436\n"
          ]
        },
        {
          "output_type": "execute_result",
          "data": {
            "text/plain": [
              "<keras.callbacks.History at 0x7852263f7be0>"
            ]
          },
          "metadata": {},
          "execution_count": 245
        }
      ]
    },
    {
      "cell_type": "code",
      "source": [
        "# check the results of the insurance model on the test data\n",
        "insurance_model.evaluate(X_test,Y_test)"
      ],
      "metadata": {
        "colab": {
          "base_uri": "https://localhost:8080/"
        },
        "id": "dZY82_qnfNdk",
        "outputId": "b0531122-9ef5-42c9-f87f-90d7332d8199"
      },
      "execution_count": null,
      "outputs": [
        {
          "output_type": "stream",
          "name": "stdout",
          "text": [
            "9/9 [==============================] - 0s 2ms/step - loss: 8919.8213 - mae: 8919.8213\n"
          ]
        },
        {
          "output_type": "execute_result",
          "data": {
            "text/plain": [
              "[8919.8212890625, 8919.8212890625]"
            ]
          },
          "metadata": {},
          "execution_count": 246
        }
      ]
    },
    {
      "cell_type": "code",
      "source": [
        "Y_train.median(), Y_train.mean()"
      ],
      "metadata": {
        "colab": {
          "base_uri": "https://localhost:8080/"
        },
        "id": "kfqNFsXmflhT",
        "outputId": "47380732-9621-465f-a3f6-1eb79bcca35c"
      },
      "execution_count": null,
      "outputs": [
        {
          "output_type": "execute_result",
          "data": {
            "text/plain": [
              "(9575.4421, 13346.089736364485)"
            ]
          },
          "metadata": {},
          "execution_count": 247
        }
      ]
    },
    {
      "cell_type": "markdown",
      "source": [
        "Right now it looks like our model is not performing too well... let's try and improve it\n",
        "* To try to improve our model we will run 2 experiments\n",
        "1. Add an extra layer with more hidden units and use adam optimizer\n",
        "2. Train for longer\n",
        "3. (insert your own experiment here)"
      ],
      "metadata": {
        "id": "jzyq4a04f77X"
      }
    },
    {
      "cell_type": "code",
      "source": [
        "# set random seed\n",
        "tf.random.set_seed(42)\n",
        "\n",
        "# create the model\n",
        "insurance_model_2 = tf.keras.Sequential([\n",
        "    tf.keras.layers.Dense(100),\n",
        "    tf.keras.layers.Dense(10),\n",
        "    tf.keras.layers.Dense(1)\n",
        "])\n",
        "\n",
        "# Compile the modeli\n",
        "insurance_model_2.compile( loss = tf.keras.losses.mae,\n",
        "                          optimizer = tf.keras.optimizers.Adam(),\n",
        "                           metrics = [\"mae\"]\n",
        ")\n",
        "\n",
        "# fit the model\n",
        "insurance_model_2.fit(X_train,Y_train,epochs =  100, verbose = 1) # doing like this seems more logical instead of expand dims"
      ],
      "metadata": {
        "id": "7tJpY4xvgJAf",
        "colab": {
          "base_uri": "https://localhost:8080/"
        },
        "outputId": "8e33df50-363d-4259-a1fb-69126f67a026"
      },
      "execution_count": null,
      "outputs": [
        {
          "output_type": "stream",
          "name": "stdout",
          "text": [
            "Epoch 1/100\n",
            "34/34 [==============================] - 1s 2ms/step - loss: 13290.4395 - mae: 13290.4395\n",
            "Epoch 2/100\n",
            "34/34 [==============================] - 0s 2ms/step - loss: 13127.6172 - mae: 13127.6172\n",
            "Epoch 3/100\n",
            "34/34 [==============================] - 0s 2ms/step - loss: 12786.0420 - mae: 12786.0420\n",
            "Epoch 4/100\n",
            "34/34 [==============================] - 0s 2ms/step - loss: 12110.3203 - mae: 12110.3203\n",
            "Epoch 5/100\n",
            "34/34 [==============================] - 0s 2ms/step - loss: 10974.5742 - mae: 10974.5742\n",
            "Epoch 6/100\n",
            "34/34 [==============================] - 0s 2ms/step - loss: 9518.9785 - mae: 9518.9785\n",
            "Epoch 7/100\n",
            "34/34 [==============================] - 0s 2ms/step - loss: 8179.6440 - mae: 8179.6440\n",
            "Epoch 8/100\n",
            "34/34 [==============================] - 0s 2ms/step - loss: 7530.6660 - mae: 7530.6660\n",
            "Epoch 9/100\n",
            "34/34 [==============================] - 0s 2ms/step - loss: 7422.8984 - mae: 7422.8984\n",
            "Epoch 10/100\n",
            "34/34 [==============================] - 0s 1ms/step - loss: 7402.3545 - mae: 7402.3545\n",
            "Epoch 11/100\n",
            "34/34 [==============================] - 0s 2ms/step - loss: 7383.9663 - mae: 7383.9663\n",
            "Epoch 12/100\n",
            "34/34 [==============================] - 0s 2ms/step - loss: 7362.2310 - mae: 7362.2310\n",
            "Epoch 13/100\n",
            "34/34 [==============================] - 0s 2ms/step - loss: 7342.1831 - mae: 7342.1831\n",
            "Epoch 14/100\n",
            "34/34 [==============================] - 0s 2ms/step - loss: 7320.1504 - mae: 7320.1504\n",
            "Epoch 15/100\n",
            "34/34 [==============================] - 0s 1ms/step - loss: 7301.4854 - mae: 7301.4854\n",
            "Epoch 16/100\n",
            "34/34 [==============================] - 0s 1ms/step - loss: 7279.3799 - mae: 7279.3799\n",
            "Epoch 17/100\n",
            "34/34 [==============================] - 0s 1ms/step - loss: 7259.3804 - mae: 7259.3804\n",
            "Epoch 18/100\n",
            "34/34 [==============================] - 0s 1ms/step - loss: 7236.7217 - mae: 7236.7217\n",
            "Epoch 19/100\n",
            "34/34 [==============================] - 0s 1ms/step - loss: 7214.4106 - mae: 7214.4106\n",
            "Epoch 20/100\n",
            "34/34 [==============================] - 0s 1ms/step - loss: 7191.0293 - mae: 7191.0293\n",
            "Epoch 21/100\n",
            "34/34 [==============================] - 0s 1ms/step - loss: 7172.4331 - mae: 7172.4331\n",
            "Epoch 22/100\n",
            "34/34 [==============================] - 0s 1ms/step - loss: 7144.9355 - mae: 7144.9355\n",
            "Epoch 23/100\n",
            "34/34 [==============================] - 0s 1ms/step - loss: 7119.7852 - mae: 7119.7852\n",
            "Epoch 24/100\n",
            "34/34 [==============================] - 0s 1ms/step - loss: 7094.6694 - mae: 7094.6694\n",
            "Epoch 25/100\n",
            "34/34 [==============================] - 0s 1ms/step - loss: 7075.5698 - mae: 7075.5698\n",
            "Epoch 26/100\n",
            "34/34 [==============================] - 0s 1ms/step - loss: 7045.1006 - mae: 7045.1006\n",
            "Epoch 27/100\n",
            "34/34 [==============================] - 0s 1ms/step - loss: 7016.0142 - mae: 7016.0142\n",
            "Epoch 28/100\n",
            "34/34 [==============================] - 0s 1ms/step - loss: 6987.9097 - mae: 6987.9097\n",
            "Epoch 29/100\n",
            "34/34 [==============================] - 0s 1ms/step - loss: 6959.3081 - mae: 6959.3081\n",
            "Epoch 30/100\n",
            "34/34 [==============================] - 0s 1ms/step - loss: 6932.1914 - mae: 6932.1914\n",
            "Epoch 31/100\n",
            "34/34 [==============================] - 0s 1ms/step - loss: 6901.0176 - mae: 6901.0176\n",
            "Epoch 32/100\n",
            "34/34 [==============================] - 0s 1ms/step - loss: 6872.4863 - mae: 6872.4863\n",
            "Epoch 33/100\n",
            "34/34 [==============================] - 0s 1ms/step - loss: 6840.9839 - mae: 6840.9839\n",
            "Epoch 34/100\n",
            "34/34 [==============================] - 0s 1ms/step - loss: 6809.5220 - mae: 6809.5220\n",
            "Epoch 35/100\n",
            "34/34 [==============================] - 0s 1ms/step - loss: 6774.6489 - mae: 6774.6489\n",
            "Epoch 36/100\n",
            "34/34 [==============================] - 0s 1ms/step - loss: 6740.4004 - mae: 6740.4004\n",
            "Epoch 37/100\n",
            "34/34 [==============================] - 0s 1ms/step - loss: 6703.7891 - mae: 6703.7891\n",
            "Epoch 38/100\n",
            "34/34 [==============================] - 0s 1ms/step - loss: 6673.6489 - mae: 6673.6489\n",
            "Epoch 39/100\n",
            "34/34 [==============================] - 0s 1ms/step - loss: 6635.4727 - mae: 6635.4727\n",
            "Epoch 40/100\n",
            "34/34 [==============================] - 0s 1ms/step - loss: 6600.7974 - mae: 6600.7974\n",
            "Epoch 41/100\n",
            "34/34 [==============================] - 0s 1ms/step - loss: 6570.1577 - mae: 6570.1577\n",
            "Epoch 42/100\n",
            "34/34 [==============================] - 0s 1ms/step - loss: 6545.8945 - mae: 6545.8945\n",
            "Epoch 43/100\n",
            "34/34 [==============================] - 0s 1ms/step - loss: 6516.9966 - mae: 6516.9966\n",
            "Epoch 44/100\n",
            "34/34 [==============================] - 0s 1ms/step - loss: 6495.4277 - mae: 6495.4277\n",
            "Epoch 45/100\n",
            "34/34 [==============================] - 0s 1ms/step - loss: 6486.6318 - mae: 6486.6318\n",
            "Epoch 46/100\n",
            "34/34 [==============================] - 0s 1ms/step - loss: 6467.2734 - mae: 6467.2734\n",
            "Epoch 47/100\n",
            "34/34 [==============================] - 0s 1ms/step - loss: 6450.6704 - mae: 6450.6704\n",
            "Epoch 48/100\n",
            "34/34 [==============================] - 0s 1ms/step - loss: 6436.6343 - mae: 6436.6343\n",
            "Epoch 49/100\n",
            "34/34 [==============================] - 0s 1ms/step - loss: 6423.7627 - mae: 6423.7627\n",
            "Epoch 50/100\n",
            "34/34 [==============================] - 0s 1ms/step - loss: 6409.5752 - mae: 6409.5752\n",
            "Epoch 51/100\n",
            "34/34 [==============================] - 0s 1ms/step - loss: 6395.5200 - mae: 6395.5200\n",
            "Epoch 52/100\n",
            "34/34 [==============================] - 0s 1ms/step - loss: 6384.0249 - mae: 6384.0249\n",
            "Epoch 53/100\n",
            "34/34 [==============================] - 0s 1ms/step - loss: 6370.2773 - mae: 6370.2773\n",
            "Epoch 54/100\n",
            "34/34 [==============================] - 0s 1ms/step - loss: 6356.8735 - mae: 6356.8735\n",
            "Epoch 55/100\n",
            "34/34 [==============================] - 0s 1ms/step - loss: 6343.0615 - mae: 6343.0615\n",
            "Epoch 56/100\n",
            "34/34 [==============================] - 0s 1ms/step - loss: 6329.0239 - mae: 6329.0239\n",
            "Epoch 57/100\n",
            "34/34 [==============================] - 0s 1ms/step - loss: 6316.1460 - mae: 6316.1460\n",
            "Epoch 58/100\n",
            "34/34 [==============================] - 0s 1ms/step - loss: 6301.7700 - mae: 6301.7700\n",
            "Epoch 59/100\n",
            "34/34 [==============================] - 0s 1ms/step - loss: 6286.7490 - mae: 6286.7490\n",
            "Epoch 60/100\n",
            "34/34 [==============================] - 0s 1ms/step - loss: 6275.8843 - mae: 6275.8843\n",
            "Epoch 61/100\n",
            "34/34 [==============================] - 0s 2ms/step - loss: 6255.8311 - mae: 6255.8311\n",
            "Epoch 62/100\n",
            "34/34 [==============================] - 0s 1ms/step - loss: 6243.5571 - mae: 6243.5571\n",
            "Epoch 63/100\n",
            "34/34 [==============================] - 0s 1ms/step - loss: 6225.3008 - mae: 6225.3008\n",
            "Epoch 64/100\n",
            "34/34 [==============================] - 0s 1ms/step - loss: 6208.6265 - mae: 6208.6265\n",
            "Epoch 65/100\n",
            "34/34 [==============================] - 0s 1ms/step - loss: 6191.2461 - mae: 6191.2461\n",
            "Epoch 66/100\n",
            "34/34 [==============================] - 0s 1ms/step - loss: 6173.9272 - mae: 6173.9272\n",
            "Epoch 67/100\n",
            "34/34 [==============================] - 0s 1ms/step - loss: 6161.4326 - mae: 6161.4326\n",
            "Epoch 68/100\n",
            "34/34 [==============================] - 0s 1ms/step - loss: 6138.0415 - mae: 6138.0415\n",
            "Epoch 69/100\n",
            "34/34 [==============================] - 0s 1ms/step - loss: 6122.3105 - mae: 6122.3105\n",
            "Epoch 70/100\n",
            "34/34 [==============================] - 0s 1ms/step - loss: 6101.7310 - mae: 6101.7310\n",
            "Epoch 71/100\n",
            "34/34 [==============================] - 0s 1ms/step - loss: 6082.1777 - mae: 6082.1777\n",
            "Epoch 72/100\n",
            "34/34 [==============================] - 0s 1ms/step - loss: 6063.1792 - mae: 6063.1792\n",
            "Epoch 73/100\n",
            "34/34 [==============================] - 0s 1ms/step - loss: 6048.7861 - mae: 6048.7861\n",
            "Epoch 74/100\n",
            "34/34 [==============================] - 0s 1ms/step - loss: 6020.5522 - mae: 6020.5522\n",
            "Epoch 75/100\n",
            "34/34 [==============================] - 0s 1ms/step - loss: 5999.0640 - mae: 5999.0640\n",
            "Epoch 76/100\n",
            "34/34 [==============================] - 0s 1ms/step - loss: 5984.9546 - mae: 5984.9546\n",
            "Epoch 77/100\n",
            "34/34 [==============================] - 0s 1ms/step - loss: 5951.9824 - mae: 5951.9824\n",
            "Epoch 78/100\n",
            "34/34 [==============================] - 0s 1ms/step - loss: 5928.7563 - mae: 5928.7563\n",
            "Epoch 79/100\n",
            "34/34 [==============================] - 0s 1ms/step - loss: 5904.0991 - mae: 5904.0991\n",
            "Epoch 80/100\n",
            "34/34 [==============================] - 0s 1ms/step - loss: 5876.7964 - mae: 5876.7964\n",
            "Epoch 81/100\n",
            "34/34 [==============================] - 0s 1ms/step - loss: 5850.8608 - mae: 5850.8608\n",
            "Epoch 82/100\n",
            "34/34 [==============================] - 0s 1ms/step - loss: 5822.6704 - mae: 5822.6704\n",
            "Epoch 83/100\n",
            "34/34 [==============================] - 0s 1ms/step - loss: 5794.6567 - mae: 5794.6567\n",
            "Epoch 84/100\n",
            "34/34 [==============================] - 0s 1ms/step - loss: 5761.6963 - mae: 5761.6963\n",
            "Epoch 85/100\n",
            "34/34 [==============================] - 0s 1ms/step - loss: 5736.3013 - mae: 5736.3013\n",
            "Epoch 86/100\n",
            "34/34 [==============================] - 0s 1ms/step - loss: 5702.5195 - mae: 5702.5195\n",
            "Epoch 87/100\n",
            "34/34 [==============================] - 0s 1ms/step - loss: 5664.6982 - mae: 5664.6982\n",
            "Epoch 88/100\n",
            "34/34 [==============================] - 0s 1ms/step - loss: 5629.8096 - mae: 5629.8096\n",
            "Epoch 89/100\n",
            "34/34 [==============================] - 0s 1ms/step - loss: 5591.6636 - mae: 5591.6636\n",
            "Epoch 90/100\n",
            "34/34 [==============================] - 0s 1ms/step - loss: 5550.5044 - mae: 5550.5044\n",
            "Epoch 91/100\n",
            "34/34 [==============================] - 0s 2ms/step - loss: 5515.9121 - mae: 5515.9121\n",
            "Epoch 92/100\n",
            "34/34 [==============================] - 0s 1ms/step - loss: 5466.2373 - mae: 5466.2373\n",
            "Epoch 93/100\n",
            "34/34 [==============================] - 0s 1ms/step - loss: 5424.5566 - mae: 5424.5566\n",
            "Epoch 94/100\n",
            "34/34 [==============================] - 0s 1ms/step - loss: 5380.6807 - mae: 5380.6807\n",
            "Epoch 95/100\n",
            "34/34 [==============================] - 0s 1ms/step - loss: 5327.8579 - mae: 5327.8579\n",
            "Epoch 96/100\n",
            "34/34 [==============================] - 0s 1ms/step - loss: 5283.0376 - mae: 5283.0376\n",
            "Epoch 97/100\n",
            "34/34 [==============================] - 0s 1ms/step - loss: 5229.5615 - mae: 5229.5615\n",
            "Epoch 98/100\n",
            "34/34 [==============================] - 0s 1ms/step - loss: 5167.9761 - mae: 5167.9761\n",
            "Epoch 99/100\n",
            "34/34 [==============================] - 0s 1ms/step - loss: 5111.7388 - mae: 5111.7388\n",
            "Epoch 100/100\n",
            "34/34 [==============================] - 0s 1ms/step - loss: 5058.1421 - mae: 5058.1421\n"
          ]
        },
        {
          "output_type": "execute_result",
          "data": {
            "text/plain": [
              "<keras.callbacks.History at 0x785226bf3070>"
            ]
          },
          "metadata": {},
          "execution_count": 248
        }
      ]
    },
    {
      "cell_type": "code",
      "source": [
        "# evaluate the larger model\n",
        "insurance_model_2.evaluate(X_test,Y_test)"
      ],
      "metadata": {
        "colab": {
          "base_uri": "https://localhost:8080/"
        },
        "id": "hqgG9y52b4DT",
        "outputId": "76765bc3-cbfd-41eb-fcf3-9dafdc0b6d64"
      },
      "execution_count": null,
      "outputs": [
        {
          "output_type": "stream",
          "name": "stdout",
          "text": [
            "9/9 [==============================] - 0s 1ms/step - loss: 4924.3701 - mae: 4924.3701\n"
          ]
        },
        {
          "output_type": "execute_result",
          "data": {
            "text/plain": [
              "[4924.3701171875, 4924.3701171875]"
            ]
          },
          "metadata": {},
          "execution_count": 249
        }
      ]
    },
    {
      "cell_type": "code",
      "source": [
        "# evaluate old model\n",
        "insurance_model.evaluate(X_test,Y_test)"
      ],
      "metadata": {
        "colab": {
          "base_uri": "https://localhost:8080/"
        },
        "id": "V7j8ts8PdOWl",
        "outputId": "5d2ac123-155b-4a06-8c79-01c4217b3a36"
      },
      "execution_count": null,
      "outputs": [
        {
          "output_type": "stream",
          "name": "stdout",
          "text": [
            "9/9 [==============================] - 0s 1ms/step - loss: 8919.8213 - mae: 8919.8213\n"
          ]
        },
        {
          "output_type": "execute_result",
          "data": {
            "text/plain": [
              "[8919.8212890625, 8919.8212890625]"
            ]
          },
          "metadata": {},
          "execution_count": 250
        }
      ]
    },
    {
      "cell_type": "code",
      "source": [
        "# set random seed\n",
        "tf.random.set_seed(42)\n",
        "\n",
        "# create the model\n",
        "insurance_model_3 = tf.keras.Sequential([\n",
        "    tf.keras.layers.Dense(100),\n",
        "    tf.keras.layers.Dense(10),\n",
        "    tf.keras.layers.Dense(1)\n",
        "])\n",
        "\n",
        "# Compile the model\n",
        "insurance_model_3.compile(loss = tf.keras.losses.mae,\n",
        "                          optimizer = tf.keras.optimizers.Adam(),\n",
        "                          metrics = [\"mae\"]\n",
        "                          )\n",
        "\n",
        "# fit the model\n",
        "history = insurance_model_3.fit(X_train,Y_train,epochs = 200)"
      ],
      "metadata": {
        "colab": {
          "base_uri": "https://localhost:8080/"
        },
        "id": "uXbfQQhidWIi",
        "outputId": "5adc646d-6265-4770-bbee-9fbfbcf83720"
      },
      "execution_count": null,
      "outputs": [
        {
          "output_type": "stream",
          "name": "stdout",
          "text": [
            "Epoch 1/200\n",
            "34/34 [==============================] - 1s 2ms/step - loss: 13292.9238 - mae: 13292.9238\n",
            "Epoch 2/200\n",
            "34/34 [==============================] - 0s 1ms/step - loss: 13127.8350 - mae: 13127.8350\n",
            "Epoch 3/200\n",
            "34/34 [==============================] - 0s 1ms/step - loss: 12793.2920 - mae: 12793.2920\n",
            "Epoch 4/200\n",
            "34/34 [==============================] - 0s 1ms/step - loss: 12132.7236 - mae: 12132.7236\n",
            "Epoch 5/200\n",
            "34/34 [==============================] - 0s 1ms/step - loss: 11013.5332 - mae: 11013.5332\n",
            "Epoch 6/200\n",
            "34/34 [==============================] - 0s 1ms/step - loss: 9560.3594 - mae: 9560.3594\n",
            "Epoch 7/200\n",
            "34/34 [==============================] - 0s 1ms/step - loss: 8212.7383 - mae: 8212.7383\n",
            "Epoch 8/200\n",
            "34/34 [==============================] - 0s 1ms/step - loss: 7544.2251 - mae: 7544.2251\n",
            "Epoch 9/200\n",
            "34/34 [==============================] - 0s 1ms/step - loss: 7429.2339 - mae: 7429.2339\n",
            "Epoch 10/200\n",
            "34/34 [==============================] - 0s 1ms/step - loss: 7407.8608 - mae: 7407.8608\n",
            "Epoch 11/200\n",
            "34/34 [==============================] - 0s 1ms/step - loss: 7388.8672 - mae: 7388.8672\n",
            "Epoch 12/200\n",
            "34/34 [==============================] - 0s 1ms/step - loss: 7367.0161 - mae: 7367.0161\n",
            "Epoch 13/200\n",
            "34/34 [==============================] - 0s 1ms/step - loss: 7346.6885 - mae: 7346.6885\n",
            "Epoch 14/200\n",
            "34/34 [==============================] - 0s 1ms/step - loss: 7324.0244 - mae: 7324.0244\n",
            "Epoch 15/200\n",
            "34/34 [==============================] - 0s 1ms/step - loss: 7305.1333 - mae: 7305.1333\n",
            "Epoch 16/200\n",
            "34/34 [==============================] - 0s 1ms/step - loss: 7282.7417 - mae: 7282.7417\n",
            "Epoch 17/200\n",
            "34/34 [==============================] - 0s 1ms/step - loss: 7262.3984 - mae: 7262.3984\n",
            "Epoch 18/200\n",
            "34/34 [==============================] - 0s 1ms/step - loss: 7238.8047 - mae: 7238.8047\n",
            "Epoch 19/200\n",
            "34/34 [==============================] - 0s 1ms/step - loss: 7215.9790 - mae: 7215.9790\n",
            "Epoch 20/200\n",
            "34/34 [==============================] - 0s 1ms/step - loss: 7192.0771 - mae: 7192.0771\n",
            "Epoch 21/200\n",
            "34/34 [==============================] - 0s 1ms/step - loss: 7173.2886 - mae: 7173.2886\n",
            "Epoch 22/200\n",
            "34/34 [==============================] - 0s 1ms/step - loss: 7144.4424 - mae: 7144.4424\n",
            "Epoch 23/200\n",
            "34/34 [==============================] - 0s 1ms/step - loss: 7118.6470 - mae: 7118.6470\n",
            "Epoch 24/200\n",
            "34/34 [==============================] - 0s 1ms/step - loss: 7092.7788 - mae: 7092.7788\n",
            "Epoch 25/200\n",
            "34/34 [==============================] - 0s 1ms/step - loss: 7073.3657 - mae: 7073.3657\n",
            "Epoch 26/200\n",
            "34/34 [==============================] - 0s 1ms/step - loss: 7040.7075 - mae: 7040.7075\n",
            "Epoch 27/200\n",
            "34/34 [==============================] - 0s 1ms/step - loss: 7010.7783 - mae: 7010.7783\n",
            "Epoch 28/200\n",
            "34/34 [==============================] - 0s 1ms/step - loss: 6981.2334 - mae: 6981.2334\n",
            "Epoch 29/200\n",
            "34/34 [==============================] - 0s 1ms/step - loss: 6951.2891 - mae: 6951.2891\n",
            "Epoch 30/200\n",
            "34/34 [==============================] - 0s 1ms/step - loss: 6922.8701 - mae: 6922.8701\n",
            "Epoch 31/200\n",
            "34/34 [==============================] - 0s 1ms/step - loss: 6890.4258 - mae: 6890.4258\n",
            "Epoch 32/200\n",
            "34/34 [==============================] - 0s 1ms/step - loss: 6860.4209 - mae: 6860.4209\n",
            "Epoch 33/200\n",
            "34/34 [==============================] - 0s 1ms/step - loss: 6826.8867 - mae: 6826.8867\n",
            "Epoch 34/200\n",
            "34/34 [==============================] - 0s 1ms/step - loss: 6794.0020 - mae: 6794.0020\n",
            "Epoch 35/200\n",
            "34/34 [==============================] - 0s 1ms/step - loss: 6757.5645 - mae: 6757.5645\n",
            "Epoch 36/200\n",
            "34/34 [==============================] - 0s 1ms/step - loss: 6722.1226 - mae: 6722.1226\n",
            "Epoch 37/200\n",
            "34/34 [==============================] - 0s 1ms/step - loss: 6684.0132 - mae: 6684.0132\n",
            "Epoch 38/200\n",
            "34/34 [==============================] - 0s 1ms/step - loss: 6652.7637 - mae: 6652.7637\n",
            "Epoch 39/200\n",
            "34/34 [==============================] - 0s 1ms/step - loss: 6612.9585 - mae: 6612.9585\n",
            "Epoch 40/200\n",
            "34/34 [==============================] - 0s 1ms/step - loss: 6578.7983 - mae: 6578.7983\n",
            "Epoch 41/200\n",
            "34/34 [==============================] - 0s 1ms/step - loss: 6549.7285 - mae: 6549.7285\n",
            "Epoch 42/200\n",
            "34/34 [==============================] - 0s 1ms/step - loss: 6526.5830 - mae: 6526.5830\n",
            "Epoch 43/200\n",
            "34/34 [==============================] - 0s 1ms/step - loss: 6502.2207 - mae: 6502.2207\n",
            "Epoch 44/200\n",
            "34/34 [==============================] - 0s 1ms/step - loss: 6481.6143 - mae: 6481.6143\n",
            "Epoch 45/200\n",
            "34/34 [==============================] - 0s 1ms/step - loss: 6473.8408 - mae: 6473.8408\n",
            "Epoch 46/200\n",
            "34/34 [==============================] - 0s 1ms/step - loss: 6454.4033 - mae: 6454.4033\n",
            "Epoch 47/200\n",
            "34/34 [==============================] - 0s 1ms/step - loss: 6439.0532 - mae: 6439.0532\n",
            "Epoch 48/200\n",
            "34/34 [==============================] - 0s 2ms/step - loss: 6425.5605 - mae: 6425.5605\n",
            "Epoch 49/200\n",
            "34/34 [==============================] - 0s 1ms/step - loss: 6414.0640 - mae: 6414.0640\n",
            "Epoch 50/200\n",
            "34/34 [==============================] - 0s 1ms/step - loss: 6398.8574 - mae: 6398.8574\n",
            "Epoch 51/200\n",
            "34/34 [==============================] - 0s 1ms/step - loss: 6386.0503 - mae: 6386.0503\n",
            "Epoch 52/200\n",
            "34/34 [==============================] - 0s 1ms/step - loss: 6373.4185 - mae: 6373.4185\n",
            "Epoch 53/200\n",
            "34/34 [==============================] - 0s 1ms/step - loss: 6358.6123 - mae: 6358.6123\n",
            "Epoch 54/200\n",
            "34/34 [==============================] - 0s 1ms/step - loss: 6344.7100 - mae: 6344.7100\n",
            "Epoch 55/200\n",
            "34/34 [==============================] - 0s 1ms/step - loss: 6330.9111 - mae: 6330.9111\n",
            "Epoch 56/200\n",
            "34/34 [==============================] - 0s 1ms/step - loss: 6316.7515 - mae: 6316.7515\n",
            "Epoch 57/200\n",
            "34/34 [==============================] - 0s 1ms/step - loss: 6302.9150 - mae: 6302.9150\n",
            "Epoch 58/200\n",
            "34/34 [==============================] - 0s 1ms/step - loss: 6289.1685 - mae: 6289.1685\n",
            "Epoch 59/200\n",
            "34/34 [==============================] - 0s 1ms/step - loss: 6273.2715 - mae: 6273.2715\n",
            "Epoch 60/200\n",
            "34/34 [==============================] - 0s 1ms/step - loss: 6262.3774 - mae: 6262.3774\n",
            "Epoch 61/200\n",
            "34/34 [==============================] - 0s 1ms/step - loss: 6241.6465 - mae: 6241.6465\n",
            "Epoch 62/200\n",
            "34/34 [==============================] - 0s 1ms/step - loss: 6228.8643 - mae: 6228.8643\n",
            "Epoch 63/200\n",
            "34/34 [==============================] - 0s 1ms/step - loss: 6210.2686 - mae: 6210.2686\n",
            "Epoch 64/200\n",
            "34/34 [==============================] - 0s 1ms/step - loss: 6192.9336 - mae: 6192.9336\n",
            "Epoch 65/200\n",
            "34/34 [==============================] - 0s 1ms/step - loss: 6174.8638 - mae: 6174.8638\n",
            "Epoch 66/200\n",
            "34/34 [==============================] - 0s 1ms/step - loss: 6156.8726 - mae: 6156.8726\n",
            "Epoch 67/200\n",
            "34/34 [==============================] - 0s 1ms/step - loss: 6143.9077 - mae: 6143.9077\n",
            "Epoch 68/200\n",
            "34/34 [==============================] - 0s 1ms/step - loss: 6120.4976 - mae: 6120.4976\n",
            "Epoch 69/200\n",
            "34/34 [==============================] - 0s 1ms/step - loss: 6103.1484 - mae: 6103.1484\n",
            "Epoch 70/200\n",
            "34/34 [==============================] - 0s 1ms/step - loss: 6082.1733 - mae: 6082.1733\n",
            "Epoch 71/200\n",
            "34/34 [==============================] - 0s 1ms/step - loss: 6061.7695 - mae: 6061.7695\n",
            "Epoch 72/200\n",
            "34/34 [==============================] - 0s 1ms/step - loss: 6041.4395 - mae: 6041.4395\n",
            "Epoch 73/200\n",
            "34/34 [==============================] - 0s 1ms/step - loss: 6026.6104 - mae: 6026.6104\n",
            "Epoch 74/200\n",
            "34/34 [==============================] - 0s 1ms/step - loss: 5996.8213 - mae: 5996.8213\n",
            "Epoch 75/200\n",
            "34/34 [==============================] - 0s 1ms/step - loss: 5974.4717 - mae: 5974.4717\n",
            "Epoch 76/200\n",
            "34/34 [==============================] - 0s 1ms/step - loss: 5959.5259 - mae: 5959.5259\n",
            "Epoch 77/200\n",
            "34/34 [==============================] - 0s 1ms/step - loss: 5926.3032 - mae: 5926.3032\n",
            "Epoch 78/200\n",
            "34/34 [==============================] - 0s 1ms/step - loss: 5900.8369 - mae: 5900.8369\n",
            "Epoch 79/200\n",
            "34/34 [==============================] - 0s 1ms/step - loss: 5874.9019 - mae: 5874.9019\n",
            "Epoch 80/200\n",
            "34/34 [==============================] - 0s 1ms/step - loss: 5845.5815 - mae: 5845.5815\n",
            "Epoch 81/200\n",
            "34/34 [==============================] - 0s 1ms/step - loss: 5819.4854 - mae: 5819.4854\n",
            "Epoch 82/200\n",
            "34/34 [==============================] - 0s 1ms/step - loss: 5789.0781 - mae: 5789.0781\n",
            "Epoch 83/200\n",
            "34/34 [==============================] - 0s 1ms/step - loss: 5759.0391 - mae: 5759.0391\n",
            "Epoch 84/200\n",
            "34/34 [==============================] - 0s 1ms/step - loss: 5724.4019 - mae: 5724.4019\n",
            "Epoch 85/200\n",
            "34/34 [==============================] - 0s 1ms/step - loss: 5694.9395 - mae: 5694.9395\n",
            "Epoch 86/200\n",
            "34/34 [==============================] - 0s 1ms/step - loss: 5660.5010 - mae: 5660.5010\n",
            "Epoch 87/200\n",
            "34/34 [==============================] - 0s 1ms/step - loss: 5622.3423 - mae: 5622.3423\n",
            "Epoch 88/200\n",
            "34/34 [==============================] - 0s 1ms/step - loss: 5584.4854 - mae: 5584.4854\n",
            "Epoch 89/200\n",
            "34/34 [==============================] - 0s 1ms/step - loss: 5544.3955 - mae: 5544.3955\n",
            "Epoch 90/200\n",
            "34/34 [==============================] - 0s 2ms/step - loss: 5499.8306 - mae: 5499.8306\n",
            "Epoch 91/200\n",
            "34/34 [==============================] - 0s 1ms/step - loss: 5459.7207 - mae: 5459.7207\n",
            "Epoch 92/200\n",
            "34/34 [==============================] - 0s 1ms/step - loss: 5409.8584 - mae: 5409.8584\n",
            "Epoch 93/200\n",
            "34/34 [==============================] - 0s 1ms/step - loss: 5365.3931 - mae: 5365.3931\n",
            "Epoch 94/200\n",
            "34/34 [==============================] - 0s 1ms/step - loss: 5315.3276 - mae: 5315.3276\n",
            "Epoch 95/200\n",
            "34/34 [==============================] - 0s 1ms/step - loss: 5262.7612 - mae: 5262.7612\n",
            "Epoch 96/200\n",
            "34/34 [==============================] - 0s 1ms/step - loss: 5214.1050 - mae: 5214.1050\n",
            "Epoch 97/200\n",
            "34/34 [==============================] - 0s 1ms/step - loss: 5156.3149 - mae: 5156.3149\n",
            "Epoch 98/200\n",
            "34/34 [==============================] - 0s 1ms/step - loss: 5092.9302 - mae: 5092.9302\n",
            "Epoch 99/200\n",
            "34/34 [==============================] - 0s 1ms/step - loss: 5029.8369 - mae: 5029.8369\n",
            "Epoch 100/200\n",
            "34/34 [==============================] - 0s 1ms/step - loss: 4975.0244 - mae: 4975.0244\n",
            "Epoch 101/200\n",
            "34/34 [==============================] - 0s 1ms/step - loss: 4898.2275 - mae: 4898.2275\n",
            "Epoch 102/200\n",
            "34/34 [==============================] - 0s 1ms/step - loss: 4822.9751 - mae: 4822.9751\n",
            "Epoch 103/200\n",
            "34/34 [==============================] - 0s 1ms/step - loss: 4755.1274 - mae: 4755.1274\n",
            "Epoch 104/200\n",
            "34/34 [==============================] - 0s 2ms/step - loss: 4671.4512 - mae: 4671.4512\n",
            "Epoch 105/200\n",
            "34/34 [==============================] - 0s 2ms/step - loss: 4581.8022 - mae: 4581.8022\n",
            "Epoch 106/200\n",
            "34/34 [==============================] - 0s 2ms/step - loss: 4498.9292 - mae: 4498.9292\n",
            "Epoch 107/200\n",
            "34/34 [==============================] - 0s 2ms/step - loss: 4414.0088 - mae: 4414.0088\n",
            "Epoch 108/200\n",
            "34/34 [==============================] - 0s 2ms/step - loss: 4330.5786 - mae: 4330.5786\n",
            "Epoch 109/200\n",
            "34/34 [==============================] - 0s 2ms/step - loss: 4247.5610 - mae: 4247.5610\n",
            "Epoch 110/200\n",
            "34/34 [==============================] - 0s 2ms/step - loss: 4167.3115 - mae: 4167.3115\n",
            "Epoch 111/200\n",
            "34/34 [==============================] - 0s 1ms/step - loss: 4097.5103 - mae: 4097.5103\n",
            "Epoch 112/200\n",
            "34/34 [==============================] - 0s 2ms/step - loss: 4035.2061 - mae: 4035.2061\n",
            "Epoch 113/200\n",
            "34/34 [==============================] - 0s 2ms/step - loss: 3983.1006 - mae: 3983.1006\n",
            "Epoch 114/200\n",
            "34/34 [==============================] - 0s 2ms/step - loss: 3952.3313 - mae: 3952.3313\n",
            "Epoch 115/200\n",
            "34/34 [==============================] - 0s 2ms/step - loss: 3911.7227 - mae: 3911.7227\n",
            "Epoch 116/200\n",
            "34/34 [==============================] - 0s 2ms/step - loss: 3896.7988 - mae: 3896.7988\n",
            "Epoch 117/200\n",
            "34/34 [==============================] - 0s 2ms/step - loss: 3877.5347 - mae: 3877.5347\n",
            "Epoch 118/200\n",
            "34/34 [==============================] - 0s 2ms/step - loss: 3857.6418 - mae: 3857.6418\n",
            "Epoch 119/200\n",
            "34/34 [==============================] - 0s 2ms/step - loss: 3839.9890 - mae: 3839.9890\n",
            "Epoch 120/200\n",
            "34/34 [==============================] - 0s 2ms/step - loss: 3826.7600 - mae: 3826.7600\n",
            "Epoch 121/200\n",
            "34/34 [==============================] - 0s 1ms/step - loss: 3818.1748 - mae: 3818.1748\n",
            "Epoch 122/200\n",
            "34/34 [==============================] - 0s 2ms/step - loss: 3815.4636 - mae: 3815.4636\n",
            "Epoch 123/200\n",
            "34/34 [==============================] - 0s 2ms/step - loss: 3806.9668 - mae: 3806.9668\n",
            "Epoch 124/200\n",
            "34/34 [==============================] - 0s 2ms/step - loss: 3800.1162 - mae: 3800.1162\n",
            "Epoch 125/200\n",
            "34/34 [==============================] - 0s 2ms/step - loss: 3791.2893 - mae: 3791.2893\n",
            "Epoch 126/200\n",
            "34/34 [==============================] - 0s 2ms/step - loss: 3803.3179 - mae: 3803.3179\n",
            "Epoch 127/200\n",
            "34/34 [==============================] - 0s 2ms/step - loss: 3792.4446 - mae: 3792.4446\n",
            "Epoch 128/200\n",
            "34/34 [==============================] - 0s 2ms/step - loss: 3788.6609 - mae: 3788.6609\n",
            "Epoch 129/200\n",
            "34/34 [==============================] - 0s 1ms/step - loss: 3797.2822 - mae: 3797.2822\n",
            "Epoch 130/200\n",
            "34/34 [==============================] - 0s 2ms/step - loss: 3787.4302 - mae: 3787.4302\n",
            "Epoch 131/200\n",
            "34/34 [==============================] - 0s 2ms/step - loss: 3778.7778 - mae: 3778.7778\n",
            "Epoch 132/200\n",
            "34/34 [==============================] - 0s 2ms/step - loss: 3772.9546 - mae: 3772.9546\n",
            "Epoch 133/200\n",
            "34/34 [==============================] - 0s 2ms/step - loss: 3768.3965 - mae: 3768.3965\n",
            "Epoch 134/200\n",
            "34/34 [==============================] - 0s 2ms/step - loss: 3767.0840 - mae: 3767.0840\n",
            "Epoch 135/200\n",
            "34/34 [==============================] - 0s 2ms/step - loss: 3764.8010 - mae: 3764.8010\n",
            "Epoch 136/200\n",
            "34/34 [==============================] - 0s 2ms/step - loss: 3764.2200 - mae: 3764.2200\n",
            "Epoch 137/200\n",
            "34/34 [==============================] - 0s 2ms/step - loss: 3770.8850 - mae: 3770.8850\n",
            "Epoch 138/200\n",
            "34/34 [==============================] - 0s 2ms/step - loss: 3780.0422 - mae: 3780.0422\n",
            "Epoch 139/200\n",
            "34/34 [==============================] - 0s 2ms/step - loss: 3759.3555 - mae: 3759.3555\n",
            "Epoch 140/200\n",
            "34/34 [==============================] - 0s 2ms/step - loss: 3760.5054 - mae: 3760.5054\n",
            "Epoch 141/200\n",
            "34/34 [==============================] - 0s 2ms/step - loss: 3761.6128 - mae: 3761.6128\n",
            "Epoch 142/200\n",
            "34/34 [==============================] - 0s 2ms/step - loss: 3764.6699 - mae: 3764.6699\n",
            "Epoch 143/200\n",
            "34/34 [==============================] - 0s 1ms/step - loss: 3752.6155 - mae: 3752.6155\n",
            "Epoch 144/200\n",
            "34/34 [==============================] - 0s 1ms/step - loss: 3748.9204 - mae: 3748.9204\n",
            "Epoch 145/200\n",
            "34/34 [==============================] - 0s 2ms/step - loss: 3749.0344 - mae: 3749.0344\n",
            "Epoch 146/200\n",
            "34/34 [==============================] - 0s 2ms/step - loss: 3755.5042 - mae: 3755.5042\n",
            "Epoch 147/200\n",
            "34/34 [==============================] - 0s 1ms/step - loss: 3748.9062 - mae: 3748.9062\n",
            "Epoch 148/200\n",
            "34/34 [==============================] - 0s 1ms/step - loss: 3756.5415 - mae: 3756.5415\n",
            "Epoch 149/200\n",
            "34/34 [==============================] - 0s 1ms/step - loss: 3741.9976 - mae: 3741.9976\n",
            "Epoch 150/200\n",
            "34/34 [==============================] - 0s 1ms/step - loss: 3736.9958 - mae: 3736.9958\n",
            "Epoch 151/200\n",
            "34/34 [==============================] - 0s 2ms/step - loss: 3739.7627 - mae: 3739.7627\n",
            "Epoch 152/200\n",
            "34/34 [==============================] - 0s 2ms/step - loss: 3741.1729 - mae: 3741.1729\n",
            "Epoch 153/200\n",
            "34/34 [==============================] - 0s 2ms/step - loss: 3741.7778 - mae: 3741.7778\n",
            "Epoch 154/200\n",
            "34/34 [==============================] - 0s 2ms/step - loss: 3735.6072 - mae: 3735.6072\n",
            "Epoch 155/200\n",
            "34/34 [==============================] - 0s 2ms/step - loss: 3737.2812 - mae: 3737.2812\n",
            "Epoch 156/200\n",
            "34/34 [==============================] - 0s 2ms/step - loss: 3735.5208 - mae: 3735.5208\n",
            "Epoch 157/200\n",
            "34/34 [==============================] - 0s 2ms/step - loss: 3730.9766 - mae: 3730.9766\n",
            "Epoch 158/200\n",
            "34/34 [==============================] - 0s 2ms/step - loss: 3728.3813 - mae: 3728.3813\n",
            "Epoch 159/200\n",
            "34/34 [==============================] - 0s 2ms/step - loss: 3724.8679 - mae: 3724.8679\n",
            "Epoch 160/200\n",
            "34/34 [==============================] - 0s 2ms/step - loss: 3732.1328 - mae: 3732.1328\n",
            "Epoch 161/200\n",
            "34/34 [==============================] - 0s 1ms/step - loss: 3726.8770 - mae: 3726.8770\n",
            "Epoch 162/200\n",
            "34/34 [==============================] - 0s 1ms/step - loss: 3723.8940 - mae: 3723.8940\n",
            "Epoch 163/200\n",
            "34/34 [==============================] - 0s 1ms/step - loss: 3721.3088 - mae: 3721.3088\n",
            "Epoch 164/200\n",
            "34/34 [==============================] - 0s 1ms/step - loss: 3724.9683 - mae: 3724.9683\n",
            "Epoch 165/200\n",
            "34/34 [==============================] - 0s 1ms/step - loss: 3714.9009 - mae: 3714.9009\n",
            "Epoch 166/200\n",
            "34/34 [==============================] - 0s 1ms/step - loss: 3719.4810 - mae: 3719.4810\n",
            "Epoch 167/200\n",
            "34/34 [==============================] - 0s 1ms/step - loss: 3718.6458 - mae: 3718.6458\n",
            "Epoch 168/200\n",
            "34/34 [==============================] - 0s 1ms/step - loss: 3713.7893 - mae: 3713.7893\n",
            "Epoch 169/200\n",
            "34/34 [==============================] - 0s 1ms/step - loss: 3711.8369 - mae: 3711.8369\n",
            "Epoch 170/200\n",
            "34/34 [==============================] - 0s 1ms/step - loss: 3706.7637 - mae: 3706.7637\n",
            "Epoch 171/200\n",
            "34/34 [==============================] - 0s 1ms/step - loss: 3707.0872 - mae: 3707.0872\n",
            "Epoch 172/200\n",
            "34/34 [==============================] - 0s 1ms/step - loss: 3708.8206 - mae: 3708.8206\n",
            "Epoch 173/200\n",
            "34/34 [==============================] - 0s 1ms/step - loss: 3704.4797 - mae: 3704.4797\n",
            "Epoch 174/200\n",
            "34/34 [==============================] - 0s 1ms/step - loss: 3709.0835 - mae: 3709.0835\n",
            "Epoch 175/200\n",
            "34/34 [==============================] - 0s 1ms/step - loss: 3709.0244 - mae: 3709.0244\n",
            "Epoch 176/200\n",
            "34/34 [==============================] - 0s 1ms/step - loss: 3705.8330 - mae: 3705.8330\n",
            "Epoch 177/200\n",
            "34/34 [==============================] - 0s 1ms/step - loss: 3698.3682 - mae: 3698.3682\n",
            "Epoch 178/200\n",
            "34/34 [==============================] - 0s 1ms/step - loss: 3693.5122 - mae: 3693.5122\n",
            "Epoch 179/200\n",
            "34/34 [==============================] - 0s 1ms/step - loss: 3707.6558 - mae: 3707.6558\n",
            "Epoch 180/200\n",
            "34/34 [==============================] - 0s 1ms/step - loss: 3709.2737 - mae: 3709.2737\n",
            "Epoch 181/200\n",
            "34/34 [==============================] - 0s 1ms/step - loss: 3696.2197 - mae: 3696.2197\n",
            "Epoch 182/200\n",
            "34/34 [==============================] - 0s 1ms/step - loss: 3692.6848 - mae: 3692.6848\n",
            "Epoch 183/200\n",
            "34/34 [==============================] - 0s 1ms/step - loss: 3690.2007 - mae: 3690.2007\n",
            "Epoch 184/200\n",
            "34/34 [==============================] - 0s 1ms/step - loss: 3698.0835 - mae: 3698.0835\n",
            "Epoch 185/200\n",
            "34/34 [==============================] - 0s 1ms/step - loss: 3692.0840 - mae: 3692.0840\n",
            "Epoch 186/200\n",
            "34/34 [==============================] - 0s 1ms/step - loss: 3695.4180 - mae: 3695.4180\n",
            "Epoch 187/200\n",
            "34/34 [==============================] - 0s 1ms/step - loss: 3688.0081 - mae: 3688.0081\n",
            "Epoch 188/200\n",
            "34/34 [==============================] - 0s 1ms/step - loss: 3694.3101 - mae: 3694.3101\n",
            "Epoch 189/200\n",
            "34/34 [==============================] - 0s 1ms/step - loss: 3682.4971 - mae: 3682.4971\n",
            "Epoch 190/200\n",
            "34/34 [==============================] - 0s 1ms/step - loss: 3683.0251 - mae: 3683.0251\n",
            "Epoch 191/200\n",
            "34/34 [==============================] - 0s 1ms/step - loss: 3696.5137 - mae: 3696.5137\n",
            "Epoch 192/200\n",
            "34/34 [==============================] - 0s 1ms/step - loss: 3683.9243 - mae: 3683.9243\n",
            "Epoch 193/200\n",
            "34/34 [==============================] - 0s 1ms/step - loss: 3674.6704 - mae: 3674.6704\n",
            "Epoch 194/200\n",
            "34/34 [==============================] - 0s 1ms/step - loss: 3676.2085 - mae: 3676.2085\n",
            "Epoch 195/200\n",
            "34/34 [==============================] - 0s 1ms/step - loss: 3672.4075 - mae: 3672.4075\n",
            "Epoch 196/200\n",
            "34/34 [==============================] - 0s 1ms/step - loss: 3681.5942 - mae: 3681.5942\n",
            "Epoch 197/200\n",
            "34/34 [==============================] - 0s 1ms/step - loss: 3665.6658 - mae: 3665.6658\n",
            "Epoch 198/200\n",
            "34/34 [==============================] - 0s 1ms/step - loss: 3672.2219 - mae: 3672.2219\n",
            "Epoch 199/200\n",
            "34/34 [==============================] - 0s 1ms/step - loss: 3679.2605 - mae: 3679.2605\n",
            "Epoch 200/200\n",
            "34/34 [==============================] - 0s 1ms/step - loss: 3666.9170 - mae: 3666.9170\n"
          ]
        }
      ]
    },
    {
      "cell_type": "code",
      "source": [
        "# evaluate our third model\n",
        "insurance_model_3.evaluate(X_test,Y_test)"
      ],
      "metadata": {
        "colab": {
          "base_uri": "https://localhost:8080/"
        },
        "id": "1TeZgFL8eYbK",
        "outputId": "17e3790b-4728-47b4-9c12-334141fd875f"
      },
      "execution_count": null,
      "outputs": [
        {
          "output_type": "stream",
          "name": "stdout",
          "text": [
            "9/9 [==============================] - 0s 1ms/step - loss: 3488.6787 - mae: 3488.6787\n"
          ]
        },
        {
          "output_type": "execute_result",
          "data": {
            "text/plain": [
              "[3488.6787109375, 3488.6787109375]"
            ]
          },
          "metadata": {},
          "execution_count": 252
        }
      ]
    },
    {
      "cell_type": "code",
      "source": [
        "# evalueate old model\n",
        "insurance_model.evaluate(X_test,Y_test)"
      ],
      "metadata": {
        "colab": {
          "base_uri": "https://localhost:8080/"
        },
        "id": "_PlMsS92enqu",
        "outputId": "1e2fddbc-7295-4a01-ecb7-fe0ecd7d8409"
      },
      "execution_count": null,
      "outputs": [
        {
          "output_type": "stream",
          "name": "stdout",
          "text": [
            "9/9 [==============================] - 0s 1ms/step - loss: 8919.8213 - mae: 8919.8213\n"
          ]
        },
        {
          "output_type": "execute_result",
          "data": {
            "text/plain": [
              "[8919.8212890625, 8919.8212890625]"
            ]
          },
          "metadata": {},
          "execution_count": 253
        }
      ]
    },
    {
      "cell_type": "code",
      "source": [
        "# Plot history (also known as  a loss curve or training curve)\n",
        "pd.DataFrame(history.history).plot()\n",
        "plt.ylabel(\"loss\")\n",
        "plt.xlabel(\"epochs\")"
      ],
      "metadata": {
        "colab": {
          "base_uri": "https://localhost:8080/",
          "height": 466
        },
        "id": "XTP41T8ieyPP",
        "outputId": "5e0f4468-3ecc-4aa1-edb2-1802224db25a"
      },
      "execution_count": null,
      "outputs": [
        {
          "output_type": "execute_result",
          "data": {
            "text/plain": [
              "Text(0.5, 0, 'epochs')"
            ]
          },
          "metadata": {},
          "execution_count": 254
        },
        {
          "output_type": "display_data",
          "data": {
            "text/plain": [
              "<Figure size 640x480 with 1 Axes>"
            ],
            "image/png": "[encoded data removed]"
          },
          "metadata": {}
        }
      ]
    },
    {
      "cell_type": "markdown",
      "source": [
        "* How long should you train for ?\n",
        "\n",
        "--> It depends on the problem you are working on. However, Tesnorfloe has a solution. it is called the EarlyStopping Callback which is a tensorflow component you can add your model to stop training once it stops improving a certain metric"
      ],
      "metadata": {
        "id": "g5Y2rzEDfoc5"
      }
    },
    {
      "cell_type": "code",
      "source": [],
      "metadata": {
        "id": "Dg-oYA_UgFUO"
      },
      "execution_count": null,
      "outputs": []
    },
    {
      "cell_type": "markdown",
      "source": [
        "**Preprocessing data (Normalization and standardization)**\n",
        "\n",
        "---\n",
        "In terms of scaling values, neural networks tend to prefer normalization\n",
        "* if you are not sure on which to use, you could try bıth and see which performs better\n",
        "\n"
      ],
      "metadata": {
        "id": "dL0PSYyPgV6v"
      }
    },
    {
      "cell_type": "code",
      "source": [
        "import pandas as pd\n",
        "import matplotlib.pyplot as plt\n",
        "import tensorflow as tf\n",
        "\n",
        "# read in the insurance dataframe\n",
        "insurance = pd.read_csv(\"https://raw.githubusercontent.com/stedy/Machine-Learning-with-R-datasets/master/insurance.csv\")\n",
        "insurance"
      ],
      "metadata": {
        "colab": {
          "base_uri": "https://localhost:8080/",
          "height": 424
        },
        "id": "kOdha8C6iKP7",
        "outputId": "c744b7a2-13cc-479d-b791-f395f9efe400"
      },
      "execution_count": null,
      "outputs": [
        {
          "output_type": "execute_result",
          "data": {
            "text/plain": [
              "      age     sex     bmi  children smoker     region      charges\n",
              "0      19  female  27.900         0    yes  southwest  16884.92400\n",
              "1      18    male  33.770         1     no  southeast   1725.55230\n",
              "2      28    male  33.000         3     no  southeast   4449.46200\n",
              "3      33    male  22.705         0     no  northwest  21984.47061\n",
              "4      32    male  28.880         0     no  northwest   3866.85520\n",
              "...   ...     ...     ...       ...    ...        ...          ...\n",
              "1333   50    male  30.970         3     no  northwest  10600.54830\n",
              "1334   18  female  31.920         0     no  northeast   2205.98080\n",
              "1335   18  female  36.850         0     no  southeast   1629.83350\n",
              "1336   21  female  25.800         0     no  southwest   2007.94500\n",
              "1337   61  female  29.070         0    yes  northwest  29141.36030\n",
              "\n",
              "[1338 rows x 7 columns]"
            ],
            "text/html": [
              "\n",
              "  <div id=\"df-6f06cdb4-000a-40d8-aaf4-f7ab40cc9255\" class=\"colab-df-container\">\n",
              "    <div>\n",
              "<style scoped>\n",
              "    .dataframe tbody tr th:only-of-type {\n",
              "        vertical-align: middle;\n",
              "    }\n",
              "\n",
              "    .dataframe tbody tr th {\n",
              "        vertical-align: top;\n",
              "    }\n",
              "\n",
              "    .dataframe thead th {\n",
              "        text-align: right;\n",
              "    }\n",
              "</style>\n",
              "<table border=\"1\" class=\"dataframe\">\n",
              "  <thead>\n",
              "    <tr style=\"text-align: right;\">\n",
              "      <th></th>\n",
              "      <th>age</th>\n",
              "      <th>sex</th>\n",
              "      <th>bmi</th>\n",
              "      <th>children</th>\n",
              "      <th>smoker</th>\n",
              "      <th>region</th>\n",
              "      <th>charges</th>\n",
              "    </tr>\n",
              "  </thead>\n",
              "  <tbody>\n",
              "    <tr>\n",
              "      <th>0</th>\n",
              "      <td>19</td>\n",
              "      <td>female</td>\n",
              "      <td>27.900</td>\n",
              "      <td>0</td>\n",
              "      <td>yes</td>\n",
              "      <td>southwest</td>\n",
              "      <td>16884.92400</td>\n",
              "    </tr>\n",
              "    <tr>\n",
              "      <th>1</th>\n",
              "      <td>18</td>\n",
              "      <td>male</td>\n",
              "      <td>33.770</td>\n",
              "      <td>1</td>\n",
              "      <td>no</td>\n",
              "      <td>southeast</td>\n",
              "      <td>1725.55230</td>\n",
              "    </tr>\n",
              "    <tr>\n",
              "      <th>2</th>\n",
              "      <td>28</td>\n",
              "      <td>male</td>\n",
              "      <td>33.000</td>\n",
              "      <td>3</td>\n",
              "      <td>no</td>\n",
              "      <td>southeast</td>\n",
              "      <td>4449.46200</td>\n",
              "    </tr>\n",
              "    <tr>\n",
              "      <th>3</th>\n",
              "      <td>33</td>\n",
              "      <td>male</td>\n",
              "      <td>22.705</td>\n",
              "      <td>0</td>\n",
              "      <td>no</td>\n",
              "      <td>northwest</td>\n",
              "      <td>21984.47061</td>\n",
              "    </tr>\n",
              "    <tr>\n",
              "      <th>4</th>\n",
              "      <td>32</td>\n",
              "      <td>male</td>\n",
              "      <td>28.880</td>\n",
              "      <td>0</td>\n",
              "      <td>no</td>\n",
              "      <td>northwest</td>\n",
              "      <td>3866.85520</td>\n",
              "    </tr>\n",
              "    <tr>\n",
              "      <th>...</th>\n",
              "      <td>...</td>\n",
              "      <td>...</td>\n",
              "      <td>...</td>\n",
              "      <td>...</td>\n",
              "      <td>...</td>\n",
              "      <td>...</td>\n",
              "      <td>...</td>\n",
              "    </tr>\n",
              "    <tr>\n",
              "      <th>1333</th>\n",
              "      <td>50</td>\n",
              "      <td>male</td>\n",
              "      <td>30.970</td>\n",
              "      <td>3</td>\n",
              "      <td>no</td>\n",
              "      <td>northwest</td>\n",
              "      <td>10600.54830</td>\n",
              "    </tr>\n",
              "    <tr>\n",
              "      <th>1334</th>\n",
              "      <td>18</td>\n",
              "      <td>female</td>\n",
              "      <td>31.920</td>\n",
              "      <td>0</td>\n",
              "      <td>no</td>\n",
              "      <td>northeast</td>\n",
              "      <td>2205.98080</td>\n",
              "    </tr>\n",
              "    <tr>\n",
              "      <th>1335</th>\n",
              "      <td>18</td>\n",
              "      <td>female</td>\n",
              "      <td>36.850</td>\n",
              "      <td>0</td>\n",
              "      <td>no</td>\n",
              "      <td>southeast</td>\n",
              "      <td>1629.83350</td>\n",
              "    </tr>\n",
              "    <tr>\n",
              "      <th>1336</th>\n",
              "      <td>21</td>\n",
              "      <td>female</td>\n",
              "      <td>25.800</td>\n",
              "      <td>0</td>\n",
              "      <td>no</td>\n",
              "      <td>southwest</td>\n",
              "      <td>2007.94500</td>\n",
              "    </tr>\n",
              "    <tr>\n",
              "      <th>1337</th>\n",
              "      <td>61</td>\n",
              "      <td>female</td>\n",
              "      <td>29.070</td>\n",
              "      <td>0</td>\n",
              "      <td>yes</td>\n",
              "      <td>northwest</td>\n",
              "      <td>29141.36030</td>\n",
              "    </tr>\n",
              "  </tbody>\n",
              "</table>\n",
              "<p>1338 rows × 7 columns</p>\n",
              "</div>\n",
              "    <div class=\"colab-df-buttons\">\n",
              "\n",
              "  <div class=\"colab-df-container\">\n",
              "    <button class=\"colab-df-convert\" onclick=\"convertToInteractive('df-6f06cdb4-000a-40d8-aaf4-f7ab40cc9255')\"\n",
              "            title=\"Convert this dataframe to an interactive table.\"\n",
              "            style=\"display:none;\">\n",
              "\n",
              "  <svg xmlns=\"http://www.w3.org/2000/svg\" height=\"24px\" viewBox=\"0 -960 960 960\">\n",
              "    <path d=\"M120-120v-720h720v720H120Zm60-500h600v-160H180v160Zm220 220h160v-160H400v160Zm0 220h160v-160H400v160ZM180-400h160v-160H180v160Zm440 0h160v-160H620v160ZM180-180h160v-160H180v160Zm440 0h160v-160H620v160Z\"/>\n",
              "  </svg>\n",
              "    </button>\n",
              "\n",
              "  <style>\n",
              "    .colab-df-container {\n",
              "      display:flex;\n",
              "      gap: 12px;\n",
              "    }\n",
              "\n",
              "    .colab-df-convert {\n",
              "      background-color: #E8F0FE;\n",
              "      border: none;\n",
              "      border-radius: 50%;\n",
              "      cursor: pointer;\n",
              "      display: none;\n",
              "      fill: #1967D2;\n",
              "      height: 32px;\n",
              "      padding: 0 0 0 0;\n",
              "      width: 32px;\n",
              "    }\n",
              "\n",
              "    .colab-df-convert:hover {\n",
              "      background-color: #E2EBFA;\n",
              "      box-shadow: 0px 1px 2px rgba(60, 64, 67, 0.3), 0px 1px 3px 1px rgba(60, 64, 67, 0.15);\n",
              "      fill: #174EA6;\n",
              "    }\n",
              "\n",
              "    .colab-df-buttons div {\n",
              "      margin-bottom: 4px;\n",
              "    }\n",
              "\n",
              "    [theme=dark] .colab-df-convert {\n",
              "      background-color: #3B4455;\n",
              "      fill: #D2E3FC;\n",
              "    }\n",
              "\n",
              "    [theme=dark] .colab-df-convert:hover {\n",
              "      background-color: #434B5C;\n",
              "      box-shadow: 0px 1px 3px 1px rgba(0, 0, 0, 0.15);\n",
              "      filter: drop-shadow(0px 1px 2px rgba(0, 0, 0, 0.3));\n",
              "      fill: #FFFFFF;\n",
              "    }\n",
              "  </style>\n",
              "\n",
              "    <script>\n",
              "      const buttonEl =\n",
              "        document.querySelector('#df-6f06cdb4-000a-40d8-aaf4-f7ab40cc9255 button.colab-df-convert');\n",
              "      buttonEl.style.display =\n",
              "        google.colab.kernel.accessAllowed ? 'block' : 'none';\n",
              "\n",
              "      async function convertToInteractive(key) {\n",
              "        const element = document.querySelector('#df-6f06cdb4-000a-40d8-aaf4-f7ab40cc9255');\n",
              "        const dataTable =\n",
              "          await google.colab.kernel.invokeFunction('convertToInteractive',\n",
              "                                                    [key], {});\n",
              "        if (!dataTable) return;\n",
              "\n",
              "        const docLinkHtml = 'Like what you see? Visit the ' +\n",
              "          '<a target=\"_blank\" href=https://colab.research.google.com/notebooks/data_table.ipynb>data table notebook</a>'\n",
              "          + ' to learn more about interactive tables.';\n",
              "        element.innerHTML = '';\n",
              "        dataTable['output_type'] = 'display_data';\n",
              "        await google.colab.output.renderOutput(dataTable, element);\n",
              "        const docLink = document.createElement('div');\n",
              "        docLink.innerHTML = docLinkHtml;\n",
              "        element.appendChild(docLink);\n",
              "      }\n",
              "    </script>\n",
              "  </div>\n",
              "\n",
              "\n",
              "<div id=\"df-be361b16-157b-47e6-9d6d-4d82f0ca5001\">\n",
              "  <button class=\"colab-df-quickchart\" onclick=\"quickchart('df-be361b16-157b-47e6-9d6d-4d82f0ca5001')\"\n",
              "            title=\"Suggest charts.\"\n",
              "            style=\"display:none;\">\n",
              "\n",
              "<svg xmlns=\"http://www.w3.org/2000/svg\" height=\"24px\"viewBox=\"0 0 24 24\"\n",
              "     width=\"24px\">\n",
              "    <g>\n",
              "        <path d=\"M19 3H5c-1.1 0-2 .9-2 2v14c0 1.1.9 2 2 2h14c1.1 0 2-.9 2-2V5c0-1.1-.9-2-2-2zM9 17H7v-7h2v7zm4 0h-2V7h2v10zm4 0h-2v-4h2v4z\"/>\n",
              "    </g>\n",
              "</svg>\n",
              "  </button>\n",
              "\n",
              "<style>\n",
              "  .colab-df-quickchart {\n",
              "    background-color: #E8F0FE;\n",
              "    border: none;\n",
              "    border-radius: 50%;\n",
              "    cursor: pointer;\n",
              "    display: none;\n",
              "    fill: #1967D2;\n",
              "    height: 32px;\n",
              "    padding: 0 0 0 0;\n",
              "    width: 32px;\n",
              "  }\n",
              "\n",
              "  .colab-df-quickchart:hover {\n",
              "    background-color: #E2EBFA;\n",
              "    box-shadow: 0px 1px 2px rgba(60, 64, 67, 0.3), 0px 1px 3px 1px rgba(60, 64, 67, 0.15);\n",
              "    fill: #174EA6;\n",
              "  }\n",
              "\n",
              "  [theme=dark] .colab-df-quickchart {\n",
              "    background-color: #3B4455;\n",
              "    fill: #D2E3FC;\n",
              "  }\n",
              "\n",
              "  [theme=dark] .colab-df-quickchart:hover {\n",
              "    background-color: #434B5C;\n",
              "    box-shadow: 0px 1px 3px 1px rgba(0, 0, 0, 0.15);\n",
              "    filter: drop-shadow(0px 1px 2px rgba(0, 0, 0, 0.3));\n",
              "    fill: #FFFFFF;\n",
              "  }\n",
              "</style>\n",
              "\n",
              "  <script>\n",
              "    async function quickchart(key) {\n",
              "      const charts = await google.colab.kernel.invokeFunction(\n",
              "          'suggestCharts', [key], {});\n",
              "    }\n",
              "    (() => {\n",
              "      let quickchartButtonEl =\n",
              "        document.querySelector('#df-be361b16-157b-47e6-9d6d-4d82f0ca5001 button');\n",
              "      quickchartButtonEl.style.display =\n",
              "        google.colab.kernel.accessAllowed ? 'block' : 'none';\n",
              "    })();\n",
              "  </script>\n",
              "</div>\n",
              "    </div>\n",
              "  </div>\n"
            ]
          },
          "metadata": {},
          "execution_count": 378
        }
      ]
    },
    {
      "cell_type": "markdown",
      "source": [
        "To prepare our data, we can borrow a few classes from Scikit-Learn"
      ],
      "metadata": {
        "id": "hfjcwNRRi2Zf"
      }
    },
    {
      "cell_type": "code",
      "source": [
        "from sklearn.compose import make_column_transformer\n",
        "from sklearn.preprocessing import MinMaxScaler, OneHotEncoder\n",
        "from sklearn.model_selection import train_test_split\n",
        "\n",
        "# Create a column transformer\n",
        "ct = make_column_transformer(\n",
        "    (MinMaxScaler(), [\"age\",\"bmi\",\"children\"]), # turn all values in these columns between 0 and 1\n",
        "    (OneHotEncoder(handle_unknown = \"ignore\"), [\"sex\",\"smoker\",\"region\"])\n",
        ")\n",
        "\n",
        "# Create X and Y\n",
        "X = insurance.drop(\"charges\",axis = 1)\n",
        "Y = insurance[\"charges\"]\n",
        "\n",
        "# split the data\n",
        "X_train, X_test, Y_train,Y_test = train_test_split(X,Y,test_size = 0.2, random_state = 42)\n",
        "\n",
        "# fit the column transformer to our training data\n",
        "ct.fit(X_train)\n",
        "\n",
        "# transfrom training and testing data with normalization (MinMaxScaler) and OneHotEncoder\n",
        "X_train_normal = ct.transform(X_train)\n",
        "X_test_normal = ct.transform(X_test)\n",
        "\n"
      ],
      "metadata": {
        "id": "fVZCqWi3i0iI"
      },
      "execution_count": null,
      "outputs": []
    },
    {
      "cell_type": "code",
      "source": [
        "X_train.loc[0]"
      ],
      "metadata": {
        "colab": {
          "base_uri": "https://localhost:8080/"
        },
        "id": "FBYrieyLgeM_",
        "outputId": "2d4aea51-f972-4866-a9e6-117c0e4e694d"
      },
      "execution_count": null,
      "outputs": [
        {
          "output_type": "execute_result",
          "data": {
            "text/plain": [
              "age                19\n",
              "sex            female\n",
              "bmi              27.9\n",
              "children            0\n",
              "smoker            yes\n",
              "region      southwest\n",
              "Name: 0, dtype: object"
            ]
          },
          "metadata": {},
          "execution_count": 257
        }
      ]
    },
    {
      "cell_type": "code",
      "source": [
        "X_train_normal[0]"
      ],
      "metadata": {
        "colab": {
          "base_uri": "https://localhost:8080/"
        },
        "id": "Vg19tMK2lxS3",
        "outputId": "01bc878d-3389-4bbb-a91a-e249ae71a405"
      },
      "execution_count": null,
      "outputs": [
        {
          "output_type": "execute_result",
          "data": {
            "text/plain": [
              "array([0.60869565, 0.10734463, 0.4       , 1.        , 0.        ,\n",
              "       1.        , 0.        , 0.        , 1.        , 0.        ,\n",
              "       0.        ])"
            ]
          },
          "metadata": {},
          "execution_count": 333
        }
      ]
    },
    {
      "cell_type": "code",
      "source": [
        "X_train_normal.shape, X_train.shape"
      ],
      "metadata": {
        "colab": {
          "base_uri": "https://localhost:8080/"
        },
        "id": "BvUw05SHmKfL",
        "outputId": "b34d8b22-bd5d-4e6b-f180-a58c6b00371b"
      },
      "execution_count": null,
      "outputs": [
        {
          "output_type": "execute_result",
          "data": {
            "text/plain": [
              "((1070, 11), (1070, 6))"
            ]
          },
          "metadata": {},
          "execution_count": 396
        }
      ]
    },
    {
      "cell_type": "markdown",
      "source": [
        "Beatiful aour data has been normalized and one hot encoded Now, let's build a neural network model on it and see how it goes"
      ],
      "metadata": {
        "id": "AjQNpRoimTUL"
      }
    },
    {
      "cell_type": "code",
      "source": [
        "# Build a neural network model to fir on your normalized data4\n",
        "tf.random.set_seed(42)\n",
        "\n",
        "# create the model\n",
        "insurance_model_4 = tf.keras.Sequential([\n",
        "    tf.keras.layers.Dense(100),\n",
        "    tf.keras.layers.Dense(10),\n",
        "    tf.keras.layers.Dense(1)\n",
        "])\n",
        "\n",
        "# compile the model\n",
        "insurance_model_4.compile(loss = tf.keras.losses.mae,\n",
        "                          optimizer = tf.keras.optimizers.Adam(),\n",
        "                          metrics = [\"mae\"]\n",
        "                          )\n",
        "\n",
        "# fit the model\n",
        "insurance_model_4.fit(X_train_normal, Y_train,epochs=100,verbose = 0)"
      ],
      "metadata": {
        "colab": {
          "base_uri": "https://localhost:8080/"
        },
        "id": "W_16z43gmjtB",
        "outputId": "dec68cc8-0d97-4724-847b-4790d74e6916"
      },
      "execution_count": null,
      "outputs": [
        {
          "output_type": "execute_result",
          "data": {
            "text/plain": [
              "<keras.callbacks.History at 0x785224b0e470>"
            ]
          },
          "metadata": {},
          "execution_count": 397
        }
      ]
    },
    {
      "cell_type": "code",
      "source": [
        "# evaluate our insurance model trained on normalized data\n",
        "insurance_model_4.evaluate(X_test_normal,Y_test)"
      ],
      "metadata": {
        "colab": {
          "base_uri": "https://localhost:8080/"
        },
        "id": "ygJcQaDFmj3e",
        "outputId": "db098593-6cc0-4006-d4cd-95aa8880e056"
      },
      "execution_count": null,
      "outputs": [
        {
          "output_type": "stream",
          "name": "stdout",
          "text": [
            "9/9 [==============================] - 0s 1ms/step - loss: 3436.9917 - mae: 3436.9917\n"
          ]
        },
        {
          "output_type": "execute_result",
          "data": {
            "text/plain": [
              "[3436.99169921875, 3436.99169921875]"
            ]
          },
          "metadata": {},
          "execution_count": 398
        }
      ]
    },
    {
      "cell_type": "code",
      "source": [
        "X[\"age\"].plot(kind = \"hist\")"
      ],
      "metadata": {
        "colab": {
          "base_uri": "https://localhost:8080/",
          "height": 447
        },
        "id": "ExcpULJ0hAuI",
        "outputId": "25a52dfc-fb68-4d7f-e66c-f74d5f5be126"
      },
      "execution_count": null,
      "outputs": [
        {
          "output_type": "execute_result",
          "data": {
            "text/plain": [
              "<Axes: ylabel='Frequency'>"
            ]
          },
          "metadata": {},
          "execution_count": 399
        },
        {
          "output_type": "display_data",
          "data": {
            "text/plain": [
              "<Figure size 640x480 with 1 Axes>"
            ],
            "image/png": "[encoded data removed]"
          },
          "metadata": {}
        }
      ]
    },
    {
      "cell_type": "code",
      "source": [
        "X[\"bmi\"].plot(kind = \"hist\")"
      ],
      "metadata": {
        "colab": {
          "base_uri": "https://localhost:8080/",
          "height": 447
        },
        "id": "c-E6eOvqhHNW",
        "outputId": "7e281082-c25d-4885-db64-84a68760007a"
      },
      "execution_count": null,
      "outputs": [
        {
          "output_type": "execute_result",
          "data": {
            "text/plain": [
              "<Axes: ylabel='Frequency'>"
            ]
          },
          "metadata": {},
          "execution_count": 263
        },
        {
          "output_type": "display_data",
          "data": {
            "text/plain": [
              "<Figure size 640x480 with 1 Axes>"
            ],
            "image/png": "[encoded data removed]"
          },
          "metadata": {}
        }
      ]
    },
    {
      "cell_type": "code",
      "source": [
        "X[\"children\"].value_counts()"
      ],
      "metadata": {
        "colab": {
          "base_uri": "https://localhost:8080/"
        },
        "id": "VxuSm48whN5L",
        "outputId": "1ccd98da-e7b1-4ae0-8e62-feef647b3ea4"
      },
      "execution_count": null,
      "outputs": [
        {
          "output_type": "execute_result",
          "data": {
            "text/plain": [
              "0    574\n",
              "1    324\n",
              "2    240\n",
              "3    157\n",
              "4     25\n",
              "5     18\n",
              "Name: children, dtype: int64"
            ]
          },
          "metadata": {},
          "execution_count": 264
        }
      ]
    },
    {
      "cell_type": "markdown",
      "source": [
        "**LET'S MAKE AN EXAMPLE PROJECT FROM KAGGLE VEHICLE DATASET**"
      ],
      "metadata": {
        "id": "YDZNsbxVNYpr"
      }
    },
    {
      "cell_type": "code",
      "source": [
        "vehicle = pd.read_csv(\"/content/drive/MyDrive/Data/CAR DETAILS FROM CAR DEKHO.csv\")\n",
        "vehicle\n",
        "vehicle = vehicle.iloc[:1500]\n",
        "vehicle = vehicle.drop(\"seller_type\",axis = 1)\n",
        "vehicle = vehicle.drop(\"owner\",axis = 1)\n",
        "vehicle\n"
      ],
      "metadata": {
        "colab": {
          "base_uri": "https://localhost:8080/",
          "height": 424
        },
        "id": "j3WmxK4GR1sx",
        "outputId": "7c0b8ec7-341e-46f4-bfce-87f6c0058835"
      },
      "execution_count": null,
      "outputs": [
        {
          "output_type": "execute_result",
          "data": {
            "text/plain": [
              "                                      name  year  selling_price  km_driven  \\\n",
              "0                            Maruti 800 AC  2007          60000      70000   \n",
              "1                 Maruti Wagon R LXI Minor  2007         135000      50000   \n",
              "2                     Hyundai Verna 1.6 SX  2012         600000     100000   \n",
              "3                   Datsun RediGO T Option  2017         250000      46000   \n",
              "4                    Honda Amaze VX i-DTEC  2014         450000     141000   \n",
              "...                                    ...   ...            ...        ...   \n",
              "1495              Maruti Omni MPI STD BSIV  2014         150000     120000   \n",
              "1496        Tata Indica Vista Quadrajet LX  2011         149000      10000   \n",
              "1497  Tata Indica Vista Aqua 1.3 Quadrajet  2011         160000      80000   \n",
              "1498        Datsun GO Plus T Option Petrol  2018         434999      10000   \n",
              "1499                Mahindra XUV500 W8 4WD  2014         800000     156000   \n",
              "\n",
              "        fuel transmission  \n",
              "0     Petrol       Manual  \n",
              "1     Petrol       Manual  \n",
              "2     Diesel       Manual  \n",
              "3     Petrol       Manual  \n",
              "4     Diesel       Manual  \n",
              "...      ...          ...  \n",
              "1495  Petrol       Manual  \n",
              "1496  Diesel       Manual  \n",
              "1497  Diesel       Manual  \n",
              "1498  Petrol       Manual  \n",
              "1499  Diesel       Manual  \n",
              "\n",
              "[1500 rows x 6 columns]"
            ],
            "text/html": [
              "\n",
              "  <div id=\"df-36ef0a6b-8e59-4aca-83ac-827e89915ad9\" class=\"colab-df-container\">\n",
              "    <div>\n",
              "<style scoped>\n",
              "    .dataframe tbody tr th:only-of-type {\n",
              "        vertical-align: middle;\n",
              "    }\n",
              "\n",
              "    .dataframe tbody tr th {\n",
              "        vertical-align: top;\n",
              "    }\n",
              "\n",
              "    .dataframe thead th {\n",
              "        text-align: right;\n",
              "    }\n",
              "</style>\n",
              "<table border=\"1\" class=\"dataframe\">\n",
              "  <thead>\n",
              "    <tr style=\"text-align: right;\">\n",
              "      <th></th>\n",
              "      <th>name</th>\n",
              "      <th>year</th>\n",
              "      <th>selling_price</th>\n",
              "      <th>km_driven</th>\n",
              "      <th>fuel</th>\n",
              "      <th>transmission</th>\n",
              "    </tr>\n",
              "  </thead>\n",
              "  <tbody>\n",
              "    <tr>\n",
              "      <th>0</th>\n",
              "      <td>Maruti 800 AC</td>\n",
              "      <td>2007</td>\n",
              "      <td>60000</td>\n",
              "      <td>70000</td>\n",
              "      <td>Petrol</td>\n",
              "      <td>Manual</td>\n",
              "    </tr>\n",
              "    <tr>\n",
              "      <th>1</th>\n",
              "      <td>Maruti Wagon R LXI Minor</td>\n",
              "      <td>2007</td>\n",
              "      <td>135000</td>\n",
              "      <td>50000</td>\n",
              "      <td>Petrol</td>\n",
              "      <td>Manual</td>\n",
              "    </tr>\n",
              "    <tr>\n",
              "      <th>2</th>\n",
              "      <td>Hyundai Verna 1.6 SX</td>\n",
              "      <td>2012</td>\n",
              "      <td>600000</td>\n",
              "      <td>100000</td>\n",
              "      <td>Diesel</td>\n",
              "      <td>Manual</td>\n",
              "    </tr>\n",
              "    <tr>\n",
              "      <th>3</th>\n",
              "      <td>Datsun RediGO T Option</td>\n",
              "      <td>2017</td>\n",
              "      <td>250000</td>\n",
              "      <td>46000</td>\n",
              "      <td>Petrol</td>\n",
              "      <td>Manual</td>\n",
              "    </tr>\n",
              "    <tr>\n",
              "      <th>4</th>\n",
              "      <td>Honda Amaze VX i-DTEC</td>\n",
              "      <td>2014</td>\n",
              "      <td>450000</td>\n",
              "      <td>141000</td>\n",
              "      <td>Diesel</td>\n",
              "      <td>Manual</td>\n",
              "    </tr>\n",
              "    <tr>\n",
              "      <th>...</th>\n",
              "      <td>...</td>\n",
              "      <td>...</td>\n",
              "      <td>...</td>\n",
              "      <td>...</td>\n",
              "      <td>...</td>\n",
              "      <td>...</td>\n",
              "    </tr>\n",
              "    <tr>\n",
              "      <th>1495</th>\n",
              "      <td>Maruti Omni MPI STD BSIV</td>\n",
              "      <td>2014</td>\n",
              "      <td>150000</td>\n",
              "      <td>120000</td>\n",
              "      <td>Petrol</td>\n",
              "      <td>Manual</td>\n",
              "    </tr>\n",
              "    <tr>\n",
              "      <th>1496</th>\n",
              "      <td>Tata Indica Vista Quadrajet LX</td>\n",
              "      <td>2011</td>\n",
              "      <td>149000</td>\n",
              "      <td>10000</td>\n",
              "      <td>Diesel</td>\n",
              "      <td>Manual</td>\n",
              "    </tr>\n",
              "    <tr>\n",
              "      <th>1497</th>\n",
              "      <td>Tata Indica Vista Aqua 1.3 Quadrajet</td>\n",
              "      <td>2011</td>\n",
              "      <td>160000</td>\n",
              "      <td>80000</td>\n",
              "      <td>Diesel</td>\n",
              "      <td>Manual</td>\n",
              "    </tr>\n",
              "    <tr>\n",
              "      <th>1498</th>\n",
              "      <td>Datsun GO Plus T Option Petrol</td>\n",
              "      <td>2018</td>\n",
              "      <td>434999</td>\n",
              "      <td>10000</td>\n",
              "      <td>Petrol</td>\n",
              "      <td>Manual</td>\n",
              "    </tr>\n",
              "    <tr>\n",
              "      <th>1499</th>\n",
              "      <td>Mahindra XUV500 W8 4WD</td>\n",
              "      <td>2014</td>\n",
              "      <td>800000</td>\n",
              "      <td>156000</td>\n",
              "      <td>Diesel</td>\n",
              "      <td>Manual</td>\n",
              "    </tr>\n",
              "  </tbody>\n",
              "</table>\n",
              "<p>1500 rows × 6 columns</p>\n",
              "</div>\n",
              "    <div class=\"colab-df-buttons\">\n",
              "\n",
              "  <div class=\"colab-df-container\">\n",
              "    <button class=\"colab-df-convert\" onclick=\"convertToInteractive('df-36ef0a6b-8e59-4aca-83ac-827e89915ad9')\"\n",
              "            title=\"Convert this dataframe to an interactive table.\"\n",
              "            style=\"display:none;\">\n",
              "\n",
              "  <svg xmlns=\"http://www.w3.org/2000/svg\" height=\"24px\" viewBox=\"0 -960 960 960\">\n",
              "    <path d=\"M120-120v-720h720v720H120Zm60-500h600v-160H180v160Zm220 220h160v-160H400v160Zm0 220h160v-160H400v160ZM180-400h160v-160H180v160Zm440 0h160v-160H620v160ZM180-180h160v-160H180v160Zm440 0h160v-160H620v160Z\"/>\n",
              "  </svg>\n",
              "    </button>\n",
              "\n",
              "  <style>\n",
              "    .colab-df-container {\n",
              "      display:flex;\n",
              "      gap: 12px;\n",
              "    }\n",
              "\n",
              "    .colab-df-convert {\n",
              "      background-color: #E8F0FE;\n",
              "      border: none;\n",
              "      border-radius: 50%;\n",
              "      cursor: pointer;\n",
              "      display: none;\n",
              "      fill: #1967D2;\n",
              "      height: 32px;\n",
              "      padding: 0 0 0 0;\n",
              "      width: 32px;\n",
              "    }\n",
              "\n",
              "    .colab-df-convert:hover {\n",
              "      background-color: #E2EBFA;\n",
              "      box-shadow: 0px 1px 2px rgba(60, 64, 67, 0.3), 0px 1px 3px 1px rgba(60, 64, 67, 0.15);\n",
              "      fill: #174EA6;\n",
              "    }\n",
              "\n",
              "    .colab-df-buttons div {\n",
              "      margin-bottom: 4px;\n",
              "    }\n",
              "\n",
              "    [theme=dark] .colab-df-convert {\n",
              "      background-color: #3B4455;\n",
              "      fill: #D2E3FC;\n",
              "    }\n",
              "\n",
              "    [theme=dark] .colab-df-convert:hover {\n",
              "      background-color: #434B5C;\n",
              "      box-shadow: 0px 1px 3px 1px rgba(0, 0, 0, 0.15);\n",
              "      filter: drop-shadow(0px 1px 2px rgba(0, 0, 0, 0.3));\n",
              "      fill: #FFFFFF;\n",
              "    }\n",
              "  </style>\n",
              "\n",
              "    <script>\n",
              "      const buttonEl =\n",
              "        document.querySelector('#df-36ef0a6b-8e59-4aca-83ac-827e89915ad9 button.colab-df-convert');\n",
              "      buttonEl.style.display =\n",
              "        google.colab.kernel.accessAllowed ? 'block' : 'none';\n",
              "\n",
              "      async function convertToInteractive(key) {\n",
              "        const element = document.querySelector('#df-36ef0a6b-8e59-4aca-83ac-827e89915ad9');\n",
              "        const dataTable =\n",
              "          await google.colab.kernel.invokeFunction('convertToInteractive',\n",
              "                                                    [key], {});\n",
              "        if (!dataTable) return;\n",
              "\n",
              "        const docLinkHtml = 'Like what you see? Visit the ' +\n",
              "          '<a target=\"_blank\" href=https://colab.research.google.com/notebooks/data_table.ipynb>data table notebook</a>'\n",
              "          + ' to learn more about interactive tables.';\n",
              "        element.innerHTML = '';\n",
              "        dataTable['output_type'] = 'display_data';\n",
              "        await google.colab.output.renderOutput(dataTable, element);\n",
              "        const docLink = document.createElement('div');\n",
              "        docLink.innerHTML = docLinkHtml;\n",
              "        element.appendChild(docLink);\n",
              "      }\n",
              "    </script>\n",
              "  </div>\n",
              "\n",
              "\n",
              "<div id=\"df-9ca68b83-ad1c-46cd-ac39-914ba63d7cca\">\n",
              "  <button class=\"colab-df-quickchart\" onclick=\"quickchart('df-9ca68b83-ad1c-46cd-ac39-914ba63d7cca')\"\n",
              "            title=\"Suggest charts.\"\n",
              "            style=\"display:none;\">\n",
              "\n",
              "<svg xmlns=\"http://www.w3.org/2000/svg\" height=\"24px\"viewBox=\"0 0 24 24\"\n",
              "     width=\"24px\">\n",
              "    <g>\n",
              "        <path d=\"M19 3H5c-1.1 0-2 .9-2 2v14c0 1.1.9 2 2 2h14c1.1 0 2-.9 2-2V5c0-1.1-.9-2-2-2zM9 17H7v-7h2v7zm4 0h-2V7h2v10zm4 0h-2v-4h2v4z\"/>\n",
              "    </g>\n",
              "</svg>\n",
              "  </button>\n",
              "\n",
              "<style>\n",
              "  .colab-df-quickchart {\n",
              "    background-color: #E8F0FE;\n",
              "    border: none;\n",
              "    border-radius: 50%;\n",
              "    cursor: pointer;\n",
              "    display: none;\n",
              "    fill: #1967D2;\n",
              "    height: 32px;\n",
              "    padding: 0 0 0 0;\n",
              "    width: 32px;\n",
              "  }\n",
              "\n",
              "  .colab-df-quickchart:hover {\n",
              "    background-color: #E2EBFA;\n",
              "    box-shadow: 0px 1px 2px rgba(60, 64, 67, 0.3), 0px 1px 3px 1px rgba(60, 64, 67, 0.15);\n",
              "    fill: #174EA6;\n",
              "  }\n",
              "\n",
              "  [theme=dark] .colab-df-quickchart {\n",
              "    background-color: #3B4455;\n",
              "    fill: #D2E3FC;\n",
              "  }\n",
              "\n",
              "  [theme=dark] .colab-df-quickchart:hover {\n",
              "    background-color: #434B5C;\n",
              "    box-shadow: 0px 1px 3px 1px rgba(0, 0, 0, 0.15);\n",
              "    filter: drop-shadow(0px 1px 2px rgba(0, 0, 0, 0.3));\n",
              "    fill: #FFFFFF;\n",
              "  }\n",
              "</style>\n",
              "\n",
              "  <script>\n",
              "    async function quickchart(key) {\n",
              "      const charts = await google.colab.kernel.invokeFunction(\n",
              "          'suggestCharts', [key], {});\n",
              "    }\n",
              "    (() => {\n",
              "      let quickchartButtonEl =\n",
              "        document.querySelector('#df-9ca68b83-ad1c-46cd-ac39-914ba63d7cca button');\n",
              "      quickchartButtonEl.style.display =\n",
              "        google.colab.kernel.accessAllowed ? 'block' : 'none';\n",
              "    })();\n",
              "  </script>\n",
              "</div>\n",
              "    </div>\n",
              "  </div>\n"
            ]
          },
          "metadata": {},
          "execution_count": 411
        }
      ]
    },
    {
      "cell_type": "code",
      "source": [
        "# first we need to import necessary libraries for training, reading data, splitting data, normalization data\n",
        "import tensorflow as tf\n",
        "import pandas as pd\n",
        "import numpy as np\n",
        "\n",
        "# this libraries is used to normalize the data and split the data\n",
        "from sklearn.compose import make_column_transformer\n",
        "from sklearn.preprocessing import MinMaxScaler, OneHotEncoder\n",
        "from sklearn.model_selection import train_test_split\n",
        "\n",
        "# Create column transfromer\n",
        "ct = make_column_transformer(\n",
        "    (MinMaxScaler(), [\"year\",\"km_driven\"] ), # turn this numerical values by normalizing betweem 0 and 1\n",
        "     (OneHotEncoder(handle_unknown = \"ignore\"), [\"name\",\"fuel\",\"transmission\"])\n",
        ")\n",
        "\n",
        "# let's create the dataset into X and Y for training\n",
        "x = vehicle.drop(\"selling_price\",axis = 1)\n",
        "y = vehicle[\"selling_price\"]"
      ],
      "metadata": {
        "id": "uWjXb17mQVLM"
      },
      "execution_count": null,
      "outputs": []
    },
    {
      "cell_type": "code",
      "source": [
        "# let visualize the features\n",
        "x"
      ],
      "metadata": {
        "colab": {
          "base_uri": "https://localhost:8080/",
          "height": 424
        },
        "id": "do4UnvtjTGzo",
        "outputId": "5077688b-7b79-4795-bc43-b75f93ee7f13"
      },
      "execution_count": null,
      "outputs": [
        {
          "output_type": "execute_result",
          "data": {
            "text/plain": [
              "                                      name  year  km_driven    fuel  \\\n",
              "0                            Maruti 800 AC  2007      70000  Petrol   \n",
              "1                 Maruti Wagon R LXI Minor  2007      50000  Petrol   \n",
              "2                     Hyundai Verna 1.6 SX  2012     100000  Diesel   \n",
              "3                   Datsun RediGO T Option  2017      46000  Petrol   \n",
              "4                    Honda Amaze VX i-DTEC  2014     141000  Diesel   \n",
              "...                                    ...   ...        ...     ...   \n",
              "1495              Maruti Omni MPI STD BSIV  2014     120000  Petrol   \n",
              "1496        Tata Indica Vista Quadrajet LX  2011      10000  Diesel   \n",
              "1497  Tata Indica Vista Aqua 1.3 Quadrajet  2011      80000  Diesel   \n",
              "1498        Datsun GO Plus T Option Petrol  2018      10000  Petrol   \n",
              "1499                Mahindra XUV500 W8 4WD  2014     156000  Diesel   \n",
              "\n",
              "     transmission  \n",
              "0          Manual  \n",
              "1          Manual  \n",
              "2          Manual  \n",
              "3          Manual  \n",
              "4          Manual  \n",
              "...           ...  \n",
              "1495       Manual  \n",
              "1496       Manual  \n",
              "1497       Manual  \n",
              "1498       Manual  \n",
              "1499       Manual  \n",
              "\n",
              "[1500 rows x 5 columns]"
            ],
            "text/html": [
              "\n",
              "  <div id=\"df-17273207-c504-41f4-965f-f891a8c19837\" class=\"colab-df-container\">\n",
              "    <div>\n",
              "<style scoped>\n",
              "    .dataframe tbody tr th:only-of-type {\n",
              "        vertical-align: middle;\n",
              "    }\n",
              "\n",
              "    .dataframe tbody tr th {\n",
              "        vertical-align: top;\n",
              "    }\n",
              "\n",
              "    .dataframe thead th {\n",
              "        text-align: right;\n",
              "    }\n",
              "</style>\n",
              "<table border=\"1\" class=\"dataframe\">\n",
              "  <thead>\n",
              "    <tr style=\"text-align: right;\">\n",
              "      <th></th>\n",
              "      <th>name</th>\n",
              "      <th>year</th>\n",
              "      <th>km_driven</th>\n",
              "      <th>fuel</th>\n",
              "      <th>transmission</th>\n",
              "    </tr>\n",
              "  </thead>\n",
              "  <tbody>\n",
              "    <tr>\n",
              "      <th>0</th>\n",
              "      <td>Maruti 800 AC</td>\n",
              "      <td>2007</td>\n",
              "      <td>70000</td>\n",
              "      <td>Petrol</td>\n",
              "      <td>Manual</td>\n",
              "    </tr>\n",
              "    <tr>\n",
              "      <th>1</th>\n",
              "      <td>Maruti Wagon R LXI Minor</td>\n",
              "      <td>2007</td>\n",
              "      <td>50000</td>\n",
              "      <td>Petrol</td>\n",
              "      <td>Manual</td>\n",
              "    </tr>\n",
              "    <tr>\n",
              "      <th>2</th>\n",
              "      <td>Hyundai Verna 1.6 SX</td>\n",
              "      <td>2012</td>\n",
              "      <td>100000</td>\n",
              "      <td>Diesel</td>\n",
              "      <td>Manual</td>\n",
              "    </tr>\n",
              "    <tr>\n",
              "      <th>3</th>\n",
              "      <td>Datsun RediGO T Option</td>\n",
              "      <td>2017</td>\n",
              "      <td>46000</td>\n",
              "      <td>Petrol</td>\n",
              "      <td>Manual</td>\n",
              "    </tr>\n",
              "    <tr>\n",
              "      <th>4</th>\n",
              "      <td>Honda Amaze VX i-DTEC</td>\n",
              "      <td>2014</td>\n",
              "      <td>141000</td>\n",
              "      <td>Diesel</td>\n",
              "      <td>Manual</td>\n",
              "    </tr>\n",
              "    <tr>\n",
              "      <th>...</th>\n",
              "      <td>...</td>\n",
              "      <td>...</td>\n",
              "      <td>...</td>\n",
              "      <td>...</td>\n",
              "      <td>...</td>\n",
              "    </tr>\n",
              "    <tr>\n",
              "      <th>1495</th>\n",
              "      <td>Maruti Omni MPI STD BSIV</td>\n",
              "      <td>2014</td>\n",
              "      <td>120000</td>\n",
              "      <td>Petrol</td>\n",
              "      <td>Manual</td>\n",
              "    </tr>\n",
              "    <tr>\n",
              "      <th>1496</th>\n",
              "      <td>Tata Indica Vista Quadrajet LX</td>\n",
              "      <td>2011</td>\n",
              "      <td>10000</td>\n",
              "      <td>Diesel</td>\n",
              "      <td>Manual</td>\n",
              "    </tr>\n",
              "    <tr>\n",
              "      <th>1497</th>\n",
              "      <td>Tata Indica Vista Aqua 1.3 Quadrajet</td>\n",
              "      <td>2011</td>\n",
              "      <td>80000</td>\n",
              "      <td>Diesel</td>\n",
              "      <td>Manual</td>\n",
              "    </tr>\n",
              "    <tr>\n",
              "      <th>1498</th>\n",
              "      <td>Datsun GO Plus T Option Petrol</td>\n",
              "      <td>2018</td>\n",
              "      <td>10000</td>\n",
              "      <td>Petrol</td>\n",
              "      <td>Manual</td>\n",
              "    </tr>\n",
              "    <tr>\n",
              "      <th>1499</th>\n",
              "      <td>Mahindra XUV500 W8 4WD</td>\n",
              "      <td>2014</td>\n",
              "      <td>156000</td>\n",
              "      <td>Diesel</td>\n",
              "      <td>Manual</td>\n",
              "    </tr>\n",
              "  </tbody>\n",
              "</table>\n",
              "<p>1500 rows × 5 columns</p>\n",
              "</div>\n",
              "    <div class=\"colab-df-buttons\">\n",
              "\n",
              "  <div class=\"colab-df-container\">\n",
              "    <button class=\"colab-df-convert\" onclick=\"convertToInteractive('df-17273207-c504-41f4-965f-f891a8c19837')\"\n",
              "            title=\"Convert this dataframe to an interactive table.\"\n",
              "            style=\"display:none;\">\n",
              "\n",
              "  <svg xmlns=\"http://www.w3.org/2000/svg\" height=\"24px\" viewBox=\"0 -960 960 960\">\n",
              "    <path d=\"M120-120v-720h720v720H120Zm60-500h600v-160H180v160Zm220 220h160v-160H400v160Zm0 220h160v-160H400v160ZM180-400h160v-160H180v160Zm440 0h160v-160H620v160ZM180-180h160v-160H180v160Zm440 0h160v-160H620v160Z\"/>\n",
              "  </svg>\n",
              "    </button>\n",
              "\n",
              "  <style>\n",
              "    .colab-df-container {\n",
              "      display:flex;\n",
              "      gap: 12px;\n",
              "    }\n",
              "\n",
              "    .colab-df-convert {\n",
              "      background-color: #E8F0FE;\n",
              "      border: none;\n",
              "      border-radius: 50%;\n",
              "      cursor: pointer;\n",
              "      display: none;\n",
              "      fill: #1967D2;\n",
              "      height: 32px;\n",
              "      padding: 0 0 0 0;\n",
              "      width: 32px;\n",
              "    }\n",
              "\n",
              "    .colab-df-convert:hover {\n",
              "      background-color: #E2EBFA;\n",
              "      box-shadow: 0px 1px 2px rgba(60, 64, 67, 0.3), 0px 1px 3px 1px rgba(60, 64, 67, 0.15);\n",
              "      fill: #174EA6;\n",
              "    }\n",
              "\n",
              "    .colab-df-buttons div {\n",
              "      margin-bottom: 4px;\n",
              "    }\n",
              "\n",
              "    [theme=dark] .colab-df-convert {\n",
              "      background-color: #3B4455;\n",
              "      fill: #D2E3FC;\n",
              "    }\n",
              "\n",
              "    [theme=dark] .colab-df-convert:hover {\n",
              "      background-color: #434B5C;\n",
              "      box-shadow: 0px 1px 3px 1px rgba(0, 0, 0, 0.15);\n",
              "      filter: drop-shadow(0px 1px 2px rgba(0, 0, 0, 0.3));\n",
              "      fill: #FFFFFF;\n",
              "    }\n",
              "  </style>\n",
              "\n",
              "    <script>\n",
              "      const buttonEl =\n",
              "        document.querySelector('#df-17273207-c504-41f4-965f-f891a8c19837 button.colab-df-convert');\n",
              "      buttonEl.style.display =\n",
              "        google.colab.kernel.accessAllowed ? 'block' : 'none';\n",
              "\n",
              "      async function convertToInteractive(key) {\n",
              "        const element = document.querySelector('#df-17273207-c504-41f4-965f-f891a8c19837');\n",
              "        const dataTable =\n",
              "          await google.colab.kernel.invokeFunction('convertToInteractive',\n",
              "                                                    [key], {});\n",
              "        if (!dataTable) return;\n",
              "\n",
              "        const docLinkHtml = 'Like what you see? Visit the ' +\n",
              "          '<a target=\"_blank\" href=https://colab.research.google.com/notebooks/data_table.ipynb>data table notebook</a>'\n",
              "          + ' to learn more about interactive tables.';\n",
              "        element.innerHTML = '';\n",
              "        dataTable['output_type'] = 'display_data';\n",
              "        await google.colab.output.renderOutput(dataTable, element);\n",
              "        const docLink = document.createElement('div');\n",
              "        docLink.innerHTML = docLinkHtml;\n",
              "        element.appendChild(docLink);\n",
              "      }\n",
              "    </script>\n",
              "  </div>\n",
              "\n",
              "\n",
              "<div id=\"df-a13d2644-c947-460a-92b4-fde56a50d2c0\">\n",
              "  <button class=\"colab-df-quickchart\" onclick=\"quickchart('df-a13d2644-c947-460a-92b4-fde56a50d2c0')\"\n",
              "            title=\"Suggest charts.\"\n",
              "            style=\"display:none;\">\n",
              "\n",
              "<svg xmlns=\"http://www.w3.org/2000/svg\" height=\"24px\"viewBox=\"0 0 24 24\"\n",
              "     width=\"24px\">\n",
              "    <g>\n",
              "        <path d=\"M19 3H5c-1.1 0-2 .9-2 2v14c0 1.1.9 2 2 2h14c1.1 0 2-.9 2-2V5c0-1.1-.9-2-2-2zM9 17H7v-7h2v7zm4 0h-2V7h2v10zm4 0h-2v-4h2v4z\"/>\n",
              "    </g>\n",
              "</svg>\n",
              "  </button>\n",
              "\n",
              "<style>\n",
              "  .colab-df-quickchart {\n",
              "    background-color: #E8F0FE;\n",
              "    border: none;\n",
              "    border-radius: 50%;\n",
              "    cursor: pointer;\n",
              "    display: none;\n",
              "    fill: #1967D2;\n",
              "    height: 32px;\n",
              "    padding: 0 0 0 0;\n",
              "    width: 32px;\n",
              "  }\n",
              "\n",
              "  .colab-df-quickchart:hover {\n",
              "    background-color: #E2EBFA;\n",
              "    box-shadow: 0px 1px 2px rgba(60, 64, 67, 0.3), 0px 1px 3px 1px rgba(60, 64, 67, 0.15);\n",
              "    fill: #174EA6;\n",
              "  }\n",
              "\n",
              "  [theme=dark] .colab-df-quickchart {\n",
              "    background-color: #3B4455;\n",
              "    fill: #D2E3FC;\n",
              "  }\n",
              "\n",
              "  [theme=dark] .colab-df-quickchart:hover {\n",
              "    background-color: #434B5C;\n",
              "    box-shadow: 0px 1px 3px 1px rgba(0, 0, 0, 0.15);\n",
              "    filter: drop-shadow(0px 1px 2px rgba(0, 0, 0, 0.3));\n",
              "    fill: #FFFFFF;\n",
              "  }\n",
              "</style>\n",
              "\n",
              "  <script>\n",
              "    async function quickchart(key) {\n",
              "      const charts = await google.colab.kernel.invokeFunction(\n",
              "          'suggestCharts', [key], {});\n",
              "    }\n",
              "    (() => {\n",
              "      let quickchartButtonEl =\n",
              "        document.querySelector('#df-a13d2644-c947-460a-92b4-fde56a50d2c0 button');\n",
              "      quickchartButtonEl.style.display =\n",
              "        google.colab.kernel.accessAllowed ? 'block' : 'none';\n",
              "    })();\n",
              "  </script>\n",
              "</div>\n",
              "    </div>\n",
              "  </div>\n"
            ]
          },
          "metadata": {},
          "execution_count": 413
        }
      ]
    },
    {
      "cell_type": "code",
      "source": [
        "# let visualize the labels\n",
        "y"
      ],
      "metadata": {
        "colab": {
          "base_uri": "https://localhost:8080/"
        },
        "id": "LWLLEAmPTQgk",
        "outputId": "6abb9921-7e90-4f11-854d-ecb0edcbd0eb"
      },
      "execution_count": null,
      "outputs": [
        {
          "output_type": "execute_result",
          "data": {
            "text/plain": [
              "0        60000\n",
              "1       135000\n",
              "2       600000\n",
              "3       250000\n",
              "4       450000\n",
              "         ...  \n",
              "1495    150000\n",
              "1496    149000\n",
              "1497    160000\n",
              "1498    434999\n",
              "1499    800000\n",
              "Name: selling_price, Length: 1500, dtype: int64"
            ]
          },
          "metadata": {},
          "execution_count": 414
        }
      ]
    },
    {
      "cell_type": "code",
      "source": [
        "# let's split the data training and testing\n",
        "x_train, x_test, y_train, y_test = train_test_split(x,y,test_size = 0.2, random_state = 42)\n",
        "\n",
        "# let's fit the columns transformer to our training data\n",
        "ct.fit(x_train)\n",
        "\n",
        "# transform training and testing data with normalization\n",
        "x_train_normal = ct.transform(x_train)\n",
        "x_test_normal = ct.transform(x_test)\n"
      ],
      "metadata": {
        "id": "X1NHsHdBTd1o"
      },
      "execution_count": null,
      "outputs": []
    },
    {
      "cell_type": "code",
      "source": [
        "# let's visualize the normalized data\n",
        "x_train.loc[0]"
      ],
      "metadata": {
        "colab": {
          "base_uri": "https://localhost:8080/"
        },
        "id": "CEixROAjUP2h",
        "outputId": "cc0f4b70-293e-4df8-a233-7bde61d2fc35"
      },
      "execution_count": null,
      "outputs": [
        {
          "output_type": "execute_result",
          "data": {
            "text/plain": [
              "name            Maruti 800 AC\n",
              "year                     2007\n",
              "km_driven               70000\n",
              "fuel                   Petrol\n",
              "transmission           Manual\n",
              "Name: 0, dtype: object"
            ]
          },
          "metadata": {},
          "execution_count": 416
        }
      ]
    },
    {
      "cell_type": "code",
      "source": [
        "x_train.shape"
      ],
      "metadata": {
        "colab": {
          "base_uri": "https://localhost:8080/"
        },
        "id": "MxVAm0kOUYyt",
        "outputId": "828a22ac-1acc-4556-cb19-41a22dac14f1"
      },
      "execution_count": null,
      "outputs": [
        {
          "output_type": "execute_result",
          "data": {
            "text/plain": [
              "(1200, 5)"
            ]
          },
          "metadata": {},
          "execution_count": 417
        }
      ]
    },
    {
      "cell_type": "code",
      "source": [
        "x_train_normal.shape"
      ],
      "metadata": {
        "colab": {
          "base_uri": "https://localhost:8080/"
        },
        "id": "y10yes1pWYgX",
        "outputId": "fa0cc7fd-c3fe-42e3-9230-0d4475f9c08d"
      },
      "execution_count": null,
      "outputs": [
        {
          "output_type": "execute_result",
          "data": {
            "text/plain": [
              "(1200, 702)"
            ]
          },
          "metadata": {},
          "execution_count": 418
        }
      ]
    },
    {
      "cell_type": "code",
      "source": [
        "x_train.loc[0]"
      ],
      "metadata": {
        "colab": {
          "base_uri": "https://localhost:8080/"
        },
        "id": "fm3ouLGgfsnb",
        "outputId": "772abd56-b459-476f-e547-2416ee520777"
      },
      "execution_count": null,
      "outputs": [
        {
          "output_type": "execute_result",
          "data": {
            "text/plain": [
              "name            Maruti 800 AC\n",
              "year                     2007\n",
              "km_driven               70000\n",
              "fuel                   Petrol\n",
              "transmission           Manual\n",
              "Name: 0, dtype: object"
            ]
          },
          "metadata": {},
          "execution_count": 419
        }
      ]
    },
    {
      "cell_type": "code",
      "source": [
        "x_train_normal=x_train_normal.toarray()\n",
        "x_train_normal[0]"
      ],
      "metadata": {
        "colab": {
          "base_uri": "https://localhost:8080/"
        },
        "id": "gOfPqvzrfsq2",
        "outputId": "3bce98dd-61af-4006-de7a-5df8f8ad1640"
      },
      "execution_count": null,
      "outputs": [
        {
          "output_type": "execute_result",
          "data": {
            "text/plain": [
              "array([0.96      , 0.02504472, 0.        , 0.        , 0.        ,\n",
              "       0.        , 0.        , 0.        , 0.        , 0.        ,\n",
              "       0.        , 0.        , 0.        , 0.        , 0.        ,\n",
              "       0.        , 0.        , 0.        , 0.        , 0.        ,\n",
              "       0.        , 0.        , 0.        , 0.        , 0.        ,\n",
              "       0.        , 0.        , 0.        , 0.        , 0.        ,\n",
              "       0.        , 0.        , 0.        , 0.        , 0.        ,\n",
              "       0.        , 0.        , 0.        , 0.        , 0.        ,\n",
              "       0.        , 0.        , 0.        , 0.        , 0.        ,\n",
              "       0.        , 0.        , 0.        , 0.        , 0.        ,\n",
              "       0.        , 0.        , 0.        , 0.        , 0.        ,\n",
              "       0.        , 0.        , 0.        , 0.        , 0.        ,\n",
              "       0.        , 0.        , 0.        , 0.        , 0.        ,\n",
              "       0.        , 0.        , 0.        , 0.        , 0.        ,\n",
              "       0.        , 0.        , 0.        , 0.        , 0.        ,\n",
              "       0.        , 0.        , 0.        , 0.        , 0.        ,\n",
              "       0.        , 0.        , 0.        , 0.        , 0.        ,\n",
              "       0.        , 0.        , 0.        , 0.        , 0.        ,\n",
              "       0.        , 0.        , 0.        , 0.        , 0.        ,\n",
              "       0.        , 0.        , 0.        , 0.        , 0.        ,\n",
              "       0.        , 0.        , 0.        , 0.        , 0.        ,\n",
              "       0.        , 0.        , 0.        , 0.        , 0.        ,\n",
              "       0.        , 0.        , 0.        , 0.        , 0.        ,\n",
              "       0.        , 0.        , 0.        , 0.        , 0.        ,\n",
              "       0.        , 0.        , 0.        , 0.        , 0.        ,\n",
              "       0.        , 0.        , 0.        , 0.        , 0.        ,\n",
              "       0.        , 0.        , 0.        , 0.        , 0.        ,\n",
              "       0.        , 0.        , 0.        , 0.        , 0.        ,\n",
              "       0.        , 0.        , 0.        , 0.        , 0.        ,\n",
              "       0.        , 0.        , 0.        , 0.        , 0.        ,\n",
              "       0.        , 0.        , 0.        , 0.        , 0.        ,\n",
              "       0.        , 0.        , 0.        , 0.        , 0.        ,\n",
              "       0.        , 0.        , 0.        , 0.        , 0.        ,\n",
              "       0.        , 0.        , 0.        , 0.        , 0.        ,\n",
              "       0.        , 0.        , 0.        , 0.        , 0.        ,\n",
              "       0.        , 0.        , 0.        , 0.        , 0.        ,\n",
              "       0.        , 0.        , 0.        , 0.        , 0.        ,\n",
              "       0.        , 0.        , 0.        , 0.        , 0.        ,\n",
              "       0.        , 0.        , 0.        , 0.        , 0.        ,\n",
              "       0.        , 0.        , 0.        , 0.        , 0.        ,\n",
              "       0.        , 0.        , 0.        , 0.        , 0.        ,\n",
              "       0.        , 0.        , 0.        , 0.        , 0.        ,\n",
              "       0.        , 0.        , 0.        , 0.        , 0.        ,\n",
              "       0.        , 0.        , 0.        , 0.        , 0.        ,\n",
              "       0.        , 0.        , 0.        , 0.        , 0.        ,\n",
              "       0.        , 0.        , 0.        , 0.        , 0.        ,\n",
              "       0.        , 0.        , 0.        , 0.        , 0.        ,\n",
              "       0.        , 0.        , 0.        , 0.        , 0.        ,\n",
              "       0.        , 0.        , 0.        , 0.        , 0.        ,\n",
              "       0.        , 0.        , 0.        , 0.        , 0.        ,\n",
              "       0.        , 0.        , 0.        , 0.        , 0.        ,\n",
              "       0.        , 0.        , 0.        , 0.        , 0.        ,\n",
              "       0.        , 0.        , 0.        , 0.        , 0.        ,\n",
              "       0.        , 0.        , 0.        , 0.        , 0.        ,\n",
              "       0.        , 0.        , 0.        , 0.        , 0.        ,\n",
              "       0.        , 0.        , 0.        , 0.        , 0.        ,\n",
              "       0.        , 0.        , 0.        , 0.        , 0.        ,\n",
              "       0.        , 0.        , 0.        , 0.        , 0.        ,\n",
              "       0.        , 0.        , 0.        , 0.        , 0.        ,\n",
              "       0.        , 0.        , 0.        , 0.        , 0.        ,\n",
              "       0.        , 0.        , 0.        , 0.        , 0.        ,\n",
              "       0.        , 0.        , 0.        , 0.        , 0.        ,\n",
              "       0.        , 0.        , 0.        , 0.        , 0.        ,\n",
              "       0.        , 0.        , 0.        , 0.        , 0.        ,\n",
              "       0.        , 0.        , 0.        , 0.        , 0.        ,\n",
              "       0.        , 0.        , 0.        , 0.        , 0.        ,\n",
              "       0.        , 0.        , 0.        , 0.        , 0.        ,\n",
              "       0.        , 0.        , 0.        , 0.        , 0.        ,\n",
              "       0.        , 0.        , 0.        , 0.        , 0.        ,\n",
              "       0.        , 0.        , 0.        , 0.        , 0.        ,\n",
              "       0.        , 0.        , 0.        , 0.        , 0.        ,\n",
              "       0.        , 0.        , 0.        , 0.        , 0.        ,\n",
              "       0.        , 0.        , 0.        , 0.        , 0.        ,\n",
              "       0.        , 0.        , 0.        , 0.        , 0.        ,\n",
              "       0.        , 0.        , 0.        , 0.        , 0.        ,\n",
              "       0.        , 0.        , 0.        , 0.        , 0.        ,\n",
              "       0.        , 0.        , 0.        , 0.        , 0.        ,\n",
              "       0.        , 0.        , 0.        , 0.        , 0.        ,\n",
              "       0.        , 0.        , 0.        , 0.        , 0.        ,\n",
              "       0.        , 0.        , 0.        , 0.        , 0.        ,\n",
              "       0.        , 0.        , 0.        , 0.        , 0.        ,\n",
              "       0.        , 0.        , 0.        , 0.        , 0.        ,\n",
              "       0.        , 0.        , 0.        , 0.        , 0.        ,\n",
              "       0.        , 0.        , 0.        , 0.        , 0.        ,\n",
              "       0.        , 0.        , 0.        , 0.        , 0.        ,\n",
              "       0.        , 0.        , 0.        , 0.        , 0.        ,\n",
              "       0.        , 0.        , 0.        , 0.        , 0.        ,\n",
              "       0.        , 0.        , 0.        , 0.        , 0.        ,\n",
              "       0.        , 0.        , 0.        , 0.        , 0.        ,\n",
              "       0.        , 0.        , 0.        , 0.        , 0.        ,\n",
              "       0.        , 0.        , 0.        , 0.        , 0.        ,\n",
              "       0.        , 0.        , 0.        , 0.        , 0.        ,\n",
              "       0.        , 0.        , 0.        , 0.        , 0.        ,\n",
              "       0.        , 0.        , 0.        , 0.        , 0.        ,\n",
              "       0.        , 0.        , 0.        , 0.        , 0.        ,\n",
              "       0.        , 0.        , 0.        , 0.        , 0.        ,\n",
              "       0.        , 0.        , 0.        , 0.        , 0.        ,\n",
              "       0.        , 0.        , 0.        , 0.        , 0.        ,\n",
              "       0.        , 0.        , 0.        , 0.        , 0.        ,\n",
              "       0.        , 0.        , 0.        , 0.        , 0.        ,\n",
              "       0.        , 0.        , 0.        , 0.        , 0.        ,\n",
              "       0.        , 0.        , 0.        , 0.        , 0.        ,\n",
              "       0.        , 0.        , 0.        , 0.        , 0.        ,\n",
              "       0.        , 0.        , 0.        , 0.        , 0.        ,\n",
              "       0.        , 0.        , 0.        , 0.        , 0.        ,\n",
              "       0.        , 0.        , 0.        , 0.        , 0.        ,\n",
              "       0.        , 0.        , 0.        , 0.        , 0.        ,\n",
              "       0.        , 0.        , 0.        , 0.        , 0.        ,\n",
              "       0.        , 0.        , 0.        , 0.        , 0.        ,\n",
              "       0.        , 0.        , 0.        , 0.        , 0.        ,\n",
              "       0.        , 0.        , 0.        , 0.        , 0.        ,\n",
              "       0.        , 0.        , 0.        , 0.        , 0.        ,\n",
              "       0.        , 0.        , 0.        , 0.        , 0.        ,\n",
              "       0.        , 0.        , 0.        , 0.        , 0.        ,\n",
              "       0.        , 0.        , 0.        , 0.        , 0.        ,\n",
              "       0.        , 0.        , 0.        , 0.        , 0.        ,\n",
              "       0.        , 0.        , 0.        , 0.        , 0.        ,\n",
              "       0.        , 0.        , 0.        , 0.        , 0.        ,\n",
              "       0.        , 0.        , 0.        , 0.        , 0.        ,\n",
              "       0.        , 0.        , 0.        , 0.        , 0.        ,\n",
              "       0.        , 0.        , 0.        , 0.        , 0.        ,\n",
              "       0.        , 0.        , 0.        , 0.        , 0.        ,\n",
              "       0.        , 0.        , 0.        , 0.        , 0.        ,\n",
              "       0.        , 0.        , 0.        , 0.        , 0.        ,\n",
              "       0.        , 0.        , 1.        , 0.        , 0.        ,\n",
              "       0.        , 0.        , 0.        , 0.        , 0.        ,\n",
              "       0.        , 0.        , 0.        , 0.        , 0.        ,\n",
              "       0.        , 0.        , 0.        , 0.        , 0.        ,\n",
              "       0.        , 0.        , 0.        , 0.        , 0.        ,\n",
              "       0.        , 0.        , 0.        , 0.        , 0.        ,\n",
              "       0.        , 0.        , 0.        , 0.        , 0.        ,\n",
              "       0.        , 0.        , 0.        , 0.        , 0.        ,\n",
              "       0.        , 0.        , 0.        , 0.        , 0.        ,\n",
              "       0.        , 0.        , 0.        , 0.        , 0.        ,\n",
              "       0.        , 0.        , 0.        , 0.        , 0.        ,\n",
              "       0.        , 0.        , 0.        , 0.        , 0.        ,\n",
              "       0.        , 0.        , 0.        , 0.        , 0.        ,\n",
              "       0.        , 0.        , 0.        , 0.        , 0.        ,\n",
              "       0.        , 0.        , 0.        , 0.        , 0.        ,\n",
              "       0.        , 0.        , 0.        , 0.        , 1.        ,\n",
              "       1.        , 0.        ])"
            ]
          },
          "metadata": {},
          "execution_count": 420
        }
      ]
    },
    {
      "cell_type": "code",
      "source": [
        "# buid a neural network for our vehicle dataset\n",
        "\n",
        "# set random seed\n",
        "tf.random.set_seed(42)\n",
        "\n",
        "# create the model\n",
        "vehicle_model = tf.keras.Sequential([\n",
        "    tf.keras.layers.Dense(100),\n",
        "    tf.keras.layers.Dense(10),\n",
        "    tf.keras.layers.Dense(1),\n",
        "])\n",
        "\n",
        "# compile the model\n",
        "vehicle_model.compile(\n",
        "    loss = tf.keras.losses.mae,\n",
        "    optimizer = tf.keras.optimizers.Adam(),\n",
        "    metrics = [\"mae\"]\n",
        ")\n",
        "\n",
        "# fit the model\n",
        "vehicle_model.fit(x_train_normal,y_train,epochs = 200)"
      ],
      "metadata": {
        "colab": {
          "base_uri": "https://localhost:8080/"
        },
        "id": "TGwvGNG-a_s2",
        "outputId": "053f144d-31e9-4501-ea95-5478e3297ef5"
      },
      "execution_count": null,
      "outputs": [
        {
          "output_type": "stream",
          "name": "stdout",
          "text": [
            "Epoch 1/200\n",
            "38/38 [==============================] - 1s 2ms/step - loss: 546467.0000 - mae: 546467.0000\n",
            "Epoch 2/200\n",
            "38/38 [==============================] - 0s 2ms/step - loss: 546456.8125 - mae: 546456.8125\n",
            "Epoch 3/200\n",
            "38/38 [==============================] - 0s 2ms/step - loss: 546429.6250 - mae: 546429.6250\n",
            "Epoch 4/200\n",
            "38/38 [==============================] - 0s 2ms/step - loss: 546373.1875 - mae: 546373.1875\n",
            "Epoch 5/200\n",
            "38/38 [==============================] - 0s 2ms/step - loss: 546276.0000 - mae: 546276.0000\n",
            "Epoch 6/200\n",
            "38/38 [==============================] - 0s 2ms/step - loss: 546126.2500 - mae: 546126.2500\n",
            "Epoch 7/200\n",
            "38/38 [==============================] - 0s 2ms/step - loss: 545912.6250 - mae: 545912.6250\n",
            "Epoch 8/200\n",
            "38/38 [==============================] - 0s 2ms/step - loss: 545624.1250 - mae: 545624.1250\n",
            "Epoch 9/200\n",
            "38/38 [==============================] - 0s 2ms/step - loss: 545249.9375 - mae: 545249.9375\n",
            "Epoch 10/200\n",
            "38/38 [==============================] - 0s 2ms/step - loss: 544779.8125 - mae: 544779.8125\n",
            "Epoch 11/200\n",
            "38/38 [==============================] - 0s 2ms/step - loss: 544203.6250 - mae: 544203.6250\n",
            "Epoch 12/200\n",
            "38/38 [==============================] - 0s 2ms/step - loss: 543511.8125 - mae: 543511.8125\n",
            "Epoch 13/200\n",
            "38/38 [==============================] - 0s 2ms/step - loss: 542695.0625 - mae: 542695.0625\n",
            "Epoch 14/200\n",
            "38/38 [==============================] - 0s 2ms/step - loss: 541745.0000 - mae: 541745.0000\n",
            "Epoch 15/200\n",
            "38/38 [==============================] - 0s 2ms/step - loss: 540652.5000 - mae: 540652.5000\n",
            "Epoch 16/200\n",
            "38/38 [==============================] - 0s 2ms/step - loss: 539409.3125 - mae: 539409.3125\n",
            "Epoch 17/200\n",
            "38/38 [==============================] - 0s 2ms/step - loss: 538008.5625 - mae: 538008.5625\n",
            "Epoch 18/200\n",
            "38/38 [==============================] - 0s 2ms/step - loss: 536441.6875 - mae: 536441.6875\n",
            "Epoch 19/200\n",
            "38/38 [==============================] - 0s 2ms/step - loss: 534702.5625 - mae: 534702.5625\n",
            "Epoch 20/200\n",
            "38/38 [==============================] - 0s 2ms/step - loss: 532782.6250 - mae: 532782.6250\n",
            "Epoch 21/200\n",
            "38/38 [==============================] - 0s 2ms/step - loss: 530677.4375 - mae: 530677.4375\n",
            "Epoch 22/200\n",
            "38/38 [==============================] - 0s 2ms/step - loss: 528378.6250 - mae: 528378.6250\n",
            "Epoch 23/200\n",
            "38/38 [==============================] - 0s 2ms/step - loss: 525882.9375 - mae: 525882.9375\n",
            "Epoch 24/200\n",
            "38/38 [==============================] - 0s 2ms/step - loss: 523181.7500 - mae: 523181.7500\n",
            "Epoch 25/200\n",
            "38/38 [==============================] - 0s 2ms/step - loss: 520271.7812 - mae: 520271.7812\n",
            "Epoch 26/200\n",
            "38/38 [==============================] - 0s 2ms/step - loss: 517145.5312 - mae: 517145.5312\n",
            "Epoch 27/200\n",
            "38/38 [==============================] - 0s 2ms/step - loss: 513799.3750 - mae: 513799.3750\n",
            "Epoch 28/200\n",
            "38/38 [==============================] - 0s 2ms/step - loss: 510227.6250 - mae: 510227.6250\n",
            "Epoch 29/200\n",
            "38/38 [==============================] - 0s 2ms/step - loss: 506425.7188 - mae: 506425.7188\n",
            "Epoch 30/200\n",
            "38/38 [==============================] - 0s 2ms/step - loss: 502391.5625 - mae: 502391.5625\n",
            "Epoch 31/200\n",
            "38/38 [==============================] - 0s 2ms/step - loss: 498137.0625 - mae: 498137.0625\n",
            "Epoch 32/200\n",
            "38/38 [==============================] - 0s 2ms/step - loss: 493681.9062 - mae: 493681.9062\n",
            "Epoch 33/200\n",
            "38/38 [==============================] - 0s 2ms/step - loss: 489028.3750 - mae: 489028.3750\n",
            "Epoch 34/200\n",
            "38/38 [==============================] - 0s 2ms/step - loss: 484205.9062 - mae: 484205.9062\n",
            "Epoch 35/200\n",
            "38/38 [==============================] - 0s 2ms/step - loss: 479232.0625 - mae: 479232.0625\n",
            "Epoch 36/200\n",
            "38/38 [==============================] - 0s 2ms/step - loss: 474093.5938 - mae: 474093.5938\n",
            "Epoch 37/200\n",
            "38/38 [==============================] - 0s 2ms/step - loss: 468792.4375 - mae: 468792.4375\n",
            "Epoch 38/200\n",
            "38/38 [==============================] - 0s 2ms/step - loss: 463435.5312 - mae: 463435.5312\n",
            "Epoch 39/200\n",
            "38/38 [==============================] - 0s 2ms/step - loss: 457994.9375 - mae: 457994.9375\n",
            "Epoch 40/200\n",
            "38/38 [==============================] - 0s 2ms/step - loss: 452520.1562 - mae: 452520.1562\n",
            "Epoch 41/200\n",
            "38/38 [==============================] - 0s 2ms/step - loss: 447011.1250 - mae: 447011.1250\n",
            "Epoch 42/200\n",
            "38/38 [==============================] - 0s 2ms/step - loss: 441530.0938 - mae: 441530.0938\n",
            "Epoch 43/200\n",
            "38/38 [==============================] - 0s 2ms/step - loss: 436149.5625 - mae: 436149.5625\n",
            "Epoch 44/200\n",
            "38/38 [==============================] - 0s 2ms/step - loss: 430820.0938 - mae: 430820.0938\n",
            "Epoch 45/200\n",
            "38/38 [==============================] - 0s 2ms/step - loss: 425544.1875 - mae: 425544.1875\n",
            "Epoch 46/200\n",
            "38/38 [==============================] - 0s 2ms/step - loss: 420365.6250 - mae: 420365.6250\n",
            "Epoch 47/200\n",
            "38/38 [==============================] - 0s 2ms/step - loss: 415320.2812 - mae: 415320.2812\n",
            "Epoch 48/200\n",
            "38/38 [==============================] - 0s 2ms/step - loss: 410256.4062 - mae: 410256.4062\n",
            "Epoch 49/200\n",
            "38/38 [==============================] - 0s 2ms/step - loss: 405360.9375 - mae: 405360.9375\n",
            "Epoch 50/200\n",
            "38/38 [==============================] - 0s 2ms/step - loss: 400547.2812 - mae: 400547.2812\n",
            "Epoch 51/200\n",
            "38/38 [==============================] - 0s 2ms/step - loss: 395777.0312 - mae: 395777.0312\n",
            "Epoch 52/200\n",
            "38/38 [==============================] - 0s 2ms/step - loss: 391202.7812 - mae: 391202.7812\n",
            "Epoch 53/200\n",
            "38/38 [==============================] - 0s 2ms/step - loss: 386730.7500 - mae: 386730.7500\n",
            "Epoch 54/200\n",
            "38/38 [==============================] - 0s 2ms/step - loss: 382382.4688 - mae: 382382.4688\n",
            "Epoch 55/200\n",
            "38/38 [==============================] - 0s 2ms/step - loss: 378283.6562 - mae: 378283.6562\n",
            "Epoch 56/200\n",
            "38/38 [==============================] - 0s 2ms/step - loss: 374266.4688 - mae: 374266.4688\n",
            "Epoch 57/200\n",
            "38/38 [==============================] - 0s 2ms/step - loss: 370377.9062 - mae: 370377.9062\n",
            "Epoch 58/200\n",
            "38/38 [==============================] - 0s 2ms/step - loss: 366517.9062 - mae: 366517.9062\n",
            "Epoch 59/200\n",
            "38/38 [==============================] - 0s 2ms/step - loss: 362918.6562 - mae: 362918.6562\n",
            "Epoch 60/200\n",
            "38/38 [==============================] - 0s 2ms/step - loss: 359664.6250 - mae: 359664.6250\n",
            "Epoch 61/200\n",
            "38/38 [==============================] - 0s 2ms/step - loss: 356645.1875 - mae: 356645.1875\n",
            "Epoch 62/200\n",
            "38/38 [==============================] - 0s 2ms/step - loss: 353857.8750 - mae: 353857.8750\n",
            "Epoch 63/200\n",
            "38/38 [==============================] - 0s 2ms/step - loss: 351228.8125 - mae: 351228.8125\n",
            "Epoch 64/200\n",
            "38/38 [==============================] - 0s 2ms/step - loss: 348691.1562 - mae: 348691.1562\n",
            "Epoch 65/200\n",
            "38/38 [==============================] - 0s 2ms/step - loss: 346347.3125 - mae: 346347.3125\n",
            "Epoch 66/200\n",
            "38/38 [==============================] - 0s 2ms/step - loss: 344078.4375 - mae: 344078.4375\n",
            "Epoch 67/200\n",
            "38/38 [==============================] - 0s 2ms/step - loss: 341907.5625 - mae: 341907.5625\n",
            "Epoch 68/200\n",
            "38/38 [==============================] - 0s 2ms/step - loss: 339934.8125 - mae: 339934.8125\n",
            "Epoch 69/200\n",
            "38/38 [==============================] - 0s 3ms/step - loss: 338168.3438 - mae: 338168.3438\n",
            "Epoch 70/200\n",
            "38/38 [==============================] - 0s 2ms/step - loss: 336544.0625 - mae: 336544.0625\n",
            "Epoch 71/200\n",
            "38/38 [==============================] - 0s 2ms/step - loss: 335029.1875 - mae: 335029.1875\n",
            "Epoch 72/200\n",
            "38/38 [==============================] - 0s 2ms/step - loss: 333617.1875 - mae: 333617.1875\n",
            "Epoch 73/200\n",
            "38/38 [==============================] - 0s 2ms/step - loss: 332250.5938 - mae: 332250.5938\n",
            "Epoch 74/200\n",
            "38/38 [==============================] - 0s 2ms/step - loss: 330959.2188 - mae: 330959.2188\n",
            "Epoch 75/200\n",
            "38/38 [==============================] - 0s 2ms/step - loss: 329687.7188 - mae: 329687.7188\n",
            "Epoch 76/200\n",
            "38/38 [==============================] - 0s 2ms/step - loss: 328541.2500 - mae: 328541.2500\n",
            "Epoch 77/200\n",
            "38/38 [==============================] - 0s 2ms/step - loss: 327354.0312 - mae: 327354.0312\n",
            "Epoch 78/200\n",
            "38/38 [==============================] - 0s 2ms/step - loss: 326160.6250 - mae: 326160.6250\n",
            "Epoch 79/200\n",
            "38/38 [==============================] - 0s 2ms/step - loss: 325056.2188 - mae: 325056.2188\n",
            "Epoch 80/200\n",
            "38/38 [==============================] - 0s 2ms/step - loss: 323956.6562 - mae: 323956.6562\n",
            "Epoch 81/200\n",
            "38/38 [==============================] - 0s 2ms/step - loss: 322940.8750 - mae: 322940.8750\n",
            "Epoch 82/200\n",
            "38/38 [==============================] - 0s 2ms/step - loss: 321960.6250 - mae: 321960.6250\n",
            "Epoch 83/200\n",
            "38/38 [==============================] - 0s 2ms/step - loss: 321033.8125 - mae: 321033.8125\n",
            "Epoch 84/200\n",
            "38/38 [==============================] - 0s 2ms/step - loss: 320123.8750 - mae: 320123.8750\n",
            "Epoch 85/200\n",
            "38/38 [==============================] - 0s 2ms/step - loss: 319245.9062 - mae: 319245.9062\n",
            "Epoch 86/200\n",
            "38/38 [==============================] - 0s 2ms/step - loss: 318434.2812 - mae: 318434.2812\n",
            "Epoch 87/200\n",
            "38/38 [==============================] - 0s 2ms/step - loss: 317691.1875 - mae: 317691.1875\n",
            "Epoch 88/200\n",
            "38/38 [==============================] - 0s 2ms/step - loss: 316964.3125 - mae: 316964.3125\n",
            "Epoch 89/200\n",
            "38/38 [==============================] - 0s 2ms/step - loss: 316231.5000 - mae: 316231.5000\n",
            "Epoch 90/200\n",
            "38/38 [==============================] - 0s 2ms/step - loss: 315511.2812 - mae: 315511.2812\n",
            "Epoch 91/200\n",
            "38/38 [==============================] - 0s 2ms/step - loss: 314815.5312 - mae: 314815.5312\n",
            "Epoch 92/200\n",
            "38/38 [==============================] - 0s 2ms/step - loss: 314137.3125 - mae: 314137.3125\n",
            "Epoch 93/200\n",
            "38/38 [==============================] - 0s 2ms/step - loss: 313497.3750 - mae: 313497.3750\n",
            "Epoch 94/200\n",
            "38/38 [==============================] - 0s 2ms/step - loss: 312852.1875 - mae: 312852.1875\n",
            "Epoch 95/200\n",
            "38/38 [==============================] - 0s 2ms/step - loss: 312201.2812 - mae: 312201.2812\n",
            "Epoch 96/200\n",
            "38/38 [==============================] - 0s 2ms/step - loss: 311568.5625 - mae: 311568.5625\n",
            "Epoch 97/200\n",
            "38/38 [==============================] - 0s 2ms/step - loss: 310945.5312 - mae: 310945.5312\n",
            "Epoch 98/200\n",
            "38/38 [==============================] - 0s 2ms/step - loss: 310331.7812 - mae: 310331.7812\n",
            "Epoch 99/200\n",
            "38/38 [==============================] - 0s 2ms/step - loss: 309711.9375 - mae: 309711.9375\n",
            "Epoch 100/200\n",
            "38/38 [==============================] - 0s 2ms/step - loss: 309093.4688 - mae: 309093.4688\n",
            "Epoch 101/200\n",
            "38/38 [==============================] - 0s 2ms/step - loss: 308493.0625 - mae: 308493.0625\n",
            "Epoch 102/200\n",
            "38/38 [==============================] - 0s 2ms/step - loss: 307882.6875 - mae: 307882.6875\n",
            "Epoch 103/200\n",
            "38/38 [==============================] - 0s 2ms/step - loss: 307285.3125 - mae: 307285.3125\n",
            "Epoch 104/200\n",
            "38/38 [==============================] - 0s 2ms/step - loss: 306674.1875 - mae: 306674.1875\n",
            "Epoch 105/200\n",
            "38/38 [==============================] - 0s 2ms/step - loss: 306080.1250 - mae: 306080.1250\n",
            "Epoch 106/200\n",
            "38/38 [==============================] - 0s 2ms/step - loss: 305494.6250 - mae: 305494.6250\n",
            "Epoch 107/200\n",
            "38/38 [==============================] - 0s 2ms/step - loss: 304900.2812 - mae: 304900.2812\n",
            "Epoch 108/200\n",
            "38/38 [==============================] - 0s 2ms/step - loss: 304315.1875 - mae: 304315.1875\n",
            "Epoch 109/200\n",
            "38/38 [==============================] - 0s 2ms/step - loss: 303722.5312 - mae: 303722.5312\n",
            "Epoch 110/200\n",
            "38/38 [==============================] - 0s 2ms/step - loss: 303125.2812 - mae: 303125.2812\n",
            "Epoch 111/200\n",
            "38/38 [==============================] - 0s 2ms/step - loss: 302524.6875 - mae: 302524.6875\n",
            "Epoch 112/200\n",
            "38/38 [==============================] - 0s 2ms/step - loss: 301947.5938 - mae: 301947.5938\n",
            "Epoch 113/200\n",
            "38/38 [==============================] - 0s 2ms/step - loss: 301323.8438 - mae: 301323.8438\n",
            "Epoch 114/200\n",
            "38/38 [==============================] - 0s 2ms/step - loss: 300732.5000 - mae: 300732.5000\n",
            "Epoch 115/200\n",
            "38/38 [==============================] - 0s 2ms/step - loss: 300152.5000 - mae: 300152.5000\n",
            "Epoch 116/200\n",
            "38/38 [==============================] - 0s 2ms/step - loss: 299526.5312 - mae: 299526.5312\n",
            "Epoch 117/200\n",
            "38/38 [==============================] - 0s 2ms/step - loss: 298904.4688 - mae: 298904.4688\n",
            "Epoch 118/200\n",
            "38/38 [==============================] - 0s 3ms/step - loss: 298311.7500 - mae: 298311.7500\n",
            "Epoch 119/200\n",
            "38/38 [==============================] - 0s 3ms/step - loss: 297749.3438 - mae: 297749.3438\n",
            "Epoch 120/200\n",
            "38/38 [==============================] - 0s 3ms/step - loss: 297114.5312 - mae: 297114.5312\n",
            "Epoch 121/200\n",
            "38/38 [==============================] - 0s 3ms/step - loss: 296520.1875 - mae: 296520.1875\n",
            "Epoch 122/200\n",
            "38/38 [==============================] - 0s 3ms/step - loss: 295902.4375 - mae: 295902.4375\n",
            "Epoch 123/200\n",
            "38/38 [==============================] - 0s 3ms/step - loss: 295298.2500 - mae: 295298.2500\n",
            "Epoch 124/200\n",
            "38/38 [==============================] - 0s 3ms/step - loss: 294703.9062 - mae: 294703.9062\n",
            "Epoch 125/200\n",
            "38/38 [==============================] - 0s 3ms/step - loss: 294089.0000 - mae: 294089.0000\n",
            "Epoch 126/200\n",
            "38/38 [==============================] - 0s 3ms/step - loss: 293476.5938 - mae: 293476.5938\n",
            "Epoch 127/200\n",
            "38/38 [==============================] - 0s 3ms/step - loss: 292857.7188 - mae: 292857.7188\n",
            "Epoch 128/200\n",
            "38/38 [==============================] - 0s 3ms/step - loss: 292258.1875 - mae: 292258.1875\n",
            "Epoch 129/200\n",
            "38/38 [==============================] - 0s 3ms/step - loss: 291640.0625 - mae: 291640.0625\n",
            "Epoch 130/200\n",
            "38/38 [==============================] - 0s 3ms/step - loss: 291007.3750 - mae: 291007.3750\n",
            "Epoch 131/200\n",
            "38/38 [==============================] - 0s 3ms/step - loss: 290384.9375 - mae: 290384.9375\n",
            "Epoch 132/200\n",
            "38/38 [==============================] - 0s 3ms/step - loss: 289776.4688 - mae: 289776.4688\n",
            "Epoch 133/200\n",
            "38/38 [==============================] - 0s 3ms/step - loss: 289156.6562 - mae: 289156.6562\n",
            "Epoch 134/200\n",
            "38/38 [==============================] - 0s 2ms/step - loss: 288562.0625 - mae: 288562.0625\n",
            "Epoch 135/200\n",
            "38/38 [==============================] - 0s 3ms/step - loss: 287913.3438 - mae: 287913.3438\n",
            "Epoch 136/200\n",
            "38/38 [==============================] - 0s 3ms/step - loss: 287285.5312 - mae: 287285.5312\n",
            "Epoch 137/200\n",
            "38/38 [==============================] - 0s 3ms/step - loss: 286666.1562 - mae: 286666.1562\n",
            "Epoch 138/200\n",
            "38/38 [==============================] - 0s 2ms/step - loss: 286036.1562 - mae: 286036.1562\n",
            "Epoch 139/200\n",
            "38/38 [==============================] - 0s 2ms/step - loss: 285388.6562 - mae: 285388.6562\n",
            "Epoch 140/200\n",
            "38/38 [==============================] - 0s 2ms/step - loss: 284759.8438 - mae: 284759.8438\n",
            "Epoch 141/200\n",
            "38/38 [==============================] - 0s 3ms/step - loss: 284105.6562 - mae: 284105.6562\n",
            "Epoch 142/200\n",
            "38/38 [==============================] - 0s 2ms/step - loss: 283455.1250 - mae: 283455.1250\n",
            "Epoch 143/200\n",
            "38/38 [==============================] - 0s 3ms/step - loss: 282806.1875 - mae: 282806.1875\n",
            "Epoch 144/200\n",
            "38/38 [==============================] - 0s 3ms/step - loss: 282160.0312 - mae: 282160.0312\n",
            "Epoch 145/200\n",
            "38/38 [==============================] - 0s 3ms/step - loss: 281511.1875 - mae: 281511.1875\n",
            "Epoch 146/200\n",
            "38/38 [==============================] - 0s 3ms/step - loss: 280846.2812 - mae: 280846.2812\n",
            "Epoch 147/200\n",
            "38/38 [==============================] - 0s 2ms/step - loss: 280209.0312 - mae: 280209.0312\n",
            "Epoch 148/200\n",
            "38/38 [==============================] - 0s 2ms/step - loss: 279552.4375 - mae: 279552.4375\n",
            "Epoch 149/200\n",
            "38/38 [==============================] - 0s 2ms/step - loss: 278888.0938 - mae: 278888.0938\n",
            "Epoch 150/200\n",
            "38/38 [==============================] - 0s 2ms/step - loss: 278240.6250 - mae: 278240.6250\n",
            "Epoch 151/200\n",
            "38/38 [==============================] - 0s 2ms/step - loss: 277577.3438 - mae: 277577.3438\n",
            "Epoch 152/200\n",
            "38/38 [==============================] - 0s 2ms/step - loss: 276944.7500 - mae: 276944.7500\n",
            "Epoch 153/200\n",
            "38/38 [==============================] - 0s 2ms/step - loss: 276313.9062 - mae: 276313.9062\n",
            "Epoch 154/200\n",
            "38/38 [==============================] - 0s 2ms/step - loss: 275716.5312 - mae: 275716.5312\n",
            "Epoch 155/200\n",
            "38/38 [==============================] - 0s 2ms/step - loss: 275042.6250 - mae: 275042.6250\n",
            "Epoch 156/200\n",
            "38/38 [==============================] - 0s 2ms/step - loss: 274431.3125 - mae: 274431.3125\n",
            "Epoch 157/200\n",
            "38/38 [==============================] - 0s 2ms/step - loss: 273778.4062 - mae: 273778.4062\n",
            "Epoch 158/200\n",
            "38/38 [==============================] - 0s 2ms/step - loss: 273152.8438 - mae: 273152.8438\n",
            "Epoch 159/200\n",
            "38/38 [==============================] - 0s 2ms/step - loss: 272507.4375 - mae: 272507.4375\n",
            "Epoch 160/200\n",
            "38/38 [==============================] - 0s 2ms/step - loss: 271858.4688 - mae: 271858.4688\n",
            "Epoch 161/200\n",
            "38/38 [==============================] - 0s 2ms/step - loss: 271203.7188 - mae: 271203.7188\n",
            "Epoch 162/200\n",
            "38/38 [==============================] - 0s 2ms/step - loss: 270560.9375 - mae: 270560.9375\n",
            "Epoch 163/200\n",
            "38/38 [==============================] - 0s 2ms/step - loss: 269923.7188 - mae: 269923.7188\n",
            "Epoch 164/200\n",
            "38/38 [==============================] - 0s 2ms/step - loss: 269288.3750 - mae: 269288.3750\n",
            "Epoch 165/200\n",
            "38/38 [==============================] - 0s 2ms/step - loss: 268662.5938 - mae: 268662.5938\n",
            "Epoch 166/200\n",
            "38/38 [==============================] - 0s 2ms/step - loss: 268046.0938 - mae: 268046.0938\n",
            "Epoch 167/200\n",
            "38/38 [==============================] - 0s 2ms/step - loss: 267431.0000 - mae: 267431.0000\n",
            "Epoch 168/200\n",
            "38/38 [==============================] - 0s 2ms/step - loss: 266823.0625 - mae: 266823.0625\n",
            "Epoch 169/200\n",
            "38/38 [==============================] - 0s 2ms/step - loss: 266233.3750 - mae: 266233.3750\n",
            "Epoch 170/200\n",
            "38/38 [==============================] - 0s 2ms/step - loss: 265641.0312 - mae: 265641.0312\n",
            "Epoch 171/200\n",
            "38/38 [==============================] - 0s 2ms/step - loss: 265058.1875 - mae: 265058.1875\n",
            "Epoch 172/200\n",
            "38/38 [==============================] - 0s 2ms/step - loss: 264451.9062 - mae: 264451.9062\n",
            "Epoch 173/200\n",
            "38/38 [==============================] - 0s 2ms/step - loss: 263866.7188 - mae: 263866.7188\n",
            "Epoch 174/200\n",
            "38/38 [==============================] - 0s 2ms/step - loss: 263270.8438 - mae: 263270.8438\n",
            "Epoch 175/200\n",
            "38/38 [==============================] - 0s 2ms/step - loss: 262673.9062 - mae: 262673.9062\n",
            "Epoch 176/200\n",
            "38/38 [==============================] - 0s 2ms/step - loss: 262067.9219 - mae: 262067.9219\n",
            "Epoch 177/200\n",
            "38/38 [==============================] - 0s 2ms/step - loss: 261460.7500 - mae: 261460.7500\n",
            "Epoch 178/200\n",
            "38/38 [==============================] - 0s 2ms/step - loss: 260872.9375 - mae: 260872.9375\n",
            "Epoch 179/200\n",
            "38/38 [==============================] - 0s 2ms/step - loss: 260271.4062 - mae: 260271.4062\n",
            "Epoch 180/200\n",
            "38/38 [==============================] - 0s 2ms/step - loss: 259673.1406 - mae: 259673.1406\n",
            "Epoch 181/200\n",
            "38/38 [==============================] - 0s 2ms/step - loss: 259061.1406 - mae: 259061.1406\n",
            "Epoch 182/200\n",
            "38/38 [==============================] - 0s 2ms/step - loss: 258477.7031 - mae: 258477.7031\n",
            "Epoch 183/200\n",
            "38/38 [==============================] - 0s 2ms/step - loss: 257868.8750 - mae: 257868.8750\n",
            "Epoch 184/200\n",
            "38/38 [==============================] - 0s 2ms/step - loss: 257264.1875 - mae: 257264.1875\n",
            "Epoch 185/200\n",
            "38/38 [==============================] - 0s 2ms/step - loss: 256673.4375 - mae: 256673.4375\n",
            "Epoch 186/200\n",
            "38/38 [==============================] - 0s 2ms/step - loss: 256067.3594 - mae: 256067.3594\n",
            "Epoch 187/200\n",
            "38/38 [==============================] - 0s 2ms/step - loss: 255464.9375 - mae: 255464.9375\n",
            "Epoch 188/200\n",
            "38/38 [==============================] - 0s 2ms/step - loss: 254883.5156 - mae: 254883.5156\n",
            "Epoch 189/200\n",
            "38/38 [==============================] - 0s 2ms/step - loss: 254304.1094 - mae: 254304.1094\n",
            "Epoch 190/200\n",
            "38/38 [==============================] - 0s 2ms/step - loss: 253700.1562 - mae: 253700.1562\n",
            "Epoch 191/200\n",
            "38/38 [==============================] - 0s 2ms/step - loss: 253088.1562 - mae: 253088.1562\n",
            "Epoch 192/200\n",
            "38/38 [==============================] - 0s 2ms/step - loss: 252469.7812 - mae: 252469.7812\n",
            "Epoch 193/200\n",
            "38/38 [==============================] - 0s 2ms/step - loss: 251865.0625 - mae: 251865.0625\n",
            "Epoch 194/200\n",
            "38/38 [==============================] - 0s 2ms/step - loss: 251248.0781 - mae: 251248.0781\n",
            "Epoch 195/200\n",
            "38/38 [==============================] - 0s 2ms/step - loss: 250653.0156 - mae: 250653.0156\n",
            "Epoch 196/200\n",
            "38/38 [==============================] - 0s 2ms/step - loss: 250065.5781 - mae: 250065.5781\n",
            "Epoch 197/200\n",
            "38/38 [==============================] - 0s 2ms/step - loss: 249444.9375 - mae: 249444.9375\n",
            "Epoch 198/200\n",
            "38/38 [==============================] - 0s 2ms/step - loss: 248831.6875 - mae: 248831.6875\n",
            "Epoch 199/200\n",
            "38/38 [==============================] - 0s 2ms/step - loss: 248199.8594 - mae: 248199.8594\n",
            "Epoch 200/200\n",
            "38/38 [==============================] - 0s 2ms/step - loss: 247589.7344 - mae: 247589.7344\n"
          ]
        },
        {
          "output_type": "execute_result",
          "data": {
            "text/plain": [
              "<keras.callbacks.History at 0x78522eb653f0>"
            ]
          },
          "metadata": {},
          "execution_count": 421
        }
      ]
    },
    {
      "cell_type": "code",
      "source": [
        "x_test_normal=x_test_normal.toarray()\n",
        "vehicle_model.evaluate(x_test_normal,y_test)"
      ],
      "metadata": {
        "colab": {
          "base_uri": "https://localhost:8080/"
        },
        "id": "waDeNr0Mm0wA",
        "outputId": "839156f9-677b-4c6c-9123-973f8961b7fe"
      },
      "execution_count": null,
      "outputs": [
        {
          "output_type": "stream",
          "name": "stdout",
          "text": [
            "10/10 [==============================] - 0s 2ms/step - loss: 271348.3438 - mae: 271348.3438\n"
          ]
        },
        {
          "output_type": "execute_result",
          "data": {
            "text/plain": [
              "[271348.34375, 271348.34375]"
            ]
          },
          "metadata": {},
          "execution_count": 422
        }
      ]
    },
    {
      "cell_type": "markdown",
      "source": [
        "**LET'S MAKE ANOTHER EXAMPLE REGRESSION EXAMPLE PROJECT**\n",
        "*"
      ],
      "metadata": {
        "id": "mYsjLF9trYty"
      }
    },
    {
      "cell_type": "code",
      "source": [],
      "metadata": {
        "id": "1r_mYJQts4Vo"
      },
      "execution_count": null,
      "outputs": []
    }
  ]
}