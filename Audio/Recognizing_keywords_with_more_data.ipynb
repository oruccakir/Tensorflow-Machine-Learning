{
  "cells": [
    {
      "cell_type": "code",
      "execution_count": null,
      "metadata": {
        "id": "Iqmr6cscJ5Kx"
      },
      "outputs": [],
      "source": [
        "import tensorflow_datasets as tfds\n",
        "import tensorflow as tf\n",
        "\n",
        "import os\n",
        "import pathlib\n",
        "\n",
        "import matplotlib.pyplot as plt\n",
        "import numpy as np\n",
        "import seaborn as sns\n",
        "import tensorflow as tf\n",
        "import random\n",
        "from tensorflow.keras import layers\n",
        "from tensorflow.keras import models\n",
        "from IPython import display\n",
        "import tensorflow_hub as hub\n",
        "\n",
        "# Set the seed value for experiment reproducibility.\n",
        "#seed = 42\n",
        "#tf.random.set_seed(seed)\n",
        "#np.random.seed(seed)"
      ]
    },
    {
      "cell_type": "code",
      "execution_count": null,
      "metadata": {
        "id": "8E5ylYvvWaVF"
      },
      "outputs": [],
      "source": [
        "def preprocess_audio(audio,labels):\n",
        "  audio = tf.cast(audio,tf.float32)\n",
        "  audio = audio/32912\n",
        "  return audio,labels"
      ]
    },
    {
      "cell_type": "code",
      "execution_count": null,
      "metadata": {
        "colab": {
          "base_uri": "https://localhost:8080/"
        },
        "id": "HWapVu-IV3E2",
        "outputId": "b8e4dc5a-da99-47ff-d800-ae9e0b21c38d"
      },
      "outputs": [
        {
          "output_type": "stream",
          "name": "stdout",
          "text": [
            "Collecting pydub\n",
            "  Downloading pydub-0.25.1-py2.py3-none-any.whl (32 kB)\n",
            "Installing collected packages: pydub\n",
            "Successfully installed pydub-0.25.1\n"
          ]
        }
      ],
      "source": [
        "pip install pydub"
      ]
    },
    {
      "cell_type": "code",
      "execution_count": null,
      "metadata": {
        "colab": {
          "base_uri": "https://localhost:8080/",
          "height": 150,
          "referenced_widgets": [
            "cc88242e9caa469bb3e9c4559da9c472",
            "af8c02fb22484a4f9bdaced9c049d38a",
            "bed713262c85476385404b069b3e392d",
            "8b1c80199b2444f5b3f0ff335fb6b249",
            "79a015150f4948d4a9177b1225f3f3b7",
            "c82cd42a89fb4262b8341dd158e95633",
            "0be222e963444bf2bd32419094a9a295",
            "208caca7da38456081038c036288ef29",
            "85583be240fb4d6181e04b16d5e80bbd",
            "fa0d594a8fae452db21b775b9364469a",
            "e21bc642a9a445eda65c888998bc2677",
            "df2a408487744fcca7629d23c1a74eb7",
            "8a59ef147cfd4cdaabc918714fd8b58f",
            "9a2e06bf248749c0baf242e44a3a5a2a",
            "da0e721d18364b06932e475b963b440a",
            "2ac32e363e2741dab93694a950876c1a",
            "5875eb987b2c47ff9b27b44b50b0dec8",
            "64d7f886c79a4dd1a2e7c63721ebc1e6",
            "2fa92f91003643de8c28c88ea5e59f9f",
            "1ed61dd4075144b79f94dfa362863ca4",
            "291e5f0602c641f7b959240b4e2524aa",
            "d082f90069a4498f8efe9e350e01094b",
            "134854e2927a44888aef3f3a4a56be80",
            "1e53e8579ae34bf68f46e5d8d18a3f34",
            "0815978ac21a423a822065c1a3f10b4d",
            "22001e7d48cc44e09537a053e4919a41",
            "2356f3d44bb84764a4c896af7dcc4263",
            "eb6a4ef4325d42e7b44e85ebba5a1415",
            "5c8dc359953e42e6b4754b34d8dde9c5",
            "b285214907ba468582869bd3156a74f6",
            "6a26afe12bc74eff97f6e91d281c7cbc",
            "40d5aee15f1244f8ad0bf046167a6485",
            "a68afe20084e423489b962b79d8b78fc",
            "68c5953fd9ec4742ae47b2fcbbade47a",
            "b7138eec034c4c579d390e596885d817",
            "f5828ec8128b4359ad1d68105f07c1cb",
            "8da7bd4c22c14b1794bb7271f3abd10e",
            "92c14f8b9cf54bdfb08c9924bc6926d7",
            "15fc266f74e946a2aaf0e78d882268ee",
            "9ee27e302d2f484ba3d41054a0c6fad5",
            "d041161ec2bb4beb8679d399d14bba86",
            "d504ad234b65415f8f34ed954fbc6c55",
            "5e88598e6af4487faf6330ed05ec79fc",
            "47e56a13611e443e95fb82a203f8b217",
            "d1381c6cd6be4773a1c5bfaa2c538b92",
            "a000d65bf61946d18e35466333e8013e",
            "3aab95c69fe04c6a929128e2d975c2f8",
            "bc4294b7f0644f01bf49b43575aa850d",
            "723e9f82932b4f24b7c29b8f210fdd38",
            "5158ef54b3f14e71b5811f40fbc53e2f",
            "524fe0991f7746dfb67c0f1639a64669",
            "0982beb1d4474c1bb88f06727916a6bd",
            "765c5bb439114316baa95fe25ea9babb",
            "d75b27ad65474ef1976a76623979c761",
            "56045b81bb884fb9a1323138be41103d",
            "a39b919d1d3644f09a45cb5fb0ca59f3",
            "fed402198d4c47f787a8c102ba49f2fc",
            "d50dd567248a4710957dd70b25492ea7",
            "c94198796c114c9982685057d3ccd136",
            "e89c2d8f76224993bae6371713720839",
            "4e6ef143da714b3b95c54d0b70cc6b20",
            "165a865344764ef0a78b1f169475454e",
            "57898772c58d4845835548160923403f",
            "e959886cc90e4ce58c0652bbb5dd19a5",
            "aa42f2c2d1554c63b2ddfd884c91b7cb",
            "077d2dfa8c014721876f842705331955",
            "05e251fd7f6c437c89b225a6127d084d",
            "0ea95366e0ac413489ac82390df654ba",
            "7e29bdc83b5a4255ac7ba0897f8440a5",
            "213c174d4b014869a4eca8608b7e1599",
            "5b3713135c324ee4aaac0e315d06e0d5",
            "05206b4310d44d3fbba9a4c2106ca78d",
            "720f6b6ad3634ec0b64d10b7ce1c94da",
            "1df1edcb507a45aa81cd0aef87a1a98c",
            "d3f4774c2ce243c19eb3caffa665b638",
            "6c967e493cae4f0f8fc4e695aed8bfbe",
            "c6fa43722f684c2180a0e9835767f1f8",
            "668707110de64b6c92d6b13216166e36",
            "3b0c8f021bb849c09cc09dde2dba6efe",
            "b6e3dda61922461d99d0e6306c6b2c4c",
            "82bf2256392d436ea120225084e67060",
            "31d73a022e184c389bd5b43b3ecdf7a5",
            "54c6ec8c617b4e12b72703c8f94563ef",
            "3686b0bcd7d04712a64025089cac4ee8",
            "433869d0d14046bebfdd27009bb4fe7e",
            "710b325e071a4af7a2d8b654263e4afe",
            "ef75467055c747b794b0f53630950f27",
            "4678f86d094e49a396a4bc042534bebd",
            "f729f6269d9a47e2881e0bb9b0289800",
            "92c26532076f4ee2a5c9d4a0a682073b",
            "f89948ee3458496dbef6b1709e670d0c",
            "900d2dab98a342e2ace497d347153f82",
            "051c29383d58494fbf1e8df03b2717f2",
            "15d02267a8514b939bb75101f4b138e7",
            "23ad23831d2045dea03faa4c28d88185",
            "3692ecd3b89e410ab9d1f6259dbe3b9d",
            "d978db248ca747a7a2cde7d478399d99",
            "cd3a01c9758e4723b88146f2ab24bcf9",
            "b061ca6c6e884fe197f99edef0a93b1a"
          ]
        },
        "id": "tABcpgqlUr9Z",
        "outputId": "aa47ef9a-e2e4-4820-ca6f-d6d31504ea4a"
      },
      "outputs": [
        {
          "output_type": "stream",
          "name": "stderr",
          "text": [
            "WARNING:absl:You use TensorFlow DType <dtype: 'int16'> in tfds.features This will soon be deprecated in favor of NumPy DTypes. In the meantime it was converted to int16.\n"
          ]
        },
        {
          "output_type": "stream",
          "name": "stdout",
          "text": [
            "Downloading and preparing dataset 2.37 GiB (download: 2.37 GiB, generated: 8.17 GiB, total: 10.53 GiB) to /root/tensorflow_datasets/speech_commands/0.0.3...\n"
          ]
        },
        {
          "output_type": "display_data",
          "data": {
            "text/plain": [
              "Dl Completed...: 0 url [00:00, ? url/s]"
            ],
            "application/vnd.jupyter.widget-view+json": {
              "version_major": 2,
              "version_minor": 0,
              "model_id": "cc88242e9caa469bb3e9c4559da9c472"
            }
          },
          "metadata": {}
        },
        {
          "output_type": "display_data",
          "data": {
            "text/plain": [
              "Dl Size...: 0 MiB [00:00, ? MiB/s]"
            ],
            "application/vnd.jupyter.widget-view+json": {
              "version_major": 2,
              "version_minor": 0,
              "model_id": "df2a408487744fcca7629d23c1a74eb7"
            }
          },
          "metadata": {}
        },
        {
          "output_type": "display_data",
          "data": {
            "text/plain": [
              "Generating splits...:   0%|          | 0/3 [00:00<?, ? splits/s]"
            ],
            "application/vnd.jupyter.widget-view+json": {
              "version_major": 2,
              "version_minor": 0,
              "model_id": "134854e2927a44888aef3f3a4a56be80"
            }
          },
          "metadata": {}
        },
        {
          "output_type": "display_data",
          "data": {
            "text/plain": [
              "Generating train examples...:   0%|          | 0/85511 [00:00<?, ? examples/s]"
            ],
            "application/vnd.jupyter.widget-view+json": {
              "version_major": 2,
              "version_minor": 0,
              "model_id": "68c5953fd9ec4742ae47b2fcbbade47a"
            }
          },
          "metadata": {}
        },
        {
          "output_type": "display_data",
          "data": {
            "text/plain": [
              "Shuffling /root/tensorflow_datasets/speech_commands/0.0.3.incompleteEWXQBW/speech_commands-train.tfrecord*...:…"
            ],
            "application/vnd.jupyter.widget-view+json": {
              "version_major": 2,
              "version_minor": 0,
              "model_id": "d1381c6cd6be4773a1c5bfaa2c538b92"
            }
          },
          "metadata": {}
        },
        {
          "output_type": "display_data",
          "data": {
            "text/plain": [
              "Generating validation examples...:   0%|          | 0/10102 [00:00<?, ? examples/s]"
            ],
            "application/vnd.jupyter.widget-view+json": {
              "version_major": 2,
              "version_minor": 0,
              "model_id": "a39b919d1d3644f09a45cb5fb0ca59f3"
            }
          },
          "metadata": {}
        },
        {
          "output_type": "display_data",
          "data": {
            "text/plain": [
              "Shuffling /root/tensorflow_datasets/speech_commands/0.0.3.incompleteEWXQBW/speech_commands-validation.tfrecord…"
            ],
            "application/vnd.jupyter.widget-view+json": {
              "version_major": 2,
              "version_minor": 0,
              "model_id": "05e251fd7f6c437c89b225a6127d084d"
            }
          },
          "metadata": {}
        },
        {
          "output_type": "display_data",
          "data": {
            "text/plain": [
              "Generating test examples...:   0%|          | 0/4890 [00:00<?, ? examples/s]"
            ],
            "application/vnd.jupyter.widget-view+json": {
              "version_major": 2,
              "version_minor": 0,
              "model_id": "668707110de64b6c92d6b13216166e36"
            }
          },
          "metadata": {}
        },
        {
          "output_type": "display_data",
          "data": {
            "text/plain": [
              "Shuffling /root/tensorflow_datasets/speech_commands/0.0.3.incompleteEWXQBW/speech_commands-test.tfrecord*...: …"
            ],
            "application/vnd.jupyter.widget-view+json": {
              "version_major": 2,
              "version_minor": 0,
              "model_id": "f729f6269d9a47e2881e0bb9b0289800"
            }
          },
          "metadata": {}
        },
        {
          "output_type": "stream",
          "name": "stderr",
          "text": [
            "WARNING:absl:`FeatureConnector.dtype` is deprecated. Please change your code to use NumPy with the field `FeatureConnector.np_dtype` or use TensorFlow with the field `FeatureConnector.tf_dtype`.\n"
          ]
        },
        {
          "output_type": "stream",
          "name": "stdout",
          "text": [
            "Dataset speech_commands downloaded and prepared to /root/tensorflow_datasets/speech_commands/0.0.3. Subsequent calls will reuse this data.\n"
          ]
        }
      ],
      "source": [
        "dataset_name = \"speech_commands\"\n",
        "\n",
        "# Download and prepare the dataset\n",
        "ds_builder = tfds.builder(dataset_name)\n",
        "ds_builder.download_and_prepare()\n",
        "\n",
        "# Access the class names\n",
        "class_names = ds_builder.info.features['label'].names"
      ]
    },
    {
      "cell_type": "code",
      "execution_count": null,
      "metadata": {
        "id": "wokxUTLRJhQ7"
      },
      "outputs": [],
      "source": [
        "target_dataset = \"speech_commands\"\n",
        "datasets = tfds.list_builders()"
      ]
    },
    {
      "cell_type": "code",
      "execution_count": null,
      "metadata": {
        "colab": {
          "base_uri": "https://localhost:8080/"
        },
        "id": "O5JU44S7J3zT",
        "outputId": "6efd28a5-cbce-406e-fc22-90062fc550f7"
      },
      "outputs": [
        {
          "output_type": "execute_result",
          "data": {
            "text/plain": [
              "True"
            ]
          },
          "metadata": {},
          "execution_count": 6
        }
      ],
      "source": [
        "target_dataset in datasets"
      ]
    },
    {
      "cell_type": "code",
      "execution_count": null,
      "metadata": {
        "id": "1FUWJyFrKQJ_"
      },
      "outputs": [],
      "source": [
        "(train_ds,test_ds, val_ds ) ,ds_info = tfds.load(target_dataset,\n",
        "                                        batch_size=32,\n",
        "                                        split = [\"train\",\"validation\",\"test\"],\n",
        "                                        with_info = True,\n",
        "                                        as_supervised=True,\n",
        "                                        )"
      ]
    },
    {
      "cell_type": "code",
      "execution_count": null,
      "metadata": {
        "id": "Icxr1j_DXMoy"
      },
      "outputs": [],
      "source": [
        "# Preprocess the data\n",
        "train_ds = train_ds.map(preprocess_audio, tf.data.AUTOTUNE)\n",
        "val_ds = val_ds.map(preprocess_audio, tf.data.AUTOTUNE)\n",
        "test_ds = test_ds.map(preprocess_audio, tf.data.AUTOTUNE)\n"
      ]
    },
    {
      "cell_type": "code",
      "execution_count": null,
      "metadata": {
        "colab": {
          "base_uri": "https://localhost:8080/"
        },
        "id": "lMoHpuz-TzDC",
        "outputId": "94a4fd4d-20fe-41a8-959c-70d391878dba"
      },
      "outputs": [
        {
          "output_type": "execute_result",
          "data": {
            "text/plain": [
              "['down',\n",
              " 'go',\n",
              " 'left',\n",
              " 'no',\n",
              " 'off',\n",
              " 'on',\n",
              " 'right',\n",
              " 'stop',\n",
              " 'up',\n",
              " 'yes',\n",
              " '_silence_',\n",
              " '_unknown_']"
            ]
          },
          "metadata": {},
          "execution_count": 9
        }
      ],
      "source": [
        "class_names"
      ]
    },
    {
      "cell_type": "code",
      "execution_count": null,
      "metadata": {
        "colab": {
          "base_uri": "https://localhost:8080/"
        },
        "id": "ux_FkHuzNDs4",
        "outputId": "febbab29-722e-4f21-cd83-95fb8f4f9717"
      },
      "outputs": [
        {
          "output_type": "execute_result",
          "data": {
            "text/plain": [
              "<_ParallelMapDataset element_spec=(TensorSpec(shape=(None, None), dtype=tf.float32, name=None), TensorSpec(shape=(None,), dtype=tf.int64, name=None))>"
            ]
          },
          "metadata": {},
          "execution_count": 10
        }
      ],
      "source": [
        "train_ds"
      ]
    },
    {
      "cell_type": "code",
      "execution_count": null,
      "metadata": {
        "colab": {
          "base_uri": "https://localhost:8080/"
        },
        "id": "tz3LTZ93QrJk",
        "outputId": "b3c8b713-1f8c-41ab-b83a-baa57d3c012a"
      },
      "outputs": [
        {
          "output_type": "execute_result",
          "data": {
            "text/plain": [
              "<_ParallelMapDataset element_spec=(TensorSpec(shape=(None, None), dtype=tf.float32, name=None), TensorSpec(shape=(None,), dtype=tf.int64, name=None))>"
            ]
          },
          "metadata": {},
          "execution_count": 11
        }
      ],
      "source": [
        "test_ds"
      ]
    },
    {
      "cell_type": "code",
      "execution_count": null,
      "metadata": {
        "colab": {
          "base_uri": "https://localhost:8080/"
        },
        "id": "K7gLf-hhQukb",
        "outputId": "5794ffbd-8274-4473-9744-de9a7f82404e"
      },
      "outputs": [
        {
          "output_type": "execute_result",
          "data": {
            "text/plain": [
              "<_ParallelMapDataset element_spec=(TensorSpec(shape=(None, None), dtype=tf.float32, name=None), TensorSpec(shape=(None,), dtype=tf.int64, name=None))>"
            ]
          },
          "metadata": {},
          "execution_count": 12
        }
      ],
      "source": [
        "val_ds"
      ]
    },
    {
      "cell_type": "code",
      "execution_count": null,
      "metadata": {
        "colab": {
          "base_uri": "https://localhost:8080/"
        },
        "id": "xhnwK--9QwhO",
        "outputId": "a8365fca-7ce7-481b-87d7-07f2157f7bb7"
      },
      "outputs": [
        {
          "output_type": "execute_result",
          "data": {
            "text/plain": [
              "<_TakeDataset element_spec=(TensorSpec(shape=(None, None), dtype=tf.float32, name=None), TensorSpec(shape=(None,), dtype=tf.int64, name=None))>"
            ]
          },
          "metadata": {},
          "execution_count": 13
        }
      ],
      "source": [
        "sample = train_ds.take(1)\n",
        "sample"
      ]
    },
    {
      "cell_type": "code",
      "execution_count": null,
      "metadata": {
        "colab": {
          "base_uri": "https://localhost:8080/"
        },
        "id": "U20B4Q8QRai1",
        "outputId": "19c83882-63d5-450c-b24d-2732ed3934e4"
      },
      "outputs": [
        {
          "output_type": "execute_result",
          "data": {
            "text/plain": [
              "(TensorSpec(shape=(None, None), dtype=tf.float32, name=None),\n",
              " TensorSpec(shape=(None,), dtype=tf.int64, name=None))"
            ]
          },
          "metadata": {},
          "execution_count": 14
        }
      ],
      "source": [
        "train_ds.element_spec"
      ]
    },
    {
      "cell_type": "code",
      "execution_count": null,
      "metadata": {
        "colab": {
          "base_uri": "https://localhost:8080/"
        },
        "id": "i1xXs5c6Q5bp",
        "outputId": "207605bd-a2ff-4528-acf6-05e2256b4891"
      },
      "outputs": [
        {
          "output_type": "stream",
          "name": "stdout",
          "text": [
            "tf.Tensor(\n",
            "[[-4.5576080e-04 -5.4691295e-04 -3.6460866e-04 ...  4.8614488e-04\n",
            "   6.3806516e-04  7.5960136e-04]\n",
            " [ 2.2788041e-03  8.8113756e-04 -2.5826446e-03 ... -1.0421731e-02\n",
            "   9.2367530e-03  2.6707584e-02]\n",
            " [ 0.0000000e+00  0.0000000e+00  6.0768110e-05 ...  6.0768110e-05\n",
            "   3.0384055e-05  3.0384055e-05]\n",
            " ...\n",
            " [-9.1152164e-05 -1.2153622e-04 -1.2153622e-04 ... -1.2153622e-04\n",
            "  -1.5192028e-04 -1.5192028e-04]\n",
            " [ 1.0026738e-03  1.7318911e-03  2.2180360e-03 ...  9.1152161e-04\n",
            "   1.2153622e-03  2.1268837e-03]\n",
            " [ 0.0000000e+00  1.2153622e-04 -3.0384055e-05 ...  2.1268838e-04\n",
            "   4.5576080e-04  3.3422461e-04]], shape=(32, 16000), dtype=float32)\n",
            "tf.Tensor(\n",
            "[ 4  5  7  5  7  2 11  7  6  6 11  6  6 11 11 11 10 11 11 11 11 11 11  5\n",
            " 11  1  7 11 11 11 11  9], shape=(32,), dtype=int64)\n"
          ]
        }
      ],
      "source": [
        "for audio, label in sample:\n",
        "  print(audio)\n",
        "  print(label)"
      ]
    },
    {
      "cell_type": "code",
      "execution_count": null,
      "metadata": {
        "colab": {
          "base_uri": "https://localhost:8080/"
        },
        "id": "ohGXAhVdREUj",
        "outputId": "ac8e58ad-193d-42d2-d0e1-c787fe8b5d3e"
      },
      "outputs": [
        {
          "output_type": "execute_result",
          "data": {
            "text/plain": [
              "(TensorShape([32, 16000]), TensorShape([32]))"
            ]
          },
          "metadata": {},
          "execution_count": 16
        }
      ],
      "source": [
        "audio.shape, label.shape"
      ]
    },
    {
      "cell_type": "code",
      "execution_count": null,
      "metadata": {
        "id": "MuLJ1G_3Svii"
      },
      "outputs": [],
      "source": [
        "sample_audio = audio[0]\n",
        "sample_label = label[0]"
      ]
    },
    {
      "cell_type": "code",
      "execution_count": null,
      "metadata": {
        "colab": {
          "base_uri": "https://localhost:8080/"
        },
        "id": "NL2hz8XWTQcE",
        "outputId": "2db2a230-da69-4ca8-8d08-6209f41a33fb"
      },
      "outputs": [
        {
          "output_type": "execute_result",
          "data": {
            "text/plain": [
              "(<tf.Tensor: shape=(16000,), dtype=float32, numpy=\n",
              " array([-0.00045576, -0.00054691, -0.00036461, ...,  0.00048614,\n",
              "         0.00063807,  0.0007596 ], dtype=float32)>,\n",
              " <tf.Tensor: shape=(), dtype=int64, numpy=4>)"
            ]
          },
          "metadata": {},
          "execution_count": 18
        }
      ],
      "source": [
        "sample_audio,sample_label"
      ]
    },
    {
      "cell_type": "code",
      "execution_count": null,
      "metadata": {
        "colab": {
          "base_uri": "https://localhost:8080/"
        },
        "id": "u1ZEthbfVh8q",
        "outputId": "f032591b-39fc-4e72-d036-12baa1f6d890"
      },
      "outputs": [
        {
          "output_type": "execute_result",
          "data": {
            "text/plain": [
              "(<tf.Tensor: shape=(), dtype=float32, numpy=0.38426715>,\n",
              " <tf.Tensor: shape=(), dtype=float32, numpy=-0.61573285>)"
            ]
          },
          "metadata": {},
          "execution_count": 19
        }
      ],
      "source": [
        "max(sample_audio),min(sample_audio)"
      ]
    },
    {
      "cell_type": "code",
      "execution_count": null,
      "metadata": {
        "colab": {
          "base_uri": "https://localhost:8080/"
        },
        "id": "09jUaIKWTPwI",
        "outputId": "ef1db716-a724-461b-c9b3-e32cf0e84c80"
      },
      "outputs": [
        {
          "output_type": "execute_result",
          "data": {
            "text/plain": [
              "<tf.Tensor: shape=(16000,), dtype=float32, numpy=\n",
              "array([-0.00045576, -0.00054691, -0.00036461, ...,  0.00048614,\n",
              "        0.00063807,  0.0007596 ], dtype=float32)>"
            ]
          },
          "metadata": {},
          "execution_count": 20
        }
      ],
      "source": [
        "sample_audio"
      ]
    },
    {
      "cell_type": "code",
      "execution_count": null,
      "metadata": {
        "colab": {
          "base_uri": "https://localhost:8080/",
          "height": 853
        },
        "id": "gac3hmG2Ta1K",
        "outputId": "fa1b7d57-675c-40bc-814e-09fda7d15996"
      },
      "outputs": [
        {
          "output_type": "display_data",
          "data": {
            "text/plain": [
              "<Figure size 1600x1000 with 9 Axes>"
            ],
            "image/png": "[encoded data removed]"
          },
          "metadata": {}
        }
      ],
      "source": [
        "# Let's plot a few audio waveforms:\n",
        "plt.figure(figsize=(16, 10))\n",
        "rows = 3\n",
        "cols = 3\n",
        "n = rows * cols\n",
        "for i in range(n):\n",
        "  plt.subplot(rows, cols, i+1)\n",
        "  audio_signal = audio[i]\n",
        "  plt.plot(audio_signal)\n",
        "  plt.title(class_names[label[i]])\n",
        "  plt.yticks(np.arange(-1.2, 1.2, 0.2))\n",
        "  plt.ylim([-1.1, 1.1])"
      ]
    },
    {
      "cell_type": "code",
      "execution_count": null,
      "metadata": {
        "id": "zX2hcryTVJJ5"
      },
      "outputs": [],
      "source": [
        "def get_spectrogram(waveform):\n",
        "  # Convert the waveform to a spectrogram via a STFT.\n",
        "  spectrogram = tf.signal.stft(\n",
        "      waveform, frame_length=255, frame_step=128)\n",
        "  # Obtain the magnitude of the STFT.\n",
        "  spectrogram = tf.abs(spectrogram)\n",
        "  # Add a `channels` dimension, so that the spectrogram can be used\n",
        "  # as image-like input data with convolution layers (which expect\n",
        "  # shape (`batch_size`, `height`, `width`, `channels`).\n",
        "\n",
        "  spectrogram = spectrogram[..., tf.newaxis]\n",
        "\n",
        "  return spectrogram"
      ]
    },
    {
      "cell_type": "code",
      "execution_count": null,
      "metadata": {
        "colab": {
          "base_uri": "https://localhost:8080/",
          "height": 400
        },
        "id": "egrzIrjmYhLu",
        "outputId": "5cd8f723-7423-4298-c921-768454ea701c"
      },
      "outputs": [
        {
          "output_type": "stream",
          "name": "stdout",
          "text": [
            "Label: tf.Tensor(4, shape=(), dtype=int64)\n",
            "Waveform shape: (16000,)\n",
            "Spectrogram shape: (124, 129, 1)\n",
            "Audio playback\n"
          ]
        },
        {
          "output_type": "display_data",
          "data": {
            "text/plain": [
              "<IPython.lib.display.Audio object>"
            ],
            "text/html": [
              "\n",
              "                <audio  controls=\"controls\" >\n",
              "                    <source src=\"data:audio/wav;base64,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\" type=\"audio/wav\" />\n",
              "                    Your browser does not support the audio element.\n",
              "                </audio>\n",
              "              "
            ]
          },
          "metadata": {}
        },
        {
          "output_type": "stream",
          "name": "stdout",
          "text": [
            "Label: tf.Tensor(5, shape=(), dtype=int64)\n",
            "Waveform shape: (16000,)\n",
            "Spectrogram shape: (124, 129, 1)\n",
            "Audio playback\n"
          ]
        },
        {
          "output_type": "display_data",
          "data": {
            "text/plain": [
              "<IPython.lib.display.Audio object>"
            ],
            "text/html": [
              "\n",
              "                <audio  controls=\"controls\" >\n",
              "                    <source src=\"data:audio/wav;base64,UklGRiR9AABXQVZFZm10IBAAAAABAAEAgD4AAAB9AAACABAAZGF0YQB9AADwAF0A8P4QANoA1/89/zkAwABm/4P/owATAJD//f9mAP3/kP8pAF0A0P+3/xYAaQDg/4b/NgB2AM3/dv8zAKYAmv9t/30AYACa/6P/VgBAAJP/8P9WAOD/6v8jAPf/5/8gACMAx//Q/2kADACN/wYAbQDw/4r/EACAAMr/Y/9QAJMAkP9j/4YAnQA9/3P/9ABJAAD//f/qAPT/HP89ANcAev96/5AAOQCQ/+T/dgAAAH3/OQBdAJf/0P9tADAAc//t/7cAzf9G/2MAnQBz/13/swCKAAn/nf8UARwA5v4DAB0Bzf/c/nMA9wBj/yP/swCwAC3/jf/AAEAAVv/g/5YAAACD/xYARgDg/93/CQAMAPf/9/8GAPr/9P8TAAMA5//6/z0A/f+d/xAAbQDK/4b/RgCKAKD/gP+AAGAAdv+w/4YAPQB6/9r/gwADAIr/9/9pAOr/k/8pAE0Ayv/K/yYANgDN/9f/RgADANf/CQAJAP3/6v8JAAkA5P8JABYA6v/q/ywAGQCw//D/bQDk/4P/PQCDAJ3/ev+KAF0AU/+6/7cAGQA2/wAAwwDQ/03/UwCWAKP/dv9pAGAAg/+9/3AAFgCq/+3/UwDw/8P/KQAMANr/BgAcAOT/0P85ADMAoP/q/2AADACX//3/gADw/23/NgCDAKr/mv9ZAFkAkP+t/40AHAB6/wYAcwDq/53/KQBdAL3/vf9QACkAt//g/0YAEAC3/wMAQwDd/8r/LAApAL3/1P9TAAYAl/8WAFkAzf+q/0kAWQCT/7r/gwAmAHP/9P+KAO3/dv82AHoAt/+X/1YASQCX/7f/aQAjAIr/8P9mAAAAo/8JAF0A3f+w/yMAKQDU/+r/JgAJANr/AwA2AOT/zf82ACYAs//t/0YAAACg/xMAWQDK/7r/PQA5ALr/x/9TADAAl//0/1MAAwCt//3/YwDt/6D/IwBJANT/w/8sADYAx//a/0AAEwDA//f/MwAAAM3/EAAZAOf/+v8TAAwA4P/3/ykA8P/g/xkACQDn//D/IwAGANr/BgAZAOr/5/8MACAA2v/d/yAABgDn//D/IAAQANr/AAAZAPr/+v8AAAkA/f/0/wYABgD3//3/BgAAAPr//f8GAP3//f8AAAAA+v/9/wAAAAD6/wAAAwAAAP3/AAADAPr/+v8DAAAA+v/9/wAAAAD6/wAAAwD9//3/AAADAP3//f8AAAAA/f8AAAAAAAAAAAAAAAAAAP3/AAAAAAAA/f8AAAAAAAAAAAAAAAAAAP3/AAAAAAAAAAAAAAAAAAAAAAAAAAAAAAAAAAAAAAAAAAAAAAAAAAAAAAAAAAAAAAAAAAAAAAAAAAAAAAAAAAAAAAAAAAAAAAAAAAAAAAAAAAAAAAAAAAAAAAAAAAAAAAAAAAAAAAAAAAAAAAAAAAAAAAAAAAAAAAAAAAAAAAAAAAAAAAAAAAAAAP3/AAAAAP3/AAAAAAAA/f8AAAAAAAD9/wAAAAAAAP3/AAAAAAAAAAAAAAAA/f8AAAAAAAD9/wAAAAAAAAAAAAAAAAAAAAAAAAAAAAAAAAAAAAAAAAAAAAAAAAAAAAAAAAAAAAAAAAAAAAAAAAAAAAAAAAAAAAAAAAAAAAAAAAAAAAAAAAAAAAAAAAAAAAAAAAAAAAAAAAAAAAAAAAAAAAAAAAAAAAAAAAAAAAAAAAAAAAAAAAAAAAAAAAAAAAAAAAAAAAAAAAAAAAAAAAAAAAAAAAAAAAAAAAAAAAAAAAAAAAAAAAAAAAAAAAAAAAAAAAAAAAAAAAAAAAAAAAAAAAAAAAAAAAAAAAAAAAAAAAAAAAAAAAAAAAAAAAAAAAAAAAAAAAAAAAAAAAAAAAAAAAAAAAAAAAAAAAAAAAAAAAAAAAAAAAAAAAAAAAAAAAAAAAAAAAAAAAAAAAAAAAAAAAAAAAAAAAAAAAAAAAAAAAAAAAAAAAAAAAAAAAAAAAAAAAAAAAAAAAAAAAAAAAAAAAAAAAAAAAAAAAAAAAAAAAAAAAAAAAAAAAAAAAAAAAAAAAAAAAAAAAAAAAAAAAAAAAAAAAAAAAAAAAAAAAAAAAAAAAAAAAAAAAAAAAAAAAAAAAAAAAAAAAAAAAAAAAAAAAAAAAAAAAAAAAAAAAAAAAAAAAAAAAAAAAAAAAAAAAAAAAAAAAAAAAAAAAAAAAAAAAAAAAAAAAAAAAAAAAAAAAAAAAAAAAAAAAAAAAAAAAAAAAAAAAAAAAAAAAAAAAAAAAAAAAAAAAAAAAAAAAAAAAAAAAAAAAAAAAAAAAAAAAAAAAAAAAAAAAAAAAAAAAAAAAAAAAAAAAAAAAAAAAAAAAAAAAAAAAAAAAAAAAAAAAAAAAAAAAAAAAAAAAAAAAAAAAAAAAAAAAAAAAAAAAAAAAAAAAAAAAAAAAAAAAAAAAAAAAAAAAAAAAAAAAAAAAAAAAAAAAAAAAAAAAAAAAAAAAAAAAAAAAAAAAAAAAAAAAAAAAAAAAAAAAAAAAAAAAAAAAAAAAAAAAAAAAAAAAAAAAAAAAAAAAAAAAAAAAAAAAAAAAAAAAAAAAAAAAAAAAAAAAAAAAAAAAAAAAAAAAAAAAAAAAAAAAAAAAAAAAAAAAAAAAAAAAAAAAAAAAAAAAAAAAAAAAAAAAAAAAAAAAAAAAAAAAAAAAAAAAAAAAAAAAAAAAAAAAAAAAAAAAAAAAAAAAAAAAAAAAAAAAAAAAAAAAAAAAAAAAAAAAAAAAAAAAAAAAAAAAAAAAAAAAAAAAAAAAAAAAAAAAAAAAAAAAAAAAAAAAAAAAAAAAAAAAAAAAAAAAAAAAAAAAAAAAAAAAAAAAAAAAAAAAAAAAAAAAAAAAAAAAAAAAAAAAAAAAAAAAAAAAAAAAAAAAAAAAAAAAAAAAAAAAAAAAAAAAAAAAAAAAAAAAAAAAAAAAAAAAAAAAAAAAAAAAAAAAAAAAAAAAAAAAAAAAAAAAAAAAAAAAAAAAAAAAAAAAAAAAAAAAAAAAAAAAAAAAAAAAAAAAAAAAAAAAAAAAAAAAAAAAAAAAAAAAAAAAAAAAAAAAAAAAAAAAAAAAAAAAAAAAAAAAAAAAAAAAAAAAAAAAAAAAAAAAAAAAAAAAAAAAAAAAAAAAAAAAAAAAAAAAAAAAAAAAAAAAAAAAAAAAAAAAAAAAAAAAAAAAAAAAAAAAAAAAAAAAAAAAAAAAAAAAAAAAAAAAAAAAAAAAAAAAAAAAAAAAAAAAAAAAAAAAAAAAAAAAAAAAAAAAAAAAAAAAAAAAAAAAAAAAAAAAAAAAAAAAAAAAAAAAAAAAAAAAAAAAAAAAAAAAAAAAAAAAAAAAAAAAAAAAAAAAAAAAAAAAAAAAAAAAAAAAAAAAAAAAAAAAAAAAAAAAAAAAAAAAAAAAAAAAAAAAAAAAAAAAAAAAAAAAAAAAAAAAAAAAAAAAAAAAAAAAAAAAAAAAAAAAAAAAAAAAAAAAAAAAAAAAAAAAAAAAAAAAAAAAAAAAAAAAAAAAAAAAAAAAAAAAAAAAAAAAAAAAAAAAAAAAAAAAAAAAAAAAAAAAAAAAAAAAAAAAAAAAAAAAAAAAAAAAAAAAAAAAAAAAAAAAAAAAAAAAAAAAAAAAAAAAAAAAAAAAAAAAAAAAAAAAAAAAAAAAAAAAAAAAAAAAAAAAAAAAAAAAAAAAAAAAAAAAAAAAAAAAAAAAAAAAAAAAAAAAAAAAAAAAAAAAAAAAAAAAAAAAAAAAAAAAAAAAAAAAAAAAAAAAAAAAAAAAAAAAAAAAAAAAAAAAAAAAAAAAAAAAAAAAAAAAAAAAAAAAAAAAAAAAAAAAAAAAAAAAAAAAAAAAAAAAAAAAAAAAAAAAAAAAAAAAAAAAAAAAAAAAAAAAAAAAAAAAAAAAAAAAAAAAAAAAAAAAAAAAAAAAAAAAAAAAAAAAAAAAAAAAAAAAAAAAAAAAAAAAAAAAAAAAAAAAAAAAAAAAAAAAAAAAAAAAAAAAAAAAAAAAAAAAAAAAAAAAAAAAAAAAAAAAAAAAAAAAAAAAAAAAAAAAAAAAAAAAAAAAAAAAAAAAAAAAAAAAAAAAAAAAAAAAAAAAAAAAAAAAAAAAAAAAAAAAAAAAAAAAAAAAAAAAAAAAAAAAAAAAAAAAAAAAAAAAAAAAAAAAAAAAAAAAAAAAAAAAAAAAAAAAAAAAAAAAAAAAAAAAAAAAAAAAAAAAAAAAAAAAAAAAAAAAAAAAAAAAAAAAAAAAAAAAAAAAAAAAAAAAAAAAAAAAAAAAAAAAAAAAAAAAAAAAAAAAAAAAAAAAAAAAAAAAAAAAAAAAAAAAAAAAAAAAAAAAAAAAAAAAAAAAAAAAAAAAAAAAAAAAAAAAAAAAAAAAAAAAAAAAAAAAAAAAAAAAAAAAAAAAAAAAAAAAAAAAAAAAAAAAAAAAAAAAAAAAAAAAAAAAAAAAAAAAAAAAAAAAAAAAAAAAAAAAAAAAAAAAAAAAAAAAAAAAAAAAAAAAAAAAAAAAAAAAAAAAAAAAAAAAAAAAAAAAAAAAAAAAAAAAAAAAAAAAAAAAAAAAAAAAAAAAAAAAAAAAAAAAAAAAAAAAAAAAAAAAAAAAAAAAAAAAAAAAAAAAAAAAAAAAAAAAAAAAAAAAAAAAAAAAAAAAAAAAAAAAAAAAAAAAAAAAAAAAAAAAAAAAAAAAAAAAAAAAAAAAAAAAAAAAAAAAAAAAAAAAAAAAAAAAAAAAAAAAAAAAAAAAAAAAAAAAAAAAAAAAAAAAAAAAAAAAAAAAAAAAAAAAAAAAAAAAAAAAAAAAAAAAAAAAAAAAAAAAAAAAAAAAAAAAAAAAAAAAAAAAAAAAAAAAAAAAAAAAAAAAAAAAAAAAAAAAAAAAAAAAAAAAAAAAAAAAAAAAAAAAAAAAAAAAAAAAAAAAAAAAAAAAAAAAAAAAAAAAAAAAAAAAAAAAAAAAAAAAAAAAAAAAAAAAAAAAAAAAAAAAAAAAAAAAAAAAAAAAAAAAAAAAAAAAAAAAAAAAAAAAAAAAAAAAAAAAAAAAAAAAAAAAAAAAAAAAAAAAAAAAAAAAAAAAAAAAAAAAAAAAAAAAAAAAAAAAAAAAAAAAAAAAAAAAAAAAAAAAAAAAAAAAAAAAAAAAAAAAAAAAAAAAAAAAAAAAAAAAAAAAAAAAAAAAAAAAAAAAAAAAAAAAAAAAAAAAAAAAAAAAAAAAAAAAAAAAAAAAAAAAAAAAAAAAAAAAAAAAAAAAAAAAAAAAAAAAAAAAAAAAAAAAAAAAAAAAAAAAAAAAAAAAAAAAAAAAAAAAAAAAAAAAAAAAAAAAAAAAAAAAAAAAAAAAAAAAAAAAAAAAAAAAAAAAAAAAAAAAAAAAAAAAAAAAAAAAAAAAAAAAAAAAAAAAAAAAAAAAAAAAAAAAAAAAAAAAAAAAAAAAAAAAAAAAAAAAAAAAAAAAAAAAAAAAAAAAAAAAAAAAAAAAAAAAAAAAAAAAAAAAAAAAAAAAAAAAAAAAAAAAAAAAAAAAAAAAAAAAAAAAAAAAAAAAAAAAAAAAAAAAAAAAAAAAAAAAAAAAAAAAAAAAAAAAAAAAAAAAAAAAAAAAAAAAAAAAAAAAAAAAAAAAAAAAAAAAAAAAAAAAAAAAAAAAAAAAAAAAAAAAAAAAAAAAAAAAAAAAAAAAAAAAAAAAAAAAAAAAAAAAAAAAAAAAAAAAAAAAAAAAAAAAAAAAAAAAAAAAAAAAAAAAAAAAAAAAAAAAAAAAAAAAAAAAAAAAAAAAAAAAAAAAAAAAAAAAAAAAAAAAAAAAAAAAAAAAAAAAAAAAAAAAAAAAAAAAAAAAAAAAAAAAAAAAAAAAAAAAAAAAAAAAAAAAAAAAAAAAAAAAAAAAAAAAAAAAAAAAAAAAAAAAAAAAAAAAAAAAAAAAAAAAAAAAAAAAAAAAAAAAAAAAAAAAAAAAAAAAAAAAAAAAAAAAAAAAAAAAAAAAAAAAAAAAAAAAAAAAAAAAAAAAAAAAAAAAAAAAAAAAAAAAAAAAAAAAAAAAAAAAAAAAAAAAAAAAAAAAAAAAAAAAAAAAAAAAAAAAAAAAAAAAAAAAAAAAAAAAAAAAAAAAAAAAAAAAAAAAAAAAAAAAAAAAAAAAAAAAAAAAAAAAAAAAAAAAAAAAAAAAAAAAAAAAAAAAAAAAAAAAAAAAAAAAAAAAAAAAAAAAAAAAAAAAAAAAAAAAAAAAAAAAAAAAAAAAAAAAAAAAAAAAAAAAAAAAAAAAAAAAAAAAAAAAAAAAAAAAAAAAAAAAAAAAAAAAAAAAAAAAAAAAAAAAAAAAAAAAAAAAAAAAAAAAAAAAAAAAAAAAAAAAAAAAAAAAAAAAAAAAAAAAAAAAAAAAAAAAAAAAAAAAAAAAAAAAAAAAAAAAAAAAAAAAAAAAAAAAAAAAAAAAAAAAAAAAAAAAAAAAAAAAAAAAAAAAAAAAAAAAAAAAAAAAAAAAAAAAAAAAAAAAAAAAAAAAAAAAAAAAAAAAAAAAAAAAAAAAAAAAAAAAAAAAAAAAAAAAAAAAAAAAAAAAAAAAAAAAAAAAAAAAAAAAAAAAAAAAAAAAAAAAAAAAAAAAAAAAAAAAAAAAAAAAAAAAAAAAAAAAAAAAAAAAAAAAAAAAAAAAAAAAAAAAAAAAAAAAAAAAAAAAAAAAAAAAAAAAAAAAAAAAAAAAAAAAAAAAAAAAAAAAAAAAAAAAAAAAAAAAAAAAAAAAAAAAAAAAAAAAAAAAAAAAAAAAAAAAAAAAAAAAAAAAAAAAAAAAAAAAAAAAAAAAAAAAAAAAAAAAAAAAAAAAAAAAAAAAAAAAAAAAAAAAAAAAAAAAAAAAAAAAAAAAAAAAAAAAAAAAAAAAAAAAAAAAAAAAAAAAAAAAAAAAAAAAAAAAAAAAAAAAAAAAAAAAAAAAAAAAAAAAAAAAAAAAAAAAAAAAAAAAAAAAAAAAAAAAAAAAAAAAAAAAAAAAAAAAAAAAAAAAAAAAAAAAAAAAAAAAAAAAAAAAAAAAAAAAAAAAAAAAAAAAAAAAAAAAAAAAAAAAAAAAAAAAAAAAAAAAAAAAAAAAAAAAAAAAAAAAAAAAAAAAAAAAAAAAAAAAAAAAAAAAAAAAAAAAAAAAAAAAAAAAAAAAAAAAAAAAAAAAAAAAAAAAAAAAAAAAAAAAAAAAAAAAAAAAAAAAAAAAAAAAAAAAAAAAAAAAAAAAAAAAAAAAAAAAAAAAAAAAAAAAAAAAAAAAAAAAAAAAAAAAAAAAAAAAAAAAAAAAAAAAAAAAAAAAAAAAAAAAAAAAAAAAAAAAAAAAAAAAAAAAAAAAAAAAAAAAAAAAAAAAAAAAAAAAAAAAAAAAAAAAAAAAAAAAAAAAAAAAAAAAAAAAAAAAAAAAAAAAAAAAAAAAAAAAAAAAAAAAAAAAAAAAAAAAAAAAAAAAAAAAAAAAAAAAAAAAAAAAAAAAAAAAAAAAAAAAAAAAAAAAAAAAAAAAAAAAAAAAAAAAAAAAAAAAAAAAAAAAAAAAAAAAAAAAAAAAAAAAAAAAAAAAAAAAAAAAAAAAAAAAAAAAAAAAAAAAAAAAAAAAAAAAAAAAAAAAAAAAAAAAAAAAAAAAAAAAAAAAAAAAAAAAAAAAAAAAAAAAAAAAAAAAAAAAAAAAAAAAAAAAAAAAAAAAAAAAAAAAAAAAAAAAAAAAAAAAAAAAAAAAAAAAAAAAAAAAAAAAAAAAAAAAAAAAAAAAAAAAAAAAAAAAAAAAAAAAAAAAAAAAAAAAAAAAAAAAAAAAAAAAAAAAAAAAAAAAAAAAAAAAAAAAAAAAAAAAAAAAAAAAAAAAAAAAAAAAAAAAAAAAAAAAAAAAAAAAAAAAAAAAAAAAAAAAAAAAAAAAAAAAAAAAAAAAAAAAAAAAAAAAAAAAAAAAAAAAAAAAAAAAAAAAAAAAAAAAAAAAAAAAAAAAAAAAAAAAAAAAAAAAAAAAAAAAAAAAAAAAAAAAAAAAAAAAAAAAAAAAAAAAAAAAAAAAAAAAAAAAAAAAAAAAAAAAAAAAAAAAAAAAAAAAAAAAAAAAAAAAAAAAAAAAAAAAAAAAAAAAAAAAAAAAAAAAAAAAAAAAAAAAAAAAAAAAAAAAAAAAAAAAAAAAAAAAAAAAAAAAAAAAAAAAAAAAAAAAAAAAAAAAAAAAAAAAAAAAAAAAAAAAAAAAAAAAAAAAAAAAAAAAAAAAAAAAAAAAAAAAAAAAAAAAAAAAAAAAAAAAAAAAAAAAAAAAAAAAAAAAAAAAAAAAAAAAAAAAAAAAAAAAAAAAAAAAAAAAAAAAAAAAAAAAAAAAAAAAAAAAAAAAAAAAAAAAAAAAAAAAAAAAAAAAAAAAAAAAAAAAAAAAAAAAAAAAAAAAAAAAAAAAAAAAAAAAAAAAAAAAAAAAAAAAAAAAAAAAAAAAAAAAAAAAAAAAAAAAAAAAAAAAAAAAAAAAAAAAAAAAAAAAAAAAAAAAAAAAAAAAAAAAAAAAAAAAAAAAAAAAAAAAAAAAAAAAAAAAAAAAAAAAAAAAAAAAAAAAAAAAAAAAAAAAAAAAAAAAAAAAAAAAAAAAAAAAAAAAAAAAAAAAAAAAAAAAAAAAAAAAAAAAAAAAAAAAAAAAAAAAAAAAAAAAAAAAAAAAAAAAAAAAAAAAAAAAAAAAAAAAAAAAAAAAAAAAAAAAAAAAAAAAAAAAAAAAAAAAAAAAAAAAAAAAAAAAAAAAAAAAAAAAAAAAAAAAAAAAAAAAAAAAAAAAAAAAAAAAAAAAAAAAAAAAAAAAAAAAAAAAAAAAAAAAAAAAAAAAAAAAAAAAAAAAAAAAAAAAAAAAAAAAAAAAAAAAAAAAAAAAAAAAAAAAAAAAAAAAAAAAAAAAAAAAAAAAAAAAAAAAAAAAAAAAAAAAAAAAAAAAAAAAAAAAAAAAAAAAAAAAAAAAAAAAAAAAAAAAAAAAAAAAAAAAAAAAAAAAAAAAAAAAAAAAAAAAAAAAAAAAAAAAAAAAAAAAAAAAAAAAAAAAAAAAAAAAAAAAAAAAAAAAAAAAAAAAAAAAAAAAAAAAAAAAAAAAAAAAAAAAAAAAAAAAAAAAAAAAAAAAAAAAAAAAAAAAAAAAAAAAAAAAAAAAAAAAAAAAAAAAAAAAAAAAAAAAAAAAAAAAAAAAAAAAAAAAAAAAAAAAAAAAAAAAAAAAAAAAAAAAAAAAAAAAAAAAAAAAAAAAAAAAAAAAAAAAAAAAAAAAAAAAAAAAAAAAAAAAAAAAAAAAAAAAAAAAAAAAAAAAAAAAAAAAAAAAAAAAAAAAAAAAAAAAAAAAAAAAAAAAAAAAAAAAAAAAAAAAAAAAAAAAAAAAAAAAAAAAAAAAAAAAAAAAAAAAAAAAAAAAAAAAAAAAAAAAAAAAAAAAAAAAAAAAAAAAAAAAAAAAAAAAAAAAAAAAAAAAAAAAAAAAAAAAAAAAAAAAAAAAAAAAAAAAAAAAAAAAAAAAAAAAAAAAAAAAAAAAAAAAAAAAAAAAAAAAAAAAAAAAAAAAAAAAAAAAAAAAAAAAAAAAAAAAAAAAAAAAAAAAAAAAAAAAAAAAAAAAAAAAAAAAAAAAAAAAAAAAAAAAAAAAAAAAAAAAAAAAAAAAAAAAAAAAAAAAAAAAAAAAAAAAAAAAAAAAAAAAAAAAAAAAAAAAAAAAAAAAAAAAAAAAAAAAAAAAAAAAAAAAAAAAAAAAAAAAAAAAAAAAAAAAAAAAAAAAAAAAAAAAAAAAAAAAAAAAAAAAAAAAAAAAAAAAAAAAAAAAAAAAAAAAAAAAAAAAAAAAAAAAAAAAAAAAAAAAAAAAAAAAAAAAAAAAAAAAAAAAAAAAAAAAAAAAAAAAAAAAAAAAAAAAAAAAAAAAAAAAAAAAAAAAAAAAAAAAAAAAAAAAAAAAAAAAAAAAAAAAAAAAAAAAAAAAAAAAAAAAAAAAAAAAAAAAAAAAAAAAAAAAAAAAAAAAAAAAAAAAAAAAAAAAAAAAAAAAAAAAAAAAAAAAAAAAAAAAAAAAAAAAAAAAAAAAAAAAAAAAAAAAAAAAAAAAAAAAAAAAAAAAAAAAAAAAAAAAAAAAAAAAAAAAAAAAAAAAAAAAAAAAAAAAAAAAAAAAAAAAAAAAAAAAAAAAAAAAAAAAAAAAAAAAAAAAAAAAAAAAAAAAAAAAAAAAAAAAAAAAAAAAAAAAAAAAAAAAAAAAAAAAAAAAAAAAAAAAAAAAAAAAAAAAAAAAAAAAAAAAAAAAAAAAAAAAAAAAAAAAAAAAAAAAAAAAAAAAAAAAAAAAAAAAAAAAAAAAAAAAAAAAAAAAAAAAAAAAAAAAAAAAAAAAAAAAAAAAAAAAAAAAAAAAAAAAAAAAAAAAAAAAAAAAAAAAAAAAAAAAAAAAAAAAAAAAAAAAAAAAAAAAAAAAAAAAAAAAAAAAAAAAAAAAAAAAAAAAAAAAAAAAAAAAAAAAAAAAAAAAAAAAAAAAAAAAAAAAAAAAAAAAAAAAAAAAAAAAAAAAAAAAAAAAAAAAAAAAAAAAAAAAAAAAAAAAAAAAAAAAAAAAAAAAAAAAAAAAAAAAAAAAAAAAAAAAAAAAAAAAAAAAAAAAAAAAAAAAAAAAAAAAAAAAAAAAAAAAAAAAAAAAAAAAAAAAAAAAAAAAAAAAAAAAAAAAAAAAAAAAAAAAAAAAAAAAAAAAAAAAAAAAAAAAAAAAAAAAAAAAAAAAAAAAAAAAAAAAAAAAAAAAAAAAAAAAAAAAAAAAAAAAAAAAAAAAAAAAAAAAAAAAAAAAAAAAAAAAAAAAAAAAAAAAAAAAAAAAAAAAAAAAAAAAAAAAAAAAAAAAAAAAAAAAAAAAAAAAAAAAAAAAAAAAAAAAAAAAAAAAAAAAAAAAAAAAAAAAAAAAAAAAAAAAAAAAAAAAAAAAAAAAAAAAAAAAAAAAAAAAAAAAAAAAAAAAAAAAAAAAAAAAAAAAAAAAAAAAAAAAAAAAAAAAAAAAAAAAAAAAAAAAAAAAAAAAAAAAAAAAAAAAAAAAAAAAAAAAAAAAAAAAAAAAAAAAAAAAAAAAAAAAAAAAAAAAAAAAAAAAAAAAAAAAAAAAAAAAAAAAAAAAAAAAAAAAAAAAAAAAAAAAAAAAAAAAAAAAAAAAAAAAAAAAAAAAAAAAAAAAAAAAAAAAAAAAAAAAAAAAAAAAAAAAAAAAAAAAAAAAAAAAAAAAAAAAAAAAAAAAAAAAAAAAAAAAAAAAAAAAAAAAAAAAAAAAAAAAAAAAAAAAAAAAAAAAAAAAAAAAAAAAAAAAAAAAAAAAAAAAAAAAAAAAAAAAAAAAAAAAAAAAAAAAAAAAAAAAAAAAAAAAAAAAAAAAAAAAAAAAAAAAAAAAAAAAAAAAAAAAAAAAAAAAAAAAAAAAAAAAAAAAAAAAAAAAAAAAAAAAAAAAAAAAAAAAAAAAAAAAAAAAAAAAAAAAAAAAAAAAAAAAAAAAAAAAAAAAAAAAAAAAAAAAAAAAAAAAAAAAAAAAAAAAAAAAAAAAAAAAAAAAAAAAAAAAAAAAAAAAAAAAAAAAAAAAAAAAAAAAAAAAAAAAAAAAAAAAAAAAAAAAAAAAAAAAAAAAAAAAAAAAAAAAAAAAAAAAAAAAAAAAAAAAAAAAAAAAAAAAAAAAAAAAAAAAAAAAAAAAAAAAAAAAAAAAAAAAAAAAAAAAAAAAAAAAAAAAAAAAAAAAAAAAAAAAAAAAAAAAAAAAAAAAAAAAAAAAAAAAAAAAAAAAAAAAAAAAAAAAAAAAAAAAAAAAAAAAAAAAAAAAAAAAAAAAAAAAAAAAAAAAAAAAAAAAAAAAAAAAAAAAAAAAAAAAAAAAAAAAAAAAAAAAAAAAAAAAAAAAAAAAAAAAAAAAAAAAAAAAAAAAAAAAAAAAAAAAAAAAAAAAAAAAAAAAAAAAAAAAAAAAAAAAAAAAAAAAAAAAAAAAAAAAAAAAAAAAAAAAAAAAAAAAAAAAAAAAAAAAAAAAAAAAAAAAAAAAAAAAAAAAAAAAAAAAAAAAAAAAAAAAAAAAAAAAAAAAAAAAAAAAAAAAAAAAAAAAAAAAAAAAAAAAAAAAAAAAAAAAAAAAAAAAAAAAAAAAAAAAAAAAAAAAAAAAAAAAAAAAAAAAAAAAAAAAAAAAAAAAAAAAAAAAAAAAAAAAAAAAAAAAAAAAAAAAAAAAAAAAAAAAAAAAAAAAAAAAAAAAAAAAAAAAAAAAAAAAAAAAAAAAAAAAAAAAAAAAAAAAAAAAAAAAAAAAAAAAAAAAAAAAAAAAAAAAAAAAAAAAAAAAAAAAAAAAAAAAAAAAAAAAAAAAAAAAAAAAAAAAAAAAAAAAAAAAAAAAAAAAAAAAAAAAAAAAAAAAAAAAAAAAAAAAAAAAAAAAAAAAAAAAAAAAAAAAAAAAAAAAAAAAAAAAAAAAAAAAAAAAAAAAAAAAAAAAAAAAAAAAAAAAAAAAAAAAAAAAAAAAAAAAAAAAAAAAAAAAAAAAAAAAAAAAAAAAAAAAAAAAAAAAAAAAAAAAAAAAAAAAAAAAAAAAAAAAAAAAAAAAAAAAAAAAAAAAAAAAAAAAAAAAAAAAAAAAAAAAAAAAAAAAAAAAAAAAAAAAAAAAAAAAAAAAAAAAAAAAAAAAAAAAAAAAAAAAAAAAAAAAAAAAAAAAAAAAAAAAAAAAAAAAAAAAAAAAAAAAAAAAAAAAAAAAAAAAAAAAAAAAAAAAAAAAAAAAAAAAAAAAAAAAAAAAAAAAAAAAAAAAAAAAAAAAAAAAAAAAAAAAAAAAAAAAAAAAAAAAAAAAAAAAAAAAAAAAAAAAAAAAAAAAAAAAAAAAAAAAAAAAAAAAAAAAAAAAAAAAAAAAAAAAAAAAAAAAAAAAAAAAAAAAAAAAAAAAAAAAAAAAAAAAAAAAAAAAAAAAAAAAAAAAAAAAAAAAAAAAAAAAAAAAAAAAAAAAAAAAAAAAAAAAAAAAAAAAAAAAAAAAAAAAAAAAAAAAAAAAAAAAAAAAAAAAAAAAAAAAAAAAAAAAAAAAAAAAAAAAAAAAAAAAAAAAAAAAAAAAAAAAAAAAAAAAAAAAAAAAAAAAAAAAAAAAAAAAAAAAAAAAAAAAAAAAAAAAAAAAAAAAAAAAAAAAAAAAAAAAAAAAAAAAAAAAAAAAAAAAAAAAAAAAAAAAAAAAAAAAAAAAAAAAAAAAAAAAAAAAAAAAAAAAAAAAAAAAAAAAAAAAAAAAAAAAAAAAAAAAAAAAAAAAAAAAAAAAAAAAAAAAAAAAAAAAAAAAAAAAAAAAAAAAAAAAAAAAAAAAAAAAAAAAAAAAAAAAAAAAAAAAAAAAAAAAAAAAAAAAAAAAAAAAAAAAAAAAAAAAAAAAAAAAAAAAAAAAAAAAAAAAAAAAAAAAAAAAAAAAAAAAAAAAAAAAAAAAAAAAAAAAAAAAAAAAAAAAAAAAAAAAAAAAAAAAAAAAAAAAAAAAAAAAAAAAAAAAAAAAAAAAAAAAAAAAAAAAAAAAAAAAAAAAAAAAAAAAAAAAAAAAAAAAAAAAAAAAAAAAAAAAAAAAAAAAAAAAAAAAAAAAAAAAAAAAAAAAAAAAAAAAAAAAAAAAAAAAAAAAAAAAAAAAAAAAAAAAAAAAAAAAAAAAAAAAAAAAAAAAAAAAAAAAAAAAAAAAAAAAAAAAAAAAAAAAAAAAAAAAAAAAAAAAAAAAAAAAAAAAAAAAAAAAAAAAAAAAAAAAAAAAAAAAAAAAAAAAAAAAAAAAAAAAAAAAAAAAAAAAAAAAAAAAAAAAAAAAAAAAAAAAAAAAAAAAAAAAAAAAAAAAAAAAAAAAAAAAAAAAAAAAAAAAAAAAAAAAAAAAAAAAAAAAAAAAAAAAAAAAAAAAAAAAAAAAAAAAAAAAAAAAAAAAAAAAAAAAAAAAAAAAAAAAAAAAAAAAAAAAAAAAAAAAAAAAAAAAAAAAAAAAAAAAAAAAAAAAAAAAAAAAAAAAAAAAAAAAAAAAAAAAAAAAAAAAAAAAAAAAAAAAAAAAAAAAAAAAAAAAAAAAAAAAAAAAAAAAAAAAAAAAAAAAAAAAAAAAAAAAAAAAAAAAAAAAAAAAAAAAAAAAAAAAAAAAAAAAAAAAAAAAAAAAAAAAAAAAAAAAAAAAAAAAAAAAAAAAAAAAAAAAAAAAAAAAAAAAAAAAAAAAAAAAAAAAAAAAAAAAAAAAAAAAAAAAAAAAAAAAAAAAAAAAAAAAAAAAAAAAAAAAAAAAAAAAAAAAAAAAAAAAAAAAAAAAAAAAAAAAAAAAAAAAAAAAAAAAAAAAAAAAAAAAAAAAAAAAAAAAAAAAAAAAAAAAAAAAAAAAAAAAAAAAAAAAAAAAAAAAAAAAAAAAAAAAAAAAAAAAAAAAAAAAAAAAAAAAAAAAAAAAAAAAAAAAAAAAAAAAAAAAAAAAAAAAAAAAAAAAAAAAAAAAAAAAAAAAAAAAAAAAAAAAAAAAAAAAAAAAAAAAAAAAAAAAAAAAAAAAAAAAAAAAAAAAAAAAAAAAAAAAAAAAAAAAAAAAAAAAAAAAAAAAAAAAAAAAAAAAAAAAAAAAAAAAAAAAAAAAAAAAAAAAAAAAAAAAAAAAAAAAAAAAAAAAAAAAAAAAAAAAAAAAAAAAAAAAAAAAAAAAAAAAAAAAAAAAAAAAAAAAAAAAAAAAAAAAAAAAAAAAAAAAAAAAAAAAAAAAAAAAAAAAAAAAAAAAAAAAAAAAAAAAAAAAAAAAAAAAAAAAAAAAAAAAAAAAAAAAAAAAAAAAAAAAAAAAAAAAAAAAAAAAAAAAAAAAAAAAAAAAAAAAAAAAAAAAAAAAAAAAAAAAAAAAAAAAAAAAAAAAAAAAAAAAAAAAAAAAAAAAAAAAAAAAAAAAAAAAAAAAAAAAAAAAAAAAAAAAAAAAAAAAAAAAAAAAAAAAAAAAAAAAAAAAAAAAAAAAAAAAAAAAAAAAAAAAAAAAAAAAAAAAAAAAAAAAAAAAAAAAAAAAAAAAAAAAAAAAAAAAAAAAAAAAAAAAAAAAAAAAAAAAAAAAAAAAAAAAAAAAAAAAAAAAAAAAAAAAAAAAAAAAAAAAAAAAAAAAAAAAAAAAAAAAAAAAAAAAAAAAAAAAAAAAAAAAAAAAAAAAAAAAAAAAAAAAAAAAAAAAAAAAAAAAAAAAAAAAAAAAAAAAAAAAAAAAAAAAAAAAAAAAAAAAAAAAAAAAAAAAAAAAAAAAAAAAAAAAAAAAAAAAAAAAAAAAAAAAAAAAAAAAAAAAAAAAAAAAAAAAAAAAAAAAAAAAAAAAAAAAAAAAAAAAAAAAAAAAAAAAAAAAAAAAAAAAAAAAAAAAAAAAAAAAAAAAAAAAAAAAAAAAAAAAAAAAAAAAAAAAAAAAAAAAAAAAAAAAAAAAAAAAAAAAAAAAAAAAAAAAAAAAAAAAAAAAAAAAAAAAAAAAAAAAAAAAAAAAAAAAAAAAAAAAAAAAAAAAAAAAAAAAAAAAAAAAAAAAAAAAAAAAAAAAAAAAAAAAAAAAAAAAAAAAAAAAAAAAAAAAAAAAAAAAAAAAAAAAAAAAAAAAAAAAAAAAAAAAAAAAAAAAAAAAAAAAAAAAAAAAAAAAAAAAAAAAAAAAAAAAAAAAAAAAAAAAAAAAAAAAAAAAAAAAAAAAAAAAAAAAAAAAAAAAAAAAAAAAAAAAAAAAAAAAAAAAAAAAAAAAAAAAAAAAAAAAAAAAAAAAAAAAAAAAAAAAAAAAAAAAAAAAAAAAAAAAAAAAAAAAAAAAAAAAAAAAAAAAAAAAAAAAAAAAAAAAAAAAAAAAAAAAAAAAAAAAAAAAAAAAAAAAAAAAAAAAAAAAAAAAAAAAAAAAAAAAAAAAAAAAAAAAAAAAAAAAAAAAAAAAAAAAAAAAAAAAAAAAAAAAAAAAAAAAAAAAAAAAAAAAAAAAAAAAAAAAAAAAAAAAAAAAAAAAAAAAAAAAAAAAAAAAAAAAAAAAAAAAAAAAAAAAAAAAAAAAAAAAAAAAAAAAAAAAAAAAAAAAAAAAAAAAAAAAAAAAAAAAAAAAAAAAAAAAAAAAAAAAAAAAAAAAAAAAAAAAAAAAAAAAAAAAAAAAAAAAAAAAAAAAAAAAAAAAAAAAAAAAAAAAAAAAAAAAAAAAAAAAAAAAAAAAAAAAAAAAAAAAAAAAAAAAAAAAAAAAAAAAAAAAAAAAAAAAAAAAAAAAAAAAAAAAAAAAAAAAAAAAAAAAAAAAAAAAAAAAAAAAAAAAAAAAAAAAAAAAAAAAAAAAAAAAAAAAAAAAAAAAAAAAAAAAAAAAAAAAAAAAAAAAAAAAAAAAAAAAAAAAAAAAAAAAAAAAAAAAAAAAAAAAAAAAAAAAAAAAAAAAAAAAAAAAAAAAAAAAAAAAAAAAAAAAAAAAAAAAAAAAAAAAAAAAAAAAAAAAAAAAAAAAAAAAAAAAAAAAAAAAAAAAAAAAAAAAAAAAAAAAAAAAAAAAAAAAAAAAAAAAAAAAAAAAAAAAAAAAAAAAAAAAAAAAAAAAAAAAAAAAAAAAAAAAAAAAAAAAAAAAAAAAAAAAAAAAAAAAAAAAAAAAAAAAAAAAAAAAAAAAAAAAAAAAAAAAAAAAAAAAAAAAAAAAAAAAAAAAAAAAAAAAAAAAAAAAAAAAAAAAAAAAAAAAAAAAAAAAAAAAAAAAAAAAAAAAAAAAAAAAAAAAAAAAAAAAAAAAAAAAAAAAAAAAAAAAAAAAAAAAAAAAAAAAAAAAAAAAAAAAAAAAAAAAAAAAAAAAAAAAAAAAAAAAAAAAAAAAAAAAAAAAAAAAAAAAAAAAAAAAAAAAAAAAAAAAAAAAAAAAAAAAAAAAAAAAAAAAAAAAAAAAAAAAAAAAAAAAAAAAAAAAAAAAAAAAAAAAAAAAAAAAAAAAAAAAAAAAAAAAAAAAAAAAAAAAAAAAAAAAAAAAAAAAAAAAAAAAAAAAAAAAAAAAAAAAAAAAAAAAAAAAAAAAAAAAAAAAAAAAAAAAAAAAAAAAAAAAAAAAAAAAAAAAAAAAAAAAAAAAAAAAAAAAAAAAAAAAAAAAAAAAAAAAAAAAAAAAAAAAAAAAAAAAAAAAAAAAAAAAAAAAAAAAAAAAAAAAAAAAAAAAAAAAAAAAAAAAAAAAAAAAAAAAAAAAAAAAAAAAAAAAAAAAAAAAAAAAAAAAAAAAAAAAAAAAAAAAAAAAAAAAAAAAAAAAAAAAAAAAAAAAAAAAAAAAAAAAAAAAAAAAAAAAAAAAAAAAAAAAAAAAAAAAAAAAAAAAAAAAAAAAAAAAAAAAAAAAAAAAAAAAAAAAAAAAAAAAAAAAAAAAAAAAAAAAAAAAAAAAAAAAAAAAAAAAAAAAAAAAAAAAAAAAAAAAAAAAAAAAAAAAAAAAAAAAAAAAAAAAAAAAAAAAAAAAAAAAAAAAAAAAAAAAAAAAAAAAAAAAAAAAAAAAAAAAAAAAAAAAAAAAAAAAAAAAAAAAAAAAAAAAAAAAAAAAAAAAAAAAAAAAAAAAAAAAAAAAAAAAAAAAAAAAAAAAAAAAAAAAAAAAAAAAAAAAAAAAAAAAAAAAAAAAAAAAAAAAAAAAAAAAAAAAAAAAAAAAAAAAAAAAAAAAAAAAAAAAAAAAAAAAAAAAAAAAAAAAAAAAAAAAAAAAAAAAAAAAAAAAAAAAAAAAAAAAAAAAAAAAAAAAAAAAAAAAAAAAAAAAAAAAAAAAAAAAAAAAAAAAAAAAAAAAAAAAAAAAAAAAAAAAAAAAAAAAAAAAAAAAAAAAAAAAAAAAAAAAAAAAAAAAAAAAAAAAAAAAAAAAAAAAAAAAAAAAAAAAAAAAAAAAAAAAAAAAAAAAAAAAAAAAAAAAAAAAAAAAAAAAAAAAAAAAAAAAAAAAAAAAAAAAAAAAAAAAAAAAAAAAAAAAAAAAAAAAAAAAAAAAAAAAAAAAAAAAAAAAAAAAAAAAAAAAAAAAAAAAAAAAAAAAAAAAAAAAAAAAAAAAAAAAAAAAAAAAAAAAAAAAAAAAAAAAAAAAAAAAAAAAAAAAAAAAAAAAAAAAAAAAAAAAAAAAAAAAAAAAAAAAAAAAAAAAAAAAAAAAAAAAAAAAAAAAAAAAAAAAAAAAAAAAAAAAAAAAAAAAAAAAAAAAAAAAAAAAAAAAAAAAAAAAAAAAAAAAAAAAAAAAAAAAAAAAAAAAAAAAAAAAAAAAAAAAAAAAAAAAAAAAAAAAAAAAAAAAAAAAAAAAAAAAAAAAAAAAAAAAAAAAAAAAAAAAAAAAAAAAAAAAAAAAAAAAAAAAAAAAAAAAAAAAAAAAAAAAAAAAAAAAAAAAAAAAAAAAAAAAAAAAAAAAAAAAAAAAAAAAAAAAAAAAAAAAAAAAAAAAAAAAAAAAAAAAAAAAAAAAAAAAAAAAAAAAAAAAAAAAAAAAAAAAAAAAAAAAAAAAAAAAAAAAAAAAAAAAAAAAAAAAAAAAAAAAAAAAAAAAAAAAAAAAAAAAAAAAAAAAAAAAAAAAAAAAAAAAAAAAAAAAAAAAAAAAAAAAAAAAAAAAAAAAAAAAAAAAAAAAAAAAAAAAAAAAAAAAAAAAAAAAAAAAAAAAAAAAAAAAAAAAAAAAAAAAAAAAAAAAAAAAAAAAAAAAAAAAAAAAAAAAAAAAAAAAAAAAAAAAAAAAAAAAAAAAAAAAAAAAAAAAAAAAAAAAAAAAAAAAAAAAAAAAAAAAAAAAAAAAAAAAAAAAAAAAAAAAAAAAAAAAAAAAAAAAAAAAAAAAAAAAAAAAAAAAAAAAAAAAAAAAAAAAAAAAAAAAAAAAAAAAAAAAAAAAAAAAAAAAAAAAAAAAAAAAAAAAAAAAAAAAAAAAAAAAAAAAAAAAAAAAAAAAAAAAAAAAAAAAAAAAAAAAAAAAAAAAAAAAAAAAAAAAAAAAAAAAAAAAAAAAAAAAAAAAAAAAAAAAAAAAAAAAAAAAAAAAAAAAAAAAAAAAAAAAAAAAAAAAAAAAAAAAAAAAAAAAAAAAAAAAAAAAAAAAAAAAAAAAAAAAAAAAAAAAAAAAAAAAAAAAAAAAAAAAAAAAAAAAAAAAAAAAAAAAAAAAAAAAAAAAAAAAAAAAAAAAAAAAAAAAAAAAAAAAAAAAAAAAAAAAAAAAAAAAAAAAAAAAAAAAAAAAAAAAAAAAAAAAAAAAAAAAAAAAAAAAAAAAAAAAAAAAAAAAAAAAAAAAAAAAAAAAAAAAAAAAAAAAAAAAAAAAAAAAAAAAAAAAAAAAAAAAAAAAAAAAAAAAAAAAAAAAAAAAAAAAAAAAAAAAAAAAAAAAAAAAAAAAAAAAAAAAAAAAAAAAAAAAAAAAAAAAAAAAAAAAAAAAAAAAAAAAAAAAAAAAAAAAAAAAAAAAAAAAAAAAAAAAAAAAAAAAAAAAAAAAAAAAAAAAAAAAAAAAAAAAAAAAAAAAAAAAAAAAAAAAAAAAAAAAAAAAAAAAAAAAAAAAAAAAAAAAAAAAAAAAAAAAAAAAAAAAAAAAAAAAAAAAAAAAAAAAAAAAAAAAAAAAAAAAAAAAAAAAAAAAAAAAAAAAAAAAAAAAAAAAAAAAAAAAAAAAAAAAAAAAAAAAAAAAAAAAAAAAAAAAAAAAAAAAAAAAAAAAAAAAAAAAAAAAAAAAAAAAAAAAAAAAAAAAAAAAAAAAAAAAAAAAAAAAAAAAAAAAAAAAAAAAAAAAAAAAAAAAAAAAAAAAAAAAAAAAAAAAAAAAAAAAAAAAAAAAAAAAAAAAAAAAAAAAAAAAAAAAAAAAAAAAAAAAAAAAAAAAAAAAAAAAAAAAAAAAAAAAAAAAAAAAAAAAAAAAAAAAAAAAAAAAAAAAAAAAAAAAAAAAAAAAAAAAAAAAAAAAAAAAAAAAAAAAAAAAAAAAAAAAAAAAAAAAAAAAAAAAAAAAAAAAAAAAAAAAAAAAAAAAAAAAAAAAAAAAAAAAAAAAAAAAAAAAAAAAAAAAAAAAAAAAAAAAAAAAAAAAAAAAAAAAAAAAAAAAAAAAAAAAAAAAAAAAAAAAAAAAAAAAAAAAAAAAAAAAAAAAAAAAAAAAAAAAAAAAAAAAAAAAAAAAAAAAAAAAAAAAAAAAAAAAAAAAAAAAAAAAAAAAAAAAAAAAAAAAAAAAAAAAAAAAAAAAAAAAAAAAAAAAAAAAAAAAAAAAAAAAAAAAAAAAAAAAAAAAAAAAAAAAAAAAAAAAAAAAAAAAAAAAAAAAAAAAAAAAAAAAAAAAAAAAAAAAAAAAAAAAAAAAAAAAAAAAAAAAAAAAAAAAAAAAAAAAAAAAAAAAAAAAAAAAAAAAAAAAAAAAAAAAAAAAAAAAAAAAAAAAAAAAAAAAAAAAAAAAAAAAAAAAAAAAAAAAAAAAAAAAAAAAAAAAAAAAAAAAAAAAAAAAAAAAAAAAAAAAAAAAAAAAAAAAAAAAAAAAAAAAAAAAAAAAAAAAAAAAAAAAAAAAAAAAAAAAAAAAAAAAAAAAAAAAAAAAAAAAAAAAAAAAAAAAAAAAAAAAAAAAAAAAAAAAAAAAAAAAAAAAAAAAAAAAAAAAAAAAAAAAAAAAAAAAAAAAAAAAAAAAAAAAAAAAAAAAAAAAAAAAAAAAAAAAAAAAAAAAAAAAAAAAAAAAAAAAAAAAAAAAAAAAAAAAAAAAAAAAAAAAAAAAAAAAAAAAAAAAAAAAAAAAAAAAAAAAAAAAAAAAAAAAAAAAAAAAAAAAAAAAAAAAAAAAAAAAAAAAAAAAAAAAAAAAAAAAAAAAAAAAAAAAAAAAAAAAAAAAAAAAAAAAAAAAAAAAAAAAAAAAAAAAAAAAAAAAAAAAAAAAAAAAAAAAAAAAAAAAAAAAAAAAAAAAAAAAAAAAAAAAAAAAAAAAAAAAAAAAAAAAAAAAAAAAAAAAAAAAAAAAAAAAAAAAAAAAAAAAAAAAAAAAAAAAAAAAAAAAAAAAAAAAAAAAAAAAAAAAAAAAAAAAAAAAAAAAAAAAAAAAAAAAAAAAAAAAAAAAAAAAAAAAAAAAAAAAAAAAAAAAAAAAAAAAAAAAAAAAAAAAAAAAAAAAAAAAAAAAAAAAAAAAAAAAAAAAAAAAAAAAAAAAAAAAAAAAAAAAAAAAAAAAAAAAAAAAAAAAAAAAAAAAAAAAAAAAAAAAAAAAAAAAAAAAAAAAAAAAAAAAAAAAAAAAAAAAAAAAAAAAAAAAAAAAAAAAAAAAAAAAAAAAAAAAAAAAAAAAAAAAAAAAAAAAAAAAAAAAAAAAAAAAAAAAAAAAAAAAAAAAAAAAAAAAAAAAAAAAAAAAAAAAAAAAAAAAAAAAAAAAAAAAAAAAAAAAAAAAAAAAAAAAAAAAAAAAAAAAAAAAAAAAAAAAAAAAAAAAAAAAAAAAAAAAAAAAAAAAAAAAAAAAAAAAAAAAAAAAAAAAAAAAAAAAAAAAAAAAAAAAAAAAAAAAAAAAAAAAAAAAAAAAAAAAAAAAAAAAAAAAAAAAAAAAAAAAAAAAAAAAAAAAAAAAAAAAAAAAAAAAAAAAAAAAAAAAAAAAAAAAAAAAAAAAAAAAAAAAAAAAAAAAAAAAAAAAAAAAAAAAAAAAAAAAAAAAAAAAAAAAAAAAAAAAAAAAAAAAAAAAAAAAAAAAAAAAAAAAAAAAAAAAAAAAAAAAAAAAAAAAAAAAAAAAAAAAAAAAAAAAAAAAAAAAAAAAAAAAAAAAAAAAAAAAAAAAAAAAAAAAAAAAAAAAAAAAAAAAAAAAAAAAAAAAAAAAAAAAAAAAAAAAAAAAAAAAAAAAAAAAAAAAAAAAAAAAAAAAAAAAAAAAAAAAAAAAAAAAAAAAAAAAAAAAAAAAAAAAAAAAAAAAAAAAAAAAAAAAAAAAAAAAAAAAAAAAAAAAAAAAAAAAAAAAAAAAAAAAAAAAAAAAAAAAAAAAAAAAAAAAAAAAAAAAAAAAAAAAAAAAAAAAAAAAAAAAAAAAAAAAAAAAAAAAAAAAAAAAAAAAAAAAAAAAAAAAAAAAAAAAAAAAAAAAAAAAAAAAAAAAAAAAAAAAAAAAAAAAAAAAAAAAAAAAAAAAAAAAAAAAAAAAAAAAAAAAAAAAAAAAAAAAAAAAAAAAAAAAAAAAAAAAAAAAAAAAAAAAAAAAAAAAAAAAAAAAAAAAAAAAAAAAAAAAAAAAAAAAAAAAAAAAAAAAAAAAAAAAAAAAAAAAAAAAAAAAAAAAAAAAAAAAAAAAAAAAAAAAAAAAAAAAAAAAAAAAAAAAAAAAAAAAAAAAAAAAAAAAAAAAAAAAAAAAAAAAAAAAAAAAAAAAAAAAAAAAAAAAAAAAAAAAAAAAAAAAAAAAAAAAAAAAAAAAAAAAAAAAAAAAAAAAAAAAAAAAAAAAAAAAAAAAAAAAAAAAAAAAAAAAAAAAAAAAAAAAAAAAAAAAAAAAAAAAAAAAAAAAAAAAAAAAAAAAAAAAAAAAAAAAAAAAAAAAAAAAAAAAAAAAAAAAAAAAAAAAAAAAAAAAAAAAAAAAAAAAAAAAAAAAAAAAAAAAAAAAAAAAAAAAAAAAAAAAAAAAAAAAAAAAAAAAAAAAAAAAAAAAAAAAAAAAAAAAAAAAAAAAAAAAAAAAAAAAAAAAAAAAAAAAAAAAAAAAAAAAAAAAAAAAAAAAAAAAAAAAAAAAAAAAAAAAAAAAAAAAAAAAAAAAAAAAAAAAAAAAAAAAAAAAAAAAAAAAAAAAAAAAAAAAAAAAAAAAAAAAAAAAAAAAAAAAAAAAAAAAAAAAAAAAAAAAAAAAAAAAAAAAAAAAAAAAAAAAAAAAAAAAAAAAAAAAAAAAAAAAAAAAAAAAAAAAAAAAAAAAAAAAAAAAAAAAAAAAAAAAAAAAAAAAAAAAAAAAAAAAAAAAAAAAAAAAAAAAAAAAAAAAAAAAAAAAAAAAAAAAAAAAAAAAAAAAAAAAAAAAAAAAAAAAAAAAAAAAAAAAAAAAAAAAAAAAAAAAAAAAAAAAAAAAAAAAAAAAAAAAAAAAAAAAAAAAAAAAAAAAAAAAAAAAAAAAAAAAAAAAAAAAAAAAAAAAAAAAAAAAAAAAAAAAAAAAAAAAAAAAAAAAAAAAAAAAAAAAAAAAAAAAAAAAAAAAAAAAAAAAAAAAAAAAAAAAAAAAAAAAAAAAAAAAAAAAAAAAAAAAAAAAAAAAAAAAAAAAAAAAAAAAAAAAAAAAAAAAAAAAAAAAAAAAAAAAAAAAAAAAAAAAAAAAAAAAAAAAAAAAAAAAAAAAAAAAAAAAAAAAAAAAAAAAAAAAAAAAAAAAAAAAAAAAAAAAAAAAAAAAAAAAAAAAAAAAAAAAAAAAAAAAAAAAAAAAAAAAAAAAAAAAAAAAAAAAAAAAAAAAAAAAAAAAAAAAAAAAAAAAAAAAAAAAAAAAAAAAAAAAAAAAAAAAAAAAAAAAAAAAAAAAAAAAAAAAAAAAAAAAAAAAAAAAAAAAAAAAAAAAAAAAAAAAAAAAAAAAAAAAAAAAAAAAAAAAAAAAAAAAAAAAAAAAAAAAAAAAAAAAAAAAAAAAAAAAAAAAAAAAAAAAAAAAAAAAAAAAAAAAAAAAAAAAAAAAAAAAAAAAAAAAAAAAAAAAAAAAAAAAAAAAAAAAAAAAAAAAAAAAAAAAAAAAAAAAAAAAAAAAAAAAAAAAAAAAAAAAAAAAAAAAAAAAAAAAAAAAAAAAAAAAAAAAAAAAAAAAAAAAAAAAAAAAAAAAAAAAAAAAAAAAAAAAAAAAAAAAAAAAAAAAAAAAAAAAAAAAAAAAAAAAAAAAAAAAAAAAAAAAAAAAAAAAAAAAAAAAAAAAAAAAAAAAAAAAAAAAAAAAAAAAAAAAAAAAAAAAAAAAAAAAAAAAAAAAAAAAAAAAAAAAAAAAAAAAAAAAAAAAAAAAAAAAAAAAAAAAAAAAAAAAAAAAAAAAAAAAAAAAAAAAAAAAAAAAAAAAAAAAAAAAAAAAAAAAAAAAAAAAAAAAAAAAAAAAAAAAAAAAAAAAAAAAAAAAAAAAAAAAAAAAAAAAAAAAAAAAAAAAAAAAAAAAAAAAAAAAAAAAAAAAAAAAAAAAAAAAAAAAAAAAAAAAAAAAAAAAAAAAAAAAAAAAAAAAAAAAAAAAAAAAAAAAAAAAAAAAAAAAAAAAAAAAAAAAAAAAAAAAAAAAAAAAAAAAAAAAAAAAAAAAAAAAAAAAAAAAAAAAAAAAAAAAAAAAAAAAAAAAAAAAAAAAAAAAAAAAAAAAAAAAAAAAAAAAAAAAAAAAAAAAAAAAAAAAAAAAAAAAAAAAAAAAAAAAAAAAAAAAAAAAAAAAAAAAAAAAAAAAAAAAAAAAAAAAAAAAAAAAAAAAAAAAAAAAAAAAAAAAAAAAAAAAAAAAAAAAAAAAAAAAAAAAAAAAAAAAAAAAAAAAAAAAAAAAAAAAAAAAAAAAAAAAAAAAAAAAAAAAAAAAAAAAAAAAAAAAAAAAAAAAAAAAAAAAAAAAAAAAAAAAAAAAAAAAAAAAAAAAAAAAAAAAAAAAAAAAAAAAAAAAAAAAAAAAAAAAAAAAAAAAAAAAAAAAAAAAAAAAAAAAAAAAAAAAAAAAAAAAAAAAAAAAAAAAAAAAAAAAAAAAAAAAAAAAAAAAAAAAAAAAAAAAAAAAAAAAAAAAAAAAAAAAAAAAAAAAAAAAAAAAAAAAAAAAAAAAAAAAAAAAAAAAAAAAAAAAAAAAAAAAAAAAAAAAAAAAAAAAAAAAAAAAAAAAAAAAAAAAAAAAAAAAAAAAAAAAAAAAAAAAAAAAAAAAAAAAAAAAAAAAAAAAAAAAAAAAAAAAAAAAAAAAAAAAAAAAAAAAAAAAAAAAAAAAAAAAAAAAAAAAAAAAAAAAAAAAAAAAAAAAAAAAAAAAAAAAAAAAAAAAAAAAAAAAAAAAAAAAAAAAAAAAAAAAAAAAAAAAAAAAAAAAAAAAAAAAAAAAAAAAAAAAAAAAAAAAAAAAAAAAAAAAAAAAAAAAAAAAAAAAAAAAAAAAAAAAAAAAAAAAAAAAAAAAAAAAAAAAAAAAAAAAAAAAAAAAAAAAAAAAAAAAAAAAAAAAAAAAAAAAAAAAAAAAAAAAAAAAAAAAAAAAAAAAAAAAAAAAAAAAAAAAAAAAAAAAAAAAAAAAAAAAAAAAAAAAAAAAAAAAAAAAAAAAAAAAAAAAAAAAAAAAAAAAAAAAAAAAAAAAAAAAAAAAAAAAAAAAAAAAAAAAAAAAAAAAAAAAAAAAAAAAAAAAAAAAAAAAAAAAAAAAAAAAAAAAAAAAAAAAAAAAAAAAAAAAAAAAAAAAAAAAAAAAAAAAAAAAAAAAAAAAAAAAAAAAAAAAAAAAAAAAAAAAAAAAAAAAAAAAAAAAAAAAAAAAAAAAAAAAAAAAAAAAAAAAAAAAAAAAAAAAAAAAAAAAAAAAAAAAAAAAAAAAAAAAAAAAAAAAAAAAAAAAAAAAAAAAAAAAAAAAAAAAAAAAAAAAAAAAAAAAAAAAAAAAAAAAAAAAAAAAAAAAAAAAAAAAAAAAAAAAAAAAAAAAAAAAAAAAAAAAAAAAAAAAAAAAAAAAAAAAAAAAAAAAAAAAAAAAAAAAAAAAAAAAAAAAAAAAAAAAAAAAAAAAAAAAAAAAAAAAAAAAAAAAAAAAAAAAAAAAAAAAAAAAAAAAAAAAAAAAAAAAAAAAAAAAAAAAAAAAAAAAAAAAAAAAAAAAAAAAAAAAAAAAAAAAAAAAAAAAAAAAAAAAAAAAAAAAAAAAAAAAAAAAAAAAAAAAAAAAAAAAAAAAAAAAAAAAAAAAAAAAAAAAAAAAAAAAAAAAAAAAAAAAAAAAAAAAAAAAAAAAAAAAAAAAAAAAAAAAAAAAAAAAAAAAAAAAAAAAAAAAAAAAAAAAAAAAAAAAAAAAAAAAAAAAAAAAAAAAAAAAAAAAAAAAAAAAAAAAAAAAAAAAAAAAAAAAAAAAAAAAAAAAAAAAAAAAAAAAAAAAAAAAAAAAAAAAAAAAAAAAAAAAAAAAAAAAAAAAAAAAAAAAAAAAAAAAAAAAAAAAAAAAAAAAAAAAAAAAAAAAAAAAAAAAAAAAAAAAAAAAAAAAAAAAAAAAAAAAAAAAAAAAAAAAAAAAAAAAAAAAAAAAAAAAAAAAAAAAAAAAAAAAAAAAAAAAAAAAAAAAAAAAAAAAAAAAAAAAAAAAAAAAAAAAAAAAAAAAAAAAAAAAAAAAAAAAAAAAAAAAAAAAAAAAAAAAAAAAAAAAAAAAAAAAAAAAAAAAAAAAAAAAAAAAAAAAAAAAAAAAAAAAAAAAAAAAAAAAAAAAAAAAAAAAAAAAAAAAAAAAAAAAAAAAAAAAAAAAAAAAAAAAAAAAAAAAAAAAAAAAAAAAAAAAAAAAAAAAAAAAAAAAAAAAAAAAAAAAAAAAAAAAAAAAAAAAAAAAAAAAAAAAAAAAAAAAAAAAAAAAAAAAAAAAAAAAAAAAAAAAAAAAAAAAAAAAAAAAAAAAAAAAAAAAAAAAAAAAAAAAAAAAAAAAAAAAAAAAAAAAAAAAAAAAAAAAAAAAAAAAAAAAAAAAAAAAAAAAAAAAAAAAAAAAAAAAAAAAAAAAAAAAAAAAAAAAAAAAAAAAAAAAAAAAAAAAAAAAAAAAAAAAAAAAAAAAAAAAAAAAAAAAAAAAAAAAAAAAAAAAAAAAAAAAAAAAAAAAAAAAAAAAAAAAAAAAAAAAAAAAAAAAAAAAAAAAAAAAAAAAAAAAAAAAAAAAAAAAAAAAAAAAAAAAAAAAAAAAAAAAAAAAAAAAAAAAAAAAAAAAAAAAAAAAAAAAAAAAAAAAAAAAAAAAAAAAAAAAAAAAAAAAAAAAAAAAAAAAAAAAAAAAAAAAAAAAAAAAAAAAAAAAAAAAAAAAAAAAAAAAAAAAAAAAAAAAAAAAAAAAAAAAAAAAAAAAAAAAAAAAAAAAAAAAAAAAAAAAAAAAAAAAAAAAAAAAAAAAAAAAAAAAAAAAAAAAAAAAAAAAAAAAAAAAAAAAAAAAAAAAAAAAAAAAAAAAAAAAAAAAAAAAAAAAAAAAAAAAAAAAAAAAAAAAAAAAAAAAAAAAAAAAAAAAAAAAAAAAAAAAAAAAAAAAAAAAAAAAAAAAAAAAAAAAAAAAAAAAAAAAAAAAAAAAAAAAAAAAAAAAAAAAAAAAAAAAAAAAAAAAAAAAAAAAAAAAAAAAAAAAAAAAAAAAAAAAAAAAAAAAAAAAAAAAAAAAAAAAAAAAAAAAAAAAAAAAAAAAAAAAAAAAAAAAAAAAAAAAAAAAAAAAAAAAAAAAAAAAAAAAAAAAAAAAAAAAAAAAAAAAAAAAAAAAAAAAAAAAAAAAAAAAAAAAAAAAAAAAAAAAAAAAAAAAAAAAAAAAAAAAAAAAAAAAAAAAAAAAAAAAAAAAAAAAAAAAAAAAAAAAAAAAAAAAAAAAAAAAAAAAAAAAAAAAAAAAAAAAAAAAAAAAAAAAAAAAAAAAAAAAAAAAAAAAAAAAAAAAAAAAAAAAAAAAAAAAAAAAAAAAAAAAAAAAAAAAAAAAAAAAAAAAAAAAAAAAAAAAAAAAAAAAAAAAAAAAAAAAAAAAAAAAAAAAAAAAAAAAAAAAAAAAAAAAAAAAAAAAAAAAAAAAAAAAAAAAAAAAAAAAAAAAAAAAAAAAAAAAAAAAAAAAAAAAAAAAAAAAAAAAAAAAAAAAAAAAAAAAAAAAAAAAAAAAAAAAAAAAAAAAAAAAAAAAAAAAAAAAAAAAAAAAAAAAAAAAAAAAAAAAAAAAAAAAAAAAAAAAAAAAAAAAAAAAAAAAAAAAAAAAAAAAAAAAAAAAAAAAAAAAAAAAAAAAAAAAAAAAAAAAAAAAAAAAAAAAAAAAAAAAAAAAAAAAAAAAAAAAAAAAAAAAAAAAAAAAAAAAAAAAAAAAAAAAAAAAAAAAAAAAAAAAAAAAAAAAAAAAAAAAAAAAAAAAAAAAAAAAAAAAAAAAAAAAAAAAAAAAAAAAAAAAAAAAAAAAAAAAAAAAAAAAAAAAAAAAAAAAAAAAAAAAAAAAAAAAAAAAAAAAAAAAAAAAAAAAAAAAAAAAAAAAAAAAAAAAAAAAAAAAAAAAAAAAAAAAAAAAAAAAAAAAAAAAAAAAAAAAAAAAAAAAAAAAAAAAAAAAAAAAAAAAAAAAAAAAAAAAAAAAAAAAAAAAAAAAAAAAAAAAAAAAAAAAAAAAAAAAAAAAAAAAAAAAAAAAAAAAAAAAAAAAAAAAAAAAAAAAAAAAAAAAAAAAAAAAAAAAAAAAAAAAAAAAAAAAAAAAAAAAAAAAAAAAAAAAAAAAAAAAAAAAAAAAAAAAAAAAAAAAAAAAAAAAAAAAAAAAAAAAAAAAAAAAAAAAAAAAAAAAAAAAAAAAAAAAAAAAAAAAAAAAAAAAAAAAAAAAAAAAAAAAAAAAAAAAAAAAAAAAAAAAAAAAAAAAAAAAAAAAAAAAAAAAAAAAAAAAAAAAAAAAAAAAAAAAAAAAAAAAAAAAAAAAAAAAAAAAAAAAAAAAAAAAAAAAAAAAAAAAAAAAAAAAAAAAAAAAAAAAAAAAAAAAAAAAAAAAAAAAAAAAAAAAAAAAAAAAAAAAAAAAAAAAAAAAAAAAAAAAAAAAAAAAAAAAAAAAAAAAAAAAAAAAAAAAAAAAAAAAAAAAAAAAAAAAAAAAAAAAAAAAAAAAAAAAAAAAAAAAAAAAAAAAAAAAAAAAAAAAAAAAAAAAAAAAAAAAAAAAAAAAAAAAAAAAAAAAAAAAAAAAAAAAAAAAAAAAAAAAAAAAAAAAAAAAAAAAAAAAAAAAAAAAAAAAAAAAAAAAAAAAAAAAAAAAAAAAAAAAAAAAAAAAAAAAAAAAAAAAAAAAAAAAAAAAAAAAAAAAAAAAAAAAAAAAAAAAAAAAAAAAAAAAAAAAAAAAAAAAAAAAAAAAAAAAAAAAAAAAAAAAAAAAAAAAAAAAAAAAAAAAAAAAAAAAAAAAAAAAAAAAAAAAAAAAAAAAAAAAAAAAAAAAAAAAAAAAAAAAAAAAAAAAAAAAAAAAAAAAAAAAAAAAAAAAAAAAAAAAAAAAAAAAAAAAAAAAAAAAAAAAAAAAAAAAAAAAAAAAAAAAAAAAAAAAAAAAAAAAAAAAAAAAAAAAAAAAAAAAAAAAAAAAAAAAAAAAAAAAAAAAAAAAAAAAAAAAAAAAAAAAAAAAAAAAAAAAAAAAAAAAAAAAAAAAAAAAAAAAAAAAAAAAAAAAAAAAAAAAAAAAAAAAAAAAAAAAAAAAAAAAAAAAAAAAAAAAAAAAAAAAAAAAAAAAAAAAAAAAAAAAAAAAAAAAAAAAAAAAAAAAAAAAAAAAAAAAAAAAAAAAAAAAAAAAAAAAAAAAAAAAAAAAAAAAAAAAAAAAAAAAAAAAAAAAAAAAAAAAAAAAAAAAAAAAAAAAAAAAAAAAAAAAAAAAAAAAAAAAAAAAAAAAAAAAAAAAAAAAAAAAAAAAAAAAAAAAAAAAAAAAAAAAAAAAAAAAAAAAAAAAAAAAAAAAAAAAAAAAAAAAAAAAAAAAAAAAAAAAAAAAAAAAAAAAAAAAAAAAAAAAAAAAAAAAAAAAAAAAAAAAAAAAAAAAAAAAAAAAAAAAAAAAAAAAAAAAAAAAAAAAAAAAAAAAAAAAAAAAAAAAAAAAAAAAAAAAAAAAAAAAAAAAAAAAAAAAAAAAAAAAAAAAAAAAAAAAAAAAAAAAAAAAAAAAAAAAAAAAAAAAAAAAAAAAAAAAAAAAAAAAAAAAAAAAAAAAAAAAAAAAAAAAAAAAAAAAAAAAAAAAAAAAAAAAAAAAAAAAAAAAAAAAAAAAAAAAAAAAAAAAAAAAAAAAAAAAAAAAAAAAAAAAAAAAAAAAAAAAAAAAAAAAAAAAAAAAAAAAAAAAAAAAAAAAAAAAAAAAAAAAAAAAAAAAAAAAAAAAAAAAAAAAAAAAAAAAAAAAAAAAAAAAAAAAAAAAAAAAAAAAAAAAAAAAAAAAAAAAAAAAAAAAAAAAAAAAAAAAAAAAAAAAAAAAAAAAAAAAAAAAAAAAAAAAAAAAAAAAAAAAAAAAAAAAAAAAAAAAAAAAAAAAAAAAAAAAAAAAAAAAAAAAAAAAAAAAAAAAAAAAAAAAAAAAAAAAAAAAAAAAAAAAAAAAAAAAAAAAAAAAAAAAAAAAAAAAAAAAAAAAAAAAAAAAAAAAAAAAAAAAAAAAAAAAAAAAAAAAAAAAAAAAAAAAAAAAAAAAAAAAAAAAAAAAAAAAAAAAAAAAAAAAAAAAAAAAAAAAAAAAAAAAAAAAAAAAAAAAAAAAAAAAAAAAAAAAAAAAAAAAAAAAAAAAAAAAAAAAAAAAAAAAAAAAAAAAAAAAAAAAAAAAAAAAAAAAAAAAAAAAAAAAAAAAAAAAAAAAAAAAAAAAAAAAAAAAAAAAAAAAAAAAAAAAAAAAAAAAAAAAAAAAAAAAAAAAAAAAAAAAAAAAAAAAAAAAAAAAAAAAAAAAAAAAAAAAAAAAAAAAAAAAAAAAAAAAAAAAAAAAAAAAAAAAAAAAAAAAAAAAAAAAAAAAAAAAAAAAAAAAAAAAAAAAAAAAAAAAAAAAAAAAAAAAAAAAAAAAAAAAAAAAAAAAAAAAAAAAAAAAAAAAAAAAAAAAAAAAAAAAAAAAAAAAAAAAAAAAAAAAAAAAAAAAAAAAAAAAAAAAAAAAAAAAAAAAAAAAAAAAAAAAAA9//q/+r/8P/t//D/8P/w//T/8P/w//D/9P/0//T/9P/0//T/9P/0//f/+v/3/wAACQATAAkADAAQAAwAEwAgACwAJgAjACkAIwAmACAAIwAjACAAHAAcABwAGQAZABYAFgATABMAEAAQAAwADAAJAAYACQAGAAkABgAGAAYABgAGAAYABgAGAAYAAwADAAMAAwAAAAAAAAAAAP3/+v/3//T/7f/g/9D/yv/N/73/s/+j/53/o/+T/4b/ff+G/4b/g/+G/3b/dv+A/4b/iv+X/5r/p/+z/8r/3f/d/+3/9/8AABMAIwAgACwAOQBJAFkAUwBZAF0AZgB6AHMAcABwAGkAZgBjAF0AWQBTAE0ATQBGAEAAOQA2ADYAMwAsACwAJgAmACYAJgAjACkAOQBDADYAOQA9ADkAPQBJAFMARgBGAEMANgA2ACwAKQAgABYABgDw/+f/5//K/7P/qv+g/4b/c/9w/1D/Rv85/yP/Jv8W/wP/EP8J//z+AP8M/xD/Gf8p/zD/Q/9T/2b/g/+g/63/vf/k//r/CQATADkAUwBZAGYAfQCWAJMAmgCjAKAAoACjAKAAnQCWAJYAjQCGAIMAegB2AHMAbQBmAGYAYwBjAGAAZgBpAHoAkACNAJAAowC3AMMAwADQAOQA5wDkAOAA7QDwAO0A1wDNALoAowCTAHAATQAZAAYA5P+w/43/Zv8t/wn/3P6z/pL+bP5V/jj+Iv4P/gX+//0I/gz++/0Y/i/+T/5p/o/+vP72/hP/Pf99/6P/0P8AADAAUwCGAKAAwwDqAPQAGgEnASEBOgE9AUoBNwE0ASoBGgEQAQAB8ADdAMoAswCQAIYAgABwAGYAYwBZAF0AVgBdAGMAegB9AH0AgwCKAJ0AsACzALAAtwC3ALoAygDAAK0AowCQAGkASQA2ACAA+v/a/6r/hv9W/zD/Bv/T/rP+fP5i/jz+HP4C/uX91f3F/b79sv27/cv90v3V/fL9DP4v/lL+jP65/uP+Bv9D/3P/o//X/xAAMwBgAKAAswDtAAQBLQFRAVcBgQGbAZ4BvgHIAcgBzgHeAegB5AHYAeEB2wHrAeEB1AHUAdQB4QHYAcgBywHOAc4BwQG7AcQBtwGnAZcBlwGRAYEBZAFRATcBGgEEAd0AxwCaAHoATQAZAO3/zf+T/1r/MP/w/r/+jP5V/iz+8v3I/Zv9bv1L/SH9B/3n/Nf8wfyq/J38l/yU/JH8lPya/Kf8sfzR/Nr87vwe/TT9Tv1r/Zj9yP3r/SL+Sf58/qn+3/4Q/0P/gP/H//f/IwBwAKoA4AAnAV4BngHkARsCXgKVAtICDANMA3kDrAPjAwoEOgRdBIAEmgS3BMEE1wTaBN4E3gTRBMEEqgSQBGoEQwQWBPADoANmAyYD3wKbAksCBQK0AWEBAAGmAFAA9P+g/0b/7P6S/i/+2/2F/TT95/yR/Ef89vu9+3P7Nvv1+sX6lfpv+kL6IvoL+vX55Pnb+d753vnu+QH6GPo4+l/6j/q8+vn6Q/t8+7n7Cvxn/Mf8J/2B/dL9Qv6f/gD/Zv/N/yMAgADkADQBmwHeAT4CewLMAgUDTAODA7kD6QMTBDcEWgR3BJAEqgS3BMcE1ATeBNoE3gTaBNQE0QTBBLQEoQSXBH0EZwRHBCoEDQTZA80DlgNfAz8DFgPpAqICdQI1Av4BwQGHAU0BFAHXAJAARgAWAO3/s/92/z3/Fv/s/q/+if5l/kz+KP77/eL90v3F/aj9mP1x/XX9aP1b/Uv9NP0r/Sv9FP0E/ff87vzU/Mf8uvya/Jr8gPxw/GD8SvxH/DD8MPwg/B38E/wX/Br8Hfwq/C38R/xX/HT8lPy0/N78C/0k/V79m/3O/Qz+Qv6G/rz+/P42/4r/zf/9/zAAegC3APQAHQFnAZcBvgH7ASsCUgJ/ArICyAL5AiIDPwNsA4wDqQPQA+kDEwQnBE0EagSEBKQEtwTRBOQEAQUHBR4FJwUxBTsFNwU0BS4FGwULBe4E1AStBIcEVwQgBPADqQNZAxYDyAJ7AisC1AGHASQBygBjABYAsP9a/wP/nP5J/vX9nv1R/ff8uvxt/C385vuw+3P7SfsZ++n6wvqY+n/6X/pI+jL6HvoR+gX6AfoF+v75CPoO+iL6LvpC+mL6ePqf+sz68vom+1b7k/vN+yD8V/yX/OT8O/2R/e/9Wf6f/gD/Xf/H/xAAcwDXACoBkQHkATsClQLiAjIDeQPGAwAEQAR3BKQE2gT0BB4FNwVRBVsFdQVxBXgFcQVxBWEFVAU+BTEFEQX6BN4EugSkBGcEUAQwBPYD0AOsA4MDQgMZA+ICvAKVAlsCIQLxAbEBgQFHARAB2gCjAGkAIADn/7D/gP89//z+v/6P/k/+Ev7l/aX9e/1I/RT98fy3/J38dPxQ/Df8F/wK/O374/vT+9P7yfvJ+9P70/vd+/P7+vsX/DP8M/xq/ID8rfy6/Or8Dv1B/WH9mP2+/fL9H/5M/nn+ov7W/vz+Lf9W/4P/sP/w/xMANgBZAIYArQDkAAABHQE9AWQBhwGhAasB0QHrAQECAQIVAisCOwI+AjUCPgI1AkgCSwI+AjUCKAIbAhECAQLuAeQBywG+AacBlwGBAXEBWgFKATQBJAEQAf0A7QDdAMoAvQCqAKAAkACKAH0AdgBpAGkAXQBjAG0AcABmAGYAaQBzAIYAfQB9AIMAkACWAJAAlgCjAKMAoACWAKMAowCjAI0AjQCAAHMAcwBwAGkATQBJADMAKQAWAAMA9//n/9f/w/+j/4b/ff9w/1r/Tf89/y3/E//w/uP+2f7G/qz+kv5//nn+Uv5F/jL+H/77/e/92P27/bL9jv2L/Wv9Xv1R/TT9Lv0U/Rf9C/0E/QT9BP0H/Qv9G/0e/TT9Qf1U/Xj9iP2i/dv99f0s/kz+df6P/s/+EP9G/3b/oP/U/wMAMwBzAK0A3QAKAVEBfgGkAeQBEQJCAm8CnwK8AvkCBQNCA1YDiQOmA8YD6QP9AyAEMwRNBGQEdASABJAEpASqBLcEugTEBMEEvQS3BLcEpASaBIAEcARXBDoEHQT2A8kDnANvAzID+QLSAogCPgL+AbcBbgEhAdMAgwAmAOD/mv89/+n+nP5C/vX9pf1O/QT9t/x0/CP83fug+1n7Ivvf+q/6dfpF+hj66/nB+aT5hPlq+U75Pfkx+Sf5HfkX+SH5JPk3+UT5Yflx+Zf5u/nr+Rj6TvqL+sn6D/tZ+6n79vtk/Lf8G/1+/d/9Sf6v/jD/nf8JAH0A7QBhAdgBQgK8AiYDlgP6A2AEygQXBXgFvgUVBlkGnwbWBgwHQAdjB4YHoAewB70HwwfDB70HsweaB4MHYAc9BxMH3wavBmwGOAb1BagFZAUbBbEEagQDBLMDVgP1Ap8COwLoAXoBFwGqAFMA8P+D/y3/xv5l/gz+pf1O/fT8qvxQ/AP8vfts+zL77/rF+oj6Yvoy+hX6+Pnh+dT5yPnE+b75yPnY+ej5BfoY+kL6X/qP+rj69fov+1P7mfvZ+yP8YPyt/O78NP1+/b79Ev5c/rn++f45/4r/2v8ZAF0ApgDwACQBdwGuAesBMgJiAqIC0gIPAz8DZgOcA8AD6QMKBC0ERwRdBHoEigSaBJ0EqgSnBK0EnQShBIoEgARnBFMEMwQWBAAEwwOjA3YDWQMpA+UCvAJ7AkgCDgLYAZsBYQEkAeAAlgBmADMA+v/H/4D/UP8j/9/+rP6C/kz+GP71/cj9lf17/U79JP0O/eH8xPyt/JH8gPxd/Ff8Ovw3/Cr8IPwa/BP8GvwQ/CP8Hfwz/D38V/xa/If8lPyn/OT89/wk/TT9bv2Y/cv9+P0v/lz+kv6//vn+I/9g/53/2v/6/ykAXQCQAM0A6gAUAUcBcQGOAasB3gH7AQsCKwJOAl4CaAKIApUCogKoAsUCwgK/As8C2QLMAswC1QLSAsICuAK8ArgCogKLAogCggJ1AlgCQgIyAg4CBQL0AeEBuwGhAYEBZAFKAScBDQHnANAArQCTAHMAWQA9ABkA9P/X/8r/sP+a/43/c/9m/1P/Rv82/yn/IP8M//b+4/7m/tn+0/7M/sb+w/68/rn+s/6z/qn+lv6P/pL+kv6S/pb+jP6G/nn+gv6G/oL+jP5//nz+gv6P/pL+nP6S/o/+ov6v/rb+xv7M/sn+z/7m/vb+A/8W/yP/Of9D/1r/av96/43/mv+w/73/0P/d//D//f8MABkAKQA2AEYAVgBmAHMAgwCQAK0AwwDNANcA5wDtAP0AEAEqATEBLQFBAUcBXgFnAWQBZwFxAYEBhwGBAXoBgQGBAZEBgQF3AW4BYQFeAWEBVwFBATQBJwEQAQAB8ADdAMoAswCjAIoAegBmAFMAQAAsABYAAwDt/83/uv+w/53/kP+D/3P/av9W/z3/Lf8p/yD/Gf8Z/wz/Bv/z/un+7P7s/un+7P7p/uz+8P7m/tz+2f7p/ub+8/72/vz+A/8J/xP/Gf8m/yn/Kf8j/y3/QP9G/1P/Y/9t/3r/iv+X/6D/rf+6/8r/1P/d/+r/+v8MACYAKQAsADYAOQBJAE0AUwBWAFYAYABgAGYAZgBtAGkAbQBwAHMAcwBzAHMAdgB2AHYAdgB6AHYAfQCNAJ0AkwCTAJYAkwCWAJYAlgCWAJoAoACtALMApgCqAKoAowCjAJ0AmgCWAJoApgCmAJYAkACQAIAAfQBwAGkAYABWAE0AQwA5ADAAJgAcABMACQADAPr/8P/n/93/1P/K/8D/t/+t/6P/iv9w/3P/bf9g/2P/Vv9T/1D/Sf9D/zD/IP8j/yb/IP8m/yP/Jv8g/xD/DP8Z/xz/HP8p/yn/M/8t/yn/MP9A/0b/U/9d/2b/c/96/4r/k/+j/6r/t//D/83/2v/k/+3/9/8AAAYAEwAcACYAMAA2AEAASQBZAHMAgwCDAIoAkACQAJ0AnQCwAMMAxwDDAMoAygDHAM0A0wDnAOQA4ADgANoA0wDQAM0A1wDgANoAzQDKAMAAswCtAKAAnQCQAIYAfQBzAGYAXQBQAEMAOQAsACAAGQAJAAAA9//w/+D/yv+w/6f/oP+Q/4r/g/9z/2D/Sf9N/0b/QP9A/zP/Jv8T/xb/IP8Z/yD/HP8g/yP/Fv8M/xn/I/8j/zP/Of9D/03/U/9g/2r/dv+A/5D/nf+n/7D/wP/U/+3/AwADABAAIAAjADYAOQBGAF0AcwCAAH0AigCNAJMAnQCmALoAwAC9AMAAwAC9AL0AvQC9AMMA0ADNAMAAvQCzAK0AowCaAJMAhgB9AHAAZgBZAE0AQAAjAAkAAwAAAPT/7f/g/9f/0P+6/6f/jf+N/4b/ev96/3D/Zv9Q/0D/Sf9A/0P/Rv9D/0b/Q/82/y3/Nv89/0P/U/9W/13/Y/9q/3b/gP+N/5f/o/+w/7r/w//Q/93/9P8MABwAHAAsADMAOQBJAEkAWQBpAIMAigCGAJAAkACTAJYAmgCmALMAvQCzALAAsACqAKoAowCgAJYAkwCKAIMAgAB2AG0AZgBgAFYATQBJAD0AMwAsACYAGQATAAkAAwAAAAAA9P/w/+r/4P/a/83/uv+3/7r/sP+w/7D/rf+t/63/rf+t/63/rf+t/63/sP+w/7P/s/+3/7f/uv/A/73/w//H/8r/yv/K/9D/1P/X/9T/2v/d/+D/5P/n/+T/6v/t//D/8P/w//T/9//3//r/+v/9/wAAAAAAAAAAAAAAAAAAAAAAAAMAAwAGAAYAAwAGAAYABgAGAAYABgAGAAYAAwADAAAAAwAAAAAAAAAAAAAAAAAAAAAAAAD9//3//f/6//r/+v/6//r//f/3/+3/3f/d/+f/5P/w/+r/8P8DAP3//f8AAP3/AAAAAAAAAAAAAAAAAAADAAMABgAGAAkADAAMAAkADAAQABAAEAATABMAFgAWABYAFgATABYAGQAWABYAFgAWACAAMAAwACYAKQAjACAAIAAZABkAEwAWABAADAAMAAYABgAAAAMAAAAAAPf/5P/X/+T/3f/d/93/2v/d/9f/1//X/9f/1//U/9f/1P/X/9T/1//X/9f/1//a/93/3f/d/93/3f/g/+D/5P/k/+f/5//n/+f/6v/t/+3/8P/t//D/8P/w//T/8P/g/93/5P/n/+D/6v/q/+3/7f/w//T/9//6//3/AAADAAkAEAAgABYAGQAgABYAIwAcACAAHAAcABwAHAAcABwAIAAZABwAGQAZABYAEwAWABMAEwAQABAAEAAQABAADAAMAAkACQAJAAkABgAGAAYABgADAAMAAwADAAAAAAAAAAAAAAAAAAAAAAAAAAAA/f/9/wAA/f/6//r/+v/6//r/9//3//f/9//3//f/9//3//f/9//3//f/9//6//f/+v/6//r/+v/9//r//f/9//3//f/9//3//f/9//3//f/9//3//f/9//3//f/9//3//f/9//3//f/9//3//f/9//3//f/9//3//f/9//3//f/9//3//f/9//3//f/9//3//f/9//3//f/9/wAA/f8AAAAAAAAAAAAAAAAAAAAAAAAAAAAAAAAAAAAAAAAAAAAAAAAAAAAAAAAAAAAAAAAAAAAAAAAAAAAAAAAAAAAAAAAAAAAAAAAAAAAAAAAAAAAAAAAAAAAAAAAAAAAAAAAAAAAAAAAAAAAAAAAAAAAAAAAAAAAAAAAAAAAAAAAAAAAAAAAAAAAAAAAAAAAAAAAAAAAAAAAAAAAAAAAAAAAAAAAAAAAAAAAAAAAAAAAAAAAAAAAAAAAAAAAAAAAAAAAAAAAAAAAAAAAAAAAAAAAAAAAAAAAAAAAAAAAAAAAAAAAAAAAAAAAAAAAAAAAAAAAAAAAAAAAAAAAAAAAAAAAAAAAAAAAAAAAAAAAAAAAAAAAAAAAAAAAAAAAAAAAAAAAAAAAAAAAAAAAAAAAAAAAAAAAAAAAAAAAAAAAAAAAAAAAAAAAAAAAAAAAAAAAAAAAAAAAAAAAAAAAAAAAAAAAAAAAAAAAAAAAAAAAAAAAAAAAAAAAAAAAAAAAAAAAAAAAAAAAAAAAAAAAAAAAAAAAAAAAAAAAAAAAAAAAAAAAAAAAAAAAAAAAAAAAAAAAAAAAAAAAAAAAAAAAAAAAAAAAAAAAAAAAAAAAAAAAAAAAAAAAAAAAAAAAAAAAAAAAAAAAAAAAAAAAAAAAAAAAAAAAAAAAAAAAAAAAAAAAAAAAAAAAAAAAAAAAAAAAAAAAAAAAAAAAAAAAAAAAAAAAAAAAAAAAAAAAAAAAAAAAAAAAAAAAAAAAAAAAAAAAAAAAAAAAAAAAAAAAAAAAAAAAAAAAAAAAAAAAAAAAAAAAAAAAAAAAAAAAAAAAAAAAAAAAA/f/6/+r/7f8AAAMA/f8AAAAAAAAAAAAAAAAAAAAAAAAAAAAAAAAAAAAAAAAAAAAAAAAAAAAAAAAAAAAAAAAAAAAAAAAAAAAAAAAAAAAAAAAAAAAAAAAAAAYAFgAWABAAEAAQABAAEAAMAAwABgAAAPT/9P/3/+3/4P/a/+T/4P/k//D/+v8AAPr/AwAMABMAEAAMABYADAAMAAwAEAADAPr/8P/3//T/5P/d/93/5//g/+r/8P8AAAAAAAAAAAAAAAAAAAAAAAAAAAAAAAAAAAAAAAAAAAAAAAAAAAAAAAAAAAAAAAAAAAAAAAD9/+3/6v/w//D/8P/w//D/9P/w//T//f8DAAwADAAcACkAIAAjACYAIAAmABYACQD9//D/1//H/73/sP+q/63/t//A/+T/8P8MACkARgBjAHMAgwCQAI0AfQBwAEYAMAAQAOT/x/+g/4r/ff99/4P/hv+g/8D/8P8JADYAYwB9AKAApgCqAJoAkABzAEkAHAD0/83/o/+K/23/cP9z/33/kP+n/8P/7f8JACAAQABGAEMASQA5ADMAIAAGAPD/zf/N/7r/p/+j/7D/t//K/+D//f8MABAAFgAZABAADAADAPT/1P+9/7r/qv+a/5D/oP/D/93/8P8DACwASQBTAHAAgAB6AGMATQAgABAA7f+9/6f/g/9w/3r/dv+G/53/vf/w/xYAPQBpAIoAoACwALMAsACAAGMANgAQAOD/uv+d/33/dv9g/43/oP/H/+3/EwBGAGYAmgCdAKYAnQCTAHoAWQAwAP3/2v+w/5f/g/9w/33/mv+6/+3/AwA5AGMAfQCaAJ0AsACNAGAANgAJAN3/nf92/1D/Nv8w/zn/Vv9q/5f/wP8DACkAWQB2AI0AlgCDAGMAMwAAANr/l/9t/zP/Gf8W/xb/Lf9A/3D/kP/U/wMAJgBQAHAAaQBmAFkANgAZAOf/zf+q/4b/bf92/3r/jf+z/+D/DAAsAFAAgACKAIoAgwBtAEkAGQD9/93/qv+a/5r/mv+9/+D/EABDAIYAvQD3ABQBJwEtAQQB4ACaAFkACQC9/3r/Nv8j/xb/Kf9G/5D/5/85AKYACgFhAZ4BxAHEAaQBVAHwAIAA+v9z/+n+fP4s/vL97/0M/lz+xv5T//D/jQAqAacBEQJOAkUCGAK+AS0BcwDA//P+Nf6O/Qf9wfyn/N78O/3i/Zn+gP9dAEEBCAKlAgwDPAMcA7wCKwJhAXMAdv+J/rL99Px3/Ef8Tfyh/DT9Av72/vf/+gD4AcwCXwPGA9ADnAMmA3gCiwGQAIr/jP6e/e78evxH/HD8zvx7/VX+Vv9gAGoBaAIfA7MD8wPzA7MDHwNYAnoBfQCQ/6n+4v1Y/QH98fwX/Yv9Iv7T/qf/dgA3AeQBaALCAt8C3AKLAhgCjgHnADkAjf/w/mL+//27/aX9rv3o/UX+rP4m/53/AwBmAK0A3QDnAMoAjQA9AN3/ev8T/7b+cv5F/jz+TP5//sz+Gf9q/63/3f/w/+r/uv9t/xb/rP5S/gj+5f3Y/Q/+af7s/or/JgDNAFoBwQH4AQUCywFeAdAAMACQ/wP/kv5M/jL+Wf68/jD/w/9jAAABiwEOAmgCmwK4Ar8CqAKVAm8CQgIRAsQBdwENAaAAHACq/y3/0/6m/pz+4/5J//r/wwDBAa8CkwM6BIoEhwQTBEIDAQKWAPz+e/0d/B/7i/py+t/6vfva/CX+Zv9dACQBZAExAZYAnf9l/hT98Pvv+lv6Dvoi+pX6LPvm+538SP2u/fL9+P3i/bX9df1I/S79Lv07/Wv9kf24/cX9xf2e/XH9RP0x/Tv9jv0s/hn/TQDUAYADSwXzBmEIhQkpClwK/wklCecHWQahBOICWgEcAF3/Fv9T/yMAXgH1As4EtgZ6CPwJDQudC6oLHQsJCosI1gbuBBkDcQETAAn/fP5P/mn+5v6D/zMA2gBeAbcB3gHBAXoBIQGdAAMAZv+z/vv9Qf2H/MD7/Po1+ov5CvnA+Lr4+viL+Vj6X/tt/Hj9X/7z/jD/EP+z/gj+SP2h/Cr89vsj/LH8iP2G/oP/OQCKAGAArf95/tf8//oq+Y/3W/bB9bT1PvYo92r4y/lG+8T8P/7w/9EBMAQTB3wKQw4AElMVche/F7MVvBDBCPj98/CJ4iLUIMcmvXi3B7dJvCbH69Y96nr/nBShJ7s2nkCFRHZC4jrULrkfRA8T/6Lw3uRt3GXXWdXQ1RzYotvp367k6enI77X2+f7ECOsT2h+7K1s2kj46Q2dDlj7WNMkmuhVfA73xxuL/143SF9NT2ZHke/MWBGwUliIjLegylTNrLx0nzBv3DisCBfeR7qnpaOiz6gLwhvdJAFgJ0BHgGAUe9yDYIeEgaB6+Gk4WbxGIDOoHwAMWANr8AfqM93314vOx8vDxo/HN8Yvy/PMu9u34EPxm/6gCpQX9B5IJDAoyCQkHlgMt/w76oPQr7ynq8uXp4nHhgeEj4wzm0+kg7qvy8vaS+g79+P1l/Wn7bfjq9EbxE+7O6x3rf+zv7x31g/sRAs0Hpwu+DHYKTQQ1+qjs99z7zLi+zrOOrQStwLKovujPFeUj/L0SdiaHNeY+XEIXQIo4cixhHVUNaf738ajo1uJT4OrgGuRy6XzwbfgmAN8GfgyzETsX5xx/Io0nSywjMRQ2zDqSPoFAoD9JO18zdSgyG8QLdfoR6KTWp8jsv0O9ncDlybDY9es1AmQZQS9YQTpNbVExTptE9zVDI8YNr/fK45nUYMtByOnKitII3u7ruPpVCWEWYCAfJoonySUlIiQdBRcbEGgJ/QNTADj+VP1r/Qj+pv4G/1r/yv8cAPT/HP8P/o790v2J/ib/nf8jAKAAAAHkACkAov4z/B359/UF82Xw5u236ynqvOmK6kXsoe5G8Qn02Pbb+f78ff+WAN3/u/0S+034KvWD8QDuseuE67ntF/JT+Gb/mwWFCZAKFQl0BA/72Oug2A7FRbS5p7Kfk53+onGwmsSU3dj5GBc9Md5D2k0tUb9Pn0jbObsk3w1L+lfrwN9e10vTyNMb17bbWOIY7C/3s/8jBMMH5A53GVojbCkcLccx5jcUPWY/hz+GPlw7szTRK/cjoR2gFeQI4Phj6ubff9dAzhfFD8DOwaXJ49Vj5kb7hBJlKJ86ZknAVO9ZmFWIR9Uz3x78Ca30MODoz8bG1MRxyLzQit1v7XX9ZAtCF8UhDCrWLW8swSdpIs0cChYDDmIGigBN/PD4vvaY9hn4u/ly+l/7vv3XANkCKQM2A0MEcQVOBQoETAMSA4EBZf1g+FD1OfSE8sfuZOs6673tvu8v8PnwuPNx9if2HPRp9J34yvz7/Oz66vtuASwGOwXq/4n7gfn79Rfv++ib6ELs3e0r7P/sHPT9+/n6Qe8O4V7XYc/Mwu2y56iyqoK0icBb0JbpLwr2JvY3BUF3SvxSFlCkPHshWgu3/LPt4tqQy43HB8z7z4PRqNdM5hH2e/0y/lMDVhHTH/Ek2SJRJHYtrjYWOI00eTQUOTk7lTYvMCoumS2VJbgT5P8j8evkONRfv8Cv5KzytNTBoNJU6yEMLS4dStZeaG7tdolyXV9aQzwmbwoA7vnRmbwds460hrwOyS/bvfGGB/kXiiMCLRI00zTJLd8iRxmJEasIP/7R9TrysPG88JXvKvJk+cAA1gMtBJIGewxfEYMR2g7sDUEPFA+HC5MHQga1BZ4BFfpP9LXzGvVO833uzuv97dDx/vLK8ZDxBfN/88DxcvAk8uP0OvW182n08PiI/Zb+Af2X/Jv92vwX+VT1D/SV84bxzu+08o75OP7X/C35I/gv94TuWdyeyEW707J+qcmgvaGUsGjG69rf7wsMLy0ARv1NAky4S0VMeEHWJncInPRN6tjdCsxivzDAmsflyefHYs1b3jvvAPWk9RwAcRYQKugvMS8uNmZFqU8WTQ1GTEWPSB9F9zgDLp0qUCdDGYgCW+/u5Ojal8gXs6+nvas1uO7FZdfB8hcWtjdqUfZktHQlfIR0sF7BQ5Mq0xGn9bbYf8Mou+28zMI6y0zYGeo9/FkKWRSqHDkj+ySnIH0ZXBRNEu4PqQq6BH8CmgQQB9YGZAUfBuQI1Qn2BlYDCQNIBYEFNQJT/+AANwU2B1gFRgPDA1oEYQGT+3n3rvbE9X3x3usi6XLp6+io5QLilODK4NrgteG/5SvsjfEw9Sj6JQKPCb0LhQnNB40H/QOl+m/wROtf6cHkId6e3UPnOPPZ9+/2NfqiAmoEuPa14QjU986Zxiq2v6ozso3Hmtmt4+vychAlMMk+lzxzO0hEY0m5OoIeWAn4AbT57eNCygi/NsN/xsDAGr4+zOvk9/X1+mUC7haXLiQ5HDcwOGVESlFlUoVLA0qzUDpUP0wZP4U2ZTD7IWQIQ+3d2BTIBLSyn1mWQ51WrjHCeNpD/HQkS0jCYGpwN3tvfZBwGFb2NwEdAgPy5ajJeLdRs4G3Rr0XxT7T4+Zx+TUGUQ9GGFYfHSAIGy0WzRXIFqITAg0VCVMLBw8QDq4IhARdBGQEJgB++UH27PdI+pf5sPiR/IoEmQoGC9sI+AiJCkEIWQB195vysvA27a3nlOR25pzpSOl85lzmJuq87EPqVubH5+TupvR89OTyMvfTAHoHdQYsA8cEQwqECyQFS/2F+r/6iPZf7bTnpOtp9L347Pco+qADTgwRCfH5yemT3+PVlMRKr+6i9KW7sJa5FcOv1+f4vhk6LoE5cUcUWdxg8FN+OZ4h6RAH/ZLe6L7IrdKtyrJVtPO49soK54L+Pwr0EhkjBTe1QZA/FzwTQjNN01BUSsVELEkkUZxPGULeMl8pLx9oCZHoi8kTthmrFqEDmmmgablH3RAA4h5yPk1feHj/f3Z2HGUIUp86CBtJ9xPZ68Ueu3u04LJKuhLKstuQ6lD4FAhbF6Yfzx7vGssauB1RHZUXKhLqEuIXMRr1Ft0RnQ4qC7kD8PgL8JTryOje5Hnib+af8LP70AMGCw==\" type=\"audio/wav\" />\n",
              "                    Your browser does not support the audio element.\n",
              "                </audio>\n",
              "              "
            ]
          },
          "metadata": {}
        },
        {
          "output_type": "stream",
          "name": "stdout",
          "text": [
            "Label: tf.Tensor(7, shape=(), dtype=int64)\n",
            "Waveform shape: (16000,)\n",
            "Spectrogram shape: (124, 129, 1)\n",
            "Audio playback\n"
          ]
        },
        {
          "output_type": "display_data",
          "data": {
            "text/plain": [
              "<IPython.lib.display.Audio object>"
            ],
            "text/html": [
              "\n",
              "                <audio  controls=\"controls\" >\n",
              "                    <source src=\"data:audio/wav;base64,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\" type=\"audio/wav\" />\n",
              "                    Your browser does not support the audio element.\n",
              "                </audio>\n",
              "              "
            ]
          },
          "metadata": {}
        }
      ],
      "source": [
        "for i in range(3):\n",
        "  label_sample = label[i]\n",
        "  waveform = audio[i]\n",
        "  spectrogram = get_spectrogram(waveform)\n",
        "\n",
        "  print('Label:', label_sample)\n",
        "  print('Waveform shape:', waveform.shape)\n",
        "  print('Spectrogram shape:', spectrogram.shape)\n",
        "  print('Audio playback')\n",
        "  display.display(display.Audio(waveform, rate=16000))"
      ]
    },
    {
      "cell_type": "code",
      "execution_count": null,
      "metadata": {
        "id": "kN-wfeNgZVSu"
      },
      "outputs": [],
      "source": [
        "# Now, create spectrogramn datasets from the audio datasets\n",
        "def make_spec_ds(ds):\n",
        "  return ds.map(\n",
        "      map_func=lambda audio,label: (get_spectrogram(audio), label),\n",
        "      num_parallel_calls=tf.data.AUTOTUNE)\n",
        "\n",
        "\n",
        "train_spectrogram_ds = make_spec_ds(train_ds)\n",
        "val_spectrogram_ds = make_spec_ds(val_ds)\n",
        "test_spectrogram_ds = make_spec_ds(test_ds)"
      ]
    },
    {
      "cell_type": "code",
      "execution_count": null,
      "metadata": {
        "id": "UVsKx4w8ZnTF"
      },
      "outputs": [],
      "source": [
        "for example_spectrograms, example_spect_labels in train_spectrogram_ds.take(1):\n",
        "  break"
      ]
    },
    {
      "cell_type": "code",
      "execution_count": null,
      "metadata": {
        "colab": {
          "base_uri": "https://localhost:8080/"
        },
        "id": "HeivuVgPZcCc",
        "outputId": "b7b17bd9-3b3c-4805-c260-b793504f62c3"
      },
      "outputs": [
        {
          "output_type": "stream",
          "name": "stdout",
          "text": [
            "Input shape: (124, 129, 1)\n",
            "Model: \"sequential\"\n",
            "_________________________________________________________________\n",
            " Layer (type)                Output Shape              Param #   \n",
            "=================================================================\n",
            " resizing (Resizing)         (None, 32, 32, 1)         0         \n",
            "                                                                 \n",
            " normalization (Normalizati  (None, 32, 32, 1)         3         \n",
            " on)                                                             \n",
            "                                                                 \n",
            " conv2d (Conv2D)             (None, 30, 30, 32)        320       \n",
            "                                                                 \n",
            " conv2d_1 (Conv2D)           (None, 28, 28, 64)        18496     \n",
            "                                                                 \n",
            " max_pooling2d (MaxPooling2  (None, 14, 14, 64)        0         \n",
            " D)                                                              \n",
            "                                                                 \n",
            " dropout (Dropout)           (None, 14, 14, 64)        0         \n",
            "                                                                 \n",
            " flatten (Flatten)           (None, 12544)             0         \n",
            "                                                                 \n",
            " dense (Dense)               (None, 128)               1605760   \n",
            "                                                                 \n",
            " dropout_1 (Dropout)         (None, 128)               0         \n",
            "                                                                 \n",
            " dense_1 (Dense)             (None, 12)                1548      \n",
            "                                                                 \n",
            "=================================================================\n",
            "Total params: 1626127 (6.20 MB)\n",
            "Trainable params: 1626124 (6.20 MB)\n",
            "Non-trainable params: 3 (16.00 Byte)\n",
            "_________________________________________________________________\n"
          ]
        }
      ],
      "source": [
        "input_shape = example_spectrograms.shape[1:]\n",
        "print('Input shape:', input_shape)\n",
        "num_labels = len(class_names)\n",
        "\n",
        "# Instantiate the `tf.keras.layers.Normalization` layer.\n",
        "norm_layer = layers.Normalization()\n",
        "# Fit the state of the layer to the spectrograms\n",
        "# with `Normalization.adapt`.\n",
        "norm_layer.adapt(data=train_spectrogram_ds.map(map_func=lambda spec, label: spec))\n",
        "\n",
        "model = models.Sequential([\n",
        "    layers.Input(shape=input_shape),\n",
        "    # Downsample the input.\n",
        "    layers.Resizing(32, 32),\n",
        "    # Normalize.\n",
        "    norm_layer,\n",
        "    layers.Conv2D(32, 3, activation='relu'),\n",
        "    layers.Conv2D(64, 3, activation='relu'),\n",
        "    layers.MaxPooling2D(),\n",
        "    layers.Dropout(0.25),\n",
        "    layers.Flatten(),\n",
        "    layers.Dense(128, activation='relu'),\n",
        "    layers.Dropout(0.5),\n",
        "    layers.Dense(num_labels),\n",
        "])\n",
        "\n",
        "\n",
        "model.summary()"
      ]
    },
    {
      "cell_type": "code",
      "execution_count": null,
      "metadata": {
        "colab": {
          "base_uri": "https://localhost:8080/"
        },
        "id": "YON-irC0XWXr",
        "outputId": "22254f6e-ed71-496d-95cd-cc83e43f7646"
      },
      "outputs": [
        {
          "output_type": "execute_result",
          "data": {
            "text/plain": [
              "12"
            ]
          },
          "metadata": {},
          "execution_count": 27
        }
      ],
      "source": [
        "num_labels"
      ]
    },
    {
      "cell_type": "code",
      "execution_count": null,
      "metadata": {
        "id": "Clsf-1nUZhzq"
      },
      "outputs": [],
      "source": [
        "model.compile(\n",
        "    optimizer=tf.keras.optimizers.Adam(),\n",
        "    loss=tf.keras.losses.SparseCategoricalCrossentropy(from_logits=True),\n",
        "    metrics=['accuracy'],\n",
        ")"
      ]
    },
    {
      "cell_type": "code",
      "execution_count": null,
      "metadata": {
        "colab": {
          "base_uri": "https://localhost:8080/"
        },
        "id": "17iS7mE_afWQ",
        "outputId": "b56b0864-8cef-4b09-bab5-aa99d14eb511"
      },
      "outputs": [
        {
          "output_type": "stream",
          "name": "stdout",
          "text": [
            "Epoch 1/15\n",
            "2673/2673 [==============================] - 146s 49ms/step - loss: 0.9503 - accuracy: 0.7107 - val_loss: 1.0879 - val_accuracy: 0.5869\n",
            "Epoch 2/15\n",
            "2673/2673 [==============================] - 137s 51ms/step - loss: 0.6108 - accuracy: 0.7998 - val_loss: 0.8591 - val_accuracy: 0.6973\n",
            "Epoch 3/15\n",
            "2673/2673 [==============================] - 150s 55ms/step - loss: 0.5034 - accuracy: 0.8353 - val_loss: 0.7358 - val_accuracy: 0.7528\n",
            "Epoch 4/15\n",
            "2673/2673 [==============================] - 133s 49ms/step - loss: 0.4413 - accuracy: 0.8550 - val_loss: 0.7600 - val_accuracy: 0.7550\n",
            "Epoch 5/15\n",
            "2673/2673 [==============================] - 134s 49ms/step - loss: 0.3958 - accuracy: 0.8704 - val_loss: 0.7336 - val_accuracy: 0.7616\n",
            "Epoch 6/15\n",
            "2673/2673 [==============================] - 137s 51ms/step - loss: 0.3625 - accuracy: 0.8818 - val_loss: 0.6510 - val_accuracy: 0.8006\n",
            "Epoch 7/15\n",
            "2673/2673 [==============================] - 135s 50ms/step - loss: 0.3339 - accuracy: 0.8892 - val_loss: 0.6668 - val_accuracy: 0.7967\n",
            "Epoch 8/15\n",
            "2673/2673 [==============================] - 137s 51ms/step - loss: 0.3084 - accuracy: 0.8971 - val_loss: 0.6795 - val_accuracy: 0.8127\n",
            "Epoch 9/15\n",
            "2673/2673 [==============================] - 139s 51ms/step - loss: 0.2951 - accuracy: 0.9007 - val_loss: 0.6664 - val_accuracy: 0.8121\n",
            "Epoch 10/15\n",
            "2673/2673 [==============================] - 135s 50ms/step - loss: 0.2805 - accuracy: 0.9064 - val_loss: 0.6565 - val_accuracy: 0.8155\n",
            "Epoch 11/15\n",
            "2673/2673 [==============================] - 133s 49ms/step - loss: 0.2692 - accuracy: 0.9091 - val_loss: 0.6127 - val_accuracy: 0.8233\n",
            "Epoch 12/15\n",
            "2673/2673 [==============================] - 138s 51ms/step - loss: 0.2540 - accuracy: 0.9139 - val_loss: 0.6767 - val_accuracy: 0.8192\n",
            "Epoch 13/15\n",
            "2673/2673 [==============================] - 139s 51ms/step - loss: 0.2450 - accuracy: 0.9175 - val_loss: 0.6987 - val_accuracy: 0.8082\n",
            "Epoch 14/15\n",
            "2673/2673 [==============================] - 134s 49ms/step - loss: 0.2384 - accuracy: 0.9202 - val_loss: 0.6831 - val_accuracy: 0.8219\n",
            "Epoch 15/15\n",
            "2673/2673 [==============================] - 133s 49ms/step - loss: 0.2303 - accuracy: 0.9223 - val_loss: 0.7701 - val_accuracy: 0.8145\n"
          ]
        }
      ],
      "source": [
        "# Train the model over 10 epochs for demonstration purposes:\n",
        "EPOCHS = 15\n",
        "history = model.fit(\n",
        "    train_spectrogram_ds,\n",
        "    validation_data=val_spectrogram_ds,\n",
        "    epochs=EPOCHS,\n",
        "    callbacks=tf.keras.callbacks.EarlyStopping(verbose=1, patience=8),\n",
        ")"
      ]
    },
    {
      "cell_type": "code",
      "execution_count": null,
      "metadata": {
        "id": "9nw-wowWmxIX",
        "colab": {
          "base_uri": "https://localhost:8080/"
        },
        "outputId": "4bdedaf2-0104-4f41-e1a5-65a2402470ae"
      },
      "outputs": [
        {
          "output_type": "stream",
          "name": "stdout",
          "text": [
            "Mounted at /content/drive\n"
          ]
        }
      ],
      "source": [
        "from google.colab import drive\n",
        "drive.mount('/content/drive')"
      ]
    },
    {
      "cell_type": "code",
      "execution_count": null,
      "metadata": {
        "id": "vhcTylQ2a0qm"
      },
      "outputs": [],
      "source": [
        "model.save(\"/content/drive/MyDrive/TensorFlow_Machine_Learning/stanfard_model_test_samples/feature_extractor_audio\")"
      ]
    },
    {
      "cell_type": "code",
      "execution_count": null,
      "metadata": {
        "id": "jPihqTvCjilj"
      },
      "outputs": [],
      "source": [
        "import tensorflow as tf\n",
        "model = tf.keras.models.load_model(\"/content/drive/MyDrive/TensorFlow_Machine_Learning/stanfard_model_test_samples/feature_extractor_audio\")"
      ]
    },
    {
      "cell_type": "code",
      "execution_count": null,
      "metadata": {
        "id": "0GBhUTLIQTZp",
        "colab": {
          "base_uri": "https://localhost:8080/"
        },
        "outputId": "a5562730-fba2-48d9-c1ea-644272566709"
      },
      "outputs": [
        {
          "output_type": "stream",
          "name": "stdout",
          "text": [
            "Model: \"sequential\"\n",
            "_________________________________________________________________\n",
            " Layer (type)                Output Shape              Param #   \n",
            "=================================================================\n",
            " resizing (Resizing)         (None, 32, 32, 1)         0         \n",
            "                                                                 \n",
            " normalization (Normalizati  (None, 32, 32, 1)         3         \n",
            " on)                                                             \n",
            "                                                                 \n",
            " conv2d (Conv2D)             (None, 30, 30, 32)        320       \n",
            "                                                                 \n",
            " conv2d_1 (Conv2D)           (None, 28, 28, 64)        18496     \n",
            "                                                                 \n",
            " max_pooling2d (MaxPooling2  (None, 14, 14, 64)        0         \n",
            " D)                                                              \n",
            "                                                                 \n",
            " dropout (Dropout)           (None, 14, 14, 64)        0         \n",
            "                                                                 \n",
            " flatten (Flatten)           (None, 12544)             0         \n",
            "                                                                 \n",
            " dense (Dense)               (None, 128)               1605760   \n",
            "                                                                 \n",
            " dropout_1 (Dropout)         (None, 128)               0         \n",
            "                                                                 \n",
            " dense_1 (Dense)             (None, 12)                1548      \n",
            "                                                                 \n",
            "=================================================================\n",
            "Total params: 1626127 (6.20 MB)\n",
            "Trainable params: 1626124 (6.20 MB)\n",
            "Non-trainable params: 3 (16.00 Byte)\n",
            "_________________________________________________________________\n"
          ]
        }
      ],
      "source": [
        "model.summary()"
      ]
    },
    {
      "cell_type": "code",
      "execution_count": null,
      "metadata": {
        "id": "iICBGWu3Y1gH",
        "colab": {
          "base_uri": "https://localhost:8080/"
        },
        "outputId": "b81dbc0b-a45f-41c8-cece-224866942969"
      },
      "outputs": [
        {
          "output_type": "execute_result",
          "data": {
            "text/plain": [
              "<_ParallelMapDataset element_spec=(TensorSpec(shape=(None, None), dtype=tf.float32, name=None), TensorSpec(shape=(None,), dtype=tf.int64, name=None))>"
            ]
          },
          "metadata": {},
          "execution_count": 34
        }
      ],
      "source": [
        "test_ds"
      ]
    },
    {
      "cell_type": "code",
      "execution_count": 168,
      "metadata": {
        "id": "DxB-6uOZUc23"
      },
      "outputs": [],
      "source": [
        "test = random.choice(list(test_ds))"
      ]
    },
    {
      "cell_type": "code",
      "source": [
        "test"
      ],
      "metadata": {
        "colab": {
          "base_uri": "https://localhost:8080/"
        },
        "id": "zLRvWzVMC4oH",
        "outputId": "ec130233-7e53-48b7-d4dc-437802908e3b"
      },
      "execution_count": 169,
      "outputs": [
        {
          "output_type": "execute_result",
          "data": {
            "text/plain": [
              "(<tf.Tensor: shape=(32, 16000), dtype=float32, numpy=\n",
              " array([[ 6.0768110e-05,  3.0384055e-05,  0.0000000e+00, ...,\n",
              "         -9.6317455e-03, -8.3252313e-03, -7.3225573e-03],\n",
              "        [-1.0057122e-02, -1.8300316e-01, -1.7668328e-01, ...,\n",
              "         -1.3493559e-01, -2.3334953e-01, -1.8269932e-01],\n",
              "        [ 2.6130287e-03,  2.4914925e-03,  2.9776373e-03, ...,\n",
              "          0.0000000e+00,  0.0000000e+00,  0.0000000e+00],\n",
              "        ...,\n",
              "        [-6.0768110e-05, -5.7729706e-04, -8.2036946e-04, ...,\n",
              "         -4.2537675e-04, -7.8998541e-04, -1.0938259e-03],\n",
              "        [ 3.0384055e-05,  6.0768110e-05,  6.0768110e-05, ...,\n",
              "          8.5075351e-04,  3.0384055e-05, -7.8998541e-04],\n",
              "        [ 0.0000000e+00,  3.0384055e-05,  6.0768110e-05, ...,\n",
              "          3.0384055e-05,  9.1152164e-05,  9.1152164e-05]], dtype=float32)>,\n",
              " <tf.Tensor: shape=(32,), dtype=int64, numpy=\n",
              " array([11,  6, 11, 11,  4,  3,  6, 11, 11,  4,  9,  2,  6,  3,  6,  7, 11,\n",
              "         2, 11, 11, 11, 11, 11, 11, 11, 11,  7,  0,  8, 11,  7, 11])>)"
            ]
          },
          "metadata": {},
          "execution_count": 169
        }
      ]
    },
    {
      "cell_type": "code",
      "execution_count": 172,
      "metadata": {
        "id": "mZmXikBj0qwo",
        "colab": {
          "base_uri": "https://localhost:8080/"
        },
        "outputId": "070eba01-5b6e-4676-a3d6-c6dfa68b229f"
      },
      "outputs": [
        {
          "output_type": "execute_result",
          "data": {
            "text/plain": [
              "<tf.Tensor: shape=(), dtype=int64, numpy=6>"
            ]
          },
          "metadata": {},
          "execution_count": 172
        }
      ],
      "source": [
        "test[1][1]"
      ]
    },
    {
      "cell_type": "code",
      "execution_count": 185,
      "metadata": {
        "id": "mRYEuzQ_U-SP"
      },
      "outputs": [],
      "source": [
        "voice = test[0][4]"
      ]
    },
    {
      "cell_type": "code",
      "execution_count": 186,
      "metadata": {
        "id": "BiId6cPRVU5J"
      },
      "outputs": [],
      "source": [
        "index = test[1][4]"
      ]
    },
    {
      "cell_type": "code",
      "execution_count": 187,
      "metadata": {
        "id": "uACN35_sVbUf",
        "colab": {
          "base_uri": "https://localhost:8080/"
        },
        "outputId": "179201dc-6a8c-4f94-801c-60851a5d8bd7"
      },
      "outputs": [
        {
          "output_type": "execute_result",
          "data": {
            "text/plain": [
              "('off',\n",
              " <tf.Tensor: shape=(16000,), dtype=float32, numpy=\n",
              " array([ 0.0000000e+00,  1.5192028e-04,  2.1268838e-04, ...,\n",
              "         0.0000000e+00, -9.1152164e-05, -6.0768110e-05], dtype=float32)>)"
            ]
          },
          "metadata": {},
          "execution_count": 187
        }
      ],
      "source": [
        "result = class_names[index]\n",
        "result,voice"
      ]
    },
    {
      "cell_type": "code",
      "execution_count": 188,
      "metadata": {
        "id": "SBOd5sUh4F8L",
        "colab": {
          "base_uri": "https://localhost:8080/"
        },
        "outputId": "1a478446-852c-423f-8a56-e8ea12eae698"
      },
      "outputs": [
        {
          "output_type": "execute_result",
          "data": {
            "text/plain": [
              "<tf.Tensor: shape=(16000,), dtype=float32, numpy=\n",
              "array([ 0.0000000e+00,  1.5192028e-04,  2.1268838e-04, ...,\n",
              "        0.0000000e+00, -9.1152164e-05, -6.0768110e-05], dtype=float32)>"
            ]
          },
          "metadata": {},
          "execution_count": 188
        }
      ],
      "source": [
        "voice"
      ]
    },
    {
      "cell_type": "code",
      "execution_count": 189,
      "metadata": {
        "id": "BVC91xygV7wM",
        "colab": {
          "base_uri": "https://localhost:8080/",
          "height": 75
        },
        "outputId": "ab9d81c3-eb37-4000-86dd-721c2902e346"
      },
      "outputs": [
        {
          "output_type": "display_data",
          "data": {
            "text/plain": [
              "<IPython.lib.display.Audio object>"
            ],
            "text/html": [
              "\n",
              "                <audio  controls=\"controls\" >\n",
              "                    <source src=\"data:audio/wav;base64,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\" type=\"audio/wav\" />\n",
              "                    Your browser does not support the audio element.\n",
              "                </audio>\n",
              "              "
            ]
          },
          "metadata": {}
        }
      ],
      "source": [
        "display.display(display.Audio(voice, rate=16000))"
      ]
    },
    {
      "cell_type": "code",
      "execution_count": 210,
      "metadata": {
        "id": "vp9Uwq1QWUVo"
      },
      "outputs": [],
      "source": [
        "x = voice"
      ]
    },
    {
      "cell_type": "code",
      "execution_count": 201,
      "metadata": {
        "id": "uoS381jmWuk0"
      },
      "outputs": [],
      "source": [
        "def get_spectrogram(waveform):\n",
        "  # Convert the waveform to a spectrogram via a STFT.\n",
        "  spectrogram = tf.signal.stft(\n",
        "      waveform, frame_length=255, frame_step=128)\n",
        "  # Obtain the magnitude of the STFT.\n",
        "  spectrogram = tf.abs(spectrogram)\n",
        "  # Add a `channels` dimension, so that the spectrogram can be used\n",
        "  # as image-like input data with convolution layers (which expect\n",
        "  # shape (`batch_size`, `height`, `width`, `channels`).\n",
        "\n",
        "  spectrogram = spectrogram[..., tf.newaxis]\n",
        "\n",
        "  return spectrogram"
      ]
    },
    {
      "cell_type": "code",
      "execution_count": 202,
      "metadata": {
        "id": "1rBjvwYSXG9o",
        "colab": {
          "base_uri": "https://localhost:8080/"
        },
        "outputId": "ff22b108-22f9-4881-8645-46720290ad23"
      },
      "outputs": [
        {
          "output_type": "execute_result",
          "data": {
            "text/plain": [
              "<tf.Tensor: shape=(16000,), dtype=float32, numpy=\n",
              "array([ 0.0000000e+00,  1.5192028e-04,  2.1268838e-04, ...,\n",
              "        0.0000000e+00, -9.1152164e-05, -6.0768110e-05], dtype=float32)>"
            ]
          },
          "metadata": {},
          "execution_count": 202
        }
      ],
      "source": [
        "x"
      ]
    },
    {
      "cell_type": "code",
      "execution_count": 203,
      "metadata": {
        "id": "1qiNlD0zXecV",
        "colab": {
          "base_uri": "https://localhost:8080/"
        },
        "outputId": "09acb6e5-7341-4d46-e700-732a64036263"
      },
      "outputs": [
        {
          "output_type": "execute_result",
          "data": {
            "text/plain": [
              "12"
            ]
          },
          "metadata": {},
          "execution_count": 203
        }
      ],
      "source": [
        "len(class_names)"
      ]
    },
    {
      "cell_type": "code",
      "execution_count": 204,
      "metadata": {
        "id": "Ee7oYxs-X3kQ",
        "colab": {
          "base_uri": "https://localhost:8080/"
        },
        "outputId": "2d130437-b3d5-46b9-bf1d-560f31f746ca"
      },
      "outputs": [
        {
          "output_type": "execute_result",
          "data": {
            "text/plain": [
              "<tf.Tensor: shape=(16000,), dtype=float32, numpy=\n",
              "array([ 0.0000000e+00,  1.5192028e-04,  2.1268838e-04, ...,\n",
              "        0.0000000e+00, -9.1152164e-05, -6.0768110e-05], dtype=float32)>"
            ]
          },
          "metadata": {},
          "execution_count": 204
        }
      ],
      "source": [
        "x"
      ]
    },
    {
      "cell_type": "code",
      "execution_count": 211,
      "metadata": {
        "id": "wiCofzYXWdaH",
        "colab": {
          "base_uri": "https://localhost:8080/",
          "height": 162
        },
        "outputId": "218458c5-f9fd-4d2d-a880-ba91ebef8a7c"
      },
      "outputs": [
        {
          "output_type": "display_data",
          "data": {
            "text/plain": [
              "<IPython.lib.display.Audio object>"
            ],
            "text/html": [
              "\n",
              "                <audio  controls=\"controls\" >\n",
              "                    <source src=\"data:audio/wav;base64,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\" type=\"audio/wav\" />\n",
              "                    Your browser does not support the audio element.\n",
              "                </audio>\n",
              "              "
            ]
          },
          "metadata": {}
        },
        {
          "output_type": "stream",
          "name": "stdout",
          "text": [
            "(1, 124, 129, 1)\n"
          ]
        },
        {
          "output_type": "execute_result",
          "data": {
            "text/plain": [
              "<tf.Tensor: shape=(1, 12), dtype=float32, numpy=\n",
              "array([[-14.6701   , -11.677174 ,  -3.6469555, -17.38035  ,   7.6421804,\n",
              "         -1.8588185,  -9.201473 ,  -6.813077 ,   1.6387868,  -8.732675 ,\n",
              "        -20.932457 ,  -1.1885375]], dtype=float32)>"
            ]
          },
          "metadata": {},
          "execution_count": 211
        }
      ],
      "source": [
        "\n",
        "waveform = x\n",
        "x = get_spectrogram(x)\n",
        "x = x[tf.newaxis,...]\n",
        "prediction = model(x)\n",
        "display.display(display.Audio(waveform, rate=16000))\n",
        "print(x.shape)\n",
        "prediction"
      ]
    },
    {
      "cell_type": "code",
      "source": [
        "result = tf.squeeze(tf.round(prediction))"
      ],
      "metadata": {
        "id": "7lXJxJ78ElcS"
      },
      "execution_count": 212,
      "outputs": []
    },
    {
      "cell_type": "code",
      "source": [
        "result"
      ],
      "metadata": {
        "colab": {
          "base_uri": "https://localhost:8080/"
        },
        "id": "TzdCv-m2Evxw",
        "outputId": "97c7f00f-b64b-43e7-bf03-60093db66d15"
      },
      "execution_count": 213,
      "outputs": [
        {
          "output_type": "execute_result",
          "data": {
            "text/plain": [
              "<tf.Tensor: shape=(12,), dtype=float32, numpy=\n",
              "array([-15., -12.,  -4., -17.,   8.,  -2.,  -9.,  -7.,   2.,  -9., -21.,\n",
              "        -1.], dtype=float32)>"
            ]
          },
          "metadata": {},
          "execution_count": 213
        }
      ]
    },
    {
      "cell_type": "code",
      "source": [
        "class_names[tf.argmax(result)]"
      ],
      "metadata": {
        "colab": {
          "base_uri": "https://localhost:8080/",
          "height": 35
        },
        "id": "xwYCOOOyFlts",
        "outputId": "e3366c85-9cb0-471b-d905-b622f18ab54b"
      },
      "execution_count": 226,
      "outputs": [
        {
          "output_type": "execute_result",
          "data": {
            "text/plain": [
              "'off'"
            ],
            "application/vnd.google.colaboratory.intrinsic+json": {
              "type": "string"
            }
          },
          "metadata": {},
          "execution_count": 226
        }
      ]
    },
    {
      "cell_type": "code",
      "source": [
        "guess = model.predict(x)\n",
        "guess"
      ],
      "metadata": {
        "colab": {
          "base_uri": "https://localhost:8080/"
        },
        "id": "n4H0P4-3E6qB",
        "outputId": "36298524-90f7-41c3-a150-d91ff5e34c61"
      },
      "execution_count": 220,
      "outputs": [
        {
          "output_type": "stream",
          "name": "stdout",
          "text": [
            "1/1 [==============================] - 0s 22ms/step\n"
          ]
        },
        {
          "output_type": "execute_result",
          "data": {
            "text/plain": [
              "array([[-14.6701   , -11.677174 ,  -3.6469555, -17.38035  ,   7.6421804,\n",
              "         -1.8588185,  -9.201473 ,  -6.813077 ,   1.6387868,  -8.732675 ,\n",
              "        -20.932457 ,  -1.1885375]], dtype=float32)"
            ]
          },
          "metadata": {},
          "execution_count": 220
        }
      ]
    },
    {
      "cell_type": "code",
      "source": [
        "guess = tf.squeeze(tf.round(guess))\n",
        "guess"
      ],
      "metadata": {
        "colab": {
          "base_uri": "https://localhost:8080/"
        },
        "id": "3i7-hhQeE_EO",
        "outputId": "84aeddc5-f71a-4174-97b0-84bdb41f1f43"
      },
      "execution_count": 221,
      "outputs": [
        {
          "output_type": "execute_result",
          "data": {
            "text/plain": [
              "<tf.Tensor: shape=(12,), dtype=float32, numpy=\n",
              "array([-15., -12.,  -4., -17.,   8.,  -2.,  -9.,  -7.,   2.,  -9., -21.,\n",
              "        -1.], dtype=float32)>"
            ]
          },
          "metadata": {},
          "execution_count": 221
        }
      ]
    },
    {
      "cell_type": "code",
      "source": [
        "guess = tf.argmax(guess)\n",
        "guess"
      ],
      "metadata": {
        "colab": {
          "base_uri": "https://localhost:8080/"
        },
        "id": "ccNLdI35FDcI",
        "outputId": "33b47987-b543-4420-9262-d3524135e2fb"
      },
      "execution_count": 222,
      "outputs": [
        {
          "output_type": "execute_result",
          "data": {
            "text/plain": [
              "<tf.Tensor: shape=(), dtype=int64, numpy=4>"
            ]
          },
          "metadata": {},
          "execution_count": 222
        }
      ]
    },
    {
      "cell_type": "code",
      "execution_count": 223,
      "metadata": {
        "id": "mbITu-6KWSTl",
        "colab": {
          "base_uri": "https://localhost:8080/",
          "height": 35
        },
        "outputId": "ecadbad1-6986-4c79-a219-14f961121826"
      },
      "outputs": [
        {
          "output_type": "execute_result",
          "data": {
            "text/plain": [
              "'off'"
            ],
            "application/vnd.google.colaboratory.intrinsic+json": {
              "type": "string"
            }
          },
          "metadata": {},
          "execution_count": 223
        }
      ],
      "source": [
        "\n",
        "class_names[guess.numpy()]"
      ]
    },
    {
      "cell_type": "code",
      "execution_count": 224,
      "metadata": {
        "id": "PHTCxp2j0jEk",
        "colab": {
          "base_uri": "https://localhost:8080/",
          "height": 75
        },
        "outputId": "4252d1b9-4a66-4d88-de34-da993911103d"
      },
      "outputs": [
        {
          "output_type": "display_data",
          "data": {
            "text/plain": [
              "<IPython.lib.display.Audio object>"
            ],
            "text/html": [
              "\n",
              "                <audio  controls=\"controls\" >\n",
              "                    <source src=\"data:audio/wav;base64,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\" type=\"audio/wav\" />\n",
              "                    Your browser does not support the audio element.\n",
              "                </audio>\n",
              "              "
            ]
          },
          "metadata": {}
        }
      ],
      "source": [
        "display.display(display.Audio(voice, rate=16000))"
      ]
    },
    {
      "cell_type": "code",
      "source": [
        "class_names"
      ],
      "metadata": {
        "colab": {
          "base_uri": "https://localhost:8080/"
        },
        "id": "wC0MkeViCP3_",
        "outputId": "08c661c1-bb2a-4bcb-86ed-de545fb2cbf3"
      },
      "execution_count": 225,
      "outputs": [
        {
          "output_type": "execute_result",
          "data": {
            "text/plain": [
              "['down',\n",
              " 'go',\n",
              " 'left',\n",
              " 'no',\n",
              " 'off',\n",
              " 'on',\n",
              " 'right',\n",
              " 'stop',\n",
              " 'up',\n",
              " 'yes',\n",
              " '_silence_',\n",
              " '_unknown_']"
            ]
          },
          "metadata": {},
          "execution_count": 225
        }
      ]
    },
    {
      "cell_type": "code",
      "source": [
        "model.save(\"/content/drive/MyDrive/Saved_TensorFlow_Models/recognize_keyword_with_more_data\")"
      ],
      "metadata": {
        "id": "Imr_0LBaFQaN"
      },
      "execution_count": 227,
      "outputs": []
    },
    {
      "cell_type": "code",
      "source": [],
      "metadata": {
        "id": "9j01Cm_yGBIU"
      },
      "execution_count": null,
      "outputs": []
    }
  ],
  "metadata": {
    "accelerator": "GPU",
    "colab": {
      "provenance": []
    },
    "kernelspec": {
      "display_name": "Python 3",
      "name": "python3"
    },
    "language_info": {
      "name": "python"
    },
    "widgets": {
      "application/vnd.jupyter.widget-state+json": {
        "cc88242e9caa469bb3e9c4559da9c472": {
          "model_module": "@jupyter-widgets/controls",
          "model_name": "HBoxModel",
          "model_module_version": "1.5.0",
          "state": {
            "_dom_classes": [],
            "_model_module": "@jupyter-widgets/controls",
            "_model_module_version": "1.5.0",
            "_model_name": "HBoxModel",
            "_view_count": null,
            "_view_module": "@jupyter-widgets/controls",
            "_view_module_version": "1.5.0",
            "_view_name": "HBoxView",
            "box_style": "",
            "children": [
              "IPY_MODEL_af8c02fb22484a4f9bdaced9c049d38a",
              "IPY_MODEL_bed713262c85476385404b069b3e392d",
              "IPY_MODEL_8b1c80199b2444f5b3f0ff335fb6b249"
            ],
            "layout": "IPY_MODEL_79a015150f4948d4a9177b1225f3f3b7"
          }
        },
        "af8c02fb22484a4f9bdaced9c049d38a": {
          "model_module": "@jupyter-widgets/controls",
          "model_name": "HTMLModel",
          "model_module_version": "1.5.0",
          "state": {
            "_dom_classes": [],
            "_model_module": "@jupyter-widgets/controls",
            "_model_module_version": "1.5.0",
            "_model_name": "HTMLModel",
            "_view_count": null,
            "_view_module": "@jupyter-widgets/controls",
            "_view_module_version": "1.5.0",
            "_view_name": "HTMLView",
            "description": "",
            "description_tooltip": null,
            "layout": "IPY_MODEL_c82cd42a89fb4262b8341dd158e95633",
            "placeholder": "​",
            "style": "IPY_MODEL_0be222e963444bf2bd32419094a9a295",
            "value": "Dl Completed...: 100%"
          }
        },
        "bed713262c85476385404b069b3e392d": {
          "model_module": "@jupyter-widgets/controls",
          "model_name": "FloatProgressModel",
          "model_module_version": "1.5.0",
          "state": {
            "_dom_classes": [],
            "_model_module": "@jupyter-widgets/controls",
            "_model_module_version": "1.5.0",
            "_model_name": "FloatProgressModel",
            "_view_count": null,
            "_view_module": "@jupyter-widgets/controls",
            "_view_module_version": "1.5.0",
            "_view_name": "ProgressView",
            "bar_style": "success",
            "description": "",
            "description_tooltip": null,
            "layout": "IPY_MODEL_208caca7da38456081038c036288ef29",
            "max": 1,
            "min": 0,
            "orientation": "horizontal",
            "style": "IPY_MODEL_85583be240fb4d6181e04b16d5e80bbd",
            "value": 1
          }
        },
        "8b1c80199b2444f5b3f0ff335fb6b249": {
          "model_module": "@jupyter-widgets/controls",
          "model_name": "HTMLModel",
          "model_module_version": "1.5.0",
          "state": {
            "_dom_classes": [],
            "_model_module": "@jupyter-widgets/controls",
            "_model_module_version": "1.5.0",
            "_model_name": "HTMLModel",
            "_view_count": null,
            "_view_module": "@jupyter-widgets/controls",
            "_view_module_version": "1.5.0",
            "_view_name": "HTMLView",
            "description": "",
            "description_tooltip": null,
            "layout": "IPY_MODEL_fa0d594a8fae452db21b775b9364469a",
            "placeholder": "​",
            "style": "IPY_MODEL_e21bc642a9a445eda65c888998bc2677",
            "value": " 2/2 [00:49&lt;00:00, 28.35s/ url]"
          }
        },
        "79a015150f4948d4a9177b1225f3f3b7": {
          "model_module": "@jupyter-widgets/base",
          "model_name": "LayoutModel",
          "model_module_version": "1.2.0",
          "state": {
            "_model_module": "@jupyter-widgets/base",
            "_model_module_version": "1.2.0",
            "_model_name": "LayoutModel",
            "_view_count": null,
            "_view_module": "@jupyter-widgets/base",
            "_view_module_version": "1.2.0",
            "_view_name": "LayoutView",
            "align_content": null,
            "align_items": null,
            "align_self": null,
            "border": null,
            "bottom": null,
            "display": null,
            "flex": null,
            "flex_flow": null,
            "grid_area": null,
            "grid_auto_columns": null,
            "grid_auto_flow": null,
            "grid_auto_rows": null,
            "grid_column": null,
            "grid_gap": null,
            "grid_row": null,
            "grid_template_areas": null,
            "grid_template_columns": null,
            "grid_template_rows": null,
            "height": null,
            "justify_content": null,
            "justify_items": null,
            "left": null,
            "margin": null,
            "max_height": null,
            "max_width": null,
            "min_height": null,
            "min_width": null,
            "object_fit": null,
            "object_position": null,
            "order": null,
            "overflow": null,
            "overflow_x": null,
            "overflow_y": null,
            "padding": null,
            "right": null,
            "top": null,
            "visibility": null,
            "width": null
          }
        },
        "c82cd42a89fb4262b8341dd158e95633": {
          "model_module": "@jupyter-widgets/base",
          "model_name": "LayoutModel",
          "model_module_version": "1.2.0",
          "state": {
            "_model_module": "@jupyter-widgets/base",
            "_model_module_version": "1.2.0",
            "_model_name": "LayoutModel",
            "_view_count": null,
            "_view_module": "@jupyter-widgets/base",
            "_view_module_version": "1.2.0",
            "_view_name": "LayoutView",
            "align_content": null,
            "align_items": null,
            "align_self": null,
            "border": null,
            "bottom": null,
            "display": null,
            "flex": null,
            "flex_flow": null,
            "grid_area": null,
            "grid_auto_columns": null,
            "grid_auto_flow": null,
            "grid_auto_rows": null,
            "grid_column": null,
            "grid_gap": null,
            "grid_row": null,
            "grid_template_areas": null,
            "grid_template_columns": null,
            "grid_template_rows": null,
            "height": null,
            "justify_content": null,
            "justify_items": null,
            "left": null,
            "margin": null,
            "max_height": null,
            "max_width": null,
            "min_height": null,
            "min_width": null,
            "object_fit": null,
            "object_position": null,
            "order": null,
            "overflow": null,
            "overflow_x": null,
            "overflow_y": null,
            "padding": null,
            "right": null,
            "top": null,
            "visibility": null,
            "width": null
          }
        },
        "0be222e963444bf2bd32419094a9a295": {
          "model_module": "@jupyter-widgets/controls",
          "model_name": "DescriptionStyleModel",
          "model_module_version": "1.5.0",
          "state": {
            "_model_module": "@jupyter-widgets/controls",
            "_model_module_version": "1.5.0",
            "_model_name": "DescriptionStyleModel",
            "_view_count": null,
            "_view_module": "@jupyter-widgets/base",
            "_view_module_version": "1.2.0",
            "_view_name": "StyleView",
            "description_width": ""
          }
        },
        "208caca7da38456081038c036288ef29": {
          "model_module": "@jupyter-widgets/base",
          "model_name": "LayoutModel",
          "model_module_version": "1.2.0",
          "state": {
            "_model_module": "@jupyter-widgets/base",
            "_model_module_version": "1.2.0",
            "_model_name": "LayoutModel",
            "_view_count": null,
            "_view_module": "@jupyter-widgets/base",
            "_view_module_version": "1.2.0",
            "_view_name": "LayoutView",
            "align_content": null,
            "align_items": null,
            "align_self": null,
            "border": null,
            "bottom": null,
            "display": null,
            "flex": null,
            "flex_flow": null,
            "grid_area": null,
            "grid_auto_columns": null,
            "grid_auto_flow": null,
            "grid_auto_rows": null,
            "grid_column": null,
            "grid_gap": null,
            "grid_row": null,
            "grid_template_areas": null,
            "grid_template_columns": null,
            "grid_template_rows": null,
            "height": null,
            "justify_content": null,
            "justify_items": null,
            "left": null,
            "margin": null,
            "max_height": null,
            "max_width": null,
            "min_height": null,
            "min_width": null,
            "object_fit": null,
            "object_position": null,
            "order": null,
            "overflow": null,
            "overflow_x": null,
            "overflow_y": null,
            "padding": null,
            "right": null,
            "top": null,
            "visibility": null,
            "width": "20px"
          }
        },
        "85583be240fb4d6181e04b16d5e80bbd": {
          "model_module": "@jupyter-widgets/controls",
          "model_name": "ProgressStyleModel",
          "model_module_version": "1.5.0",
          "state": {
            "_model_module": "@jupyter-widgets/controls",
            "_model_module_version": "1.5.0",
            "_model_name": "ProgressStyleModel",
            "_view_count": null,
            "_view_module": "@jupyter-widgets/base",
            "_view_module_version": "1.2.0",
            "_view_name": "StyleView",
            "bar_color": null,
            "description_width": ""
          }
        },
        "fa0d594a8fae452db21b775b9364469a": {
          "model_module": "@jupyter-widgets/base",
          "model_name": "LayoutModel",
          "model_module_version": "1.2.0",
          "state": {
            "_model_module": "@jupyter-widgets/base",
            "_model_module_version": "1.2.0",
            "_model_name": "LayoutModel",
            "_view_count": null,
            "_view_module": "@jupyter-widgets/base",
            "_view_module_version": "1.2.0",
            "_view_name": "LayoutView",
            "align_content": null,
            "align_items": null,
            "align_self": null,
            "border": null,
            "bottom": null,
            "display": null,
            "flex": null,
            "flex_flow": null,
            "grid_area": null,
            "grid_auto_columns": null,
            "grid_auto_flow": null,
            "grid_auto_rows": null,
            "grid_column": null,
            "grid_gap": null,
            "grid_row": null,
            "grid_template_areas": null,
            "grid_template_columns": null,
            "grid_template_rows": null,
            "height": null,
            "justify_content": null,
            "justify_items": null,
            "left": null,
            "margin": null,
            "max_height": null,
            "max_width": null,
            "min_height": null,
            "min_width": null,
            "object_fit": null,
            "object_position": null,
            "order": null,
            "overflow": null,
            "overflow_x": null,
            "overflow_y": null,
            "padding": null,
            "right": null,
            "top": null,
            "visibility": null,
            "width": null
          }
        },
        "e21bc642a9a445eda65c888998bc2677": {
          "model_module": "@jupyter-widgets/controls",
          "model_name": "DescriptionStyleModel",
          "model_module_version": "1.5.0",
          "state": {
            "_model_module": "@jupyter-widgets/controls",
            "_model_module_version": "1.5.0",
            "_model_name": "DescriptionStyleModel",
            "_view_count": null,
            "_view_module": "@jupyter-widgets/base",
            "_view_module_version": "1.2.0",
            "_view_name": "StyleView",
            "description_width": ""
          }
        },
        "df2a408487744fcca7629d23c1a74eb7": {
          "model_module": "@jupyter-widgets/controls",
          "model_name": "HBoxModel",
          "model_module_version": "1.5.0",
          "state": {
            "_dom_classes": [],
            "_model_module": "@jupyter-widgets/controls",
            "_model_module_version": "1.5.0",
            "_model_name": "HBoxModel",
            "_view_count": null,
            "_view_module": "@jupyter-widgets/controls",
            "_view_module_version": "1.5.0",
            "_view_name": "HBoxView",
            "box_style": "",
            "children": [
              "IPY_MODEL_8a59ef147cfd4cdaabc918714fd8b58f",
              "IPY_MODEL_9a2e06bf248749c0baf242e44a3a5a2a",
              "IPY_MODEL_da0e721d18364b06932e475b963b440a"
            ],
            "layout": "IPY_MODEL_2ac32e363e2741dab93694a950876c1a"
          }
        },
        "8a59ef147cfd4cdaabc918714fd8b58f": {
          "model_module": "@jupyter-widgets/controls",
          "model_name": "HTMLModel",
          "model_module_version": "1.5.0",
          "state": {
            "_dom_classes": [],
            "_model_module": "@jupyter-widgets/controls",
            "_model_module_version": "1.5.0",
            "_model_name": "HTMLModel",
            "_view_count": null,
            "_view_module": "@jupyter-widgets/controls",
            "_view_module_version": "1.5.0",
            "_view_name": "HTMLView",
            "description": "",
            "description_tooltip": null,
            "layout": "IPY_MODEL_5875eb987b2c47ff9b27b44b50b0dec8",
            "placeholder": "​",
            "style": "IPY_MODEL_64d7f886c79a4dd1a2e7c63721ebc1e6",
            "value": "Dl Size...: 100%"
          }
        },
        "9a2e06bf248749c0baf242e44a3a5a2a": {
          "model_module": "@jupyter-widgets/controls",
          "model_name": "FloatProgressModel",
          "model_module_version": "1.5.0",
          "state": {
            "_dom_classes": [],
            "_model_module": "@jupyter-widgets/controls",
            "_model_module_version": "1.5.0",
            "_model_name": "FloatProgressModel",
            "_view_count": null,
            "_view_module": "@jupyter-widgets/controls",
            "_view_module_version": "1.5.0",
            "_view_name": "ProgressView",
            "bar_style": "success",
            "description": "",
            "description_tooltip": null,
            "layout": "IPY_MODEL_2fa92f91003643de8c28c88ea5e59f9f",
            "max": 1,
            "min": 0,
            "orientation": "horizontal",
            "style": "IPY_MODEL_1ed61dd4075144b79f94dfa362863ca4",
            "value": 1
          }
        },
        "da0e721d18364b06932e475b963b440a": {
          "model_module": "@jupyter-widgets/controls",
          "model_name": "HTMLModel",
          "model_module_version": "1.5.0",
          "state": {
            "_dom_classes": [],
            "_model_module": "@jupyter-widgets/controls",
            "_model_module_version": "1.5.0",
            "_model_name": "HTMLModel",
            "_view_count": null,
            "_view_module": "@jupyter-widgets/controls",
            "_view_module_version": "1.5.0",
            "_view_name": "HTMLView",
            "description": "",
            "description_tooltip": null,
            "layout": "IPY_MODEL_291e5f0602c641f7b959240b4e2524aa",
            "placeholder": "​",
            "style": "IPY_MODEL_d082f90069a4498f8efe9e350e01094b",
            "value": " 2423/2423 [00:49&lt;00:00, 90.30 MiB/s]"
          }
        },
        "2ac32e363e2741dab93694a950876c1a": {
          "model_module": "@jupyter-widgets/base",
          "model_name": "LayoutModel",
          "model_module_version": "1.2.0",
          "state": {
            "_model_module": "@jupyter-widgets/base",
            "_model_module_version": "1.2.0",
            "_model_name": "LayoutModel",
            "_view_count": null,
            "_view_module": "@jupyter-widgets/base",
            "_view_module_version": "1.2.0",
            "_view_name": "LayoutView",
            "align_content": null,
            "align_items": null,
            "align_self": null,
            "border": null,
            "bottom": null,
            "display": null,
            "flex": null,
            "flex_flow": null,
            "grid_area": null,
            "grid_auto_columns": null,
            "grid_auto_flow": null,
            "grid_auto_rows": null,
            "grid_column": null,
            "grid_gap": null,
            "grid_row": null,
            "grid_template_areas": null,
            "grid_template_columns": null,
            "grid_template_rows": null,
            "height": null,
            "justify_content": null,
            "justify_items": null,
            "left": null,
            "margin": null,
            "max_height": null,
            "max_width": null,
            "min_height": null,
            "min_width": null,
            "object_fit": null,
            "object_position": null,
            "order": null,
            "overflow": null,
            "overflow_x": null,
            "overflow_y": null,
            "padding": null,
            "right": null,
            "top": null,
            "visibility": null,
            "width": null
          }
        },
        "5875eb987b2c47ff9b27b44b50b0dec8": {
          "model_module": "@jupyter-widgets/base",
          "model_name": "LayoutModel",
          "model_module_version": "1.2.0",
          "state": {
            "_model_module": "@jupyter-widgets/base",
            "_model_module_version": "1.2.0",
            "_model_name": "LayoutModel",
            "_view_count": null,
            "_view_module": "@jupyter-widgets/base",
            "_view_module_version": "1.2.0",
            "_view_name": "LayoutView",
            "align_content": null,
            "align_items": null,
            "align_self": null,
            "border": null,
            "bottom": null,
            "display": null,
            "flex": null,
            "flex_flow": null,
            "grid_area": null,
            "grid_auto_columns": null,
            "grid_auto_flow": null,
            "grid_auto_rows": null,
            "grid_column": null,
            "grid_gap": null,
            "grid_row": null,
            "grid_template_areas": null,
            "grid_template_columns": null,
            "grid_template_rows": null,
            "height": null,
            "justify_content": null,
            "justify_items": null,
            "left": null,
            "margin": null,
            "max_height": null,
            "max_width": null,
            "min_height": null,
            "min_width": null,
            "object_fit": null,
            "object_position": null,
            "order": null,
            "overflow": null,
            "overflow_x": null,
            "overflow_y": null,
            "padding": null,
            "right": null,
            "top": null,
            "visibility": null,
            "width": null
          }
        },
        "64d7f886c79a4dd1a2e7c63721ebc1e6": {
          "model_module": "@jupyter-widgets/controls",
          "model_name": "DescriptionStyleModel",
          "model_module_version": "1.5.0",
          "state": {
            "_model_module": "@jupyter-widgets/controls",
            "_model_module_version": "1.5.0",
            "_model_name": "DescriptionStyleModel",
            "_view_count": null,
            "_view_module": "@jupyter-widgets/base",
            "_view_module_version": "1.2.0",
            "_view_name": "StyleView",
            "description_width": ""
          }
        },
        "2fa92f91003643de8c28c88ea5e59f9f": {
          "model_module": "@jupyter-widgets/base",
          "model_name": "LayoutModel",
          "model_module_version": "1.2.0",
          "state": {
            "_model_module": "@jupyter-widgets/base",
            "_model_module_version": "1.2.0",
            "_model_name": "LayoutModel",
            "_view_count": null,
            "_view_module": "@jupyter-widgets/base",
            "_view_module_version": "1.2.0",
            "_view_name": "LayoutView",
            "align_content": null,
            "align_items": null,
            "align_self": null,
            "border": null,
            "bottom": null,
            "display": null,
            "flex": null,
            "flex_flow": null,
            "grid_area": null,
            "grid_auto_columns": null,
            "grid_auto_flow": null,
            "grid_auto_rows": null,
            "grid_column": null,
            "grid_gap": null,
            "grid_row": null,
            "grid_template_areas": null,
            "grid_template_columns": null,
            "grid_template_rows": null,
            "height": null,
            "justify_content": null,
            "justify_items": null,
            "left": null,
            "margin": null,
            "max_height": null,
            "max_width": null,
            "min_height": null,
            "min_width": null,
            "object_fit": null,
            "object_position": null,
            "order": null,
            "overflow": null,
            "overflow_x": null,
            "overflow_y": null,
            "padding": null,
            "right": null,
            "top": null,
            "visibility": null,
            "width": "20px"
          }
        },
        "1ed61dd4075144b79f94dfa362863ca4": {
          "model_module": "@jupyter-widgets/controls",
          "model_name": "ProgressStyleModel",
          "model_module_version": "1.5.0",
          "state": {
            "_model_module": "@jupyter-widgets/controls",
            "_model_module_version": "1.5.0",
            "_model_name": "ProgressStyleModel",
            "_view_count": null,
            "_view_module": "@jupyter-widgets/base",
            "_view_module_version": "1.2.0",
            "_view_name": "StyleView",
            "bar_color": null,
            "description_width": ""
          }
        },
        "291e5f0602c641f7b959240b4e2524aa": {
          "model_module": "@jupyter-widgets/base",
          "model_name": "LayoutModel",
          "model_module_version": "1.2.0",
          "state": {
            "_model_module": "@jupyter-widgets/base",
            "_model_module_version": "1.2.0",
            "_model_name": "LayoutModel",
            "_view_count": null,
            "_view_module": "@jupyter-widgets/base",
            "_view_module_version": "1.2.0",
            "_view_name": "LayoutView",
            "align_content": null,
            "align_items": null,
            "align_self": null,
            "border": null,
            "bottom": null,
            "display": null,
            "flex": null,
            "flex_flow": null,
            "grid_area": null,
            "grid_auto_columns": null,
            "grid_auto_flow": null,
            "grid_auto_rows": null,
            "grid_column": null,
            "grid_gap": null,
            "grid_row": null,
            "grid_template_areas": null,
            "grid_template_columns": null,
            "grid_template_rows": null,
            "height": null,
            "justify_content": null,
            "justify_items": null,
            "left": null,
            "margin": null,
            "max_height": null,
            "max_width": null,
            "min_height": null,
            "min_width": null,
            "object_fit": null,
            "object_position": null,
            "order": null,
            "overflow": null,
            "overflow_x": null,
            "overflow_y": null,
            "padding": null,
            "right": null,
            "top": null,
            "visibility": null,
            "width": null
          }
        },
        "d082f90069a4498f8efe9e350e01094b": {
          "model_module": "@jupyter-widgets/controls",
          "model_name": "DescriptionStyleModel",
          "model_module_version": "1.5.0",
          "state": {
            "_model_module": "@jupyter-widgets/controls",
            "_model_module_version": "1.5.0",
            "_model_name": "DescriptionStyleModel",
            "_view_count": null,
            "_view_module": "@jupyter-widgets/base",
            "_view_module_version": "1.2.0",
            "_view_name": "StyleView",
            "description_width": ""
          }
        },
        "134854e2927a44888aef3f3a4a56be80": {
          "model_module": "@jupyter-widgets/controls",
          "model_name": "HBoxModel",
          "model_module_version": "1.5.0",
          "state": {
            "_dom_classes": [],
            "_model_module": "@jupyter-widgets/controls",
            "_model_module_version": "1.5.0",
            "_model_name": "HBoxModel",
            "_view_count": null,
            "_view_module": "@jupyter-widgets/controls",
            "_view_module_version": "1.5.0",
            "_view_name": "HBoxView",
            "box_style": "",
            "children": [
              "IPY_MODEL_1e53e8579ae34bf68f46e5d8d18a3f34",
              "IPY_MODEL_0815978ac21a423a822065c1a3f10b4d",
              "IPY_MODEL_22001e7d48cc44e09537a053e4919a41"
            ],
            "layout": "IPY_MODEL_2356f3d44bb84764a4c896af7dcc4263"
          }
        },
        "1e53e8579ae34bf68f46e5d8d18a3f34": {
          "model_module": "@jupyter-widgets/controls",
          "model_name": "HTMLModel",
          "model_module_version": "1.5.0",
          "state": {
            "_dom_classes": [],
            "_model_module": "@jupyter-widgets/controls",
            "_model_module_version": "1.5.0",
            "_model_name": "HTMLModel",
            "_view_count": null,
            "_view_module": "@jupyter-widgets/controls",
            "_view_module_version": "1.5.0",
            "_view_name": "HTMLView",
            "description": "",
            "description_tooltip": null,
            "layout": "IPY_MODEL_eb6a4ef4325d42e7b44e85ebba5a1415",
            "placeholder": "​",
            "style": "IPY_MODEL_5c8dc359953e42e6b4754b34d8dde9c5",
            "value": "Generating splits...: 100%"
          }
        },
        "0815978ac21a423a822065c1a3f10b4d": {
          "model_module": "@jupyter-widgets/controls",
          "model_name": "FloatProgressModel",
          "model_module_version": "1.5.0",
          "state": {
            "_dom_classes": [],
            "_model_module": "@jupyter-widgets/controls",
            "_model_module_version": "1.5.0",
            "_model_name": "FloatProgressModel",
            "_view_count": null,
            "_view_module": "@jupyter-widgets/controls",
            "_view_module_version": "1.5.0",
            "_view_name": "ProgressView",
            "bar_style": "",
            "description": "",
            "description_tooltip": null,
            "layout": "IPY_MODEL_b285214907ba468582869bd3156a74f6",
            "max": 3,
            "min": 0,
            "orientation": "horizontal",
            "style": "IPY_MODEL_6a26afe12bc74eff97f6e91d281c7cbc",
            "value": 3
          }
        },
        "22001e7d48cc44e09537a053e4919a41": {
          "model_module": "@jupyter-widgets/controls",
          "model_name": "HTMLModel",
          "model_module_version": "1.5.0",
          "state": {
            "_dom_classes": [],
            "_model_module": "@jupyter-widgets/controls",
            "_model_module_version": "1.5.0",
            "_model_name": "HTMLModel",
            "_view_count": null,
            "_view_module": "@jupyter-widgets/controls",
            "_view_module_version": "1.5.0",
            "_view_name": "HTMLView",
            "description": "",
            "description_tooltip": null,
            "layout": "IPY_MODEL_40d5aee15f1244f8ad0bf046167a6485",
            "placeholder": "​",
            "style": "IPY_MODEL_a68afe20084e423489b962b79d8b78fc",
            "value": " 3/3 [11:55&lt;00:00, 178.61s/ splits]"
          }
        },
        "2356f3d44bb84764a4c896af7dcc4263": {
          "model_module": "@jupyter-widgets/base",
          "model_name": "LayoutModel",
          "model_module_version": "1.2.0",
          "state": {
            "_model_module": "@jupyter-widgets/base",
            "_model_module_version": "1.2.0",
            "_model_name": "LayoutModel",
            "_view_count": null,
            "_view_module": "@jupyter-widgets/base",
            "_view_module_version": "1.2.0",
            "_view_name": "LayoutView",
            "align_content": null,
            "align_items": null,
            "align_self": null,
            "border": null,
            "bottom": null,
            "display": null,
            "flex": null,
            "flex_flow": null,
            "grid_area": null,
            "grid_auto_columns": null,
            "grid_auto_flow": null,
            "grid_auto_rows": null,
            "grid_column": null,
            "grid_gap": null,
            "grid_row": null,
            "grid_template_areas": null,
            "grid_template_columns": null,
            "grid_template_rows": null,
            "height": null,
            "justify_content": null,
            "justify_items": null,
            "left": null,
            "margin": null,
            "max_height": null,
            "max_width": null,
            "min_height": null,
            "min_width": null,
            "object_fit": null,
            "object_position": null,
            "order": null,
            "overflow": null,
            "overflow_x": null,
            "overflow_y": null,
            "padding": null,
            "right": null,
            "top": null,
            "visibility": "hidden",
            "width": null
          }
        },
        "eb6a4ef4325d42e7b44e85ebba5a1415": {
          "model_module": "@jupyter-widgets/base",
          "model_name": "LayoutModel",
          "model_module_version": "1.2.0",
          "state": {
            "_model_module": "@jupyter-widgets/base",
            "_model_module_version": "1.2.0",
            "_model_name": "LayoutModel",
            "_view_count": null,
            "_view_module": "@jupyter-widgets/base",
            "_view_module_version": "1.2.0",
            "_view_name": "LayoutView",
            "align_content": null,
            "align_items": null,
            "align_self": null,
            "border": null,
            "bottom": null,
            "display": null,
            "flex": null,
            "flex_flow": null,
            "grid_area": null,
            "grid_auto_columns": null,
            "grid_auto_flow": null,
            "grid_auto_rows": null,
            "grid_column": null,
            "grid_gap": null,
            "grid_row": null,
            "grid_template_areas": null,
            "grid_template_columns": null,
            "grid_template_rows": null,
            "height": null,
            "justify_content": null,
            "justify_items": null,
            "left": null,
            "margin": null,
            "max_height": null,
            "max_width": null,
            "min_height": null,
            "min_width": null,
            "object_fit": null,
            "object_position": null,
            "order": null,
            "overflow": null,
            "overflow_x": null,
            "overflow_y": null,
            "padding": null,
            "right": null,
            "top": null,
            "visibility": null,
            "width": null
          }
        },
        "5c8dc359953e42e6b4754b34d8dde9c5": {
          "model_module": "@jupyter-widgets/controls",
          "model_name": "DescriptionStyleModel",
          "model_module_version": "1.5.0",
          "state": {
            "_model_module": "@jupyter-widgets/controls",
            "_model_module_version": "1.5.0",
            "_model_name": "DescriptionStyleModel",
            "_view_count": null,
            "_view_module": "@jupyter-widgets/base",
            "_view_module_version": "1.2.0",
            "_view_name": "StyleView",
            "description_width": ""
          }
        },
        "b285214907ba468582869bd3156a74f6": {
          "model_module": "@jupyter-widgets/base",
          "model_name": "LayoutModel",
          "model_module_version": "1.2.0",
          "state": {
            "_model_module": "@jupyter-widgets/base",
            "_model_module_version": "1.2.0",
            "_model_name": "LayoutModel",
            "_view_count": null,
            "_view_module": "@jupyter-widgets/base",
            "_view_module_version": "1.2.0",
            "_view_name": "LayoutView",
            "align_content": null,
            "align_items": null,
            "align_self": null,
            "border": null,
            "bottom": null,
            "display": null,
            "flex": null,
            "flex_flow": null,
            "grid_area": null,
            "grid_auto_columns": null,
            "grid_auto_flow": null,
            "grid_auto_rows": null,
            "grid_column": null,
            "grid_gap": null,
            "grid_row": null,
            "grid_template_areas": null,
            "grid_template_columns": null,
            "grid_template_rows": null,
            "height": null,
            "justify_content": null,
            "justify_items": null,
            "left": null,
            "margin": null,
            "max_height": null,
            "max_width": null,
            "min_height": null,
            "min_width": null,
            "object_fit": null,
            "object_position": null,
            "order": null,
            "overflow": null,
            "overflow_x": null,
            "overflow_y": null,
            "padding": null,
            "right": null,
            "top": null,
            "visibility": null,
            "width": null
          }
        },
        "6a26afe12bc74eff97f6e91d281c7cbc": {
          "model_module": "@jupyter-widgets/controls",
          "model_name": "ProgressStyleModel",
          "model_module_version": "1.5.0",
          "state": {
            "_model_module": "@jupyter-widgets/controls",
            "_model_module_version": "1.5.0",
            "_model_name": "ProgressStyleModel",
            "_view_count": null,
            "_view_module": "@jupyter-widgets/base",
            "_view_module_version": "1.2.0",
            "_view_name": "StyleView",
            "bar_color": null,
            "description_width": ""
          }
        },
        "40d5aee15f1244f8ad0bf046167a6485": {
          "model_module": "@jupyter-widgets/base",
          "model_name": "LayoutModel",
          "model_module_version": "1.2.0",
          "state": {
            "_model_module": "@jupyter-widgets/base",
            "_model_module_version": "1.2.0",
            "_model_name": "LayoutModel",
            "_view_count": null,
            "_view_module": "@jupyter-widgets/base",
            "_view_module_version": "1.2.0",
            "_view_name": "LayoutView",
            "align_content": null,
            "align_items": null,
            "align_self": null,
            "border": null,
            "bottom": null,
            "display": null,
            "flex": null,
            "flex_flow": null,
            "grid_area": null,
            "grid_auto_columns": null,
            "grid_auto_flow": null,
            "grid_auto_rows": null,
            "grid_column": null,
            "grid_gap": null,
            "grid_row": null,
            "grid_template_areas": null,
            "grid_template_columns": null,
            "grid_template_rows": null,
            "height": null,
            "justify_content": null,
            "justify_items": null,
            "left": null,
            "margin": null,
            "max_height": null,
            "max_width": null,
            "min_height": null,
            "min_width": null,
            "object_fit": null,
            "object_position": null,
            "order": null,
            "overflow": null,
            "overflow_x": null,
            "overflow_y": null,
            "padding": null,
            "right": null,
            "top": null,
            "visibility": null,
            "width": null
          }
        },
        "a68afe20084e423489b962b79d8b78fc": {
          "model_module": "@jupyter-widgets/controls",
          "model_name": "DescriptionStyleModel",
          "model_module_version": "1.5.0",
          "state": {
            "_model_module": "@jupyter-widgets/controls",
            "_model_module_version": "1.5.0",
            "_model_name": "DescriptionStyleModel",
            "_view_count": null,
            "_view_module": "@jupyter-widgets/base",
            "_view_module_version": "1.2.0",
            "_view_name": "StyleView",
            "description_width": ""
          }
        },
        "68c5953fd9ec4742ae47b2fcbbade47a": {
          "model_module": "@jupyter-widgets/controls",
          "model_name": "HBoxModel",
          "model_module_version": "1.5.0",
          "state": {
            "_dom_classes": [],
            "_model_module": "@jupyter-widgets/controls",
            "_model_module_version": "1.5.0",
            "_model_name": "HBoxModel",
            "_view_count": null,
            "_view_module": "@jupyter-widgets/controls",
            "_view_module_version": "1.5.0",
            "_view_name": "HBoxView",
            "box_style": "",
            "children": [
              "IPY_MODEL_b7138eec034c4c579d390e596885d817",
              "IPY_MODEL_f5828ec8128b4359ad1d68105f07c1cb",
              "IPY_MODEL_8da7bd4c22c14b1794bb7271f3abd10e"
            ],
            "layout": "IPY_MODEL_92c14f8b9cf54bdfb08c9924bc6926d7"
          }
        },
        "b7138eec034c4c579d390e596885d817": {
          "model_module": "@jupyter-widgets/controls",
          "model_name": "HTMLModel",
          "model_module_version": "1.5.0",
          "state": {
            "_dom_classes": [],
            "_model_module": "@jupyter-widgets/controls",
            "_model_module_version": "1.5.0",
            "_model_name": "HTMLModel",
            "_view_count": null,
            "_view_module": "@jupyter-widgets/controls",
            "_view_module_version": "1.5.0",
            "_view_name": "HTMLView",
            "description": "",
            "description_tooltip": null,
            "layout": "IPY_MODEL_15fc266f74e946a2aaf0e78d882268ee",
            "placeholder": "​",
            "style": "IPY_MODEL_9ee27e302d2f484ba3d41054a0c6fad5",
            "value": "Generating train examples...: 100%"
          }
        },
        "f5828ec8128b4359ad1d68105f07c1cb": {
          "model_module": "@jupyter-widgets/controls",
          "model_name": "FloatProgressModel",
          "model_module_version": "1.5.0",
          "state": {
            "_dom_classes": [],
            "_model_module": "@jupyter-widgets/controls",
            "_model_module_version": "1.5.0",
            "_model_name": "FloatProgressModel",
            "_view_count": null,
            "_view_module": "@jupyter-widgets/controls",
            "_view_module_version": "1.5.0",
            "_view_name": "ProgressView",
            "bar_style": "",
            "description": "",
            "description_tooltip": null,
            "layout": "IPY_MODEL_d041161ec2bb4beb8679d399d14bba86",
            "max": 85511,
            "min": 0,
            "orientation": "horizontal",
            "style": "IPY_MODEL_d504ad234b65415f8f34ed954fbc6c55",
            "value": 85511
          }
        },
        "8da7bd4c22c14b1794bb7271f3abd10e": {
          "model_module": "@jupyter-widgets/controls",
          "model_name": "HTMLModel",
          "model_module_version": "1.5.0",
          "state": {
            "_dom_classes": [],
            "_model_module": "@jupyter-widgets/controls",
            "_model_module_version": "1.5.0",
            "_model_name": "HTMLModel",
            "_view_count": null,
            "_view_module": "@jupyter-widgets/controls",
            "_view_module_version": "1.5.0",
            "_view_name": "HTMLView",
            "description": "",
            "description_tooltip": null,
            "layout": "IPY_MODEL_5e88598e6af4487faf6330ed05ec79fc",
            "placeholder": "​",
            "style": "IPY_MODEL_47e56a13611e443e95fb82a203f8b217",
            "value": " 85504/85511 [08:18&lt;00:00, 159.27 examples/s]"
          }
        },
        "92c14f8b9cf54bdfb08c9924bc6926d7": {
          "model_module": "@jupyter-widgets/base",
          "model_name": "LayoutModel",
          "model_module_version": "1.2.0",
          "state": {
            "_model_module": "@jupyter-widgets/base",
            "_model_module_version": "1.2.0",
            "_model_name": "LayoutModel",
            "_view_count": null,
            "_view_module": "@jupyter-widgets/base",
            "_view_module_version": "1.2.0",
            "_view_name": "LayoutView",
            "align_content": null,
            "align_items": null,
            "align_self": null,
            "border": null,
            "bottom": null,
            "display": null,
            "flex": null,
            "flex_flow": null,
            "grid_area": null,
            "grid_auto_columns": null,
            "grid_auto_flow": null,
            "grid_auto_rows": null,
            "grid_column": null,
            "grid_gap": null,
            "grid_row": null,
            "grid_template_areas": null,
            "grid_template_columns": null,
            "grid_template_rows": null,
            "height": null,
            "justify_content": null,
            "justify_items": null,
            "left": null,
            "margin": null,
            "max_height": null,
            "max_width": null,
            "min_height": null,
            "min_width": null,
            "object_fit": null,
            "object_position": null,
            "order": null,
            "overflow": null,
            "overflow_x": null,
            "overflow_y": null,
            "padding": null,
            "right": null,
            "top": null,
            "visibility": "hidden",
            "width": null
          }
        },
        "15fc266f74e946a2aaf0e78d882268ee": {
          "model_module": "@jupyter-widgets/base",
          "model_name": "LayoutModel",
          "model_module_version": "1.2.0",
          "state": {
            "_model_module": "@jupyter-widgets/base",
            "_model_module_version": "1.2.0",
            "_model_name": "LayoutModel",
            "_view_count": null,
            "_view_module": "@jupyter-widgets/base",
            "_view_module_version": "1.2.0",
            "_view_name": "LayoutView",
            "align_content": null,
            "align_items": null,
            "align_self": null,
            "border": null,
            "bottom": null,
            "display": null,
            "flex": null,
            "flex_flow": null,
            "grid_area": null,
            "grid_auto_columns": null,
            "grid_auto_flow": null,
            "grid_auto_rows": null,
            "grid_column": null,
            "grid_gap": null,
            "grid_row": null,
            "grid_template_areas": null,
            "grid_template_columns": null,
            "grid_template_rows": null,
            "height": null,
            "justify_content": null,
            "justify_items": null,
            "left": null,
            "margin": null,
            "max_height": null,
            "max_width": null,
            "min_height": null,
            "min_width": null,
            "object_fit": null,
            "object_position": null,
            "order": null,
            "overflow": null,
            "overflow_x": null,
            "overflow_y": null,
            "padding": null,
            "right": null,
            "top": null,
            "visibility": null,
            "width": null
          }
        },
        "9ee27e302d2f484ba3d41054a0c6fad5": {
          "model_module": "@jupyter-widgets/controls",
          "model_name": "DescriptionStyleModel",
          "model_module_version": "1.5.0",
          "state": {
            "_model_module": "@jupyter-widgets/controls",
            "_model_module_version": "1.5.0",
            "_model_name": "DescriptionStyleModel",
            "_view_count": null,
            "_view_module": "@jupyter-widgets/base",
            "_view_module_version": "1.2.0",
            "_view_name": "StyleView",
            "description_width": ""
          }
        },
        "d041161ec2bb4beb8679d399d14bba86": {
          "model_module": "@jupyter-widgets/base",
          "model_name": "LayoutModel",
          "model_module_version": "1.2.0",
          "state": {
            "_model_module": "@jupyter-widgets/base",
            "_model_module_version": "1.2.0",
            "_model_name": "LayoutModel",
            "_view_count": null,
            "_view_module": "@jupyter-widgets/base",
            "_view_module_version": "1.2.0",
            "_view_name": "LayoutView",
            "align_content": null,
            "align_items": null,
            "align_self": null,
            "border": null,
            "bottom": null,
            "display": null,
            "flex": null,
            "flex_flow": null,
            "grid_area": null,
            "grid_auto_columns": null,
            "grid_auto_flow": null,
            "grid_auto_rows": null,
            "grid_column": null,
            "grid_gap": null,
            "grid_row": null,
            "grid_template_areas": null,
            "grid_template_columns": null,
            "grid_template_rows": null,
            "height": null,
            "justify_content": null,
            "justify_items": null,
            "left": null,
            "margin": null,
            "max_height": null,
            "max_width": null,
            "min_height": null,
            "min_width": null,
            "object_fit": null,
            "object_position": null,
            "order": null,
            "overflow": null,
            "overflow_x": null,
            "overflow_y": null,
            "padding": null,
            "right": null,
            "top": null,
            "visibility": null,
            "width": null
          }
        },
        "d504ad234b65415f8f34ed954fbc6c55": {
          "model_module": "@jupyter-widgets/controls",
          "model_name": "ProgressStyleModel",
          "model_module_version": "1.5.0",
          "state": {
            "_model_module": "@jupyter-widgets/controls",
            "_model_module_version": "1.5.0",
            "_model_name": "ProgressStyleModel",
            "_view_count": null,
            "_view_module": "@jupyter-widgets/base",
            "_view_module_version": "1.2.0",
            "_view_name": "StyleView",
            "bar_color": null,
            "description_width": ""
          }
        },
        "5e88598e6af4487faf6330ed05ec79fc": {
          "model_module": "@jupyter-widgets/base",
          "model_name": "LayoutModel",
          "model_module_version": "1.2.0",
          "state": {
            "_model_module": "@jupyter-widgets/base",
            "_model_module_version": "1.2.0",
            "_model_name": "LayoutModel",
            "_view_count": null,
            "_view_module": "@jupyter-widgets/base",
            "_view_module_version": "1.2.0",
            "_view_name": "LayoutView",
            "align_content": null,
            "align_items": null,
            "align_self": null,
            "border": null,
            "bottom": null,
            "display": null,
            "flex": null,
            "flex_flow": null,
            "grid_area": null,
            "grid_auto_columns": null,
            "grid_auto_flow": null,
            "grid_auto_rows": null,
            "grid_column": null,
            "grid_gap": null,
            "grid_row": null,
            "grid_template_areas": null,
            "grid_template_columns": null,
            "grid_template_rows": null,
            "height": null,
            "justify_content": null,
            "justify_items": null,
            "left": null,
            "margin": null,
            "max_height": null,
            "max_width": null,
            "min_height": null,
            "min_width": null,
            "object_fit": null,
            "object_position": null,
            "order": null,
            "overflow": null,
            "overflow_x": null,
            "overflow_y": null,
            "padding": null,
            "right": null,
            "top": null,
            "visibility": null,
            "width": null
          }
        },
        "47e56a13611e443e95fb82a203f8b217": {
          "model_module": "@jupyter-widgets/controls",
          "model_name": "DescriptionStyleModel",
          "model_module_version": "1.5.0",
          "state": {
            "_model_module": "@jupyter-widgets/controls",
            "_model_module_version": "1.5.0",
            "_model_name": "DescriptionStyleModel",
            "_view_count": null,
            "_view_module": "@jupyter-widgets/base",
            "_view_module_version": "1.2.0",
            "_view_name": "StyleView",
            "description_width": ""
          }
        },
        "d1381c6cd6be4773a1c5bfaa2c538b92": {
          "model_module": "@jupyter-widgets/controls",
          "model_name": "HBoxModel",
          "model_module_version": "1.5.0",
          "state": {
            "_dom_classes": [],
            "_model_module": "@jupyter-widgets/controls",
            "_model_module_version": "1.5.0",
            "_model_name": "HBoxModel",
            "_view_count": null,
            "_view_module": "@jupyter-widgets/controls",
            "_view_module_version": "1.5.0",
            "_view_name": "HBoxView",
            "box_style": "",
            "children": [
              "IPY_MODEL_a000d65bf61946d18e35466333e8013e",
              "IPY_MODEL_3aab95c69fe04c6a929128e2d975c2f8",
              "IPY_MODEL_bc4294b7f0644f01bf49b43575aa850d"
            ],
            "layout": "IPY_MODEL_723e9f82932b4f24b7c29b8f210fdd38"
          }
        },
        "a000d65bf61946d18e35466333e8013e": {
          "model_module": "@jupyter-widgets/controls",
          "model_name": "HTMLModel",
          "model_module_version": "1.5.0",
          "state": {
            "_dom_classes": [],
            "_model_module": "@jupyter-widgets/controls",
            "_model_module_version": "1.5.0",
            "_model_name": "HTMLModel",
            "_view_count": null,
            "_view_module": "@jupyter-widgets/controls",
            "_view_module_version": "1.5.0",
            "_view_name": "HTMLView",
            "description": "",
            "description_tooltip": null,
            "layout": "IPY_MODEL_5158ef54b3f14e71b5811f40fbc53e2f",
            "placeholder": "​",
            "style": "IPY_MODEL_524fe0991f7746dfb67c0f1639a64669",
            "value": "Shuffling /root/tensorflow_datasets/speech_commands/0.0.3.incompleteEWXQBW/speech_commands-train.tfrecord*...: 100%"
          }
        },
        "3aab95c69fe04c6a929128e2d975c2f8": {
          "model_module": "@jupyter-widgets/controls",
          "model_name": "FloatProgressModel",
          "model_module_version": "1.5.0",
          "state": {
            "_dom_classes": [],
            "_model_module": "@jupyter-widgets/controls",
            "_model_module_version": "1.5.0",
            "_model_name": "FloatProgressModel",
            "_view_count": null,
            "_view_module": "@jupyter-widgets/controls",
            "_view_module_version": "1.5.0",
            "_view_name": "ProgressView",
            "bar_style": "",
            "description": "",
            "description_tooltip": null,
            "layout": "IPY_MODEL_0982beb1d4474c1bb88f06727916a6bd",
            "max": 85511,
            "min": 0,
            "orientation": "horizontal",
            "style": "IPY_MODEL_765c5bb439114316baa95fe25ea9babb",
            "value": 85511
          }
        },
        "bc4294b7f0644f01bf49b43575aa850d": {
          "model_module": "@jupyter-widgets/controls",
          "model_name": "HTMLModel",
          "model_module_version": "1.5.0",
          "state": {
            "_dom_classes": [],
            "_model_module": "@jupyter-widgets/controls",
            "_model_module_version": "1.5.0",
            "_model_name": "HTMLModel",
            "_view_count": null,
            "_view_module": "@jupyter-widgets/controls",
            "_view_module_version": "1.5.0",
            "_view_name": "HTMLView",
            "description": "",
            "description_tooltip": null,
            "layout": "IPY_MODEL_d75b27ad65474ef1976a76623979c761",
            "placeholder": "​",
            "style": "IPY_MODEL_56045b81bb884fb9a1323138be41103d",
            "value": " 85372/85511 [01:06&lt;00:00, 1538.43 examples/s]"
          }
        },
        "723e9f82932b4f24b7c29b8f210fdd38": {
          "model_module": "@jupyter-widgets/base",
          "model_name": "LayoutModel",
          "model_module_version": "1.2.0",
          "state": {
            "_model_module": "@jupyter-widgets/base",
            "_model_module_version": "1.2.0",
            "_model_name": "LayoutModel",
            "_view_count": null,
            "_view_module": "@jupyter-widgets/base",
            "_view_module_version": "1.2.0",
            "_view_name": "LayoutView",
            "align_content": null,
            "align_items": null,
            "align_self": null,
            "border": null,
            "bottom": null,
            "display": null,
            "flex": null,
            "flex_flow": null,
            "grid_area": null,
            "grid_auto_columns": null,
            "grid_auto_flow": null,
            "grid_auto_rows": null,
            "grid_column": null,
            "grid_gap": null,
            "grid_row": null,
            "grid_template_areas": null,
            "grid_template_columns": null,
            "grid_template_rows": null,
            "height": null,
            "justify_content": null,
            "justify_items": null,
            "left": null,
            "margin": null,
            "max_height": null,
            "max_width": null,
            "min_height": null,
            "min_width": null,
            "object_fit": null,
            "object_position": null,
            "order": null,
            "overflow": null,
            "overflow_x": null,
            "overflow_y": null,
            "padding": null,
            "right": null,
            "top": null,
            "visibility": "hidden",
            "width": null
          }
        },
        "5158ef54b3f14e71b5811f40fbc53e2f": {
          "model_module": "@jupyter-widgets/base",
          "model_name": "LayoutModel",
          "model_module_version": "1.2.0",
          "state": {
            "_model_module": "@jupyter-widgets/base",
            "_model_module_version": "1.2.0",
            "_model_name": "LayoutModel",
            "_view_count": null,
            "_view_module": "@jupyter-widgets/base",
            "_view_module_version": "1.2.0",
            "_view_name": "LayoutView",
            "align_content": null,
            "align_items": null,
            "align_self": null,
            "border": null,
            "bottom": null,
            "display": null,
            "flex": null,
            "flex_flow": null,
            "grid_area": null,
            "grid_auto_columns": null,
            "grid_auto_flow": null,
            "grid_auto_rows": null,
            "grid_column": null,
            "grid_gap": null,
            "grid_row": null,
            "grid_template_areas": null,
            "grid_template_columns": null,
            "grid_template_rows": null,
            "height": null,
            "justify_content": null,
            "justify_items": null,
            "left": null,
            "margin": null,
            "max_height": null,
            "max_width": null,
            "min_height": null,
            "min_width": null,
            "object_fit": null,
            "object_position": null,
            "order": null,
            "overflow": null,
            "overflow_x": null,
            "overflow_y": null,
            "padding": null,
            "right": null,
            "top": null,
            "visibility": null,
            "width": null
          }
        },
        "524fe0991f7746dfb67c0f1639a64669": {
          "model_module": "@jupyter-widgets/controls",
          "model_name": "DescriptionStyleModel",
          "model_module_version": "1.5.0",
          "state": {
            "_model_module": "@jupyter-widgets/controls",
            "_model_module_version": "1.5.0",
            "_model_name": "DescriptionStyleModel",
            "_view_count": null,
            "_view_module": "@jupyter-widgets/base",
            "_view_module_version": "1.2.0",
            "_view_name": "StyleView",
            "description_width": ""
          }
        },
        "0982beb1d4474c1bb88f06727916a6bd": {
          "model_module": "@jupyter-widgets/base",
          "model_name": "LayoutModel",
          "model_module_version": "1.2.0",
          "state": {
            "_model_module": "@jupyter-widgets/base",
            "_model_module_version": "1.2.0",
            "_model_name": "LayoutModel",
            "_view_count": null,
            "_view_module": "@jupyter-widgets/base",
            "_view_module_version": "1.2.0",
            "_view_name": "LayoutView",
            "align_content": null,
            "align_items": null,
            "align_self": null,
            "border": null,
            "bottom": null,
            "display": null,
            "flex": null,
            "flex_flow": null,
            "grid_area": null,
            "grid_auto_columns": null,
            "grid_auto_flow": null,
            "grid_auto_rows": null,
            "grid_column": null,
            "grid_gap": null,
            "grid_row": null,
            "grid_template_areas": null,
            "grid_template_columns": null,
            "grid_template_rows": null,
            "height": null,
            "justify_content": null,
            "justify_items": null,
            "left": null,
            "margin": null,
            "max_height": null,
            "max_width": null,
            "min_height": null,
            "min_width": null,
            "object_fit": null,
            "object_position": null,
            "order": null,
            "overflow": null,
            "overflow_x": null,
            "overflow_y": null,
            "padding": null,
            "right": null,
            "top": null,
            "visibility": null,
            "width": null
          }
        },
        "765c5bb439114316baa95fe25ea9babb": {
          "model_module": "@jupyter-widgets/controls",
          "model_name": "ProgressStyleModel",
          "model_module_version": "1.5.0",
          "state": {
            "_model_module": "@jupyter-widgets/controls",
            "_model_module_version": "1.5.0",
            "_model_name": "ProgressStyleModel",
            "_view_count": null,
            "_view_module": "@jupyter-widgets/base",
            "_view_module_version": "1.2.0",
            "_view_name": "StyleView",
            "bar_color": null,
            "description_width": ""
          }
        },
        "d75b27ad65474ef1976a76623979c761": {
          "model_module": "@jupyter-widgets/base",
          "model_name": "LayoutModel",
          "model_module_version": "1.2.0",
          "state": {
            "_model_module": "@jupyter-widgets/base",
            "_model_module_version": "1.2.0",
            "_model_name": "LayoutModel",
            "_view_count": null,
            "_view_module": "@jupyter-widgets/base",
            "_view_module_version": "1.2.0",
            "_view_name": "LayoutView",
            "align_content": null,
            "align_items": null,
            "align_self": null,
            "border": null,
            "bottom": null,
            "display": null,
            "flex": null,
            "flex_flow": null,
            "grid_area": null,
            "grid_auto_columns": null,
            "grid_auto_flow": null,
            "grid_auto_rows": null,
            "grid_column": null,
            "grid_gap": null,
            "grid_row": null,
            "grid_template_areas": null,
            "grid_template_columns": null,
            "grid_template_rows": null,
            "height": null,
            "justify_content": null,
            "justify_items": null,
            "left": null,
            "margin": null,
            "max_height": null,
            "max_width": null,
            "min_height": null,
            "min_width": null,
            "object_fit": null,
            "object_position": null,
            "order": null,
            "overflow": null,
            "overflow_x": null,
            "overflow_y": null,
            "padding": null,
            "right": null,
            "top": null,
            "visibility": null,
            "width": null
          }
        },
        "56045b81bb884fb9a1323138be41103d": {
          "model_module": "@jupyter-widgets/controls",
          "model_name": "DescriptionStyleModel",
          "model_module_version": "1.5.0",
          "state": {
            "_model_module": "@jupyter-widgets/controls",
            "_model_module_version": "1.5.0",
            "_model_name": "DescriptionStyleModel",
            "_view_count": null,
            "_view_module": "@jupyter-widgets/base",
            "_view_module_version": "1.2.0",
            "_view_name": "StyleView",
            "description_width": ""
          }
        },
        "a39b919d1d3644f09a45cb5fb0ca59f3": {
          "model_module": "@jupyter-widgets/controls",
          "model_name": "HBoxModel",
          "model_module_version": "1.5.0",
          "state": {
            "_dom_classes": [],
            "_model_module": "@jupyter-widgets/controls",
            "_model_module_version": "1.5.0",
            "_model_name": "HBoxModel",
            "_view_count": null,
            "_view_module": "@jupyter-widgets/controls",
            "_view_module_version": "1.5.0",
            "_view_name": "HBoxView",
            "box_style": "",
            "children": [
              "IPY_MODEL_fed402198d4c47f787a8c102ba49f2fc",
              "IPY_MODEL_d50dd567248a4710957dd70b25492ea7",
              "IPY_MODEL_c94198796c114c9982685057d3ccd136"
            ],
            "layout": "IPY_MODEL_e89c2d8f76224993bae6371713720839"
          }
        },
        "fed402198d4c47f787a8c102ba49f2fc": {
          "model_module": "@jupyter-widgets/controls",
          "model_name": "HTMLModel",
          "model_module_version": "1.5.0",
          "state": {
            "_dom_classes": [],
            "_model_module": "@jupyter-widgets/controls",
            "_model_module_version": "1.5.0",
            "_model_name": "HTMLModel",
            "_view_count": null,
            "_view_module": "@jupyter-widgets/controls",
            "_view_module_version": "1.5.0",
            "_view_name": "HTMLView",
            "description": "",
            "description_tooltip": null,
            "layout": "IPY_MODEL_4e6ef143da714b3b95c54d0b70cc6b20",
            "placeholder": "​",
            "style": "IPY_MODEL_165a865344764ef0a78b1f169475454e",
            "value": "Generating validation examples...: 100%"
          }
        },
        "d50dd567248a4710957dd70b25492ea7": {
          "model_module": "@jupyter-widgets/controls",
          "model_name": "FloatProgressModel",
          "model_module_version": "1.5.0",
          "state": {
            "_dom_classes": [],
            "_model_module": "@jupyter-widgets/controls",
            "_model_module_version": "1.5.0",
            "_model_name": "FloatProgressModel",
            "_view_count": null,
            "_view_module": "@jupyter-widgets/controls",
            "_view_module_version": "1.5.0",
            "_view_name": "ProgressView",
            "bar_style": "",
            "description": "",
            "description_tooltip": null,
            "layout": "IPY_MODEL_57898772c58d4845835548160923403f",
            "max": 10102,
            "min": 0,
            "orientation": "horizontal",
            "style": "IPY_MODEL_e959886cc90e4ce58c0652bbb5dd19a5",
            "value": 10102
          }
        },
        "c94198796c114c9982685057d3ccd136": {
          "model_module": "@jupyter-widgets/controls",
          "model_name": "HTMLModel",
          "model_module_version": "1.5.0",
          "state": {
            "_dom_classes": [],
            "_model_module": "@jupyter-widgets/controls",
            "_model_module_version": "1.5.0",
            "_model_name": "HTMLModel",
            "_view_count": null,
            "_view_module": "@jupyter-widgets/controls",
            "_view_module_version": "1.5.0",
            "_view_name": "HTMLView",
            "description": "",
            "description_tooltip": null,
            "layout": "IPY_MODEL_aa42f2c2d1554c63b2ddfd884c91b7cb",
            "placeholder": "​",
            "style": "IPY_MODEL_077d2dfa8c014721876f842705331955",
            "value": " 10098/10102 [01:51&lt;00:00, 93.97 examples/s]"
          }
        },
        "e89c2d8f76224993bae6371713720839": {
          "model_module": "@jupyter-widgets/base",
          "model_name": "LayoutModel",
          "model_module_version": "1.2.0",
          "state": {
            "_model_module": "@jupyter-widgets/base",
            "_model_module_version": "1.2.0",
            "_model_name": "LayoutModel",
            "_view_count": null,
            "_view_module": "@jupyter-widgets/base",
            "_view_module_version": "1.2.0",
            "_view_name": "LayoutView",
            "align_content": null,
            "align_items": null,
            "align_self": null,
            "border": null,
            "bottom": null,
            "display": null,
            "flex": null,
            "flex_flow": null,
            "grid_area": null,
            "grid_auto_columns": null,
            "grid_auto_flow": null,
            "grid_auto_rows": null,
            "grid_column": null,
            "grid_gap": null,
            "grid_row": null,
            "grid_template_areas": null,
            "grid_template_columns": null,
            "grid_template_rows": null,
            "height": null,
            "justify_content": null,
            "justify_items": null,
            "left": null,
            "margin": null,
            "max_height": null,
            "max_width": null,
            "min_height": null,
            "min_width": null,
            "object_fit": null,
            "object_position": null,
            "order": null,
            "overflow": null,
            "overflow_x": null,
            "overflow_y": null,
            "padding": null,
            "right": null,
            "top": null,
            "visibility": "hidden",
            "width": null
          }
        },
        "4e6ef143da714b3b95c54d0b70cc6b20": {
          "model_module": "@jupyter-widgets/base",
          "model_name": "LayoutModel",
          "model_module_version": "1.2.0",
          "state": {
            "_model_module": "@jupyter-widgets/base",
            "_model_module_version": "1.2.0",
            "_model_name": "LayoutModel",
            "_view_count": null,
            "_view_module": "@jupyter-widgets/base",
            "_view_module_version": "1.2.0",
            "_view_name": "LayoutView",
            "align_content": null,
            "align_items": null,
            "align_self": null,
            "border": null,
            "bottom": null,
            "display": null,
            "flex": null,
            "flex_flow": null,
            "grid_area": null,
            "grid_auto_columns": null,
            "grid_auto_flow": null,
            "grid_auto_rows": null,
            "grid_column": null,
            "grid_gap": null,
            "grid_row": null,
            "grid_template_areas": null,
            "grid_template_columns": null,
            "grid_template_rows": null,
            "height": null,
            "justify_content": null,
            "justify_items": null,
            "left": null,
            "margin": null,
            "max_height": null,
            "max_width": null,
            "min_height": null,
            "min_width": null,
            "object_fit": null,
            "object_position": null,
            "order": null,
            "overflow": null,
            "overflow_x": null,
            "overflow_y": null,
            "padding": null,
            "right": null,
            "top": null,
            "visibility": null,
            "width": null
          }
        },
        "165a865344764ef0a78b1f169475454e": {
          "model_module": "@jupyter-widgets/controls",
          "model_name": "DescriptionStyleModel",
          "model_module_version": "1.5.0",
          "state": {
            "_model_module": "@jupyter-widgets/controls",
            "_model_module_version": "1.5.0",
            "_model_name": "DescriptionStyleModel",
            "_view_count": null,
            "_view_module": "@jupyter-widgets/base",
            "_view_module_version": "1.2.0",
            "_view_name": "StyleView",
            "description_width": ""
          }
        },
        "57898772c58d4845835548160923403f": {
          "model_module": "@jupyter-widgets/base",
          "model_name": "LayoutModel",
          "model_module_version": "1.2.0",
          "state": {
            "_model_module": "@jupyter-widgets/base",
            "_model_module_version": "1.2.0",
            "_model_name": "LayoutModel",
            "_view_count": null,
            "_view_module": "@jupyter-widgets/base",
            "_view_module_version": "1.2.0",
            "_view_name": "LayoutView",
            "align_content": null,
            "align_items": null,
            "align_self": null,
            "border": null,
            "bottom": null,
            "display": null,
            "flex": null,
            "flex_flow": null,
            "grid_area": null,
            "grid_auto_columns": null,
            "grid_auto_flow": null,
            "grid_auto_rows": null,
            "grid_column": null,
            "grid_gap": null,
            "grid_row": null,
            "grid_template_areas": null,
            "grid_template_columns": null,
            "grid_template_rows": null,
            "height": null,
            "justify_content": null,
            "justify_items": null,
            "left": null,
            "margin": null,
            "max_height": null,
            "max_width": null,
            "min_height": null,
            "min_width": null,
            "object_fit": null,
            "object_position": null,
            "order": null,
            "overflow": null,
            "overflow_x": null,
            "overflow_y": null,
            "padding": null,
            "right": null,
            "top": null,
            "visibility": null,
            "width": null
          }
        },
        "e959886cc90e4ce58c0652bbb5dd19a5": {
          "model_module": "@jupyter-widgets/controls",
          "model_name": "ProgressStyleModel",
          "model_module_version": "1.5.0",
          "state": {
            "_model_module": "@jupyter-widgets/controls",
            "_model_module_version": "1.5.0",
            "_model_name": "ProgressStyleModel",
            "_view_count": null,
            "_view_module": "@jupyter-widgets/base",
            "_view_module_version": "1.2.0",
            "_view_name": "StyleView",
            "bar_color": null,
            "description_width": ""
          }
        },
        "aa42f2c2d1554c63b2ddfd884c91b7cb": {
          "model_module": "@jupyter-widgets/base",
          "model_name": "LayoutModel",
          "model_module_version": "1.2.0",
          "state": {
            "_model_module": "@jupyter-widgets/base",
            "_model_module_version": "1.2.0",
            "_model_name": "LayoutModel",
            "_view_count": null,
            "_view_module": "@jupyter-widgets/base",
            "_view_module_version": "1.2.0",
            "_view_name": "LayoutView",
            "align_content": null,
            "align_items": null,
            "align_self": null,
            "border": null,
            "bottom": null,
            "display": null,
            "flex": null,
            "flex_flow": null,
            "grid_area": null,
            "grid_auto_columns": null,
            "grid_auto_flow": null,
            "grid_auto_rows": null,
            "grid_column": null,
            "grid_gap": null,
            "grid_row": null,
            "grid_template_areas": null,
            "grid_template_columns": null,
            "grid_template_rows": null,
            "height": null,
            "justify_content": null,
            "justify_items": null,
            "left": null,
            "margin": null,
            "max_height": null,
            "max_width": null,
            "min_height": null,
            "min_width": null,
            "object_fit": null,
            "object_position": null,
            "order": null,
            "overflow": null,
            "overflow_x": null,
            "overflow_y": null,
            "padding": null,
            "right": null,
            "top": null,
            "visibility": null,
            "width": null
          }
        },
        "077d2dfa8c014721876f842705331955": {
          "model_module": "@jupyter-widgets/controls",
          "model_name": "DescriptionStyleModel",
          "model_module_version": "1.5.0",
          "state": {
            "_model_module": "@jupyter-widgets/controls",
            "_model_module_version": "1.5.0",
            "_model_name": "DescriptionStyleModel",
            "_view_count": null,
            "_view_module": "@jupyter-widgets/base",
            "_view_module_version": "1.2.0",
            "_view_name": "StyleView",
            "description_width": ""
          }
        },
        "05e251fd7f6c437c89b225a6127d084d": {
          "model_module": "@jupyter-widgets/controls",
          "model_name": "HBoxModel",
          "model_module_version": "1.5.0",
          "state": {
            "_dom_classes": [],
            "_model_module": "@jupyter-widgets/controls",
            "_model_module_version": "1.5.0",
            "_model_name": "HBoxModel",
            "_view_count": null,
            "_view_module": "@jupyter-widgets/controls",
            "_view_module_version": "1.5.0",
            "_view_name": "HBoxView",
            "box_style": "",
            "children": [
              "IPY_MODEL_0ea95366e0ac413489ac82390df654ba",
              "IPY_MODEL_7e29bdc83b5a4255ac7ba0897f8440a5",
              "IPY_MODEL_213c174d4b014869a4eca8608b7e1599"
            ],
            "layout": "IPY_MODEL_5b3713135c324ee4aaac0e315d06e0d5"
          }
        },
        "0ea95366e0ac413489ac82390df654ba": {
          "model_module": "@jupyter-widgets/controls",
          "model_name": "HTMLModel",
          "model_module_version": "1.5.0",
          "state": {
            "_dom_classes": [],
            "_model_module": "@jupyter-widgets/controls",
            "_model_module_version": "1.5.0",
            "_model_name": "HTMLModel",
            "_view_count": null,
            "_view_module": "@jupyter-widgets/controls",
            "_view_module_version": "1.5.0",
            "_view_name": "HTMLView",
            "description": "",
            "description_tooltip": null,
            "layout": "IPY_MODEL_05206b4310d44d3fbba9a4c2106ca78d",
            "placeholder": "​",
            "style": "IPY_MODEL_720f6b6ad3634ec0b64d10b7ce1c94da",
            "value": "Shuffling /root/tensorflow_datasets/speech_commands/0.0.3.incompleteEWXQBW/speech_commands-validation.tfrecord*...: 100%"
          }
        },
        "7e29bdc83b5a4255ac7ba0897f8440a5": {
          "model_module": "@jupyter-widgets/controls",
          "model_name": "FloatProgressModel",
          "model_module_version": "1.5.0",
          "state": {
            "_dom_classes": [],
            "_model_module": "@jupyter-widgets/controls",
            "_model_module_version": "1.5.0",
            "_model_name": "FloatProgressModel",
            "_view_count": null,
            "_view_module": "@jupyter-widgets/controls",
            "_view_module_version": "1.5.0",
            "_view_name": "ProgressView",
            "bar_style": "",
            "description": "",
            "description_tooltip": null,
            "layout": "IPY_MODEL_1df1edcb507a45aa81cd0aef87a1a98c",
            "max": 10102,
            "min": 0,
            "orientation": "horizontal",
            "style": "IPY_MODEL_d3f4774c2ce243c19eb3caffa665b638",
            "value": 10102
          }
        },
        "213c174d4b014869a4eca8608b7e1599": {
          "model_module": "@jupyter-widgets/controls",
          "model_name": "HTMLModel",
          "model_module_version": "1.5.0",
          "state": {
            "_dom_classes": [],
            "_model_module": "@jupyter-widgets/controls",
            "_model_module_version": "1.5.0",
            "_model_name": "HTMLModel",
            "_view_count": null,
            "_view_module": "@jupyter-widgets/controls",
            "_view_module_version": "1.5.0",
            "_view_name": "HTMLView",
            "description": "",
            "description_tooltip": null,
            "layout": "IPY_MODEL_6c967e493cae4f0f8fc4e695aed8bfbe",
            "placeholder": "​",
            "style": "IPY_MODEL_c6fa43722f684c2180a0e9835767f1f8",
            "value": " 10060/10102 [00:07&lt;00:00, 2955.24 examples/s]"
          }
        },
        "5b3713135c324ee4aaac0e315d06e0d5": {
          "model_module": "@jupyter-widgets/base",
          "model_name": "LayoutModel",
          "model_module_version": "1.2.0",
          "state": {
            "_model_module": "@jupyter-widgets/base",
            "_model_module_version": "1.2.0",
            "_model_name": "LayoutModel",
            "_view_count": null,
            "_view_module": "@jupyter-widgets/base",
            "_view_module_version": "1.2.0",
            "_view_name": "LayoutView",
            "align_content": null,
            "align_items": null,
            "align_self": null,
            "border": null,
            "bottom": null,
            "display": null,
            "flex": null,
            "flex_flow": null,
            "grid_area": null,
            "grid_auto_columns": null,
            "grid_auto_flow": null,
            "grid_auto_rows": null,
            "grid_column": null,
            "grid_gap": null,
            "grid_row": null,
            "grid_template_areas": null,
            "grid_template_columns": null,
            "grid_template_rows": null,
            "height": null,
            "justify_content": null,
            "justify_items": null,
            "left": null,
            "margin": null,
            "max_height": null,
            "max_width": null,
            "min_height": null,
            "min_width": null,
            "object_fit": null,
            "object_position": null,
            "order": null,
            "overflow": null,
            "overflow_x": null,
            "overflow_y": null,
            "padding": null,
            "right": null,
            "top": null,
            "visibility": "hidden",
            "width": null
          }
        },
        "05206b4310d44d3fbba9a4c2106ca78d": {
          "model_module": "@jupyter-widgets/base",
          "model_name": "LayoutModel",
          "model_module_version": "1.2.0",
          "state": {
            "_model_module": "@jupyter-widgets/base",
            "_model_module_version": "1.2.0",
            "_model_name": "LayoutModel",
            "_view_count": null,
            "_view_module": "@jupyter-widgets/base",
            "_view_module_version": "1.2.0",
            "_view_name": "LayoutView",
            "align_content": null,
            "align_items": null,
            "align_self": null,
            "border": null,
            "bottom": null,
            "display": null,
            "flex": null,
            "flex_flow": null,
            "grid_area": null,
            "grid_auto_columns": null,
            "grid_auto_flow": null,
            "grid_auto_rows": null,
            "grid_column": null,
            "grid_gap": null,
            "grid_row": null,
            "grid_template_areas": null,
            "grid_template_columns": null,
            "grid_template_rows": null,
            "height": null,
            "justify_content": null,
            "justify_items": null,
            "left": null,
            "margin": null,
            "max_height": null,
            "max_width": null,
            "min_height": null,
            "min_width": null,
            "object_fit": null,
            "object_position": null,
            "order": null,
            "overflow": null,
            "overflow_x": null,
            "overflow_y": null,
            "padding": null,
            "right": null,
            "top": null,
            "visibility": null,
            "width": null
          }
        },
        "720f6b6ad3634ec0b64d10b7ce1c94da": {
          "model_module": "@jupyter-widgets/controls",
          "model_name": "DescriptionStyleModel",
          "model_module_version": "1.5.0",
          "state": {
            "_model_module": "@jupyter-widgets/controls",
            "_model_module_version": "1.5.0",
            "_model_name": "DescriptionStyleModel",
            "_view_count": null,
            "_view_module": "@jupyter-widgets/base",
            "_view_module_version": "1.2.0",
            "_view_name": "StyleView",
            "description_width": ""
          }
        },
        "1df1edcb507a45aa81cd0aef87a1a98c": {
          "model_module": "@jupyter-widgets/base",
          "model_name": "LayoutModel",
          "model_module_version": "1.2.0",
          "state": {
            "_model_module": "@jupyter-widgets/base",
            "_model_module_version": "1.2.0",
            "_model_name": "LayoutModel",
            "_view_count": null,
            "_view_module": "@jupyter-widgets/base",
            "_view_module_version": "1.2.0",
            "_view_name": "LayoutView",
            "align_content": null,
            "align_items": null,
            "align_self": null,
            "border": null,
            "bottom": null,
            "display": null,
            "flex": null,
            "flex_flow": null,
            "grid_area": null,
            "grid_auto_columns": null,
            "grid_auto_flow": null,
            "grid_auto_rows": null,
            "grid_column": null,
            "grid_gap": null,
            "grid_row": null,
            "grid_template_areas": null,
            "grid_template_columns": null,
            "grid_template_rows": null,
            "height": null,
            "justify_content": null,
            "justify_items": null,
            "left": null,
            "margin": null,
            "max_height": null,
            "max_width": null,
            "min_height": null,
            "min_width": null,
            "object_fit": null,
            "object_position": null,
            "order": null,
            "overflow": null,
            "overflow_x": null,
            "overflow_y": null,
            "padding": null,
            "right": null,
            "top": null,
            "visibility": null,
            "width": null
          }
        },
        "d3f4774c2ce243c19eb3caffa665b638": {
          "model_module": "@jupyter-widgets/controls",
          "model_name": "ProgressStyleModel",
          "model_module_version": "1.5.0",
          "state": {
            "_model_module": "@jupyter-widgets/controls",
            "_model_module_version": "1.5.0",
            "_model_name": "ProgressStyleModel",
            "_view_count": null,
            "_view_module": "@jupyter-widgets/base",
            "_view_module_version": "1.2.0",
            "_view_name": "StyleView",
            "bar_color": null,
            "description_width": ""
          }
        },
        "6c967e493cae4f0f8fc4e695aed8bfbe": {
          "model_module": "@jupyter-widgets/base",
          "model_name": "LayoutModel",
          "model_module_version": "1.2.0",
          "state": {
            "_model_module": "@jupyter-widgets/base",
            "_model_module_version": "1.2.0",
            "_model_name": "LayoutModel",
            "_view_count": null,
            "_view_module": "@jupyter-widgets/base",
            "_view_module_version": "1.2.0",
            "_view_name": "LayoutView",
            "align_content": null,
            "align_items": null,
            "align_self": null,
            "border": null,
            "bottom": null,
            "display": null,
            "flex": null,
            "flex_flow": null,
            "grid_area": null,
            "grid_auto_columns": null,
            "grid_auto_flow": null,
            "grid_auto_rows": null,
            "grid_column": null,
            "grid_gap": null,
            "grid_row": null,
            "grid_template_areas": null,
            "grid_template_columns": null,
            "grid_template_rows": null,
            "height": null,
            "justify_content": null,
            "justify_items": null,
            "left": null,
            "margin": null,
            "max_height": null,
            "max_width": null,
            "min_height": null,
            "min_width": null,
            "object_fit": null,
            "object_position": null,
            "order": null,
            "overflow": null,
            "overflow_x": null,
            "overflow_y": null,
            "padding": null,
            "right": null,
            "top": null,
            "visibility": null,
            "width": null
          }
        },
        "c6fa43722f684c2180a0e9835767f1f8": {
          "model_module": "@jupyter-widgets/controls",
          "model_name": "DescriptionStyleModel",
          "model_module_version": "1.5.0",
          "state": {
            "_model_module": "@jupyter-widgets/controls",
            "_model_module_version": "1.5.0",
            "_model_name": "DescriptionStyleModel",
            "_view_count": null,
            "_view_module": "@jupyter-widgets/base",
            "_view_module_version": "1.2.0",
            "_view_name": "StyleView",
            "description_width": ""
          }
        },
        "668707110de64b6c92d6b13216166e36": {
          "model_module": "@jupyter-widgets/controls",
          "model_name": "HBoxModel",
          "model_module_version": "1.5.0",
          "state": {
            "_dom_classes": [],
            "_model_module": "@jupyter-widgets/controls",
            "_model_module_version": "1.5.0",
            "_model_name": "HBoxModel",
            "_view_count": null,
            "_view_module": "@jupyter-widgets/controls",
            "_view_module_version": "1.5.0",
            "_view_name": "HBoxView",
            "box_style": "",
            "children": [
              "IPY_MODEL_3b0c8f021bb849c09cc09dde2dba6efe",
              "IPY_MODEL_b6e3dda61922461d99d0e6306c6b2c4c",
              "IPY_MODEL_82bf2256392d436ea120225084e67060"
            ],
            "layout": "IPY_MODEL_31d73a022e184c389bd5b43b3ecdf7a5"
          }
        },
        "3b0c8f021bb849c09cc09dde2dba6efe": {
          "model_module": "@jupyter-widgets/controls",
          "model_name": "HTMLModel",
          "model_module_version": "1.5.0",
          "state": {
            "_dom_classes": [],
            "_model_module": "@jupyter-widgets/controls",
            "_model_module_version": "1.5.0",
            "_model_name": "HTMLModel",
            "_view_count": null,
            "_view_module": "@jupyter-widgets/controls",
            "_view_module_version": "1.5.0",
            "_view_name": "HTMLView",
            "description": "",
            "description_tooltip": null,
            "layout": "IPY_MODEL_54c6ec8c617b4e12b72703c8f94563ef",
            "placeholder": "​",
            "style": "IPY_MODEL_3686b0bcd7d04712a64025089cac4ee8",
            "value": "Generating test examples...: 100%"
          }
        },
        "b6e3dda61922461d99d0e6306c6b2c4c": {
          "model_module": "@jupyter-widgets/controls",
          "model_name": "FloatProgressModel",
          "model_module_version": "1.5.0",
          "state": {
            "_dom_classes": [],
            "_model_module": "@jupyter-widgets/controls",
            "_model_module_version": "1.5.0",
            "_model_name": "FloatProgressModel",
            "_view_count": null,
            "_view_module": "@jupyter-widgets/controls",
            "_view_module_version": "1.5.0",
            "_view_name": "ProgressView",
            "bar_style": "",
            "description": "",
            "description_tooltip": null,
            "layout": "IPY_MODEL_433869d0d14046bebfdd27009bb4fe7e",
            "max": 4890,
            "min": 0,
            "orientation": "horizontal",
            "style": "IPY_MODEL_710b325e071a4af7a2d8b654263e4afe",
            "value": 4890
          }
        },
        "82bf2256392d436ea120225084e67060": {
          "model_module": "@jupyter-widgets/controls",
          "model_name": "HTMLModel",
          "model_module_version": "1.5.0",
          "state": {
            "_dom_classes": [],
            "_model_module": "@jupyter-widgets/controls",
            "_model_module_version": "1.5.0",
            "_model_name": "HTMLModel",
            "_view_count": null,
            "_view_module": "@jupyter-widgets/controls",
            "_view_module_version": "1.5.0",
            "_view_name": "HTMLView",
            "description": "",
            "description_tooltip": null,
            "layout": "IPY_MODEL_ef75467055c747b794b0f53630950f27",
            "placeholder": "​",
            "style": "IPY_MODEL_4678f86d094e49a396a4bc042534bebd",
            "value": " 4887/4890 [00:29&lt;00:00, 203.80 examples/s]"
          }
        },
        "31d73a022e184c389bd5b43b3ecdf7a5": {
          "model_module": "@jupyter-widgets/base",
          "model_name": "LayoutModel",
          "model_module_version": "1.2.0",
          "state": {
            "_model_module": "@jupyter-widgets/base",
            "_model_module_version": "1.2.0",
            "_model_name": "LayoutModel",
            "_view_count": null,
            "_view_module": "@jupyter-widgets/base",
            "_view_module_version": "1.2.0",
            "_view_name": "LayoutView",
            "align_content": null,
            "align_items": null,
            "align_self": null,
            "border": null,
            "bottom": null,
            "display": null,
            "flex": null,
            "flex_flow": null,
            "grid_area": null,
            "grid_auto_columns": null,
            "grid_auto_flow": null,
            "grid_auto_rows": null,
            "grid_column": null,
            "grid_gap": null,
            "grid_row": null,
            "grid_template_areas": null,
            "grid_template_columns": null,
            "grid_template_rows": null,
            "height": null,
            "justify_content": null,
            "justify_items": null,
            "left": null,
            "margin": null,
            "max_height": null,
            "max_width": null,
            "min_height": null,
            "min_width": null,
            "object_fit": null,
            "object_position": null,
            "order": null,
            "overflow": null,
            "overflow_x": null,
            "overflow_y": null,
            "padding": null,
            "right": null,
            "top": null,
            "visibility": "hidden",
            "width": null
          }
        },
        "54c6ec8c617b4e12b72703c8f94563ef": {
          "model_module": "@jupyter-widgets/base",
          "model_name": "LayoutModel",
          "model_module_version": "1.2.0",
          "state": {
            "_model_module": "@jupyter-widgets/base",
            "_model_module_version": "1.2.0",
            "_model_name": "LayoutModel",
            "_view_count": null,
            "_view_module": "@jupyter-widgets/base",
            "_view_module_version": "1.2.0",
            "_view_name": "LayoutView",
            "align_content": null,
            "align_items": null,
            "align_self": null,
            "border": null,
            "bottom": null,
            "display": null,
            "flex": null,
            "flex_flow": null,
            "grid_area": null,
            "grid_auto_columns": null,
            "grid_auto_flow": null,
            "grid_auto_rows": null,
            "grid_column": null,
            "grid_gap": null,
            "grid_row": null,
            "grid_template_areas": null,
            "grid_template_columns": null,
            "grid_template_rows": null,
            "height": null,
            "justify_content": null,
            "justify_items": null,
            "left": null,
            "margin": null,
            "max_height": null,
            "max_width": null,
            "min_height": null,
            "min_width": null,
            "object_fit": null,
            "object_position": null,
            "order": null,
            "overflow": null,
            "overflow_x": null,
            "overflow_y": null,
            "padding": null,
            "right": null,
            "top": null,
            "visibility": null,
            "width": null
          }
        },
        "3686b0bcd7d04712a64025089cac4ee8": {
          "model_module": "@jupyter-widgets/controls",
          "model_name": "DescriptionStyleModel",
          "model_module_version": "1.5.0",
          "state": {
            "_model_module": "@jupyter-widgets/controls",
            "_model_module_version": "1.5.0",
            "_model_name": "DescriptionStyleModel",
            "_view_count": null,
            "_view_module": "@jupyter-widgets/base",
            "_view_module_version": "1.2.0",
            "_view_name": "StyleView",
            "description_width": ""
          }
        },
        "433869d0d14046bebfdd27009bb4fe7e": {
          "model_module": "@jupyter-widgets/base",
          "model_name": "LayoutModel",
          "model_module_version": "1.2.0",
          "state": {
            "_model_module": "@jupyter-widgets/base",
            "_model_module_version": "1.2.0",
            "_model_name": "LayoutModel",
            "_view_count": null,
            "_view_module": "@jupyter-widgets/base",
            "_view_module_version": "1.2.0",
            "_view_name": "LayoutView",
            "align_content": null,
            "align_items": null,
            "align_self": null,
            "border": null,
            "bottom": null,
            "display": null,
            "flex": null,
            "flex_flow": null,
            "grid_area": null,
            "grid_auto_columns": null,
            "grid_auto_flow": null,
            "grid_auto_rows": null,
            "grid_column": null,
            "grid_gap": null,
            "grid_row": null,
            "grid_template_areas": null,
            "grid_template_columns": null,
            "grid_template_rows": null,
            "height": null,
            "justify_content": null,
            "justify_items": null,
            "left": null,
            "margin": null,
            "max_height": null,
            "max_width": null,
            "min_height": null,
            "min_width": null,
            "object_fit": null,
            "object_position": null,
            "order": null,
            "overflow": null,
            "overflow_x": null,
            "overflow_y": null,
            "padding": null,
            "right": null,
            "top": null,
            "visibility": null,
            "width": null
          }
        },
        "710b325e071a4af7a2d8b654263e4afe": {
          "model_module": "@jupyter-widgets/controls",
          "model_name": "ProgressStyleModel",
          "model_module_version": "1.5.0",
          "state": {
            "_model_module": "@jupyter-widgets/controls",
            "_model_module_version": "1.5.0",
            "_model_name": "ProgressStyleModel",
            "_view_count": null,
            "_view_module": "@jupyter-widgets/base",
            "_view_module_version": "1.2.0",
            "_view_name": "StyleView",
            "bar_color": null,
            "description_width": ""
          }
        },
        "ef75467055c747b794b0f53630950f27": {
          "model_module": "@jupyter-widgets/base",
          "model_name": "LayoutModel",
          "model_module_version": "1.2.0",
          "state": {
            "_model_module": "@jupyter-widgets/base",
            "_model_module_version": "1.2.0",
            "_model_name": "LayoutModel",
            "_view_count": null,
            "_view_module": "@jupyter-widgets/base",
            "_view_module_version": "1.2.0",
            "_view_name": "LayoutView",
            "align_content": null,
            "align_items": null,
            "align_self": null,
            "border": null,
            "bottom": null,
            "display": null,
            "flex": null,
            "flex_flow": null,
            "grid_area": null,
            "grid_auto_columns": null,
            "grid_auto_flow": null,
            "grid_auto_rows": null,
            "grid_column": null,
            "grid_gap": null,
            "grid_row": null,
            "grid_template_areas": null,
            "grid_template_columns": null,
            "grid_template_rows": null,
            "height": null,
            "justify_content": null,
            "justify_items": null,
            "left": null,
            "margin": null,
            "max_height": null,
            "max_width": null,
            "min_height": null,
            "min_width": null,
            "object_fit": null,
            "object_position": null,
            "order": null,
            "overflow": null,
            "overflow_x": null,
            "overflow_y": null,
            "padding": null,
            "right": null,
            "top": null,
            "visibility": null,
            "width": null
          }
        },
        "4678f86d094e49a396a4bc042534bebd": {
          "model_module": "@jupyter-widgets/controls",
          "model_name": "DescriptionStyleModel",
          "model_module_version": "1.5.0",
          "state": {
            "_model_module": "@jupyter-widgets/controls",
            "_model_module_version": "1.5.0",
            "_model_name": "DescriptionStyleModel",
            "_view_count": null,
            "_view_module": "@jupyter-widgets/base",
            "_view_module_version": "1.2.0",
            "_view_name": "StyleView",
            "description_width": ""
          }
        },
        "f729f6269d9a47e2881e0bb9b0289800": {
          "model_module": "@jupyter-widgets/controls",
          "model_name": "HBoxModel",
          "model_module_version": "1.5.0",
          "state": {
            "_dom_classes": [],
            "_model_module": "@jupyter-widgets/controls",
            "_model_module_version": "1.5.0",
            "_model_name": "HBoxModel",
            "_view_count": null,
            "_view_module": "@jupyter-widgets/controls",
            "_view_module_version": "1.5.0",
            "_view_name": "HBoxView",
            "box_style": "",
            "children": [
              "IPY_MODEL_92c26532076f4ee2a5c9d4a0a682073b",
              "IPY_MODEL_f89948ee3458496dbef6b1709e670d0c",
              "IPY_MODEL_900d2dab98a342e2ace497d347153f82"
            ],
            "layout": "IPY_MODEL_051c29383d58494fbf1e8df03b2717f2"
          }
        },
        "92c26532076f4ee2a5c9d4a0a682073b": {
          "model_module": "@jupyter-widgets/controls",
          "model_name": "HTMLModel",
          "model_module_version": "1.5.0",
          "state": {
            "_dom_classes": [],
            "_model_module": "@jupyter-widgets/controls",
            "_model_module_version": "1.5.0",
            "_model_name": "HTMLModel",
            "_view_count": null,
            "_view_module": "@jupyter-widgets/controls",
            "_view_module_version": "1.5.0",
            "_view_name": "HTMLView",
            "description": "",
            "description_tooltip": null,
            "layout": "IPY_MODEL_15d02267a8514b939bb75101f4b138e7",
            "placeholder": "​",
            "style": "IPY_MODEL_23ad23831d2045dea03faa4c28d88185",
            "value": "Shuffling /root/tensorflow_datasets/speech_commands/0.0.3.incompleteEWXQBW/speech_commands-test.tfrecord*...:  94%"
          }
        },
        "f89948ee3458496dbef6b1709e670d0c": {
          "model_module": "@jupyter-widgets/controls",
          "model_name": "FloatProgressModel",
          "model_module_version": "1.5.0",
          "state": {
            "_dom_classes": [],
            "_model_module": "@jupyter-widgets/controls",
            "_model_module_version": "1.5.0",
            "_model_name": "FloatProgressModel",
            "_view_count": null,
            "_view_module": "@jupyter-widgets/controls",
            "_view_module_version": "1.5.0",
            "_view_name": "ProgressView",
            "bar_style": "",
            "description": "",
            "description_tooltip": null,
            "layout": "IPY_MODEL_3692ecd3b89e410ab9d1f6259dbe3b9d",
            "max": 4890,
            "min": 0,
            "orientation": "horizontal",
            "style": "IPY_MODEL_d978db248ca747a7a2cde7d478399d99",
            "value": 4890
          }
        },
        "900d2dab98a342e2ace497d347153f82": {
          "model_module": "@jupyter-widgets/controls",
          "model_name": "HTMLModel",
          "model_module_version": "1.5.0",
          "state": {
            "_dom_classes": [],
            "_model_module": "@jupyter-widgets/controls",
            "_model_module_version": "1.5.0",
            "_model_name": "HTMLModel",
            "_view_count": null,
            "_view_module": "@jupyter-widgets/controls",
            "_view_module_version": "1.5.0",
            "_view_name": "HTMLView",
            "description": "",
            "description_tooltip": null,
            "layout": "IPY_MODEL_cd3a01c9758e4723b88146f2ab24bcf9",
            "placeholder": "​",
            "style": "IPY_MODEL_b061ca6c6e884fe197f99edef0a93b1a",
            "value": " 4580/4890 [00:00&lt;00:00, 3638.69 examples/s]"
          }
        },
        "051c29383d58494fbf1e8df03b2717f2": {
          "model_module": "@jupyter-widgets/base",
          "model_name": "LayoutModel",
          "model_module_version": "1.2.0",
          "state": {
            "_model_module": "@jupyter-widgets/base",
            "_model_module_version": "1.2.0",
            "_model_name": "LayoutModel",
            "_view_count": null,
            "_view_module": "@jupyter-widgets/base",
            "_view_module_version": "1.2.0",
            "_view_name": "LayoutView",
            "align_content": null,
            "align_items": null,
            "align_self": null,
            "border": null,
            "bottom": null,
            "display": null,
            "flex": null,
            "flex_flow": null,
            "grid_area": null,
            "grid_auto_columns": null,
            "grid_auto_flow": null,
            "grid_auto_rows": null,
            "grid_column": null,
            "grid_gap": null,
            "grid_row": null,
            "grid_template_areas": null,
            "grid_template_columns": null,
            "grid_template_rows": null,
            "height": null,
            "justify_content": null,
            "justify_items": null,
            "left": null,
            "margin": null,
            "max_height": null,
            "max_width": null,
            "min_height": null,
            "min_width": null,
            "object_fit": null,
            "object_position": null,
            "order": null,
            "overflow": null,
            "overflow_x": null,
            "overflow_y": null,
            "padding": null,
            "right": null,
            "top": null,
            "visibility": "hidden",
            "width": null
          }
        },
        "15d02267a8514b939bb75101f4b138e7": {
          "model_module": "@jupyter-widgets/base",
          "model_name": "LayoutModel",
          "model_module_version": "1.2.0",
          "state": {
            "_model_module": "@jupyter-widgets/base",
            "_model_module_version": "1.2.0",
            "_model_name": "LayoutModel",
            "_view_count": null,
            "_view_module": "@jupyter-widgets/base",
            "_view_module_version": "1.2.0",
            "_view_name": "LayoutView",
            "align_content": null,
            "align_items": null,
            "align_self": null,
            "border": null,
            "bottom": null,
            "display": null,
            "flex": null,
            "flex_flow": null,
            "grid_area": null,
            "grid_auto_columns": null,
            "grid_auto_flow": null,
            "grid_auto_rows": null,
            "grid_column": null,
            "grid_gap": null,
            "grid_row": null,
            "grid_template_areas": null,
            "grid_template_columns": null,
            "grid_template_rows": null,
            "height": null,
            "justify_content": null,
            "justify_items": null,
            "left": null,
            "margin": null,
            "max_height": null,
            "max_width": null,
            "min_height": null,
            "min_width": null,
            "object_fit": null,
            "object_position": null,
            "order": null,
            "overflow": null,
            "overflow_x": null,
            "overflow_y": null,
            "padding": null,
            "right": null,
            "top": null,
            "visibility": null,
            "width": null
          }
        },
        "23ad23831d2045dea03faa4c28d88185": {
          "model_module": "@jupyter-widgets/controls",
          "model_name": "DescriptionStyleModel",
          "model_module_version": "1.5.0",
          "state": {
            "_model_module": "@jupyter-widgets/controls",
            "_model_module_version": "1.5.0",
            "_model_name": "DescriptionStyleModel",
            "_view_count": null,
            "_view_module": "@jupyter-widgets/base",
            "_view_module_version": "1.2.0",
            "_view_name": "StyleView",
            "description_width": ""
          }
        },
        "3692ecd3b89e410ab9d1f6259dbe3b9d": {
          "model_module": "@jupyter-widgets/base",
          "model_name": "LayoutModel",
          "model_module_version": "1.2.0",
          "state": {
            "_model_module": "@jupyter-widgets/base",
            "_model_module_version": "1.2.0",
            "_model_name": "LayoutModel",
            "_view_count": null,
            "_view_module": "@jupyter-widgets/base",
            "_view_module_version": "1.2.0",
            "_view_name": "LayoutView",
            "align_content": null,
            "align_items": null,
            "align_self": null,
            "border": null,
            "bottom": null,
            "display": null,
            "flex": null,
            "flex_flow": null,
            "grid_area": null,
            "grid_auto_columns": null,
            "grid_auto_flow": null,
            "grid_auto_rows": null,
            "grid_column": null,
            "grid_gap": null,
            "grid_row": null,
            "grid_template_areas": null,
            "grid_template_columns": null,
            "grid_template_rows": null,
            "height": null,
            "justify_content": null,
            "justify_items": null,
            "left": null,
            "margin": null,
            "max_height": null,
            "max_width": null,
            "min_height": null,
            "min_width": null,
            "object_fit": null,
            "object_position": null,
            "order": null,
            "overflow": null,
            "overflow_x": null,
            "overflow_y": null,
            "padding": null,
            "right": null,
            "top": null,
            "visibility": null,
            "width": null
          }
        },
        "d978db248ca747a7a2cde7d478399d99": {
          "model_module": "@jupyter-widgets/controls",
          "model_name": "ProgressStyleModel",
          "model_module_version": "1.5.0",
          "state": {
            "_model_module": "@jupyter-widgets/controls",
            "_model_module_version": "1.5.0",
            "_model_name": "ProgressStyleModel",
            "_view_count": null,
            "_view_module": "@jupyter-widgets/base",
            "_view_module_version": "1.2.0",
            "_view_name": "StyleView",
            "bar_color": null,
            "description_width": ""
          }
        },
        "cd3a01c9758e4723b88146f2ab24bcf9": {
          "model_module": "@jupyter-widgets/base",
          "model_name": "LayoutModel",
          "model_module_version": "1.2.0",
          "state": {
            "_model_module": "@jupyter-widgets/base",
            "_model_module_version": "1.2.0",
            "_model_name": "LayoutModel",
            "_view_count": null,
            "_view_module": "@jupyter-widgets/base",
            "_view_module_version": "1.2.0",
            "_view_name": "LayoutView",
            "align_content": null,
            "align_items": null,
            "align_self": null,
            "border": null,
            "bottom": null,
            "display": null,
            "flex": null,
            "flex_flow": null,
            "grid_area": null,
            "grid_auto_columns": null,
            "grid_auto_flow": null,
            "grid_auto_rows": null,
            "grid_column": null,
            "grid_gap": null,
            "grid_row": null,
            "grid_template_areas": null,
            "grid_template_columns": null,
            "grid_template_rows": null,
            "height": null,
            "justify_content": null,
            "justify_items": null,
            "left": null,
            "margin": null,
            "max_height": null,
            "max_width": null,
            "min_height": null,
            "min_width": null,
            "object_fit": null,
            "object_position": null,
            "order": null,
            "overflow": null,
            "overflow_x": null,
            "overflow_y": null,
            "padding": null,
            "right": null,
            "top": null,
            "visibility": null,
            "width": null
          }
        },
        "b061ca6c6e884fe197f99edef0a93b1a": {
          "model_module": "@jupyter-widgets/controls",
          "model_name": "DescriptionStyleModel",
          "model_module_version": "1.5.0",
          "state": {
            "_model_module": "@jupyter-widgets/controls",
            "_model_module_version": "1.5.0",
            "_model_name": "DescriptionStyleModel",
            "_view_count": null,
            "_view_module": "@jupyter-widgets/base",
            "_view_module_version": "1.2.0",
            "_view_name": "StyleView",
            "description_width": ""
          }
        }
      }
    }
  },
  "nbformat": 4,
  "nbformat_minor": 0
}